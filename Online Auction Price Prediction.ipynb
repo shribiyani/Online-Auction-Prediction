{
 "cells": [
  {
   "cell_type": "markdown",
   "metadata": {},
   "source": [
    "# About the Data\n",
    "The dataset contains eBay auction information on Cartier wristwatches. There are 7 variables (including dependent variable).\n",
    "\n",
    "#### Data Description\n",
    "\n",
    "##### Independent Variables -    \n",
    "    1. auctionid - unique identifier of an auction\n",
    "    2. bid - the proxy bid placed by a bidder\n",
    "    3. bidtime - the time (in days) that the bid was placed, from the start of the auction\n",
    "    4. bidder - eBay username of the bidder\n",
    "    5. bidderrate - eBay feedback rating of the bidder\n",
    "    6. openbid - the opening bid set by the seller\n",
    "    \n",
    "##### Target Variable -\n",
    "    7. price - the closing price that the item sold for (equivalent to the second highest bid + an increment) \n",
    "\n",
    "# Task\n",
    "    \n",
    "##### Problem Statment - \n",
    "       Putting out an item for an online auction can be very tricky and even stressful sometimes. You may be struggling with how much you can put as an opening bid or how much the final bid will be. If you were able to predict the final bid, you could simply choose an appropriate opening bid or even decide to not auction the item at all.\n",
    " \n",
    "##### Objective\n",
    "        Build a Machine Learning model to predict the closing price in an online auction.\n",
    "\n",
    "\n",
    "# Evaluation criteria -  Root Mean Squared Error"
   ]
  },
  {
   "cell_type": "code",
   "execution_count": 1,
   "metadata": {},
   "outputs": [],
   "source": [
    "## Problem Ananlysis\n",
    "\n",
    "\n",
    "\n",
    "## Loading Required libraries"
   ]
  },
  {
   "cell_type": "code",
   "execution_count": 2,
   "metadata": {},
   "outputs": [],
   "source": [
    "import pandas as pd # for data manipulation\n",
    "import numpy as np # for math calculation\n",
    "\n",
    "# for Visualization\n",
    "import matplotlib.pyplot as plt\n",
    "%matplotlib inline\n",
    "import seaborn as sns\n",
    "\n",
    "# Data Preprocessing, Model creation & Model Evaluation\n",
    "from sklearn.model_selection import train_test_split\n",
    "from sklearn.linear_model import LinearRegression # Linear Regression\n",
    "from sklearn.ensemble import RandomForestRegressor # Random Forest Regression\n",
    "from sklearn.ensemble import ExtraTreesRegressor # Extra Trees Regression\n",
    "from sklearn.ensemble import AdaBoostRegressor # AdaBoostRegression\n",
    "from sklearn.ensemble import GradientBoostingRegressor # Gradient Boosting Regression (in detail)\n",
    "from sklearn.tree import DecisionTreeRegressor # Decision Tree Regression\n",
    "\n",
    "from sklearn.metrics import r2_score\n",
    "from sklearn.metrics import mean_squared_error\n",
    "from sklearn.metrics import mean_absolute_error\n",
    "from sklearn.metrics import explained_variance_score # explained variance score\n",
    "from sklearn.metrics import mean_squared_log_error # computes a risk metric\n",
    "\n",
    "# For Warning ignore\n",
    "import warnings\n",
    "warnings.filterwarnings('ignore')"
   ]
  },
  {
   "cell_type": "code",
   "execution_count": 3,
   "metadata": {},
   "outputs": [],
   "source": [
    "# sklearn.ensemble.RandomForestRegressor(n_estimators=100, *, criterion='mse', max_depth=None, min_samples_split=2,\n",
    "#                                        min_samples_leaf=1, min_weight_fraction_leaf=0.0, max_features='auto', \n",
    "#                                        max_leaf_nodes=None, min_impurity_decrease=0.0, min_impurity_split=None, \n",
    "#                                        bootstrap=True, oob_score=False, n_jobs=None, random_state=None, verbose=0, \n",
    "#                                        warm_start=False, ccp_alpha=0.0, max_samples=None)[source]"
   ]
  },
  {
   "cell_type": "markdown",
   "metadata": {},
   "source": [
    "# Data Preparing\n",
    "\n",
    "### Loading dataset"
   ]
  },
  {
   "cell_type": "code",
   "execution_count": 4,
   "metadata": {},
   "outputs": [
    {
     "data": {
      "text/html": [
       "<div>\n",
       "<style scoped>\n",
       "    .dataframe tbody tr th:only-of-type {\n",
       "        vertical-align: middle;\n",
       "    }\n",
       "\n",
       "    .dataframe tbody tr th {\n",
       "        vertical-align: top;\n",
       "    }\n",
       "\n",
       "    .dataframe thead th {\n",
       "        text-align: right;\n",
       "    }\n",
       "</style>\n",
       "<table border=\"1\" class=\"dataframe\">\n",
       "  <thead>\n",
       "    <tr style=\"text-align: right;\">\n",
       "      <th></th>\n",
       "      <th>auctionid</th>\n",
       "      <th>bid</th>\n",
       "      <th>bidtime</th>\n",
       "      <th>bidder</th>\n",
       "      <th>bidderrate</th>\n",
       "      <th>openbid</th>\n",
       "      <th>price</th>\n",
       "    </tr>\n",
       "  </thead>\n",
       "  <tbody>\n",
       "    <tr>\n",
       "      <th>0</th>\n",
       "      <td>1644594033</td>\n",
       "      <td>493.00</td>\n",
       "      <td>6.999456</td>\n",
       "      <td>boraborabora</td>\n",
       "      <td>67</td>\n",
       "      <td>9.99</td>\n",
       "      <td>498.00</td>\n",
       "    </tr>\n",
       "    <tr>\n",
       "      <th>1</th>\n",
       "      <td>1639309309</td>\n",
       "      <td>30.00</td>\n",
       "      <td>1.669618</td>\n",
       "      <td>aclbjc</td>\n",
       "      <td>0</td>\n",
       "      <td>1.00</td>\n",
       "      <td>374.99</td>\n",
       "    </tr>\n",
       "    <tr>\n",
       "      <th>2</th>\n",
       "      <td>1644109746</td>\n",
       "      <td>3103.00</td>\n",
       "      <td>6.917986</td>\n",
       "      <td>nelsoncpm</td>\n",
       "      <td>7</td>\n",
       "      <td>1.00</td>\n",
       "      <td>3103.00</td>\n",
       "    </tr>\n",
       "    <tr>\n",
       "      <th>3</th>\n",
       "      <td>1649858595</td>\n",
       "      <td>175.00</td>\n",
       "      <td>3.107014</td>\n",
       "      <td>pialu9</td>\n",
       "      <td>4</td>\n",
       "      <td>7.99</td>\n",
       "      <td>202.50</td>\n",
       "    </tr>\n",
       "    <tr>\n",
       "      <th>4</th>\n",
       "      <td>1647846714</td>\n",
       "      <td>226.00</td>\n",
       "      <td>2.721319</td>\n",
       "      <td>geemeetee@aol.com</td>\n",
       "      <td>17</td>\n",
       "      <td>1.00</td>\n",
       "      <td>905.45</td>\n",
       "    </tr>\n",
       "    <tr>\n",
       "      <th>...</th>\n",
       "      <td>...</td>\n",
       "      <td>...</td>\n",
       "      <td>...</td>\n",
       "      <td>...</td>\n",
       "      <td>...</td>\n",
       "      <td>...</td>\n",
       "      <td>...</td>\n",
       "    </tr>\n",
       "    <tr>\n",
       "      <th>1208</th>\n",
       "      <td>1643244227</td>\n",
       "      <td>750.00</td>\n",
       "      <td>3.544514</td>\n",
       "      <td>adammurry</td>\n",
       "      <td>5</td>\n",
       "      <td>499.00</td>\n",
       "      <td>1025.00</td>\n",
       "    </tr>\n",
       "    <tr>\n",
       "      <th>1209</th>\n",
       "      <td>1649639405</td>\n",
       "      <td>1505.00</td>\n",
       "      <td>1.583704</td>\n",
       "      <td>anasandak</td>\n",
       "      <td>1</td>\n",
       "      <td>1.00</td>\n",
       "      <td>1880.00</td>\n",
       "    </tr>\n",
       "    <tr>\n",
       "      <th>1210</th>\n",
       "      <td>1640179146</td>\n",
       "      <td>320.99</td>\n",
       "      <td>2.608287</td>\n",
       "      <td>bdsr1</td>\n",
       "      <td>0</td>\n",
       "      <td>1.00</td>\n",
       "      <td>455.00</td>\n",
       "    </tr>\n",
       "    <tr>\n",
       "      <th>1211</th>\n",
       "      <td>1644049270</td>\n",
       "      <td>1250.00</td>\n",
       "      <td>6.857986</td>\n",
       "      <td>hugo44</td>\n",
       "      <td>6</td>\n",
       "      <td>0.01</td>\n",
       "      <td>1600.00</td>\n",
       "    </tr>\n",
       "    <tr>\n",
       "      <th>1212</th>\n",
       "      <td>1639333116</td>\n",
       "      <td>161.00</td>\n",
       "      <td>0.226065</td>\n",
       "      <td>aegean-2001</td>\n",
       "      <td>65</td>\n",
       "      <td>155.00</td>\n",
       "      <td>501.62</td>\n",
       "    </tr>\n",
       "  </tbody>\n",
       "</table>\n",
       "<p>1213 rows × 7 columns</p>\n",
       "</div>"
      ],
      "text/plain": [
       "       auctionid      bid   bidtime             bidder  bidderrate  openbid  \\\n",
       "0     1644594033   493.00  6.999456       boraborabora          67     9.99   \n",
       "1     1639309309    30.00  1.669618             aclbjc           0     1.00   \n",
       "2     1644109746  3103.00  6.917986          nelsoncpm           7     1.00   \n",
       "3     1649858595   175.00  3.107014             pialu9           4     7.99   \n",
       "4     1647846714   226.00  2.721319  geemeetee@aol.com          17     1.00   \n",
       "...          ...      ...       ...                ...         ...      ...   \n",
       "1208  1643244227   750.00  3.544514          adammurry           5   499.00   \n",
       "1209  1649639405  1505.00  1.583704          anasandak           1     1.00   \n",
       "1210  1640179146   320.99  2.608287              bdsr1           0     1.00   \n",
       "1211  1644049270  1250.00  6.857986             hugo44           6     0.01   \n",
       "1212  1639333116   161.00  0.226065        aegean-2001          65   155.00   \n",
       "\n",
       "        price  \n",
       "0      498.00  \n",
       "1      374.99  \n",
       "2     3103.00  \n",
       "3      202.50  \n",
       "4      905.45  \n",
       "...       ...  \n",
       "1208  1025.00  \n",
       "1209  1880.00  \n",
       "1210   455.00  \n",
       "1211  1600.00  \n",
       "1212   501.62  \n",
       "\n",
       "[1213 rows x 7 columns]"
      ]
     },
     "execution_count": 4,
     "metadata": {},
     "output_type": "execute_result"
    }
   ],
   "source": [
    "auction_data = pd.read_csv(\"https://raw.githubusercontent.com/dphi-official/Datasets/master/auction_data/train_set_label.csv\" )\n",
    "df = auction_data.copy()\n",
    "df"
   ]
  },
  {
   "cell_type": "code",
   "execution_count": 5,
   "metadata": {},
   "outputs": [
    {
     "data": {
      "text/html": [
       "<div>\n",
       "<style scoped>\n",
       "    .dataframe tbody tr th:only-of-type {\n",
       "        vertical-align: middle;\n",
       "    }\n",
       "\n",
       "    .dataframe tbody tr th {\n",
       "        vertical-align: top;\n",
       "    }\n",
       "\n",
       "    .dataframe thead th {\n",
       "        text-align: right;\n",
       "    }\n",
       "</style>\n",
       "<table border=\"1\" class=\"dataframe\">\n",
       "  <thead>\n",
       "    <tr style=\"text-align: right;\">\n",
       "      <th></th>\n",
       "      <th>auctionid</th>\n",
       "      <th>bid</th>\n",
       "      <th>bidtime</th>\n",
       "      <th>bidder</th>\n",
       "      <th>bidderrate</th>\n",
       "      <th>openbid</th>\n",
       "    </tr>\n",
       "  </thead>\n",
       "  <tbody>\n",
       "    <tr>\n",
       "      <th>0</th>\n",
       "      <td>1640550476</td>\n",
       "      <td>175.00</td>\n",
       "      <td>4.329410</td>\n",
       "      <td>simonho2001sg</td>\n",
       "      <td>8</td>\n",
       "      <td>1.0</td>\n",
       "    </tr>\n",
       "    <tr>\n",
       "      <th>1</th>\n",
       "      <td>1644343468</td>\n",
       "      <td>111.11</td>\n",
       "      <td>0.587164</td>\n",
       "      <td>tab999@msn.com</td>\n",
       "      <td>84</td>\n",
       "      <td>1.0</td>\n",
       "    </tr>\n",
       "    <tr>\n",
       "      <th>2</th>\n",
       "      <td>1639979107</td>\n",
       "      <td>103.50</td>\n",
       "      <td>6.999572</td>\n",
       "      <td>inyerdrms</td>\n",
       "      <td>2</td>\n",
       "      <td>5.0</td>\n",
       "    </tr>\n",
       "    <tr>\n",
       "      <th>3</th>\n",
       "      <td>1649718196</td>\n",
       "      <td>620.00</td>\n",
       "      <td>2.750775</td>\n",
       "      <td>kjr2306</td>\n",
       "      <td>24</td>\n",
       "      <td>1.0</td>\n",
       "    </tr>\n",
       "    <tr>\n",
       "      <th>4</th>\n",
       "      <td>1644077820</td>\n",
       "      <td>60.00</td>\n",
       "      <td>1.393611</td>\n",
       "      <td>chevysred</td>\n",
       "      <td>-1</td>\n",
       "      <td>1.0</td>\n",
       "    </tr>\n",
       "    <tr>\n",
       "      <th>...</th>\n",
       "      <td>...</td>\n",
       "      <td>...</td>\n",
       "      <td>...</td>\n",
       "      <td>...</td>\n",
       "      <td>...</td>\n",
       "      <td>...</td>\n",
       "    </tr>\n",
       "    <tr>\n",
       "      <th>332</th>\n",
       "      <td>1639309309</td>\n",
       "      <td>270.00</td>\n",
       "      <td>3.501551</td>\n",
       "      <td>lass1004</td>\n",
       "      <td>5</td>\n",
       "      <td>1.0</td>\n",
       "    </tr>\n",
       "    <tr>\n",
       "      <th>333</th>\n",
       "      <td>1650699048</td>\n",
       "      <td>107.77</td>\n",
       "      <td>5.521979</td>\n",
       "      <td>bupper99</td>\n",
       "      <td>260</td>\n",
       "      <td>10.0</td>\n",
       "    </tr>\n",
       "    <tr>\n",
       "      <th>334</th>\n",
       "      <td>1641629836</td>\n",
       "      <td>365.00</td>\n",
       "      <td>5.486759</td>\n",
       "      <td>kinkino</td>\n",
       "      <td>0</td>\n",
       "      <td>250.0</td>\n",
       "    </tr>\n",
       "    <tr>\n",
       "      <th>335</th>\n",
       "      <td>1642005995</td>\n",
       "      <td>375.00</td>\n",
       "      <td>1.941875</td>\n",
       "      <td>bdoocean@aol.com</td>\n",
       "      <td>25</td>\n",
       "      <td>99.0</td>\n",
       "    </tr>\n",
       "    <tr>\n",
       "      <th>336</th>\n",
       "      <td>1645594382</td>\n",
       "      <td>120.00</td>\n",
       "      <td>6.930914</td>\n",
       "      <td>ellisek</td>\n",
       "      <td>38</td>\n",
       "      <td>25.0</td>\n",
       "    </tr>\n",
       "  </tbody>\n",
       "</table>\n",
       "<p>337 rows × 6 columns</p>\n",
       "</div>"
      ],
      "text/plain": [
       "      auctionid     bid   bidtime            bidder  bidderrate  openbid\n",
       "0    1640550476  175.00  4.329410     simonho2001sg           8      1.0\n",
       "1    1644343468  111.11  0.587164    tab999@msn.com          84      1.0\n",
       "2    1639979107  103.50  6.999572         inyerdrms           2      5.0\n",
       "3    1649718196  620.00  2.750775           kjr2306          24      1.0\n",
       "4    1644077820   60.00  1.393611         chevysred          -1      1.0\n",
       "..          ...     ...       ...               ...         ...      ...\n",
       "332  1639309309  270.00  3.501551          lass1004           5      1.0\n",
       "333  1650699048  107.77  5.521979          bupper99         260     10.0\n",
       "334  1641629836  365.00  5.486759           kinkino           0    250.0\n",
       "335  1642005995  375.00  1.941875  bdoocean@aol.com          25     99.0\n",
       "336  1645594382  120.00  6.930914           ellisek          38     25.0\n",
       "\n",
       "[337 rows x 6 columns]"
      ]
     },
     "execution_count": 5,
     "metadata": {},
     "output_type": "execute_result"
    }
   ],
   "source": [
    "test_data = pd.read_csv('https://raw.githubusercontent.com/dphi-official/Datasets/master/auction_data/test_set_label.csv')\n",
    "test = test_data.copy()\n",
    "test"
   ]
  },
  {
   "cell_type": "markdown",
   "metadata": {},
   "source": [
    "#### Analyze Data"
   ]
  },
  {
   "cell_type": "code",
   "execution_count": 6,
   "metadata": {},
   "outputs": [
    {
     "data": {
      "text/html": [
       "<div>\n",
       "<style scoped>\n",
       "    .dataframe tbody tr th:only-of-type {\n",
       "        vertical-align: middle;\n",
       "    }\n",
       "\n",
       "    .dataframe tbody tr th {\n",
       "        vertical-align: top;\n",
       "    }\n",
       "\n",
       "    .dataframe thead th {\n",
       "        text-align: right;\n",
       "    }\n",
       "</style>\n",
       "<table border=\"1\" class=\"dataframe\">\n",
       "  <thead>\n",
       "    <tr style=\"text-align: right;\">\n",
       "      <th></th>\n",
       "      <th>auctionid</th>\n",
       "      <th>bid</th>\n",
       "      <th>bidtime</th>\n",
       "      <th>bidder</th>\n",
       "      <th>bidderrate</th>\n",
       "      <th>openbid</th>\n",
       "      <th>price</th>\n",
       "    </tr>\n",
       "  </thead>\n",
       "  <tbody>\n",
       "    <tr>\n",
       "      <th>0</th>\n",
       "      <td>1644594033</td>\n",
       "      <td>493.0</td>\n",
       "      <td>6.999456</td>\n",
       "      <td>boraborabora</td>\n",
       "      <td>67</td>\n",
       "      <td>9.99</td>\n",
       "      <td>498.00</td>\n",
       "    </tr>\n",
       "    <tr>\n",
       "      <th>1</th>\n",
       "      <td>1639309309</td>\n",
       "      <td>30.0</td>\n",
       "      <td>1.669618</td>\n",
       "      <td>aclbjc</td>\n",
       "      <td>0</td>\n",
       "      <td>1.00</td>\n",
       "      <td>374.99</td>\n",
       "    </tr>\n",
       "    <tr>\n",
       "      <th>2</th>\n",
       "      <td>1644109746</td>\n",
       "      <td>3103.0</td>\n",
       "      <td>6.917986</td>\n",
       "      <td>nelsoncpm</td>\n",
       "      <td>7</td>\n",
       "      <td>1.00</td>\n",
       "      <td>3103.00</td>\n",
       "    </tr>\n",
       "    <tr>\n",
       "      <th>3</th>\n",
       "      <td>1649858595</td>\n",
       "      <td>175.0</td>\n",
       "      <td>3.107014</td>\n",
       "      <td>pialu9</td>\n",
       "      <td>4</td>\n",
       "      <td>7.99</td>\n",
       "      <td>202.50</td>\n",
       "    </tr>\n",
       "    <tr>\n",
       "      <th>4</th>\n",
       "      <td>1647846714</td>\n",
       "      <td>226.0</td>\n",
       "      <td>2.721319</td>\n",
       "      <td>geemeetee@aol.com</td>\n",
       "      <td>17</td>\n",
       "      <td>1.00</td>\n",
       "      <td>905.45</td>\n",
       "    </tr>\n",
       "    <tr>\n",
       "      <th>5</th>\n",
       "      <td>1644760539</td>\n",
       "      <td>50.0</td>\n",
       "      <td>2.481134</td>\n",
       "      <td>darbarskip</td>\n",
       "      <td>1</td>\n",
       "      <td>1.00</td>\n",
       "      <td>327.23</td>\n",
       "    </tr>\n",
       "    <tr>\n",
       "      <th>6</th>\n",
       "      <td>1644739924</td>\n",
       "      <td>455.0</td>\n",
       "      <td>6.591678</td>\n",
       "      <td>dollfacepumpkin</td>\n",
       "      <td>10</td>\n",
       "      <td>1.00</td>\n",
       "      <td>455.00</td>\n",
       "    </tr>\n",
       "    <tr>\n",
       "      <th>7</th>\n",
       "      <td>1648041601</td>\n",
       "      <td>251.5</td>\n",
       "      <td>5.727454</td>\n",
       "      <td>bogdanbost</td>\n",
       "      <td>1</td>\n",
       "      <td>1.00</td>\n",
       "      <td>335.00</td>\n",
       "    </tr>\n",
       "    <tr>\n",
       "      <th>8</th>\n",
       "      <td>1644357387</td>\n",
       "      <td>50.0</td>\n",
       "      <td>0.328600</td>\n",
       "      <td>bdonahue9@aol.com</td>\n",
       "      <td>22</td>\n",
       "      <td>1.00</td>\n",
       "      <td>640.00</td>\n",
       "    </tr>\n",
       "    <tr>\n",
       "      <th>9</th>\n",
       "      <td>1644077820</td>\n",
       "      <td>200.0</td>\n",
       "      <td>0.322894</td>\n",
       "      <td>msvail</td>\n",
       "      <td>0</td>\n",
       "      <td>1.00</td>\n",
       "      <td>374.00</td>\n",
       "    </tr>\n",
       "  </tbody>\n",
       "</table>\n",
       "</div>"
      ],
      "text/plain": [
       "    auctionid     bid   bidtime             bidder  bidderrate  openbid  \\\n",
       "0  1644594033   493.0  6.999456       boraborabora          67     9.99   \n",
       "1  1639309309    30.0  1.669618             aclbjc           0     1.00   \n",
       "2  1644109746  3103.0  6.917986          nelsoncpm           7     1.00   \n",
       "3  1649858595   175.0  3.107014             pialu9           4     7.99   \n",
       "4  1647846714   226.0  2.721319  geemeetee@aol.com          17     1.00   \n",
       "5  1644760539    50.0  2.481134         darbarskip           1     1.00   \n",
       "6  1644739924   455.0  6.591678    dollfacepumpkin          10     1.00   \n",
       "7  1648041601   251.5  5.727454         bogdanbost           1     1.00   \n",
       "8  1644357387    50.0  0.328600  bdonahue9@aol.com          22     1.00   \n",
       "9  1644077820   200.0  0.322894             msvail           0     1.00   \n",
       "\n",
       "     price  \n",
       "0   498.00  \n",
       "1   374.99  \n",
       "2  3103.00  \n",
       "3   202.50  \n",
       "4   905.45  \n",
       "5   327.23  \n",
       "6   455.00  \n",
       "7   335.00  \n",
       "8   640.00  \n",
       "9   374.00  "
      ]
     },
     "execution_count": 6,
     "metadata": {},
     "output_type": "execute_result"
    }
   ],
   "source": [
    "# Checking Head records\n",
    "df.head(10)"
   ]
  },
  {
   "cell_type": "code",
   "execution_count": 7,
   "metadata": {},
   "outputs": [
    {
     "data": {
      "text/html": [
       "<div>\n",
       "<style scoped>\n",
       "    .dataframe tbody tr th:only-of-type {\n",
       "        vertical-align: middle;\n",
       "    }\n",
       "\n",
       "    .dataframe tbody tr th {\n",
       "        vertical-align: top;\n",
       "    }\n",
       "\n",
       "    .dataframe thead th {\n",
       "        text-align: right;\n",
       "    }\n",
       "</style>\n",
       "<table border=\"1\" class=\"dataframe\">\n",
       "  <thead>\n",
       "    <tr style=\"text-align: right;\">\n",
       "      <th></th>\n",
       "      <th>auctionid</th>\n",
       "      <th>bid</th>\n",
       "      <th>bidtime</th>\n",
       "      <th>bidder</th>\n",
       "      <th>bidderrate</th>\n",
       "      <th>openbid</th>\n",
       "      <th>price</th>\n",
       "    </tr>\n",
       "  </thead>\n",
       "  <tbody>\n",
       "    <tr>\n",
       "      <th>1203</th>\n",
       "      <td>1644760539</td>\n",
       "      <td>65.50</td>\n",
       "      <td>1.176192</td>\n",
       "      <td>bosspad</td>\n",
       "      <td>2</td>\n",
       "      <td>1.00</td>\n",
       "      <td>327.23</td>\n",
       "    </tr>\n",
       "    <tr>\n",
       "      <th>1204</th>\n",
       "      <td>1643187764</td>\n",
       "      <td>100.00</td>\n",
       "      <td>0.247396</td>\n",
       "      <td>nickoftimeblue</td>\n",
       "      <td>8</td>\n",
       "      <td>20.00</td>\n",
       "      <td>276.05</td>\n",
       "    </tr>\n",
       "    <tr>\n",
       "      <th>1205</th>\n",
       "      <td>1650162165</td>\n",
       "      <td>500.00</td>\n",
       "      <td>4.997257</td>\n",
       "      <td>tampa_tap</td>\n",
       "      <td>0</td>\n",
       "      <td>1.00</td>\n",
       "      <td>620.00</td>\n",
       "    </tr>\n",
       "    <tr>\n",
       "      <th>1206</th>\n",
       "      <td>1641629836</td>\n",
       "      <td>300.00</td>\n",
       "      <td>0.611944</td>\n",
       "      <td>vleykin</td>\n",
       "      <td>3</td>\n",
       "      <td>250.00</td>\n",
       "      <td>550.00</td>\n",
       "    </tr>\n",
       "    <tr>\n",
       "      <th>1207</th>\n",
       "      <td>1640653873</td>\n",
       "      <td>185.00</td>\n",
       "      <td>6.766910</td>\n",
       "      <td>jimboysan</td>\n",
       "      <td>4</td>\n",
       "      <td>50.00</td>\n",
       "      <td>202.50</td>\n",
       "    </tr>\n",
       "    <tr>\n",
       "      <th>1208</th>\n",
       "      <td>1643244227</td>\n",
       "      <td>750.00</td>\n",
       "      <td>3.544514</td>\n",
       "      <td>adammurry</td>\n",
       "      <td>5</td>\n",
       "      <td>499.00</td>\n",
       "      <td>1025.00</td>\n",
       "    </tr>\n",
       "    <tr>\n",
       "      <th>1209</th>\n",
       "      <td>1649639405</td>\n",
       "      <td>1505.00</td>\n",
       "      <td>1.583704</td>\n",
       "      <td>anasandak</td>\n",
       "      <td>1</td>\n",
       "      <td>1.00</td>\n",
       "      <td>1880.00</td>\n",
       "    </tr>\n",
       "    <tr>\n",
       "      <th>1210</th>\n",
       "      <td>1640179146</td>\n",
       "      <td>320.99</td>\n",
       "      <td>2.608287</td>\n",
       "      <td>bdsr1</td>\n",
       "      <td>0</td>\n",
       "      <td>1.00</td>\n",
       "      <td>455.00</td>\n",
       "    </tr>\n",
       "    <tr>\n",
       "      <th>1211</th>\n",
       "      <td>1644049270</td>\n",
       "      <td>1250.00</td>\n",
       "      <td>6.857986</td>\n",
       "      <td>hugo44</td>\n",
       "      <td>6</td>\n",
       "      <td>0.01</td>\n",
       "      <td>1600.00</td>\n",
       "    </tr>\n",
       "    <tr>\n",
       "      <th>1212</th>\n",
       "      <td>1639333116</td>\n",
       "      <td>161.00</td>\n",
       "      <td>0.226065</td>\n",
       "      <td>aegean-2001</td>\n",
       "      <td>65</td>\n",
       "      <td>155.00</td>\n",
       "      <td>501.62</td>\n",
       "    </tr>\n",
       "  </tbody>\n",
       "</table>\n",
       "</div>"
      ],
      "text/plain": [
       "       auctionid      bid   bidtime          bidder  bidderrate  openbid  \\\n",
       "1203  1644760539    65.50  1.176192         bosspad           2     1.00   \n",
       "1204  1643187764   100.00  0.247396  nickoftimeblue           8    20.00   \n",
       "1205  1650162165   500.00  4.997257       tampa_tap           0     1.00   \n",
       "1206  1641629836   300.00  0.611944         vleykin           3   250.00   \n",
       "1207  1640653873   185.00  6.766910       jimboysan           4    50.00   \n",
       "1208  1643244227   750.00  3.544514       adammurry           5   499.00   \n",
       "1209  1649639405  1505.00  1.583704       anasandak           1     1.00   \n",
       "1210  1640179146   320.99  2.608287           bdsr1           0     1.00   \n",
       "1211  1644049270  1250.00  6.857986          hugo44           6     0.01   \n",
       "1212  1639333116   161.00  0.226065     aegean-2001          65   155.00   \n",
       "\n",
       "        price  \n",
       "1203   327.23  \n",
       "1204   276.05  \n",
       "1205   620.00  \n",
       "1206   550.00  \n",
       "1207   202.50  \n",
       "1208  1025.00  \n",
       "1209  1880.00  \n",
       "1210   455.00  \n",
       "1211  1600.00  \n",
       "1212   501.62  "
      ]
     },
     "execution_count": 7,
     "metadata": {},
     "output_type": "execute_result"
    }
   ],
   "source": [
    "# Checking Tail records\n",
    "df.tail(10)"
   ]
  },
  {
   "cell_type": "code",
   "execution_count": 8,
   "metadata": {},
   "outputs": [
    {
     "name": "stdout",
     "output_type": "stream",
     "text": [
      "<class 'pandas.core.frame.DataFrame'>\n",
      "RangeIndex: 1213 entries, 0 to 1212\n",
      "Data columns (total 7 columns):\n",
      " #   Column      Non-Null Count  Dtype  \n",
      "---  ------      --------------  -----  \n",
      " 0   auctionid   1213 non-null   int64  \n",
      " 1   bid         1213 non-null   float64\n",
      " 2   bidtime     1213 non-null   float64\n",
      " 3   bidder      1213 non-null   object \n",
      " 4   bidderrate  1213 non-null   int64  \n",
      " 5   openbid     1213 non-null   float64\n",
      " 6   price       1213 non-null   float64\n",
      "dtypes: float64(4), int64(2), object(1)\n",
      "memory usage: 66.5+ KB\n",
      "None \n",
      "\n",
      "<class 'pandas.core.frame.DataFrame'>\n",
      "RangeIndex: 337 entries, 0 to 336\n",
      "Data columns (total 6 columns):\n",
      " #   Column      Non-Null Count  Dtype  \n",
      "---  ------      --------------  -----  \n",
      " 0   auctionid   337 non-null    int64  \n",
      " 1   bid         337 non-null    float64\n",
      " 2   bidtime     337 non-null    float64\n",
      " 3   bidder      337 non-null    object \n",
      " 4   bidderrate  337 non-null    int64  \n",
      " 5   openbid     337 non-null    float64\n",
      "dtypes: float64(3), int64(2), object(1)\n",
      "memory usage: 15.9+ KB\n",
      "None \n",
      "\n"
     ]
    }
   ],
   "source": [
    "print(df.info(), \"\\n\")\n",
    "print(test_data.info(), \"\\n\")"
   ]
  },
  {
   "cell_type": "code",
   "execution_count": 9,
   "metadata": {},
   "outputs": [
    {
     "name": "stdout",
     "output_type": "stream",
     "text": [
      "> The auction data consist of 1213 rows & 7 columns. \n",
      "\n",
      "\n",
      "> The auction data consist following columns as -  \n",
      " Index(['auctionid', 'bid', 'bidtime', 'bidder', 'bidderrate', 'openbid',\n",
      "       'price'],\n",
      "      dtype='object')\n"
     ]
    }
   ],
   "source": [
    "# Shape of data\n",
    "print(\"> The auction data consist of\", df.shape[0],'rows &', df.shape[1],\"columns.\", \"\\n\")\n",
    "print()\n",
    "print(\"> The auction data consist following columns as - \", \"\\n\", df.columns)"
   ]
  },
  {
   "cell_type": "markdown",
   "metadata": {},
   "source": [
    "    Our Auction dataset consist 1213 rows across 7 columns including \"price\"."
   ]
  },
  {
   "cell_type": "code",
   "execution_count": 10,
   "metadata": {},
   "outputs": [
    {
     "data": {
      "text/html": [
       "<div>\n",
       "<style scoped>\n",
       "    .dataframe tbody tr th:only-of-type {\n",
       "        vertical-align: middle;\n",
       "    }\n",
       "\n",
       "    .dataframe tbody tr th {\n",
       "        vertical-align: top;\n",
       "    }\n",
       "\n",
       "    .dataframe thead th {\n",
       "        text-align: right;\n",
       "    }\n",
       "</style>\n",
       "<table border=\"1\" class=\"dataframe\">\n",
       "  <thead>\n",
       "    <tr style=\"text-align: right;\">\n",
       "      <th></th>\n",
       "      <th>auctionid</th>\n",
       "      <th>bid</th>\n",
       "      <th>bidtime</th>\n",
       "      <th>bidderrate</th>\n",
       "      <th>openbid</th>\n",
       "      <th>price</th>\n",
       "    </tr>\n",
       "  </thead>\n",
       "  <tbody>\n",
       "    <tr>\n",
       "      <th>count</th>\n",
       "      <td>1.213000e+03</td>\n",
       "      <td>1213.000000</td>\n",
       "      <td>1213.000000</td>\n",
       "      <td>1213.000000</td>\n",
       "      <td>1213.000000</td>\n",
       "      <td>1213.000000</td>\n",
       "    </tr>\n",
       "    <tr>\n",
       "      <th>mean</th>\n",
       "      <td>1.644577e+09</td>\n",
       "      <td>647.652539</td>\n",
       "      <td>4.078951</td>\n",
       "      <td>31.807914</td>\n",
       "      <td>159.142852</td>\n",
       "      <td>1010.246076</td>\n",
       "    </tr>\n",
       "    <tr>\n",
       "      <th>std</th>\n",
       "      <td>3.566101e+06</td>\n",
       "      <td>701.003386</td>\n",
       "      <td>2.505148</td>\n",
       "      <td>79.112571</td>\n",
       "      <td>388.456626</td>\n",
       "      <td>832.676139</td>\n",
       "    </tr>\n",
       "    <tr>\n",
       "      <th>min</th>\n",
       "      <td>1.638844e+09</td>\n",
       "      <td>1.000000</td>\n",
       "      <td>0.007535</td>\n",
       "      <td>-4.000000</td>\n",
       "      <td>0.010000</td>\n",
       "      <td>103.500000</td>\n",
       "    </tr>\n",
       "    <tr>\n",
       "      <th>25%</th>\n",
       "      <td>1.641784e+09</td>\n",
       "      <td>161.000000</td>\n",
       "      <td>1.578866</td>\n",
       "      <td>1.000000</td>\n",
       "      <td>1.000000</td>\n",
       "      <td>374.990000</td>\n",
       "    </tr>\n",
       "    <tr>\n",
       "      <th>50%</th>\n",
       "      <td>1.644139e+09</td>\n",
       "      <td>400.000000</td>\n",
       "      <td>4.302025</td>\n",
       "      <td>5.000000</td>\n",
       "      <td>7.990000</td>\n",
       "      <td>680.000000</td>\n",
       "    </tr>\n",
       "    <tr>\n",
       "      <th>75%</th>\n",
       "      <td>1.647847e+09</td>\n",
       "      <td>895.000000</td>\n",
       "      <td>6.777083</td>\n",
       "      <td>30.000000</td>\n",
       "      <td>175.000000</td>\n",
       "      <td>1600.000000</td>\n",
       "    </tr>\n",
       "    <tr>\n",
       "      <th>max</th>\n",
       "      <td>1.650986e+09</td>\n",
       "      <td>5400.000000</td>\n",
       "      <td>6.999965</td>\n",
       "      <td>1303.000000</td>\n",
       "      <td>5000.000000</td>\n",
       "      <td>5400.000000</td>\n",
       "    </tr>\n",
       "  </tbody>\n",
       "</table>\n",
       "</div>"
      ],
      "text/plain": [
       "          auctionid          bid      bidtime   bidderrate      openbid  \\\n",
       "count  1.213000e+03  1213.000000  1213.000000  1213.000000  1213.000000   \n",
       "mean   1.644577e+09   647.652539     4.078951    31.807914   159.142852   \n",
       "std    3.566101e+06   701.003386     2.505148    79.112571   388.456626   \n",
       "min    1.638844e+09     1.000000     0.007535    -4.000000     0.010000   \n",
       "25%    1.641784e+09   161.000000     1.578866     1.000000     1.000000   \n",
       "50%    1.644139e+09   400.000000     4.302025     5.000000     7.990000   \n",
       "75%    1.647847e+09   895.000000     6.777083    30.000000   175.000000   \n",
       "max    1.650986e+09  5400.000000     6.999965  1303.000000  5000.000000   \n",
       "\n",
       "             price  \n",
       "count  1213.000000  \n",
       "mean   1010.246076  \n",
       "std     832.676139  \n",
       "min     103.500000  \n",
       "25%     374.990000  \n",
       "50%     680.000000  \n",
       "75%    1600.000000  \n",
       "max    5400.000000  "
      ]
     },
     "execution_count": 10,
     "metadata": {},
     "output_type": "execute_result"
    }
   ],
   "source": [
    "# Checking descriptive Statistics\n",
    "df.describe()"
   ]
  },
  {
   "cell_type": "markdown",
   "metadata": {},
   "source": [
    "    Descriptive Statistical Analysis as -\n",
    "    \n",
    "        1. auctionid - an auction id of bid\n",
    "        2. bid - a bid placed by bidder where \n",
    "                 mean = 647.65, std = 701.00, minimum bid = 1.00, maximum bid = 5400.00 & median = 400.00\n",
    "        3. bidtime - mean = 4.08, std = 2.51, minimum = 0.00, maximum = 7.00 & median = 4.30\n",
    "        4. bidderrate - mean = 31.81, std = 79.11, minimum = -4.00, maximum = 1303 & median = 5\n",
    "        5. openbid - mean = 159, std = 388.46, minimum = 0.01, maximum = 5000.00 & median = 7.99\n",
    "        6. price - this is our target value\n",
    "                   mean = 1010.25, std = 832.68, minimum = 103.50, maximum = 5400.00 & median = 680.00\n",
    "                \n",
    "    from descriptive statistics we can say that data is highly affected with outliers.\n",
    "          Outlier affected columns are - bid, bidderrate, openbid and even our target variable price also."
   ]
  },
  {
   "cell_type": "markdown",
   "metadata": {},
   "source": [
    "#### Data Visualization"
   ]
  },
  {
   "cell_type": "markdown",
   "metadata": {},
   "source": [
    "###### Target Variable"
   ]
  },
  {
   "cell_type": "code",
   "execution_count": 11,
   "metadata": {},
   "outputs": [
    {
     "data": {
      "text/plain": [
       "<seaborn.axisgrid.PairGrid at 0x9a5a445ee0>"
      ]
     },
     "execution_count": 11,
     "metadata": {},
     "output_type": "execute_result"
    },
    {
     "data": {
      "image/png": "[encoded data removed]",
      "text/plain": [
       "<Figure size 1080x1080 with 42 Axes>"
      ]
     },
     "metadata": {
      "needs_background": "light"
     },
     "output_type": "display_data"
    }
   ],
   "source": [
    "# Pairplot\n",
    "sns.pairplot(df)"
   ]
  },
  {
   "cell_type": "markdown",
   "metadata": {},
   "source": [
    "As we concluded in Descriptive Statistic Analysis, from above pairplot we can see data is largely affected by outliers and also not uniformally distributed"
   ]
  },
  {
   "cell_type": "code",
   "execution_count": 12,
   "metadata": {},
   "outputs": [
    {
     "data": {
      "text/plain": [
       "<matplotlib.axes._subplots.AxesSubplot at 0x9a5ba59190>"
      ]
     },
     "execution_count": 12,
     "metadata": {},
     "output_type": "execute_result"
    },
    {
     "data": {
      "image/png": "[encoded data removed]",
      "text/plain": [
       "<Figure size 1080x360 with 2 Axes>"
      ]
     },
     "metadata": {
      "needs_background": "light"
     },
     "output_type": "display_data"
    }
   ],
   "source": [
    "# Plotting histogram for Target variable - Price\n",
    "plt.subplot(1, 2, 1)\n",
    "df['price'].plot(kind = 'hist', bins = 50, figsize = (15, 5))\n",
    "plt.xlabel(\"price\")\n",
    "plt.subplot(1, 2, 2)\n",
    "sns.distplot(df['price'], bins = 50)\n"
   ]
  },
  {
   "cell_type": "markdown",
   "metadata": {},
   "source": [
    "    from above Histogram & Density plot we can see, target variable has alot outliers & their is break in consistency"
   ]
  },
  {
   "cell_type": "markdown",
   "metadata": {},
   "source": [
    "##### Independent Variables"
   ]
  },
  {
   "cell_type": "code",
   "execution_count": 13,
   "metadata": {},
   "outputs": [
    {
     "data": {
      "text/plain": [
       "auctionid      97\n",
       "bid           453\n",
       "bidtime       993\n",
       "bidder        439\n",
       "bidderrate    125\n",
       "openbid        45\n",
       "price          86\n",
       "dtype: int64"
      ]
     },
     "execution_count": 13,
     "metadata": {},
     "output_type": "execute_result"
    }
   ],
   "source": [
    "df.nunique()"
   ]
  },
  {
   "cell_type": "code",
   "execution_count": 14,
   "metadata": {},
   "outputs": [
    {
     "data": {
      "text/html": [
       "        <script type=\"text/javascript\">\n",
       "        window.PlotlyConfig = {MathJaxConfig: 'local'};\n",
       "        if (window.MathJax) {MathJax.Hub.Config({SVG: {font: \"STIX-Web\"}});}\n",
       "        if (typeof require !== 'undefined') {\n",
       "        require.undef(\"plotly\");\n",
       "        requirejs.config({\n",
       "            paths: {\n",
       "                'plotly': ['https://cdn.plot.ly/plotly-latest.min']\n",
       "            }\n",
       "        });\n",
       "        require(['plotly'], function(Plotly) {\n",
       "            window._Plotly = Plotly;\n",
       "        });\n",
       "        }\n",
       "        </script>\n",
       "        "
      ]
     },
     "metadata": {},
     "output_type": "display_data"
    }
   ],
   "source": [
    "# loading Plotly\n",
    "import plotly.offline as py\n",
    "import plotly.graph_objs as go\n",
    "import plotly.tools as tls\n",
    "import plotly.express as px\n",
    "py.init_notebook_mode(connected=True)"
   ]
  },
  {
   "cell_type": "code",
   "execution_count": 15,
   "metadata": {},
   "outputs": [],
   "source": [
    "from scipy.stats import skew\n",
    "from scipy.stats import kurtosis\n",
    "\n",
    "def plotBarCat(df,feature):\n",
    "        \n",
    "    x1 = df[feature]\n",
    "    \n",
    "    trace1 = go.Histogram(\n",
    "        x=x1,\n",
    "        opacity=0.75\n",
    "    )\n",
    "    data = [trace1]\n",
    "    layout = go.Layout(barmode='overlay',\n",
    "                      title=feature,\n",
    "                       yaxis=dict(title='Count'\n",
    "        ))\n",
    "    fig = go.Figure(data=data, layout=layout)\n",
    "\n",
    "    py.iplot(fig, filename='overlaid histogram')\n",
    "    \n",
    "    def DescribeFloatSkewKurt(df,target):\n",
    "        print('-*-'*25)\n",
    "        print(\"{0} mean : \".format(target), np.mean(df[feature]))\n",
    "        print(\"{0} var  : \".format(target), np.var(df[feature]))\n",
    "        print(\"{0} skew (should be 0 for normal distribution) : \".format(target), skew(df[feature]))\n",
    "        print(\"{0} kurt (should be 0 for normal distribution) : \".format(target), kurtosis(df[feature]))\n",
    "        print('-*-'*25)\n",
    "        \n",
    "    DescribeFloatSkewKurt(df,feature)\n",
    " "
   ]
  },
  {
   "cell_type": "code",
   "execution_count": 16,
   "metadata": {},
   "outputs": [
    {
     "data": {
      "application/vnd.plotly.v1+json": {
       "config": {
        "linkText": "Export to plot.ly",
        "plotlyServerURL": "https://plot.ly",
        "showLink": false
       },
       "data": [
        {
         "opacity": 0.75,
         "type": "histogram",
         "x": [
          493,
          30,
          3103,
          175,
          226,
          50,
          455,
          251.5,
          50,
          200,
          450,
          3.5,
          700,
          550,
          181,
          100,
          402,
          475.5,
          500,
          250,
          500,
          750,
          300,
          1002,
          2200,
          498,
          500,
          185,
          52,
          129.51,
          105,
          975,
          501.62,
          800,
          420,
          20,
          510,
          110,
          50,
          2250,
          290,
          119.99,
          375,
          500,
          180,
          178,
          3700,
          200,
          295,
          160,
          2000,
          620,
          1650,
          811,
          600,
          1200,
          125.99,
          185,
          268,
          2008,
          107.5,
          599.99,
          160,
          401,
          72,
          1525,
          609.99,
          520,
          1481,
          400,
          250,
          601,
          50,
          150,
          200,
          1894.78,
          326.99,
          240,
          150,
          85,
          200,
          55,
          1200,
          175,
          790,
          999,
          1201,
          89.99,
          405,
          870,
          1300,
          840,
          305,
          378,
          910,
          125,
          90,
          1600,
          1225,
          30,
          25,
          760,
          250,
          401.07,
          800,
          650,
          80,
          800,
          103,
          202.5,
          210,
          301.06,
          21,
          166,
          400,
          1000,
          100,
          55,
          90,
          868.89,
          10,
          150,
          300,
          1600,
          1425,
          251.51,
          1500,
          500,
          901,
          610,
          950,
          475,
          375,
          8,
          770,
          65.5,
          3500,
          200.99,
          101,
          800,
          777,
          1355,
          1200,
          250,
          600,
          2800,
          715,
          349.99,
          545,
          236,
          1100,
          1600,
          479.79,
          226.51,
          600,
          900,
          1050,
          131,
          1700,
          500,
          175,
          250,
          100,
          80,
          144,
          500,
          1100,
          740,
          1300,
          500,
          275,
          277.75,
          800,
          550,
          1,
          300,
          670,
          1400,
          1800,
          310,
          426,
          150,
          157.5,
          888,
          1625,
          260,
          870,
          1050,
          450,
          225,
          500,
          257.55,
          1800,
          151,
          211,
          210,
          850,
          100,
          450,
          141,
          75.99,
          365,
          350,
          200,
          500,
          75,
          200,
          570,
          71,
          276.05,
          150,
          90.99,
          20,
          275.99,
          700,
          1800,
          205,
          750,
          690,
          350,
          1580,
          1750,
          222,
          20,
          351,
          302.9,
          50,
          823,
          826.34,
          3000,
          50,
          895,
          251,
          525,
          263,
          1100,
          2050,
          300,
          2100,
          100,
          2100,
          1400,
          795.95,
          60,
          270,
          278.75,
          50,
          300,
          500,
          800,
          136,
          821,
          300,
          2500,
          200,
          29.99,
          154.38,
          280,
          95,
          50,
          2000,
          670,
          1600,
          100,
          1800,
          350,
          1800,
          1524.99,
          105,
          70.99,
          1100,
          1,
          5100,
          2050,
          850,
          25,
          280,
          300,
          50,
          1550,
          320,
          211,
          820,
          275,
          800,
          1,
          1.25,
          1500,
          80,
          200,
          250,
          3800,
          349.99,
          100,
          500,
          249.99,
          125.01,
          405,
          800,
          251,
          360,
          1200,
          450.01,
          850,
          1000,
          1799,
          710,
          800,
          2400,
          3000,
          900,
          560,
          186,
          54,
          200,
          275,
          176,
          30,
          1725,
          800,
          399,
          150,
          2275,
          2000,
          50,
          412.53,
          400,
          350,
          1599,
          300,
          202.5,
          275,
          215,
          500,
          400.01,
          2150,
          1400,
          1,
          76,
          315,
          325,
          206,
          550,
          360,
          150,
          125,
          110,
          15.55,
          5300,
          600,
          225,
          455,
          500,
          119.51,
          1405,
          71,
          406,
          25,
          111,
          203,
          751,
          500,
          420,
          225,
          500,
          100,
          260,
          710,
          1500,
          951,
          307,
          500,
          102.5,
          1775,
          900,
          2100,
          200,
          1000,
          2800,
          20,
          1100,
          52.5,
          1750,
          165,
          198,
          850,
          100,
          1050,
          76.56,
          55,
          831,
          1455.99,
          1450,
          27,
          92.5,
          125,
          120.5,
          1100,
          105,
          380,
          2025,
          220,
          10.5,
          400,
          150,
          350,
          490,
          100,
          301,
          80,
          180,
          317,
          821,
          700,
          999.99,
          70,
          435,
          426,
          720,
          110,
          150.01,
          170,
          299,
          901,
          1300,
          125,
          30,
          1400,
          1600,
          135,
          5,
          800,
          25,
          1000,
          225,
          540,
          50,
          1400,
          55,
          1000,
          306,
          1000,
          86,
          400,
          1500,
          375,
          350,
          2395,
          1350,
          277.77,
          700,
          1850,
          63.33,
          456,
          145,
          250,
          201,
          300,
          1200,
          310,
          1170,
          150,
          600,
          601,
          400,
          80,
          55,
          450,
          355,
          251,
          715,
          820,
          1460,
          675,
          111,
          695,
          278,
          10,
          650,
          1855,
          311,
          500,
          550,
          30,
          751.5,
          124.51,
          1500,
          2325,
          1350,
          320,
          295,
          300,
          227.5,
          800,
          12.22,
          75,
          155,
          175.75,
          811,
          65,
          550,
          1705,
          165,
          70,
          1025,
          97.5,
          50,
          3000,
          371,
          770,
          1650,
          451,
          250,
          100,
          890,
          650,
          252.5,
          600,
          1700,
          650,
          1200,
          1000,
          1000,
          1013.99,
          50,
          915,
          68.99,
          165,
          800,
          505.78,
          135,
          10,
          1925,
          831,
          360,
          3000,
          2300,
          1500,
          750,
          1,
          374.99,
          321,
          2450,
          265,
          52,
          281,
          750,
          280,
          2000,
          425,
          640,
          58,
          1250,
          225,
          701,
          1675,
          1050,
          251,
          455,
          122,
          572.06,
          55,
          5,
          250,
          315,
          30,
          2000,
          320,
          22,
          306.88,
          260,
          78.5,
          401,
          1775,
          113.5,
          301.88,
          100,
          1025,
          80,
          801,
          3,
          2200,
          1300,
          5400,
          520,
          560.07,
          1500,
          725,
          320,
          155,
          1100,
          1850,
          500,
          360,
          75,
          1800,
          901,
          1424.99,
          1226,
          1.25,
          751.01,
          700,
          1025,
          680,
          20,
          425,
          100,
          150,
          1035,
          420,
          1100,
          387,
          2150,
          200,
          1001,
          1599,
          220,
          155,
          300,
          160,
          1200,
          430,
          308,
          300,
          500,
          120,
          200,
          210,
          250,
          441,
          850,
          179.5,
          236,
          100,
          200,
          2000,
          120.5,
          1000,
          351,
          840,
          5,
          188,
          80,
          930,
          600,
          375,
          15,
          650,
          1035,
          3100,
          200,
          1600,
          155.5,
          103,
          260,
          312,
          1530,
          1100,
          850,
          225,
          150,
          205,
          275,
          300,
          100,
          650,
          350,
          250,
          1200,
          100.99,
          202.5,
          1869.78,
          2800,
          800,
          600,
          1400,
          1525,
          530,
          177,
          510,
          910,
          100,
          1500,
          452.87,
          1580,
          115.5,
          335,
          161,
          240,
          600,
          225,
          99,
          2350,
          300,
          250,
          50,
          400,
          15.5,
          2.22,
          416,
          250,
          405,
          150,
          860,
          100,
          2000,
          1000,
          220,
          801,
          650,
          59,
          350,
          576,
          350,
          102.5,
          250,
          501.01,
          250,
          1999,
          5,
          402,
          85,
          120,
          320.99,
          100,
          170,
          400,
          1701,
          171,
          40,
          405,
          620,
          60,
          1695,
          866,
          50,
          1350,
          450,
          901,
          1200,
          730,
          5,
          600,
          623.26,
          50,
          250,
          1300,
          200,
          374,
          1000,
          442,
          10,
          500,
          150,
          51,
          175,
          900,
          1500,
          395,
          370,
          999,
          161,
          1000,
          501,
          420,
          35,
          100,
          369,
          375,
          1350,
          150,
          1200,
          6,
          1400,
          42.99,
          1025,
          639.99,
          375,
          125,
          350,
          850,
          15,
          50,
          1900,
          522.01,
          1300,
          224.5,
          1880,
          1500,
          130,
          500,
          446,
          236,
          1125,
          160,
          251,
          100,
          1.5,
          424,
          551,
          1250,
          1123,
          430,
          2,
          630,
          895,
          1,
          370,
          20,
          31,
          220,
          801,
          1800,
          2500,
          27,
          160,
          228,
          1455,
          310,
          1223,
          127,
          725,
          99,
          200,
          1500,
          400,
          12,
          1050,
          650,
          400,
          200,
          1401,
          401.98,
          200,
          25.99,
          1450,
          1500,
          33,
          335,
          225,
          230,
          500,
          95,
          291,
          156,
          250,
          175,
          1200,
          125,
          325,
          350,
          1550,
          280,
          117,
          600,
          2953,
          350,
          270,
          70,
          1775,
          355,
          98,
          510,
          1630,
          721,
          600,
          407,
          9,
          159,
          200,
          151,
          335,
          66,
          1038.99,
          2200,
          1800,
          1725,
          1100,
          103.33,
          74,
          325,
          1525,
          197.5,
          163,
          600,
          1650,
          190,
          1485,
          1305,
          1000,
          1201,
          300,
          1000,
          125,
          905.45,
          305,
          300,
          25,
          310.99,
          800,
          1525,
          380,
          1.5,
          1350,
          100,
          2569.77,
          305,
          1800,
          185,
          818.18,
          475,
          95.5,
          1195,
          1500,
          390,
          301,
          100,
          800,
          1,
          700,
          150,
          85.99,
          200,
          1200,
          655,
          900,
          410,
          2600,
          1600,
          1575,
          91,
          500,
          120,
          1800,
          20,
          1600,
          250,
          250,
          235,
          210,
          75,
          105.5,
          125.5,
          1750,
          300,
          110,
          277,
          300.01,
          801,
          901,
          1825,
          60,
          504,
          370,
          155,
          50,
          131,
          610,
          163.5,
          370,
          300,
          758,
          1502,
          1505,
          50,
          1150,
          2.5,
          701,
          465,
          60,
          370,
          1500,
          80,
          740,
          450,
          3050,
          100,
          1805,
          450,
          17.01,
          250,
          760,
          53.01,
          111,
          87.99,
          250,
          566.99,
          931,
          110,
          800,
          20,
          317,
          525,
          781,
          165.5,
          2700,
          124.25,
          205,
          1875,
          200.5,
          999,
          125,
          700,
          2100,
          700,
          355,
          415,
          1250,
          27,
          260,
          2600,
          700,
          610,
          760,
          850,
          374.99,
          1800,
          250,
          1575,
          275,
          424,
          2600,
          800,
          170,
          1035,
          25,
          412.53,
          1850,
          1200,
          850,
          55,
          50,
          2000,
          3,
          375,
          740,
          15.5,
          206,
          30,
          105,
          75,
          800,
          390,
          369,
          600,
          500,
          30,
          800,
          1000,
          572.06,
          1400,
          300,
          370,
          100,
          850,
          1300,
          370,
          500,
          100.99,
          277.77,
          3800,
          270,
          35,
          72,
          800,
          102.5,
          401.07,
          426,
          720,
          130,
          360,
          500,
          1825,
          450,
          281,
          166,
          55,
          751,
          371,
          1705,
          823,
          500,
          150,
          2325,
          320,
          1.5,
          89.99,
          136,
          175.75,
          600,
          500,
          895,
          1000,
          1500,
          840,
          1800,
          175,
          66,
          710,
          5,
          1500,
          90,
          260,
          750,
          2395,
          800,
          490,
          2500,
          124.51,
          1300,
          1500,
          840,
          420,
          1000,
          1800,
          1425,
          50,
          510,
          171,
          1500,
          456,
          177,
          406,
          500,
          402,
          1775,
          110,
          1485,
          1700,
          1850,
          405,
          186,
          1455,
          600,
          125,
          210,
          5,
          111,
          670,
          640,
          1000,
          375,
          310,
          770,
          452.87,
          160,
          650,
          2400,
          95,
          500,
          226.51,
          1500,
          1,
          40,
          599.99,
          1200,
          1625,
          901,
          1599,
          1100,
          1400,
          86,
          600,
          2450,
          811,
          251,
          1195,
          200,
          501.01,
          450,
          350,
          730,
          3000,
          355,
          175,
          300,
          5400,
          500,
          1424.99,
          700,
          63.33,
          301,
          1350,
          2200,
          85,
          1525,
          226,
          500,
          1550,
          202.5,
          58,
          800,
          91,
          202.5,
          260,
          220,
          1400,
          1000,
          402,
          1.5,
          415,
          545,
          1800,
          65.5,
          100,
          500,
          300,
          185,
          750,
          1505,
          320.99,
          1250,
          161
         ]
        }
       ],
       "layout": {
        "barmode": "overlay",
        "template": {
         "data": {
          "bar": [
           {
            "error_x": {
             "color": "#2a3f5f"
            },
            "error_y": {
             "color": "#2a3f5f"
            },
            "marker": {
             "line": {
              "color": "#E5ECF6",
              "width": 0.5
             }
            },
            "type": "bar"
           }
          ],
          "barpolar": [
           {
            "marker": {
             "line": {
              "color": "#E5ECF6",
              "width": 0.5
             }
            },
            "type": "barpolar"
           }
          ],
          "carpet": [
           {
            "aaxis": {
             "endlinecolor": "#2a3f5f",
             "gridcolor": "white",
             "linecolor": "white",
             "minorgridcolor": "white",
             "startlinecolor": "#2a3f5f"
            },
            "baxis": {
             "endlinecolor": "#2a3f5f",
             "gridcolor": "white",
             "linecolor": "white",
             "minorgridcolor": "white",
             "startlinecolor": "#2a3f5f"
            },
            "type": "carpet"
           }
          ],
          "choropleth": [
           {
            "colorbar": {
             "outlinewidth": 0,
             "ticks": ""
            },
            "type": "choropleth"
           }
          ],
          "contour": [
           {
            "colorbar": {
             "outlinewidth": 0,
             "ticks": ""
            },
            "colorscale": [
             [
              0,
              "#0d0887"
             ],
             [
              0.1111111111111111,
              "#46039f"
             ],
             [
              0.2222222222222222,
              "#7201a8"
             ],
             [
              0.3333333333333333,
              "#9c179e"
             ],
             [
              0.4444444444444444,
              "#bd3786"
             ],
             [
              0.5555555555555556,
              "#d8576b"
             ],
             [
              0.6666666666666666,
              "#ed7953"
             ],
             [
              0.7777777777777778,
              "#fb9f3a"
             ],
             [
              0.8888888888888888,
              "#fdca26"
             ],
             [
              1,
              "#f0f921"
             ]
            ],
            "type": "contour"
           }
          ],
          "contourcarpet": [
           {
            "colorbar": {
             "outlinewidth": 0,
             "ticks": ""
            },
            "type": "contourcarpet"
           }
          ],
          "heatmap": [
           {
            "colorbar": {
             "outlinewidth": 0,
             "ticks": ""
            },
            "colorscale": [
             [
              0,
              "#0d0887"
             ],
             [
              0.1111111111111111,
              "#46039f"
             ],
             [
              0.2222222222222222,
              "#7201a8"
             ],
             [
              0.3333333333333333,
              "#9c179e"
             ],
             [
              0.4444444444444444,
              "#bd3786"
             ],
             [
              0.5555555555555556,
              "#d8576b"
             ],
             [
              0.6666666666666666,
              "#ed7953"
             ],
             [
              0.7777777777777778,
              "#fb9f3a"
             ],
             [
              0.8888888888888888,
              "#fdca26"
             ],
             [
              1,
              "#f0f921"
             ]
            ],
            "type": "heatmap"
           }
          ],
          "heatmapgl": [
           {
            "colorbar": {
             "outlinewidth": 0,
             "ticks": ""
            },
            "colorscale": [
             [
              0,
              "#0d0887"
             ],
             [
              0.1111111111111111,
              "#46039f"
             ],
             [
              0.2222222222222222,
              "#7201a8"
             ],
             [
              0.3333333333333333,
              "#9c179e"
             ],
             [
              0.4444444444444444,
              "#bd3786"
             ],
             [
              0.5555555555555556,
              "#d8576b"
             ],
             [
              0.6666666666666666,
              "#ed7953"
             ],
             [
              0.7777777777777778,
              "#fb9f3a"
             ],
             [
              0.8888888888888888,
              "#fdca26"
             ],
             [
              1,
              "#f0f921"
             ]
            ],
            "type": "heatmapgl"
           }
          ],
          "histogram": [
           {
            "marker": {
             "colorbar": {
              "outlinewidth": 0,
              "ticks": ""
             }
            },
            "type": "histogram"
           }
          ],
          "histogram2d": [
           {
            "colorbar": {
             "outlinewidth": 0,
             "ticks": ""
            },
            "colorscale": [
             [
              0,
              "#0d0887"
             ],
             [
              0.1111111111111111,
              "#46039f"
             ],
             [
              0.2222222222222222,
              "#7201a8"
             ],
             [
              0.3333333333333333,
              "#9c179e"
             ],
             [
              0.4444444444444444,
              "#bd3786"
             ],
             [
              0.5555555555555556,
              "#d8576b"
             ],
             [
              0.6666666666666666,
              "#ed7953"
             ],
             [
              0.7777777777777778,
              "#fb9f3a"
             ],
             [
              0.8888888888888888,
              "#fdca26"
             ],
             [
              1,
              "#f0f921"
             ]
            ],
            "type": "histogram2d"
           }
          ],
          "histogram2dcontour": [
           {
            "colorbar": {
             "outlinewidth": 0,
             "ticks": ""
            },
            "colorscale": [
             [
              0,
              "#0d0887"
             ],
             [
              0.1111111111111111,
              "#46039f"
             ],
             [
              0.2222222222222222,
              "#7201a8"
             ],
             [
              0.3333333333333333,
              "#9c179e"
             ],
             [
              0.4444444444444444,
              "#bd3786"
             ],
             [
              0.5555555555555556,
              "#d8576b"
             ],
             [
              0.6666666666666666,
              "#ed7953"
             ],
             [
              0.7777777777777778,
              "#fb9f3a"
             ],
             [
              0.8888888888888888,
              "#fdca26"
             ],
             [
              1,
              "#f0f921"
             ]
            ],
            "type": "histogram2dcontour"
           }
          ],
          "mesh3d": [
           {
            "colorbar": {
             "outlinewidth": 0,
             "ticks": ""
            },
            "type": "mesh3d"
           }
          ],
          "parcoords": [
           {
            "line": {
             "colorbar": {
              "outlinewidth": 0,
              "ticks": ""
             }
            },
            "type": "parcoords"
           }
          ],
          "pie": [
           {
            "automargin": true,
            "type": "pie"
           }
          ],
          "scatter": [
           {
            "marker": {
             "colorbar": {
              "outlinewidth": 0,
              "ticks": ""
             }
            },
            "type": "scatter"
           }
          ],
          "scatter3d": [
           {
            "line": {
             "colorbar": {
              "outlinewidth": 0,
              "ticks": ""
             }
            },
            "marker": {
             "colorbar": {
              "outlinewidth": 0,
              "ticks": ""
             }
            },
            "type": "scatter3d"
           }
          ],
          "scattercarpet": [
           {
            "marker": {
             "colorbar": {
              "outlinewidth": 0,
              "ticks": ""
             }
            },
            "type": "scattercarpet"
           }
          ],
          "scattergeo": [
           {
            "marker": {
             "colorbar": {
              "outlinewidth": 0,
              "ticks": ""
             }
            },
            "type": "scattergeo"
           }
          ],
          "scattergl": [
           {
            "marker": {
             "colorbar": {
              "outlinewidth": 0,
              "ticks": ""
             }
            },
            "type": "scattergl"
           }
          ],
          "scattermapbox": [
           {
            "marker": {
             "colorbar": {
              "outlinewidth": 0,
              "ticks": ""
             }
            },
            "type": "scattermapbox"
           }
          ],
          "scatterpolar": [
           {
            "marker": {
             "colorbar": {
              "outlinewidth": 0,
              "ticks": ""
             }
            },
            "type": "scatterpolar"
           }
          ],
          "scatterpolargl": [
           {
            "marker": {
             "colorbar": {
              "outlinewidth": 0,
              "ticks": ""
             }
            },
            "type": "scatterpolargl"
           }
          ],
          "scatterternary": [
           {
            "marker": {
             "colorbar": {
              "outlinewidth": 0,
              "ticks": ""
             }
            },
            "type": "scatterternary"
           }
          ],
          "surface": [
           {
            "colorbar": {
             "outlinewidth": 0,
             "ticks": ""
            },
            "colorscale": [
             [
              0,
              "#0d0887"
             ],
             [
              0.1111111111111111,
              "#46039f"
             ],
             [
              0.2222222222222222,
              "#7201a8"
             ],
             [
              0.3333333333333333,
              "#9c179e"
             ],
             [
              0.4444444444444444,
              "#bd3786"
             ],
             [
              0.5555555555555556,
              "#d8576b"
             ],
             [
              0.6666666666666666,
              "#ed7953"
             ],
             [
              0.7777777777777778,
              "#fb9f3a"
             ],
             [
              0.8888888888888888,
              "#fdca26"
             ],
             [
              1,
              "#f0f921"
             ]
            ],
            "type": "surface"
           }
          ],
          "table": [
           {
            "cells": {
             "fill": {
              "color": "#EBF0F8"
             },
             "line": {
              "color": "white"
             }
            },
            "header": {
             "fill": {
              "color": "#C8D4E3"
             },
             "line": {
              "color": "white"
             }
            },
            "type": "table"
           }
          ]
         },
         "layout": {
          "annotationdefaults": {
           "arrowcolor": "#2a3f5f",
           "arrowhead": 0,
           "arrowwidth": 1
          },
          "coloraxis": {
           "colorbar": {
            "outlinewidth": 0,
            "ticks": ""
           }
          },
          "colorscale": {
           "diverging": [
            [
             0,
             "#8e0152"
            ],
            [
             0.1,
             "#c51b7d"
            ],
            [
             0.2,
             "#de77ae"
            ],
            [
             0.3,
             "#f1b6da"
            ],
            [
             0.4,
             "#fde0ef"
            ],
            [
             0.5,
             "#f7f7f7"
            ],
            [
             0.6,
             "#e6f5d0"
            ],
            [
             0.7,
             "#b8e186"
            ],
            [
             0.8,
             "#7fbc41"
            ],
            [
             0.9,
             "#4d9221"
            ],
            [
             1,
             "#276419"
            ]
           ],
           "sequential": [
            [
             0,
             "#0d0887"
            ],
            [
             0.1111111111111111,
             "#46039f"
            ],
            [
             0.2222222222222222,
             "#7201a8"
            ],
            [
             0.3333333333333333,
             "#9c179e"
            ],
            [
             0.4444444444444444,
             "#bd3786"
            ],
            [
             0.5555555555555556,
             "#d8576b"
            ],
            [
             0.6666666666666666,
             "#ed7953"
            ],
            [
             0.7777777777777778,
             "#fb9f3a"
            ],
            [
             0.8888888888888888,
             "#fdca26"
            ],
            [
             1,
             "#f0f921"
            ]
           ],
           "sequentialminus": [
            [
             0,
             "#0d0887"
            ],
            [
             0.1111111111111111,
             "#46039f"
            ],
            [
             0.2222222222222222,
             "#7201a8"
            ],
            [
             0.3333333333333333,
             "#9c179e"
            ],
            [
             0.4444444444444444,
             "#bd3786"
            ],
            [
             0.5555555555555556,
             "#d8576b"
            ],
            [
             0.6666666666666666,
             "#ed7953"
            ],
            [
             0.7777777777777778,
             "#fb9f3a"
            ],
            [
             0.8888888888888888,
             "#fdca26"
            ],
            [
             1,
             "#f0f921"
            ]
           ]
          },
          "colorway": [
           "#636efa",
           "#EF553B",
           "#00cc96",
           "#ab63fa",
           "#FFA15A",
           "#19d3f3",
           "#FF6692",
           "#B6E880",
           "#FF97FF",
           "#FECB52"
          ],
          "font": {
           "color": "#2a3f5f"
          },
          "geo": {
           "bgcolor": "white",
           "lakecolor": "white",
           "landcolor": "#E5ECF6",
           "showlakes": true,
           "showland": true,
           "subunitcolor": "white"
          },
          "hoverlabel": {
           "align": "left"
          },
          "hovermode": "closest",
          "mapbox": {
           "style": "light"
          },
          "paper_bgcolor": "white",
          "plot_bgcolor": "#E5ECF6",
          "polar": {
           "angularaxis": {
            "gridcolor": "white",
            "linecolor": "white",
            "ticks": ""
           },
           "bgcolor": "#E5ECF6",
           "radialaxis": {
            "gridcolor": "white",
            "linecolor": "white",
            "ticks": ""
           }
          },
          "scene": {
           "xaxis": {
            "backgroundcolor": "#E5ECF6",
            "gridcolor": "white",
            "gridwidth": 2,
            "linecolor": "white",
            "showbackground": true,
            "ticks": "",
            "zerolinecolor": "white"
           },
           "yaxis": {
            "backgroundcolor": "#E5ECF6",
            "gridcolor": "white",
            "gridwidth": 2,
            "linecolor": "white",
            "showbackground": true,
            "ticks": "",
            "zerolinecolor": "white"
           },
           "zaxis": {
            "backgroundcolor": "#E5ECF6",
            "gridcolor": "white",
            "gridwidth": 2,
            "linecolor": "white",
            "showbackground": true,
            "ticks": "",
            "zerolinecolor": "white"
           }
          },
          "shapedefaults": {
           "line": {
            "color": "#2a3f5f"
           }
          },
          "ternary": {
           "aaxis": {
            "gridcolor": "white",
            "linecolor": "white",
            "ticks": ""
           },
           "baxis": {
            "gridcolor": "white",
            "linecolor": "white",
            "ticks": ""
           },
           "bgcolor": "#E5ECF6",
           "caxis": {
            "gridcolor": "white",
            "linecolor": "white",
            "ticks": ""
           }
          },
          "title": {
           "x": 0.05
          },
          "xaxis": {
           "automargin": true,
           "gridcolor": "white",
           "linecolor": "white",
           "ticks": "",
           "title": {
            "standoff": 15
           },
           "zerolinecolor": "white",
           "zerolinewidth": 2
          },
          "yaxis": {
           "automargin": true,
           "gridcolor": "white",
           "linecolor": "white",
           "ticks": "",
           "title": {
            "standoff": 15
           },
           "zerolinecolor": "white",
           "zerolinewidth": 2
          }
         }
        },
        "title": {
         "text": "bid"
        },
        "yaxis": {
         "title": {
          "text": "Count"
         }
        }
       }
      },
      "text/html": [
       "<div>\n",
       "        \n",
       "        \n",
       "            <div id=\"ceb0db25-8154-46e0-b687-d5c060d70c7f\" class=\"plotly-graph-div\" style=\"height:525px; width:100%;\"></div>\n",
       "            <script type=\"text/javascript\">\n",
       "                require([\"plotly\"], function(Plotly) {\n",
       "                    window.PLOTLYENV=window.PLOTLYENV || {};\n",
       "                    \n",
       "                if (document.getElementById(\"ceb0db25-8154-46e0-b687-d5c060d70c7f\")) {\n",
       "                    Plotly.newPlot(\n",
       "                        'ceb0db25-8154-46e0-b687-d5c060d70c7f',\n",
       "                        [{\"opacity\": 0.75, \"type\": \"histogram\", \"x\": [493.0, 30.0, 3103.0, 175.0, 226.0, 50.0, 455.0, 251.5, 50.0, 200.0, 450.0, 3.5, 700.0, 550.0, 181.0, 100.0, 402.0, 475.5, 500.0, 250.0, 500.0, 750.0, 300.0, 1002.0, 2200.0, 498.0, 500.0, 185.0, 52.0, 129.51, 105.0, 975.0, 501.62, 800.0, 420.0, 20.0, 510.0, 110.0, 50.0, 2250.0, 290.0, 119.99, 375.0, 500.0, 180.0, 178.0, 3700.0, 200.0, 295.0, 160.0, 2000.0, 620.0, 1650.0, 811.0, 600.0, 1200.0, 125.99, 185.0, 268.0, 2008.0, 107.5, 599.99, 160.0, 401.0, 72.0, 1525.0, 609.99, 520.0, 1481.0, 400.0, 250.0, 601.0, 50.0, 150.0, 200.0, 1894.78, 326.99, 240.0, 150.0, 85.0, 200.0, 55.0, 1200.0, 175.0, 790.0, 999.0, 1201.0, 89.99, 405.0, 870.0, 1300.0, 840.0, 305.0, 378.0, 910.0, 125.0, 90.0, 1600.0, 1225.0, 30.0, 25.0, 760.0, 250.0, 401.07, 800.0, 650.0, 80.0, 800.0, 103.0, 202.5, 210.0, 301.06, 21.0, 166.0, 400.0, 1000.0, 100.0, 55.0, 90.0, 868.89, 10.0, 150.0, 300.0, 1600.0, 1425.0, 251.51, 1500.0, 500.0, 901.0, 610.0, 950.0, 475.0, 375.0, 8.0, 770.0, 65.5, 3500.0, 200.99, 101.0, 800.0, 777.0, 1355.0, 1200.0, 250.0, 600.0, 2800.0, 715.0, 349.99, 545.0, 236.0, 1100.0, 1600.0, 479.79, 226.51, 600.0, 900.0, 1050.0, 131.0, 1700.0, 500.0, 175.0, 250.0, 100.0, 80.0, 144.0, 500.0, 1100.0, 740.0, 1300.0, 500.0, 275.0, 277.75, 800.0, 550.0, 1.0, 300.0, 670.0, 1400.0, 1800.0, 310.0, 426.0, 150.0, 157.5, 888.0, 1625.0, 260.0, 870.0, 1050.0, 450.0, 225.0, 500.0, 257.55, 1800.0, 151.0, 211.0, 210.0, 850.0, 100.0, 450.0, 141.0, 75.99, 365.0, 350.0, 200.0, 500.0, 75.0, 200.0, 570.0, 71.0, 276.05, 150.0, 90.99, 20.0, 275.99, 700.0, 1800.0, 205.0, 750.0, 690.0, 350.0, 1580.0, 1750.0, 222.0, 20.0, 351.0, 302.9, 50.0, 823.0, 826.34, 3000.0, 50.0, 895.0, 251.0, 525.0, 263.0, 1100.0, 2050.0, 300.0, 2100.0, 100.0, 2100.0, 1400.0, 795.95, 60.0, 270.0, 278.75, 50.0, 300.0, 500.0, 800.0, 136.0, 821.0, 300.0, 2500.0, 200.0, 29.99, 154.38, 280.0, 95.0, 50.0, 2000.0, 670.0, 1600.0, 100.0, 1800.0, 350.0, 1800.0, 1524.99, 105.0, 70.99, 1100.0, 1.0, 5100.0, 2050.0, 850.0, 25.0, 280.0, 300.0, 50.0, 1550.0, 320.0, 211.0, 820.0, 275.0, 800.0, 1.0, 1.25, 1500.0, 80.0, 200.0, 250.0, 3800.0, 349.99, 100.0, 500.0, 249.99, 125.01, 405.0, 800.0, 251.0, 360.0, 1200.0, 450.01, 850.0, 1000.0, 1799.0, 710.0, 800.0, 2400.0, 3000.0, 900.0, 560.0, 186.0, 54.0, 200.0, 275.0, 176.0, 30.0, 1725.0, 800.0, 399.0, 150.0, 2275.0, 2000.0, 50.0, 412.53, 400.0, 350.0, 1599.0, 300.0, 202.5, 275.0, 215.0, 500.0, 400.01, 2150.0, 1400.0, 1.0, 76.0, 315.0, 325.0, 206.0, 550.0, 360.0, 150.0, 125.0, 110.0, 15.55, 5300.0, 600.0, 225.0, 455.0, 500.0, 119.51, 1405.0, 71.0, 406.0, 25.0, 111.0, 203.0, 751.0, 500.0, 420.0, 225.0, 500.0, 100.0, 260.0, 710.0, 1500.0, 951.0, 307.0, 500.0, 102.5, 1775.0, 900.0, 2100.0, 200.0, 1000.0, 2800.0, 20.0, 1100.0, 52.5, 1750.0, 165.0, 198.0, 850.0, 100.0, 1050.0, 76.56, 55.0, 831.0, 1455.99, 1450.0, 27.0, 92.5, 125.0, 120.5, 1100.0, 105.0, 380.0, 2025.0, 220.0, 10.5, 400.0, 150.0, 350.0, 490.0, 100.0, 301.0, 80.0, 180.0, 317.0, 821.0, 700.0, 999.99, 70.0, 435.0, 426.0, 720.0, 110.0, 150.01, 170.0, 299.0, 901.0, 1300.0, 125.0, 30.0, 1400.0, 1600.0, 135.0, 5.0, 800.0, 25.0, 1000.0, 225.0, 540.0, 50.0, 1400.0, 55.0, 1000.0, 306.0, 1000.0, 86.0, 400.0, 1500.0, 375.0, 350.0, 2395.0, 1350.0, 277.77, 700.0, 1850.0, 63.33, 456.0, 145.0, 250.0, 201.0, 300.0, 1200.0, 310.0, 1170.0, 150.0, 600.0, 601.0, 400.0, 80.0, 55.0, 450.0, 355.0, 251.0, 715.0, 820.0, 1460.0, 675.0, 111.0, 695.0, 278.0, 10.0, 650.0, 1855.0, 311.0, 500.0, 550.0, 30.0, 751.5, 124.51, 1500.0, 2325.0, 1350.0, 320.0, 295.0, 300.0, 227.5, 800.0, 12.22, 75.0, 155.0, 175.75, 811.0, 65.0, 550.0, 1705.0, 165.0, 70.0, 1025.0, 97.5, 50.0, 3000.0, 371.0, 770.0, 1650.0, 451.0, 250.0, 100.0, 890.0, 650.0, 252.5, 600.0, 1700.0, 650.0, 1200.0, 1000.0, 1000.0, 1013.99, 50.0, 915.0, 68.99, 165.0, 800.0, 505.78, 135.0, 10.0, 1925.0, 831.0, 360.0, 3000.0, 2300.0, 1500.0, 750.0, 1.0, 374.99, 321.0, 2450.0, 265.0, 52.0, 281.0, 750.0, 280.0, 2000.0, 425.0, 640.0, 58.0, 1250.0, 225.0, 701.0, 1675.0, 1050.0, 251.0, 455.0, 122.0, 572.06, 55.0, 5.0, 250.0, 315.0, 30.0, 2000.0, 320.0, 22.0, 306.88, 260.0, 78.5, 401.0, 1775.0, 113.5, 301.88, 100.0, 1025.0, 80.0, 801.0, 3.0, 2200.0, 1300.0, 5400.0, 520.0, 560.07, 1500.0, 725.0, 320.0, 155.0, 1100.0, 1850.0, 500.0, 360.0, 75.0, 1800.0, 901.0, 1424.99, 1226.0, 1.25, 751.01, 700.0, 1025.0, 680.0, 20.0, 425.0, 100.0, 150.0, 1035.0, 420.0, 1100.0, 387.0, 2150.0, 200.0, 1001.0, 1599.0, 220.0, 155.0, 300.0, 160.0, 1200.0, 430.0, 308.0, 300.0, 500.0, 120.0, 200.0, 210.0, 250.0, 441.0, 850.0, 179.5, 236.0, 100.0, 200.0, 2000.0, 120.5, 1000.0, 351.0, 840.0, 5.0, 188.0, 80.0, 930.0, 600.0, 375.0, 15.0, 650.0, 1035.0, 3100.0, 200.0, 1600.0, 155.5, 103.0, 260.0, 312.0, 1530.0, 1100.0, 850.0, 225.0, 150.0, 205.0, 275.0, 300.0, 100.0, 650.0, 350.0, 250.0, 1200.0, 100.99, 202.5, 1869.78, 2800.0, 800.0, 600.0, 1400.0, 1525.0, 530.0, 177.0, 510.0, 910.0, 100.0, 1500.0, 452.87, 1580.0, 115.5, 335.0, 161.0, 240.0, 600.0, 225.0, 99.0, 2350.0, 300.0, 250.0, 50.0, 400.0, 15.5, 2.22, 416.0, 250.0, 405.0, 150.0, 860.0, 100.0, 2000.0, 1000.0, 220.0, 801.0, 650.0, 59.0, 350.0, 576.0, 350.0, 102.5, 250.0, 501.01, 250.0, 1999.0, 5.0, 402.0, 85.0, 120.0, 320.99, 100.0, 170.0, 400.0, 1701.0, 171.0, 40.0, 405.0, 620.0, 60.0, 1695.0, 866.0, 50.0, 1350.0, 450.0, 901.0, 1200.0, 730.0, 5.0, 600.0, 623.26, 50.0, 250.0, 1300.0, 200.0, 374.0, 1000.0, 442.0, 10.0, 500.0, 150.0, 51.0, 175.0, 900.0, 1500.0, 395.0, 370.0, 999.0, 161.0, 1000.0, 501.0, 420.0, 35.0, 100.0, 369.0, 375.0, 1350.0, 150.0, 1200.0, 6.0, 1400.0, 42.99, 1025.0, 639.99, 375.0, 125.0, 350.0, 850.0, 15.0, 50.0, 1900.0, 522.01, 1300.0, 224.5, 1880.0, 1500.0, 130.0, 500.0, 446.0, 236.0, 1125.0, 160.0, 251.0, 100.0, 1.5, 424.0, 551.0, 1250.0, 1123.0, 430.0, 2.0, 630.0, 895.0, 1.0, 370.0, 20.0, 31.0, 220.0, 801.0, 1800.0, 2500.0, 27.0, 160.0, 228.0, 1455.0, 310.0, 1223.0, 127.0, 725.0, 99.0, 200.0, 1500.0, 400.0, 12.0, 1050.0, 650.0, 400.0, 200.0, 1401.0, 401.98, 200.0, 25.99, 1450.0, 1500.0, 33.0, 335.0, 225.0, 230.0, 500.0, 95.0, 291.0, 156.0, 250.0, 175.0, 1200.0, 125.0, 325.0, 350.0, 1550.0, 280.0, 117.0, 600.0, 2953.0, 350.0, 270.0, 70.0, 1775.0, 355.0, 98.0, 510.0, 1630.0, 721.0, 600.0, 407.0, 9.0, 159.0, 200.0, 151.0, 335.0, 66.0, 1038.99, 2200.0, 1800.0, 1725.0, 1100.0, 103.33, 74.0, 325.0, 1525.0, 197.5, 163.0, 600.0, 1650.0, 190.0, 1485.0, 1305.0, 1000.0, 1201.0, 300.0, 1000.0, 125.0, 905.45, 305.0, 300.0, 25.0, 310.99, 800.0, 1525.0, 380.0, 1.5, 1350.0, 100.0, 2569.77, 305.0, 1800.0, 185.0, 818.18, 475.0, 95.5, 1195.0, 1500.0, 390.0, 301.0, 100.0, 800.0, 1.0, 700.0, 150.0, 85.99, 200.0, 1200.0, 655.0, 900.0, 410.0, 2600.0, 1600.0, 1575.0, 91.0, 500.0, 120.0, 1800.0, 20.0, 1600.0, 250.0, 250.0, 235.0, 210.0, 75.0, 105.5, 125.5, 1750.0, 300.0, 110.0, 277.0, 300.01, 801.0, 901.0, 1825.0, 60.0, 504.0, 370.0, 155.0, 50.0, 131.0, 610.0, 163.5, 370.0, 300.0, 758.0, 1502.0, 1505.0, 50.0, 1150.0, 2.5, 701.0, 465.0, 60.0, 370.0, 1500.0, 80.0, 740.0, 450.0, 3050.0, 100.0, 1805.0, 450.0, 17.01, 250.0, 760.0, 53.01, 111.0, 87.99, 250.0, 566.99, 931.0, 110.0, 800.0, 20.0, 317.0, 525.0, 781.0, 165.5, 2700.0, 124.25, 205.0, 1875.0, 200.5, 999.0, 125.0, 700.0, 2100.0, 700.0, 355.0, 415.0, 1250.0, 27.0, 260.0, 2600.0, 700.0, 610.0, 760.0, 850.0, 374.99, 1800.0, 250.0, 1575.0, 275.0, 424.0, 2600.0, 800.0, 170.0, 1035.0, 25.0, 412.53, 1850.0, 1200.0, 850.0, 55.0, 50.0, 2000.0, 3.0, 375.0, 740.0, 15.5, 206.0, 30.0, 105.0, 75.0, 800.0, 390.0, 369.0, 600.0, 500.0, 30.0, 800.0, 1000.0, 572.06, 1400.0, 300.0, 370.0, 100.0, 850.0, 1300.0, 370.0, 500.0, 100.99, 277.77, 3800.0, 270.0, 35.0, 72.0, 800.0, 102.5, 401.07, 426.0, 720.0, 130.0, 360.0, 500.0, 1825.0, 450.0, 281.0, 166.0, 55.0, 751.0, 371.0, 1705.0, 823.0, 500.0, 150.0, 2325.0, 320.0, 1.5, 89.99, 136.0, 175.75, 600.0, 500.0, 895.0, 1000.0, 1500.0, 840.0, 1800.0, 175.0, 66.0, 710.0, 5.0, 1500.0, 90.0, 260.0, 750.0, 2395.0, 800.0, 490.0, 2500.0, 124.51, 1300.0, 1500.0, 840.0, 420.0, 1000.0, 1800.0, 1425.0, 50.0, 510.0, 171.0, 1500.0, 456.0, 177.0, 406.0, 500.0, 402.0, 1775.0, 110.0, 1485.0, 1700.0, 1850.0, 405.0, 186.0, 1455.0, 600.0, 125.0, 210.0, 5.0, 111.0, 670.0, 640.0, 1000.0, 375.0, 310.0, 770.0, 452.87, 160.0, 650.0, 2400.0, 95.0, 500.0, 226.51, 1500.0, 1.0, 40.0, 599.99, 1200.0, 1625.0, 901.0, 1599.0, 1100.0, 1400.0, 86.0, 600.0, 2450.0, 811.0, 251.0, 1195.0, 200.0, 501.01, 450.0, 350.0, 730.0, 3000.0, 355.0, 175.0, 300.0, 5400.0, 500.0, 1424.99, 700.0, 63.33, 301.0, 1350.0, 2200.0, 85.0, 1525.0, 226.0, 500.0, 1550.0, 202.5, 58.0, 800.0, 91.0, 202.5, 260.0, 220.0, 1400.0, 1000.0, 402.0, 1.5, 415.0, 545.0, 1800.0, 65.5, 100.0, 500.0, 300.0, 185.0, 750.0, 1505.0, 320.99, 1250.0, 161.0]}],\n",
       "                        {\"barmode\": \"overlay\", \"template\": {\"data\": {\"bar\": [{\"error_x\": {\"color\": \"#2a3f5f\"}, \"error_y\": {\"color\": \"#2a3f5f\"}, \"marker\": {\"line\": {\"color\": \"#E5ECF6\", \"width\": 0.5}}, \"type\": \"bar\"}], \"barpolar\": [{\"marker\": {\"line\": {\"color\": \"#E5ECF6\", \"width\": 0.5}}, \"type\": \"barpolar\"}], \"carpet\": [{\"aaxis\": {\"endlinecolor\": \"#2a3f5f\", \"gridcolor\": \"white\", \"linecolor\": \"white\", \"minorgridcolor\": \"white\", \"startlinecolor\": \"#2a3f5f\"}, \"baxis\": {\"endlinecolor\": \"#2a3f5f\", \"gridcolor\": \"white\", \"linecolor\": \"white\", \"minorgridcolor\": \"white\", \"startlinecolor\": \"#2a3f5f\"}, \"type\": \"carpet\"}], \"choropleth\": [{\"colorbar\": {\"outlinewidth\": 0, \"ticks\": \"\"}, \"type\": \"choropleth\"}], \"contour\": [{\"colorbar\": {\"outlinewidth\": 0, \"ticks\": \"\"}, \"colorscale\": [[0.0, \"#0d0887\"], [0.1111111111111111, \"#46039f\"], [0.2222222222222222, \"#7201a8\"], [0.3333333333333333, \"#9c179e\"], [0.4444444444444444, \"#bd3786\"], [0.5555555555555556, \"#d8576b\"], [0.6666666666666666, \"#ed7953\"], [0.7777777777777778, \"#fb9f3a\"], [0.8888888888888888, \"#fdca26\"], [1.0, \"#f0f921\"]], \"type\": \"contour\"}], \"contourcarpet\": [{\"colorbar\": {\"outlinewidth\": 0, \"ticks\": \"\"}, \"type\": \"contourcarpet\"}], \"heatmap\": [{\"colorbar\": {\"outlinewidth\": 0, \"ticks\": \"\"}, \"colorscale\": [[0.0, \"#0d0887\"], [0.1111111111111111, \"#46039f\"], [0.2222222222222222, \"#7201a8\"], [0.3333333333333333, \"#9c179e\"], [0.4444444444444444, \"#bd3786\"], [0.5555555555555556, \"#d8576b\"], [0.6666666666666666, \"#ed7953\"], [0.7777777777777778, \"#fb9f3a\"], [0.8888888888888888, \"#fdca26\"], [1.0, \"#f0f921\"]], \"type\": \"heatmap\"}], \"heatmapgl\": [{\"colorbar\": {\"outlinewidth\": 0, \"ticks\": \"\"}, \"colorscale\": [[0.0, \"#0d0887\"], [0.1111111111111111, \"#46039f\"], [0.2222222222222222, \"#7201a8\"], [0.3333333333333333, \"#9c179e\"], [0.4444444444444444, \"#bd3786\"], [0.5555555555555556, \"#d8576b\"], [0.6666666666666666, \"#ed7953\"], [0.7777777777777778, \"#fb9f3a\"], [0.8888888888888888, \"#fdca26\"], [1.0, \"#f0f921\"]], \"type\": \"heatmapgl\"}], \"histogram\": [{\"marker\": {\"colorbar\": {\"outlinewidth\": 0, \"ticks\": \"\"}}, \"type\": \"histogram\"}], \"histogram2d\": [{\"colorbar\": {\"outlinewidth\": 0, \"ticks\": \"\"}, \"colorscale\": [[0.0, \"#0d0887\"], [0.1111111111111111, \"#46039f\"], [0.2222222222222222, \"#7201a8\"], [0.3333333333333333, \"#9c179e\"], [0.4444444444444444, \"#bd3786\"], [0.5555555555555556, \"#d8576b\"], [0.6666666666666666, \"#ed7953\"], [0.7777777777777778, \"#fb9f3a\"], [0.8888888888888888, \"#fdca26\"], [1.0, \"#f0f921\"]], \"type\": \"histogram2d\"}], \"histogram2dcontour\": [{\"colorbar\": {\"outlinewidth\": 0, \"ticks\": \"\"}, \"colorscale\": [[0.0, \"#0d0887\"], [0.1111111111111111, \"#46039f\"], [0.2222222222222222, \"#7201a8\"], [0.3333333333333333, \"#9c179e\"], [0.4444444444444444, \"#bd3786\"], [0.5555555555555556, \"#d8576b\"], [0.6666666666666666, \"#ed7953\"], [0.7777777777777778, \"#fb9f3a\"], [0.8888888888888888, \"#fdca26\"], [1.0, \"#f0f921\"]], \"type\": \"histogram2dcontour\"}], \"mesh3d\": [{\"colorbar\": {\"outlinewidth\": 0, \"ticks\": \"\"}, \"type\": \"mesh3d\"}], \"parcoords\": [{\"line\": {\"colorbar\": {\"outlinewidth\": 0, \"ticks\": \"\"}}, \"type\": \"parcoords\"}], \"pie\": [{\"automargin\": true, \"type\": \"pie\"}], \"scatter\": [{\"marker\": {\"colorbar\": {\"outlinewidth\": 0, \"ticks\": \"\"}}, \"type\": \"scatter\"}], \"scatter3d\": [{\"line\": {\"colorbar\": {\"outlinewidth\": 0, \"ticks\": \"\"}}, \"marker\": {\"colorbar\": {\"outlinewidth\": 0, \"ticks\": \"\"}}, \"type\": \"scatter3d\"}], \"scattercarpet\": [{\"marker\": {\"colorbar\": {\"outlinewidth\": 0, \"ticks\": \"\"}}, \"type\": \"scattercarpet\"}], \"scattergeo\": [{\"marker\": {\"colorbar\": {\"outlinewidth\": 0, \"ticks\": \"\"}}, \"type\": \"scattergeo\"}], \"scattergl\": [{\"marker\": {\"colorbar\": {\"outlinewidth\": 0, \"ticks\": \"\"}}, \"type\": \"scattergl\"}], \"scattermapbox\": [{\"marker\": {\"colorbar\": {\"outlinewidth\": 0, \"ticks\": \"\"}}, \"type\": \"scattermapbox\"}], \"scatterpolar\": [{\"marker\": {\"colorbar\": {\"outlinewidth\": 0, \"ticks\": \"\"}}, \"type\": \"scatterpolar\"}], \"scatterpolargl\": [{\"marker\": {\"colorbar\": {\"outlinewidth\": 0, \"ticks\": \"\"}}, \"type\": \"scatterpolargl\"}], \"scatterternary\": [{\"marker\": {\"colorbar\": {\"outlinewidth\": 0, \"ticks\": \"\"}}, \"type\": \"scatterternary\"}], \"surface\": [{\"colorbar\": {\"outlinewidth\": 0, \"ticks\": \"\"}, \"colorscale\": [[0.0, \"#0d0887\"], [0.1111111111111111, \"#46039f\"], [0.2222222222222222, \"#7201a8\"], [0.3333333333333333, \"#9c179e\"], [0.4444444444444444, \"#bd3786\"], [0.5555555555555556, \"#d8576b\"], [0.6666666666666666, \"#ed7953\"], [0.7777777777777778, \"#fb9f3a\"], [0.8888888888888888, \"#fdca26\"], [1.0, \"#f0f921\"]], \"type\": \"surface\"}], \"table\": [{\"cells\": {\"fill\": {\"color\": \"#EBF0F8\"}, \"line\": {\"color\": \"white\"}}, \"header\": {\"fill\": {\"color\": \"#C8D4E3\"}, \"line\": {\"color\": \"white\"}}, \"type\": \"table\"}]}, \"layout\": {\"annotationdefaults\": {\"arrowcolor\": \"#2a3f5f\", \"arrowhead\": 0, \"arrowwidth\": 1}, \"coloraxis\": {\"colorbar\": {\"outlinewidth\": 0, \"ticks\": \"\"}}, \"colorscale\": {\"diverging\": [[0, \"#8e0152\"], [0.1, \"#c51b7d\"], [0.2, \"#de77ae\"], [0.3, \"#f1b6da\"], [0.4, \"#fde0ef\"], [0.5, \"#f7f7f7\"], [0.6, \"#e6f5d0\"], [0.7, \"#b8e186\"], [0.8, \"#7fbc41\"], [0.9, \"#4d9221\"], [1, \"#276419\"]], \"sequential\": [[0.0, \"#0d0887\"], [0.1111111111111111, \"#46039f\"], [0.2222222222222222, \"#7201a8\"], [0.3333333333333333, \"#9c179e\"], [0.4444444444444444, \"#bd3786\"], [0.5555555555555556, \"#d8576b\"], [0.6666666666666666, \"#ed7953\"], [0.7777777777777778, \"#fb9f3a\"], [0.8888888888888888, \"#fdca26\"], [1.0, \"#f0f921\"]], \"sequentialminus\": [[0.0, \"#0d0887\"], [0.1111111111111111, \"#46039f\"], [0.2222222222222222, \"#7201a8\"], [0.3333333333333333, \"#9c179e\"], [0.4444444444444444, \"#bd3786\"], [0.5555555555555556, \"#d8576b\"], [0.6666666666666666, \"#ed7953\"], [0.7777777777777778, \"#fb9f3a\"], [0.8888888888888888, \"#fdca26\"], [1.0, \"#f0f921\"]]}, \"colorway\": [\"#636efa\", \"#EF553B\", \"#00cc96\", \"#ab63fa\", \"#FFA15A\", \"#19d3f3\", \"#FF6692\", \"#B6E880\", \"#FF97FF\", \"#FECB52\"], \"font\": {\"color\": \"#2a3f5f\"}, \"geo\": {\"bgcolor\": \"white\", \"lakecolor\": \"white\", \"landcolor\": \"#E5ECF6\", \"showlakes\": true, \"showland\": true, \"subunitcolor\": \"white\"}, \"hoverlabel\": {\"align\": \"left\"}, \"hovermode\": \"closest\", \"mapbox\": {\"style\": \"light\"}, \"paper_bgcolor\": \"white\", \"plot_bgcolor\": \"#E5ECF6\", \"polar\": {\"angularaxis\": {\"gridcolor\": \"white\", \"linecolor\": \"white\", \"ticks\": \"\"}, \"bgcolor\": \"#E5ECF6\", \"radialaxis\": {\"gridcolor\": \"white\", \"linecolor\": \"white\", \"ticks\": \"\"}}, \"scene\": {\"xaxis\": {\"backgroundcolor\": \"#E5ECF6\", \"gridcolor\": \"white\", \"gridwidth\": 2, \"linecolor\": \"white\", \"showbackground\": true, \"ticks\": \"\", \"zerolinecolor\": \"white\"}, \"yaxis\": {\"backgroundcolor\": \"#E5ECF6\", \"gridcolor\": \"white\", \"gridwidth\": 2, \"linecolor\": \"white\", \"showbackground\": true, \"ticks\": \"\", \"zerolinecolor\": \"white\"}, \"zaxis\": {\"backgroundcolor\": \"#E5ECF6\", \"gridcolor\": \"white\", \"gridwidth\": 2, \"linecolor\": \"white\", \"showbackground\": true, \"ticks\": \"\", \"zerolinecolor\": \"white\"}}, \"shapedefaults\": {\"line\": {\"color\": \"#2a3f5f\"}}, \"ternary\": {\"aaxis\": {\"gridcolor\": \"white\", \"linecolor\": \"white\", \"ticks\": \"\"}, \"baxis\": {\"gridcolor\": \"white\", \"linecolor\": \"white\", \"ticks\": \"\"}, \"bgcolor\": \"#E5ECF6\", \"caxis\": {\"gridcolor\": \"white\", \"linecolor\": \"white\", \"ticks\": \"\"}}, \"title\": {\"x\": 0.05}, \"xaxis\": {\"automargin\": true, \"gridcolor\": \"white\", \"linecolor\": \"white\", \"ticks\": \"\", \"title\": {\"standoff\": 15}, \"zerolinecolor\": \"white\", \"zerolinewidth\": 2}, \"yaxis\": {\"automargin\": true, \"gridcolor\": \"white\", \"linecolor\": \"white\", \"ticks\": \"\", \"title\": {\"standoff\": 15}, \"zerolinecolor\": \"white\", \"zerolinewidth\": 2}}}, \"title\": {\"text\": \"bid\"}, \"yaxis\": {\"title\": {\"text\": \"Count\"}}},\n",
       "                        {\"responsive\": true}\n",
       "                    ).then(function(){\n",
       "                            \n",
       "var gd = document.getElementById('ceb0db25-8154-46e0-b687-d5c060d70c7f');\n",
       "var x = new MutationObserver(function (mutations, observer) {{\n",
       "        var display = window.getComputedStyle(gd).display;\n",
       "        if (!display || display === 'none') {{\n",
       "            console.log([gd, 'removed!']);\n",
       "            Plotly.purge(gd);\n",
       "            observer.disconnect();\n",
       "        }}\n",
       "}});\n",
       "\n",
       "// Listen for the removal of the full notebook cells\n",
       "var notebookContainer = gd.closest('#notebook-container');\n",
       "if (notebookContainer) {{\n",
       "    x.observe(notebookContainer, {childList: true});\n",
       "}}\n",
       "\n",
       "// Listen for the clearing of the current output cell\n",
       "var outputEl = gd.closest('.output');\n",
       "if (outputEl) {{\n",
       "    x.observe(outputEl, {childList: true});\n",
       "}}\n",
       "\n",
       "                        })\n",
       "                };\n",
       "                });\n",
       "            </script>\n",
       "        </div>"
      ]
     },
     "metadata": {},
     "output_type": "display_data"
    },
    {
     "name": "stdout",
     "output_type": "stream",
     "text": [
      "-*--*--*--*--*--*--*--*--*--*--*--*--*--*--*--*--*--*--*--*--*--*--*--*--*-\n",
      "bid mean :  647.6525391591096\n",
      "bid var  :  491000.631057856\n",
      "bid skew (should be 0 for normal distribution) :  2.183123579342089\n",
      "bid kurt (should be 0 for normal distribution) :  7.489135419933541\n",
      "-*--*--*--*--*--*--*--*--*--*--*--*--*--*--*--*--*--*--*--*--*--*--*--*--*-\n"
     ]
    }
   ],
   "source": [
    "plotBarCat(df,df.columns[1])"
   ]
  },
  {
   "cell_type": "code",
   "execution_count": 17,
   "metadata": {},
   "outputs": [
    {
     "data": {
      "application/vnd.plotly.v1+json": {
       "config": {
        "linkText": "Export to plot.ly",
        "plotlyServerURL": "https://plot.ly",
        "showLink": false
       },
       "data": [
        {
         "opacity": 0.75,
         "type": "histogram",
         "x": [
          6.999456019,
          1.669618056,
          6.917986111,
          3.107013889,
          2.721319444,
          2.481134259,
          6.591678241,
          5.727453704,
          0.328599537,
          0.322893519,
          5.021018519,
          0.191886574,
          1.812604167,
          2.317083333,
          2.975451389,
          2.998171296,
          6.999756944,
          6.969768519,
          1.202175926,
          0.771655093,
          0.618865741,
          2.2566435190000003,
          0.7719444440000001,
          4.277453704,
          6.85962963,
          6.797303241,
          1.047800926,
          6.766909722,
          6.389699074,
          6.998645832999999,
          2.303009259,
          3.42125,
          6.998587962999999,
          1.464166667,
          5.172928241,
          1.742581019,
          6.707511574,
          0.941631944,
          0.695543982,
          6.97,
          6.935856482,
          6.122256944,
          3.758298611,
          1.252407407,
          2.803668982,
          6.997361111,
          6.9986574070000005,
          3.069768519,
          2.097326389,
          0.652928241,
          0.490625,
          3.556747685,
          0.8290277779999999,
          6.99806713,
          0.145636574,
          3.394571759,
          6.531840278,
          3.589583333,
          6.926388889,
          6.912986111,
          6.998680556,
          6.866493056,
          1.847523148,
          4.120439815,
          6.989247685,
          6.875289352,
          6.996423611,
          5.027141203999999,
          2.076585648,
          2.043171296,
          0.546111111,
          6.993900462999999,
          0.427476852,
          2.032847222,
          1.093888889,
          6.999236111,
          6.551331019,
          3.500949074,
          0.692291667,
          6.876018519,
          6.1708564820000005,
          1.487418982,
          5.326296296000001,
          6.7015625,
          6.741886574,
          0.958321759,
          1.107847222,
          6.265497685,
          0.889212963,
          6.269756944,
          4.669085648,
          3.795231482,
          1.45193287,
          0.557581019,
          4.252847222,
          3.585949074,
          6.876134259,
          4.357280093,
          3.316689815,
          2.040173611,
          1.949930556,
          2.400150463,
          4.3020254630000005,
          3.188993056,
          0.811689815,
          5.860486111,
          2.672916667,
          5.861041667,
          2.135023148,
          5.550706019,
          3.499895833,
          6.922604167,
          1.335243056,
          0.433773148,
          5.346875,
          0.812210648,
          1.68912037,
          0.510659722,
          6.390439815,
          6.99931713,
          0.504884259,
          0.6935416670000001,
          6.568981482000001,
          4.411990741,
          3.862662037,
          6.999814815,
          0.732152778,
          0.024108796,
          1.129259259,
          6.994965278,
          6.270949074,
          6.524965278,
          6.708425926,
          0.903287037,
          6.899537037000001,
          1.17619213,
          6.998090277999999,
          0.555960648,
          6.8762962960000005,
          3.825833333,
          0.009444444,
          1.583263889,
          6.857777777999999,
          5.168009259,
          2.317592593,
          2.509155093,
          2.27255787,
          6.9972337960000015,
          6.950601852,
          6.381053241,
          1.459583333,
          5.85900463,
          6.998888889,
          4.07244213,
          1.545868056,
          6.2012962960000015,
          6.8574768520000005,
          6.901458333,
          5.859907407000001,
          6.240810185,
          1.847731482,
          6.9903009260000015,
          0.141585648,
          1.163784722,
          6.550810185,
          1.232893519,
          4.687141204,
          6.996388889,
          0.944976852,
          5.055069444,
          6.9222916670000005,
          0.13681713,
          0.8263888890000001,
          0.765439815,
          0.26379629600000004,
          1.451539352,
          3.620185185,
          5.690011574,
          3.175509259,
          5.221388889,
          5.660428241,
          0.136956019,
          1.732013889,
          3.831967593,
          6.995115741,
          6.970740741,
          6.96931713,
          6.864131944,
          0.137349537,
          3.500474537,
          4.997256944,
          3.494976852,
          5.860787037000001,
          6.902256944,
          2.161064815,
          0.201400463,
          3.4209606480000003,
          0.532986111,
          4.1657986110000005,
          6.901898148,
          5.95400463,
          6.273333332999999,
          5.557037037000001,
          1.578865741,
          1.759444444,
          2.609224537,
          0.943923611,
          4.967384259,
          4.382673611,
          6.999861111,
          1.093530093,
          6.996203704,
          0.109918982,
          1.34556713,
          2.582268519,
          0.8673611109999999,
          3.302951389,
          2.041493056,
          1.858113426,
          3.515127315,
          6.93912037,
          5.860358796,
          0.792835648,
          1.981377315,
          6.617673611,
          6.983784722,
          1.325173611,
          3.931574074,
          6.99869213,
          1.200347222,
          5.217349537,
          6.658171296,
          2.15443287,
          0.075543982,
          6.381180556,
          6.872152777999999,
          5.0095486110000005,
          2.17931713,
          5.401400463,
          1.675671296,
          6.899479167000001,
          2.452511574,
          5.865208332999999,
          4.906643519,
          6.970914352,
          0.755925926,
          2.803252315,
          0.611944444,
          0.951736111,
          6.715520832999999,
          6.901689815,
          6.999456019,
          4.768391203999999,
          6.996122685,
          1.911875,
          0.085856481,
          6.902777778,
          6.971087963,
          6.997106482,
          2.672418982,
          5.137731482,
          6.911099537,
          4.751516204,
          6.2683912039999985,
          3.909953704,
          2.55193287,
          4.374398148,
          4.239641204,
          1.042256944,
          6.989016204,
          1.441736111,
          0.3970949070000001,
          6.925520832999999,
          6.899050926,
          4.662719907,
          4.992615741,
          6.999965278,
          5.301053241,
          2.940393519,
          6.892916667000001,
          2.778622685,
          5.1615625,
          6.966412037,
          6.990416667000001,
          6.9853819439999985,
          0.007534722,
          0.141863426,
          0.7938425929999999,
          6.827013889,
          0.629965278,
          6.613993056,
          6.999386574,
          6.926238426,
          0.363368056,
          6.066631944,
          4.246967593,
          5.6669444439999985,
          2.916481482,
          6.971319444,
          6.9204745370000005,
          5.170520833,
          0.150821759,
          3.514224537,
          0.999016204,
          0.6208449070000001,
          6.9664236110000015,
          6.693645833,
          0.7672569440000001,
          6.99537037,
          5.842372685,
          0.154293982,
          6.99537037,
          5.8688657410000005,
          6.389791667000001,
          5.852476852000001,
          6.7063310189999985,
          5.86869213,
          1.849641204,
          6.845532407,
          6.9734375,
          1.7324189819999998,
          6.845462962999999,
          6.996944444,
          4.747604167,
          0.482662037,
          3.742210648,
          0.31349537,
          3.789189815,
          6.629907407,
          0.945451389,
          6.796203704,
          0.272546296,
          6.989918982000001,
          0.111365741,
          2.275601852,
          6.900150462999999,
          3.7325,
          0.075972222,
          0.429131944,
          1.071469907,
          1.047106482,
          4.711261574,
          6.998564815,
          0.554456019,
          1.809444444,
          1.163912037,
          0.7255092590000001,
          0.187997685,
          6.926469907,
          6.008148147999999,
          6.99994213,
          6.9941319439999985,
          6.991689815,
          6.998217593,
          1.583425926,
          6.87587963,
          5.792916667,
          0.53068287,
          5.7440740739999985,
          1.434375,
          3.730636574,
          0.5829050929999999,
          6.950636574,
          1.963518519,
          0.635069444,
          1.689282407,
          6.749803241,
          3.963217593,
          6.332222222,
          6.9728009260000015,
          2.326053241,
          4.34431713,
          1.350983796,
          6.965821759,
          2.042731482,
          5.627303241,
          0.338900463,
          3.60162037,
          5.627604167,
          0.5523379629999999,
          1.6252083330000002,
          0.400613426,
          0.918321759,
          0.943344907,
          6.999502315,
          6.999513889,
          6.714780093,
          3.576678241,
          5.051759259,
          1.066226852,
          6.999872685,
          5.327824074,
          3.4212384260000004,
          1.339814815,
          5.735636574,
          0.78994213,
          6.746631944,
          5.688854167000001,
          6.318599537000001,
          6.90474537,
          4.88494213,
          0.840844907,
          1.989768519,
          5.172175926,
          1.7895833330000002,
          5.741145832999999,
          6.99912037,
          2.609513889,
          0.915034722,
          6.875833332999999,
          6.724594907,
          6.992465277999999,
          4.662476852,
          6.715324074,
          2.756712963,
          4.907199073999999,
          6.999722222000001,
          6.993206019,
          5.102152778,
          6.99880787,
          5.667141204,
          0.943541667,
          5.7339699070000005,
          4.250902778,
          6.858229167,
          1.235729167,
          1.520891204,
          6.858541667000001,
          6.570625,
          3.5861805560000004,
          0.866377315,
          6.722731482,
          0.072824074,
          2.047256944,
          1.237418982,
          6.999803241,
          0.287048611,
          4.157060185,
          6.420590278,
          0.266319444,
          0.7722569440000001,
          0.523796296,
          6.9954513889999985,
          4.602210648,
          5.7007407410000015,
          3.186608796,
          6.732326389,
          6.999895832999999,
          3.86212963,
          6.90818287,
          6.777314815,
          6.959375,
          2.079502315,
          6.999953704,
          1.689386574,
          5.853472222000001,
          0.565347222,
          0.566319444,
          1.021006944,
          6.960775462999999,
          6.919849537,
          2.605787037,
          0.6215856479999999,
          2.742210648,
          4.685173611000001,
          4.907604167,
          1.698831019,
          0.949490741,
          2.444259259,
          6.890914352,
          2.511030093,
          2.042453704,
          6.949907407,
          0.7112037040000001,
          6.813483796,
          3.962627315,
          6.926550926,
          1.040775463,
          6.777083332999999,
          3.638402778,
          4.8854282410000005,
          1.5376041669999998,
          1.233576389,
          2.49869213,
          5.8648611110000015,
          6.998449074,
          5.226377315,
          6.9996875,
          2.103541667,
          6.999212963,
          6.999351852,
          1.811134259,
          6.999895832999999,
          1.024884259,
          0.190520833,
          6.568784722,
          6.972002315,
          5.550173611,
          6.999444444,
          6.390127315,
          5.835011574,
          3.574965278,
          3.589293982,
          0.33734953700000003,
          6.989085648,
          5.735868056,
          0.878877315,
          5.627719907,
          1.1590625,
          2.041759259,
          5.859490741,
          6.996168982,
          0.701574074,
          1.789259259,
          6.270405093,
          0.954039352,
          6.901979167,
          6.1475,
          6.95150463,
          6.167222222,
          1.150185185,
          3.733784722,
          1.368425926,
          6.999930556,
          1.850300926,
          6.6584259260000005,
          6.747048611,
          6.7012384260000015,
          0.958090278,
          6.988194444,
          0.645277778,
          0.465277778,
          6.998009259,
          6.999814815,
          6.8690162039999985,
          2.760138889,
          6.971261574,
          6.858935185,
          3.544513889,
          0.278171296,
          5.556261574,
          4.885543982,
          6.995868056,
          1.3868981480000002,
          5.865543982,
          4.885069444,
          6.884861111,
          6.9346180560000015,
          1.167997685,
          4.602731482,
          4.710902778,
          6.39,
          2.082511574,
          6.726226852000001,
          2.742372685,
          6.845324074,
          1.288726852,
          0.441099537,
          6.940092592999999,
          2.141064815,
          6.805081019,
          2.078865741,
          0.465069444,
          1.142719907,
          6.972418982000001,
          1.335393519,
          0.36056713,
          6.958958332999999,
          4.992175926,
          6.999953704,
          6.628865741,
          0.401643519,
          6.985,
          5.095671296,
          6.785949074,
          2.668310185,
          0.655983796,
          6.000798611,
          1.3940393519999998,
          6.996539352,
          0.14969907400000002,
          6.644918982,
          2.049363426,
          6.933402778,
          4.99806713,
          6.747407407000001,
          5.065821758999999,
          0.273854167,
          2.985787037,
          0.52869213,
          3.576863426,
          2.006597222,
          3.601122685,
          6.983425926000002,
          0.754965278,
          1.154907407,
          1.107407407,
          4.171782407,
          6.390381944,
          0.432349537,
          5.622326389,
          0.287175926,
          3.5546759260000003,
          6.99505787,
          0.167743056,
          6.709328704,
          1.251979167,
          0.942418982,
          4.146423611,
          6.975428241,
          1.020266204,
          2.391608796,
          6.858981482000001,
          2.871712963,
          5.32587963,
          6.294849537,
          1.434699074,
          6.473425926,
          3.024513889,
          0.942731482,
          6.188819444,
          6.999803241,
          1.14119213,
          2.443969907,
          3.452164352,
          0.941956019,
          0.7293865740000001,
          6.725752315,
          3.5011805560000004,
          6.995046296,
          2.256782407,
          6.999953704,
          2.598113426,
          0.247395833,
          0.387523148,
          4.407638888999999,
          1.351145833,
          3.442638889,
          1.941678241,
          6.966701389,
          1.813831019,
          6.99869213,
          6.994675926,
          6.270763889,
          1.812233796,
          4.684768519,
          5.937858796,
          2.038819444,
          6.776168982000001,
          6.999189815,
          6.795844907,
          2.082592593,
          6.651747685,
          6.998043982,
          5.716655093,
          6.990393519,
          1.623935185,
          4.006539352,
          6.9682291670000005,
          0.729780093,
          6.432291667,
          6.999641204,
          6.99994213,
          4.852013889,
          6.3133564820000005,
          0.998275463,
          1.943020833,
          0.010775463,
          1.506747685,
          0.516678241,
          6.999675926,
          3.482650463,
          6.496076389,
          3.997199074,
          5.055335648,
          2.108576389,
          2.076805556,
          6.999641204,
          6.126990741,
          6.999571759,
          6.270590277999999,
          0.618831019,
          6.629293982,
          5.753009259,
          3.0737962960000003,
          6.745844907,
          1.387256944,
          5.868344907000001,
          4.301759259,
          3.761122685,
          6.333206019,
          6.997326389,
          6.995081019,
          6.926701389,
          2.01806713,
          1.670219907,
          6.865856482000001,
          1.675358796,
          0.610405093,
          6.9928125,
          6.452592592999999,
          2.338368056,
          3.106516204,
          6.967928241,
          3.106331019,
          6.621226852,
          6.296018519,
          6.7259375,
          4.201655093,
          1.857928241,
          6.790578704,
          3.420474537,
          2.72244213,
          4.684444444,
          6.314907407000001,
          2.8407986110000003,
          3.514351852,
          6.978900463,
          5.007708333,
          0.267766204,
          6.999814815,
          3.82494213,
          6.999618056,
          2.608287037,
          6.121921296,
          1.789050926,
          3.328460648,
          6.763576389,
          5.868541667000001,
          2.7971875,
          6.98380787,
          6.998668982000001,
          1.699212963,
          6.981226852000001,
          6.98662037,
          5.235300926,
          2.779965278,
          6.849050926,
          6.970324074,
          0.95818287,
          6.694143519,
          1.060208333,
          5.835648148,
          2.460752315,
          3.653599537,
          5.082615741000001,
          2.452164352,
          2.303888889,
          6.180613426,
          6.973958333,
          5.752372685,
          0.552025463,
          1.744780093,
          6.7954282410000015,
          0.757233796,
          0.943726852,
          3.445891204,
          0.8287615740000001,
          2.338159722,
          6.904444444,
          0.300196759,
          0.226064815,
          3.453657407,
          6.951793982000001,
          0.911539352,
          0.16797453699999998,
          0.090590278,
          3.614803241,
          0.272731482,
          0.995972222,
          2.303298611,
          0.812708333,
          0.761840278,
          3.3953587960000005,
          5.009791667,
          2.047569444,
          6.747928241,
          5.741365741,
          2.664143519,
          5.804409722000001,
          5.865474537000001,
          0.635393519,
          0.092662037,
          6.099710647999999,
          3.514502315,
          5.6897685189999985,
          0.476828704,
          6.876053241,
          2.049733796,
          0.588113426,
          3.32912037,
          6.993854167,
          1.91255787,
          6.993009259,
          6.700578704,
          2.721967593,
          1.395208333,
          0.13068287,
          2.656064815,
          6.989652778,
          6.8579861110000016,
          1.141377315,
          6.965625,
          0.147511574,
          6.910462963,
          6.995081019,
          0.400289352,
          5.171527778,
          2.480289352,
          5.216215278,
          3.500289352,
          0.15125,
          5.512766204,
          5.62744213,
          4.9928125,
          3.106736111,
          6.457627315,
          1.583553241,
          6.972199074,
          1.14181713,
          6.971666667,
          2.5870833330000003,
          5.633726852000001,
          0.276122685,
          6.808252315,
          6.796203704,
          0.042384259,
          1.260833333,
          1.319351852,
          1.365474537,
          2.385532407,
          1.585104167,
          4.3705092589999985,
          6.767731482,
          0.287395833,
          2.109421296,
          4.050902778,
          5.216435185,
          2.9859375,
          6.121782407,
          1.435092593,
          0.547523148,
          6.090520832999999,
          4.8852083330000005,
          2.96974537,
          0.619456019,
          0.653252315,
          4.284895833,
          0.644826389,
          1.0715625,
          5.329074073999999,
          6.917534722,
          6.750231482,
          6.999131944,
          1.4639467590000002,
          6.917743056,
          1.5026157409999998,
          4.8849305560000005,
          6.390208333,
          6.874178241,
          5.182476852,
          2.744398148,
          4.997476852,
          3.074016204,
          5.913217593,
          1.112638889,
          6.864247685,
          1.989212963,
          4.988738426,
          2.913680556,
          2.141469907,
          6.850578704,
          6.790925926,
          5.976354167,
          6.9003240739999985,
          0.91849537,
          6.357337962999999,
          5.326076389,
          0.281099537,
          6.992071759,
          1.94130787,
          6.671435185,
          6.7252199070000005,
          2.597962963,
          0.952615741,
          6.9512268520000005,
          6.725011574,
          6.981203704,
          0.659594907,
          4.006134259,
          6.341226852,
          6.9111805560000015,
          1.889166667,
          6.931550926,
          6.999699074,
          3.212673611,
          5.5569560189999985,
          0.6914236109999999,
          2.607662037,
          3.684027778,
          6.996203704,
          6.983576389,
          0.8498842590000001,
          3.732268519,
          0.894398148,
          4.893564815,
          6.929108796,
          6.951759259,
          6.724849537000001,
          3.38369213,
          4.603530093,
          5.229224537,
          6.982673611,
          1.142175926,
          6.995266204,
          4.8853125,
          1.830590278,
          6.993738426,
          0.291574074,
          3.997002315,
          0.652789352,
          5.9545138889999984,
          0.7199884259999999,
          1.441921296,
          5.864571759,
          4.005578704,
          0.121770833,
          5.303518519,
          6.999027777999999,
          6.845104167000001,
          6.996527778,
          4.57599537,
          6.558703704,
          6.875,
          2.498414352,
          4.609212963,
          1.778738426,
          1.140810185,
          3.5007986110000004,
          5.472696759,
          6.390266204,
          5.736226852000001,
          1.3514120369999998,
          6.906655093,
          1.071377315,
          3.58662037,
          6.675,
          1.322604167,
          6.998831019,
          4.071666667,
          6.962210647999999,
          1.35619213,
          0.518877315,
          0.5548842589999999,
          6.691747685,
          3.129074074,
          1.604525463,
          6.689583333,
          5.119386574,
          1.609444444,
          0.137222222,
          3.931018519,
          0.996331019,
          1.5837037040000002,
          0.844247685,
          3.070208333,
          0.16836805600000002,
          0.120775463,
          6.998680556,
          5.941145832999999,
          3.420983796,
          4.400949074,
          6.995219907,
          6.99974537,
          5.107673611,
          6.912708332999999,
          1.293599537,
          3.611168982,
          6.7363194439999985,
          1.811805556,
          6.719444444,
          6.898263889,
          0.533368056,
          1.689293982,
          6.264699074,
          0.975729167,
          6.95287037,
          1.131134259,
          3.5853125,
          2.0421875,
          1.902349537,
          6.975810185,
          1.537893519,
          4.201203704,
          6.997106482,
          6.355300926,
          6.999814815,
          3.4996875,
          6.997465278,
          6.567638889,
          6.271122685,
          6.901273148,
          6.995763889,
          6.9953587960000005,
          0.998541667,
          3.236018519,
          6.9654861110000015,
          0.951840278,
          0.4128125,
          6.917569444,
          6.998680556,
          6.995763889,
          6.689583333,
          6.898263889,
          0.999016204,
          5.556261574,
          6.875,
          2.8407986110000003,
          6.845104167000001,
          0.272546296,
          2.656064815,
          5.303518519,
          0.8263888890000001,
          1.789050926,
          6.776168982000001,
          0.53068287,
          3.742210648,
          6.959375,
          5.326296296000001,
          6.9682291670000005,
          6.420590278,
          2.481134259,
          4.407638888999999,
          0.14969907400000002,
          6.708425926,
          6.996388889,
          1.675358796,
          4.711261574,
          2.49869213,
          1.042256944,
          0.754965278,
          2.0421875,
          6.995266204,
          3.614803241,
          6.008148147999999,
          1.759444444,
          1.520891204,
          0.958090278,
          6.973958333,
          6.805081019,
          3.7325,
          6.568981482000001,
          6.904444444,
          0.141585648,
          6.999513889,
          0.944976852,
          0.5548842589999999,
          1.5376041669999998,
          0.516678241,
          6.90818287,
          6.999386574,
          4.8849305560000005,
          0.16797453699999998,
          6.989247685,
          0.811689815,
          1.350983796,
          3.188993056,
          6.993206019,
          5.102152778,
          0.588113426,
          0.554456019,
          1.047800926,
          6.962210647999999,
          6.849050926,
          4.885069444,
          0.433773148,
          1.066226852,
          3.730636574,
          1.1590625,
          3.574965278,
          3.931574074,
          1.202175926,
          6.7954282410000015,
          6.9996875,
          6.958958332999999,
          0.13068287,
          6.265497685,
          6.901689815,
          5.550173611,
          1.4639467590000002,
          5.055069444,
          6.995081019,
          0.266319444,
          5.7007407410000015,
          6.966701389,
          5.512766204,
          6.7015625,
          6.790925926,
          3.963217593,
          0.267766204,
          0.8287615740000001,
          6.390439815,
          6.917569444,
          2.2566435190000003,
          6.999895832999999,
          0.7672569440000001,
          6.99912037,
          5.62744213,
          6.998449074,
          2.049363426,
          6.808252315,
          3.795231482,
          0.911539352,
          2.047256944,
          4.374398148,
          3.862662037,
          0.482662037,
          6.999571759,
          5.868541667000001,
          1.142175926,
          6.999953704,
          6.126990741,
          5.792916667,
          6.240810185,
          6.999814815,
          6.874178241,
          3.58662037,
          6.981203704,
          5.859907407000001,
          2.006597222,
          2.338368056,
          5.8688657410000005,
          1.583553241,
          0.145636574,
          1.235729167,
          3.499895833,
          0.465069444,
          6.813483796,
          3.620185185,
          4.710902778,
          3.442638889,
          4.684768519,
          5.221388889,
          6.899537037000001,
          5.753009259,
          3.106736111,
          1.857928241,
          6.99537037,
          6.997106482,
          3.452164352,
          4.07244213,
          5.226377315,
          0.400289352,
          2.7971875,
          6.866493056,
          1.506747685,
          6.995115741,
          4.250902778,
          6.629907407,
          6.872152777999999,
          3.3953587960000005,
          6.9954513889999985,
          2.317592593,
          6.995868056,
          6.999444444,
          6.890914352,
          6.982673611,
          0.7199884259999999,
          3.514351852,
          4.1657986110000005,
          5.557037037000001,
          6.694143519,
          5.627719907,
          5.182476852,
          3.107013889,
          4.768391203999999,
          6.933402778,
          0.024108796,
          4.171782407,
          2.582268519,
          2.079502315,
          4.8853125,
          0.995972222,
          6.85962963,
          6.876018519,
          2.076805556,
          2.721319444,
          4.57599537,
          6.917534722,
          5.550706019,
          6.39,
          3.825833333,
          6.996527778,
          6.796203704,
          5.716655093,
          0.840844907,
          2.452511574,
          1.368425926,
          6.999756944,
          0.8498842590000001,
          6.9654861110000015,
          6.950601852,
          5.860787037000001,
          1.17619213,
          0.247395833,
          4.997256944,
          0.611944444,
          6.766909722,
          3.544513889,
          1.5837037040000002,
          2.608287037,
          6.8579861110000016,
          0.226064815
         ]
        }
       ],
       "layout": {
        "barmode": "overlay",
        "template": {
         "data": {
          "bar": [
           {
            "error_x": {
             "color": "#2a3f5f"
            },
            "error_y": {
             "color": "#2a3f5f"
            },
            "marker": {
             "line": {
              "color": "#E5ECF6",
              "width": 0.5
             }
            },
            "type": "bar"
           }
          ],
          "barpolar": [
           {
            "marker": {
             "line": {
              "color": "#E5ECF6",
              "width": 0.5
             }
            },
            "type": "barpolar"
           }
          ],
          "carpet": [
           {
            "aaxis": {
             "endlinecolor": "#2a3f5f",
             "gridcolor": "white",
             "linecolor": "white",
             "minorgridcolor": "white",
             "startlinecolor": "#2a3f5f"
            },
            "baxis": {
             "endlinecolor": "#2a3f5f",
             "gridcolor": "white",
             "linecolor": "white",
             "minorgridcolor": "white",
             "startlinecolor": "#2a3f5f"
            },
            "type": "carpet"
           }
          ],
          "choropleth": [
           {
            "colorbar": {
             "outlinewidth": 0,
             "ticks": ""
            },
            "type": "choropleth"
           }
          ],
          "contour": [
           {
            "colorbar": {
             "outlinewidth": 0,
             "ticks": ""
            },
            "colorscale": [
             [
              0,
              "#0d0887"
             ],
             [
              0.1111111111111111,
              "#46039f"
             ],
             [
              0.2222222222222222,
              "#7201a8"
             ],
             [
              0.3333333333333333,
              "#9c179e"
             ],
             [
              0.4444444444444444,
              "#bd3786"
             ],
             [
              0.5555555555555556,
              "#d8576b"
             ],
             [
              0.6666666666666666,
              "#ed7953"
             ],
             [
              0.7777777777777778,
              "#fb9f3a"
             ],
             [
              0.8888888888888888,
              "#fdca26"
             ],
             [
              1,
              "#f0f921"
             ]
            ],
            "type": "contour"
           }
          ],
          "contourcarpet": [
           {
            "colorbar": {
             "outlinewidth": 0,
             "ticks": ""
            },
            "type": "contourcarpet"
           }
          ],
          "heatmap": [
           {
            "colorbar": {
             "outlinewidth": 0,
             "ticks": ""
            },
            "colorscale": [
             [
              0,
              "#0d0887"
             ],
             [
              0.1111111111111111,
              "#46039f"
             ],
             [
              0.2222222222222222,
              "#7201a8"
             ],
             [
              0.3333333333333333,
              "#9c179e"
             ],
             [
              0.4444444444444444,
              "#bd3786"
             ],
             [
              0.5555555555555556,
              "#d8576b"
             ],
             [
              0.6666666666666666,
              "#ed7953"
             ],
             [
              0.7777777777777778,
              "#fb9f3a"
             ],
             [
              0.8888888888888888,
              "#fdca26"
             ],
             [
              1,
              "#f0f921"
             ]
            ],
            "type": "heatmap"
           }
          ],
          "heatmapgl": [
           {
            "colorbar": {
             "outlinewidth": 0,
             "ticks": ""
            },
            "colorscale": [
             [
              0,
              "#0d0887"
             ],
             [
              0.1111111111111111,
              "#46039f"
             ],
             [
              0.2222222222222222,
              "#7201a8"
             ],
             [
              0.3333333333333333,
              "#9c179e"
             ],
             [
              0.4444444444444444,
              "#bd3786"
             ],
             [
              0.5555555555555556,
              "#d8576b"
             ],
             [
              0.6666666666666666,
              "#ed7953"
             ],
             [
              0.7777777777777778,
              "#fb9f3a"
             ],
             [
              0.8888888888888888,
              "#fdca26"
             ],
             [
              1,
              "#f0f921"
             ]
            ],
            "type": "heatmapgl"
           }
          ],
          "histogram": [
           {
            "marker": {
             "colorbar": {
              "outlinewidth": 0,
              "ticks": ""
             }
            },
            "type": "histogram"
           }
          ],
          "histogram2d": [
           {
            "colorbar": {
             "outlinewidth": 0,
             "ticks": ""
            },
            "colorscale": [
             [
              0,
              "#0d0887"
             ],
             [
              0.1111111111111111,
              "#46039f"
             ],
             [
              0.2222222222222222,
              "#7201a8"
             ],
             [
              0.3333333333333333,
              "#9c179e"
             ],
             [
              0.4444444444444444,
              "#bd3786"
             ],
             [
              0.5555555555555556,
              "#d8576b"
             ],
             [
              0.6666666666666666,
              "#ed7953"
             ],
             [
              0.7777777777777778,
              "#fb9f3a"
             ],
             [
              0.8888888888888888,
              "#fdca26"
             ],
             [
              1,
              "#f0f921"
             ]
            ],
            "type": "histogram2d"
           }
          ],
          "histogram2dcontour": [
           {
            "colorbar": {
             "outlinewidth": 0,
             "ticks": ""
            },
            "colorscale": [
             [
              0,
              "#0d0887"
             ],
             [
              0.1111111111111111,
              "#46039f"
             ],
             [
              0.2222222222222222,
              "#7201a8"
             ],
             [
              0.3333333333333333,
              "#9c179e"
             ],
             [
              0.4444444444444444,
              "#bd3786"
             ],
             [
              0.5555555555555556,
              "#d8576b"
             ],
             [
              0.6666666666666666,
              "#ed7953"
             ],
             [
              0.7777777777777778,
              "#fb9f3a"
             ],
             [
              0.8888888888888888,
              "#fdca26"
             ],
             [
              1,
              "#f0f921"
             ]
            ],
            "type": "histogram2dcontour"
           }
          ],
          "mesh3d": [
           {
            "colorbar": {
             "outlinewidth": 0,
             "ticks": ""
            },
            "type": "mesh3d"
           }
          ],
          "parcoords": [
           {
            "line": {
             "colorbar": {
              "outlinewidth": 0,
              "ticks": ""
             }
            },
            "type": "parcoords"
           }
          ],
          "pie": [
           {
            "automargin": true,
            "type": "pie"
           }
          ],
          "scatter": [
           {
            "marker": {
             "colorbar": {
              "outlinewidth": 0,
              "ticks": ""
             }
            },
            "type": "scatter"
           }
          ],
          "scatter3d": [
           {
            "line": {
             "colorbar": {
              "outlinewidth": 0,
              "ticks": ""
             }
            },
            "marker": {
             "colorbar": {
              "outlinewidth": 0,
              "ticks": ""
             }
            },
            "type": "scatter3d"
           }
          ],
          "scattercarpet": [
           {
            "marker": {
             "colorbar": {
              "outlinewidth": 0,
              "ticks": ""
             }
            },
            "type": "scattercarpet"
           }
          ],
          "scattergeo": [
           {
            "marker": {
             "colorbar": {
              "outlinewidth": 0,
              "ticks": ""
             }
            },
            "type": "scattergeo"
           }
          ],
          "scattergl": [
           {
            "marker": {
             "colorbar": {
              "outlinewidth": 0,
              "ticks": ""
             }
            },
            "type": "scattergl"
           }
          ],
          "scattermapbox": [
           {
            "marker": {
             "colorbar": {
              "outlinewidth": 0,
              "ticks": ""
             }
            },
            "type": "scattermapbox"
           }
          ],
          "scatterpolar": [
           {
            "marker": {
             "colorbar": {
              "outlinewidth": 0,
              "ticks": ""
             }
            },
            "type": "scatterpolar"
           }
          ],
          "scatterpolargl": [
           {
            "marker": {
             "colorbar": {
              "outlinewidth": 0,
              "ticks": ""
             }
            },
            "type": "scatterpolargl"
           }
          ],
          "scatterternary": [
           {
            "marker": {
             "colorbar": {
              "outlinewidth": 0,
              "ticks": ""
             }
            },
            "type": "scatterternary"
           }
          ],
          "surface": [
           {
            "colorbar": {
             "outlinewidth": 0,
             "ticks": ""
            },
            "colorscale": [
             [
              0,
              "#0d0887"
             ],
             [
              0.1111111111111111,
              "#46039f"
             ],
             [
              0.2222222222222222,
              "#7201a8"
             ],
             [
              0.3333333333333333,
              "#9c179e"
             ],
             [
              0.4444444444444444,
              "#bd3786"
             ],
             [
              0.5555555555555556,
              "#d8576b"
             ],
             [
              0.6666666666666666,
              "#ed7953"
             ],
             [
              0.7777777777777778,
              "#fb9f3a"
             ],
             [
              0.8888888888888888,
              "#fdca26"
             ],
             [
              1,
              "#f0f921"
             ]
            ],
            "type": "surface"
           }
          ],
          "table": [
           {
            "cells": {
             "fill": {
              "color": "#EBF0F8"
             },
             "line": {
              "color": "white"
             }
            },
            "header": {
             "fill": {
              "color": "#C8D4E3"
             },
             "line": {
              "color": "white"
             }
            },
            "type": "table"
           }
          ]
         },
         "layout": {
          "annotationdefaults": {
           "arrowcolor": "#2a3f5f",
           "arrowhead": 0,
           "arrowwidth": 1
          },
          "coloraxis": {
           "colorbar": {
            "outlinewidth": 0,
            "ticks": ""
           }
          },
          "colorscale": {
           "diverging": [
            [
             0,
             "#8e0152"
            ],
            [
             0.1,
             "#c51b7d"
            ],
            [
             0.2,
             "#de77ae"
            ],
            [
             0.3,
             "#f1b6da"
            ],
            [
             0.4,
             "#fde0ef"
            ],
            [
             0.5,
             "#f7f7f7"
            ],
            [
             0.6,
             "#e6f5d0"
            ],
            [
             0.7,
             "#b8e186"
            ],
            [
             0.8,
             "#7fbc41"
            ],
            [
             0.9,
             "#4d9221"
            ],
            [
             1,
             "#276419"
            ]
           ],
           "sequential": [
            [
             0,
             "#0d0887"
            ],
            [
             0.1111111111111111,
             "#46039f"
            ],
            [
             0.2222222222222222,
             "#7201a8"
            ],
            [
             0.3333333333333333,
             "#9c179e"
            ],
            [
             0.4444444444444444,
             "#bd3786"
            ],
            [
             0.5555555555555556,
             "#d8576b"
            ],
            [
             0.6666666666666666,
             "#ed7953"
            ],
            [
             0.7777777777777778,
             "#fb9f3a"
            ],
            [
             0.8888888888888888,
             "#fdca26"
            ],
            [
             1,
             "#f0f921"
            ]
           ],
           "sequentialminus": [
            [
             0,
             "#0d0887"
            ],
            [
             0.1111111111111111,
             "#46039f"
            ],
            [
             0.2222222222222222,
             "#7201a8"
            ],
            [
             0.3333333333333333,
             "#9c179e"
            ],
            [
             0.4444444444444444,
             "#bd3786"
            ],
            [
             0.5555555555555556,
             "#d8576b"
            ],
            [
             0.6666666666666666,
             "#ed7953"
            ],
            [
             0.7777777777777778,
             "#fb9f3a"
            ],
            [
             0.8888888888888888,
             "#fdca26"
            ],
            [
             1,
             "#f0f921"
            ]
           ]
          },
          "colorway": [
           "#636efa",
           "#EF553B",
           "#00cc96",
           "#ab63fa",
           "#FFA15A",
           "#19d3f3",
           "#FF6692",
           "#B6E880",
           "#FF97FF",
           "#FECB52"
          ],
          "font": {
           "color": "#2a3f5f"
          },
          "geo": {
           "bgcolor": "white",
           "lakecolor": "white",
           "landcolor": "#E5ECF6",
           "showlakes": true,
           "showland": true,
           "subunitcolor": "white"
          },
          "hoverlabel": {
           "align": "left"
          },
          "hovermode": "closest",
          "mapbox": {
           "style": "light"
          },
          "paper_bgcolor": "white",
          "plot_bgcolor": "#E5ECF6",
          "polar": {
           "angularaxis": {
            "gridcolor": "white",
            "linecolor": "white",
            "ticks": ""
           },
           "bgcolor": "#E5ECF6",
           "radialaxis": {
            "gridcolor": "white",
            "linecolor": "white",
            "ticks": ""
           }
          },
          "scene": {
           "xaxis": {
            "backgroundcolor": "#E5ECF6",
            "gridcolor": "white",
            "gridwidth": 2,
            "linecolor": "white",
            "showbackground": true,
            "ticks": "",
            "zerolinecolor": "white"
           },
           "yaxis": {
            "backgroundcolor": "#E5ECF6",
            "gridcolor": "white",
            "gridwidth": 2,
            "linecolor": "white",
            "showbackground": true,
            "ticks": "",
            "zerolinecolor": "white"
           },
           "zaxis": {
            "backgroundcolor": "#E5ECF6",
            "gridcolor": "white",
            "gridwidth": 2,
            "linecolor": "white",
            "showbackground": true,
            "ticks": "",
            "zerolinecolor": "white"
           }
          },
          "shapedefaults": {
           "line": {
            "color": "#2a3f5f"
           }
          },
          "ternary": {
           "aaxis": {
            "gridcolor": "white",
            "linecolor": "white",
            "ticks": ""
           },
           "baxis": {
            "gridcolor": "white",
            "linecolor": "white",
            "ticks": ""
           },
           "bgcolor": "#E5ECF6",
           "caxis": {
            "gridcolor": "white",
            "linecolor": "white",
            "ticks": ""
           }
          },
          "title": {
           "x": 0.05
          },
          "xaxis": {
           "automargin": true,
           "gridcolor": "white",
           "linecolor": "white",
           "ticks": "",
           "title": {
            "standoff": 15
           },
           "zerolinecolor": "white",
           "zerolinewidth": 2
          },
          "yaxis": {
           "automargin": true,
           "gridcolor": "white",
           "linecolor": "white",
           "ticks": "",
           "title": {
            "standoff": 15
           },
           "zerolinecolor": "white",
           "zerolinewidth": 2
          }
         }
        },
        "title": {
         "text": "bidtime"
        },
        "yaxis": {
         "title": {
          "text": "Count"
         }
        }
       }
      },
      "text/html": [
       "<div>\n",
       "        \n",
       "        \n",
       "            <div id=\"17b99bff-72b7-48a2-ad36-9e63dc932147\" class=\"plotly-graph-div\" style=\"height:525px; width:100%;\"></div>\n",
       "            <script type=\"text/javascript\">\n",
       "                require([\"plotly\"], function(Plotly) {\n",
       "                    window.PLOTLYENV=window.PLOTLYENV || {};\n",
       "                    \n",
       "                if (document.getElementById(\"17b99bff-72b7-48a2-ad36-9e63dc932147\")) {\n",
       "                    Plotly.newPlot(\n",
       "                        '17b99bff-72b7-48a2-ad36-9e63dc932147',\n",
       "                        [{\"opacity\": 0.75, \"type\": \"histogram\", \"x\": [6.999456019, 1.669618056, 6.917986111, 3.107013889, 2.721319444, 2.481134259, 6.591678241, 5.727453704, 0.328599537, 0.322893519, 5.021018519, 0.191886574, 1.812604167, 2.317083333, 2.975451389, 2.998171296, 6.999756944, 6.969768519, 1.202175926, 0.771655093, 0.618865741, 2.2566435190000003, 0.7719444440000001, 4.277453704, 6.85962963, 6.797303241, 1.047800926, 6.766909722, 6.389699074, 6.998645832999999, 2.303009259, 3.42125, 6.998587962999999, 1.464166667, 5.172928241, 1.742581019, 6.707511574, 0.941631944, 0.695543982, 6.97, 6.935856482, 6.122256944, 3.758298611, 1.252407407, 2.803668982, 6.997361111, 6.9986574070000005, 3.069768519, 2.097326389, 0.652928241, 0.490625, 3.556747685, 0.8290277779999999, 6.99806713, 0.145636574, 3.394571759, 6.531840278, 3.589583333, 6.926388889, 6.912986111, 6.998680556, 6.866493056, 1.847523148, 4.120439815, 6.989247685, 6.875289352, 6.996423611, 5.027141203999999, 2.076585648, 2.043171296, 0.546111111, 6.993900462999999, 0.427476852, 2.032847222, 1.093888889, 6.999236111, 6.551331019, 3.500949074, 0.692291667, 6.876018519, 6.1708564820000005, 1.487418982, 5.326296296000001, 6.7015625, 6.741886574, 0.958321759, 1.107847222, 6.265497685, 0.889212963, 6.269756944, 4.669085648, 3.795231482, 1.45193287, 0.557581019, 4.252847222, 3.585949074, 6.876134259, 4.357280093, 3.316689815, 2.040173611, 1.949930556, 2.400150463, 4.3020254630000005, 3.188993056, 0.811689815, 5.860486111, 2.672916667, 5.861041667, 2.135023148, 5.550706019, 3.499895833, 6.922604167, 1.335243056, 0.433773148, 5.346875, 0.812210648, 1.68912037, 0.510659722, 6.390439815, 6.99931713, 0.504884259, 0.6935416670000001, 6.568981482000001, 4.411990741, 3.862662037, 6.999814815, 0.732152778, 0.024108796, 1.129259259, 6.994965278, 6.270949074, 6.524965278, 6.708425926, 0.903287037, 6.899537037000001, 1.17619213, 6.998090277999999, 0.555960648, 6.8762962960000005, 3.825833333, 0.009444444, 1.583263889, 6.857777777999999, 5.168009259, 2.317592593, 2.509155093, 2.27255787, 6.9972337960000015, 6.950601852, 6.381053241, 1.459583333, 5.85900463, 6.998888889, 4.07244213, 1.545868056, 6.2012962960000015, 6.8574768520000005, 6.901458333, 5.859907407000001, 6.240810185, 1.847731482, 6.9903009260000015, 0.141585648, 1.163784722, 6.550810185, 1.232893519, 4.687141204, 6.996388889, 0.944976852, 5.055069444, 6.9222916670000005, 0.13681713, 0.8263888890000001, 0.765439815, 0.26379629600000004, 1.451539352, 3.620185185, 5.690011574, 3.175509259, 5.221388889, 5.660428241, 0.136956019, 1.732013889, 3.831967593, 6.995115741, 6.970740741, 6.96931713, 6.864131944, 0.137349537, 3.500474537, 4.997256944, 3.494976852, 5.860787037000001, 6.902256944, 2.161064815, 0.201400463, 3.4209606480000003, 0.532986111, 4.1657986110000005, 6.901898148, 5.95400463, 6.273333332999999, 5.557037037000001, 1.578865741, 1.759444444, 2.609224537, 0.943923611, 4.967384259, 4.382673611, 6.999861111, 1.093530093, 6.996203704, 0.109918982, 1.34556713, 2.582268519, 0.8673611109999999, 3.302951389, 2.041493056, 1.858113426, 3.515127315, 6.93912037, 5.860358796, 0.792835648, 1.981377315, 6.617673611, 6.983784722, 1.325173611, 3.931574074, 6.99869213, 1.200347222, 5.217349537, 6.658171296, 2.15443287, 0.075543982, 6.381180556, 6.872152777999999, 5.0095486110000005, 2.17931713, 5.401400463, 1.675671296, 6.899479167000001, 2.452511574, 5.865208332999999, 4.906643519, 6.970914352, 0.755925926, 2.803252315, 0.611944444, 0.951736111, 6.715520832999999, 6.901689815, 6.999456019, 4.768391203999999, 6.996122685, 1.911875, 0.085856481, 6.902777778, 6.971087963, 6.997106482, 2.672418982, 5.137731482, 6.911099537, 4.751516204, 6.2683912039999985, 3.909953704, 2.55193287, 4.374398148, 4.239641204, 1.042256944, 6.989016204, 1.441736111, 0.3970949070000001, 6.925520832999999, 6.899050926, 4.662719907, 4.992615741, 6.999965278, 5.301053241, 2.940393519, 6.892916667000001, 2.778622685, 5.1615625, 6.966412037, 6.990416667000001, 6.9853819439999985, 0.007534722, 0.141863426, 0.7938425929999999, 6.827013889, 0.629965278, 6.613993056, 6.999386574, 6.926238426, 0.363368056, 6.066631944, 4.246967593, 5.6669444439999985, 2.916481482, 6.971319444, 6.9204745370000005, 5.170520833, 0.150821759, 3.514224537, 0.999016204, 0.6208449070000001, 6.9664236110000015, 6.693645833, 0.7672569440000001, 6.99537037, 5.842372685, 0.154293982, 6.99537037, 5.8688657410000005, 6.389791667000001, 5.852476852000001, 6.7063310189999985, 5.86869213, 1.849641204, 6.845532407, 6.9734375, 1.7324189819999998, 6.845462962999999, 6.996944444, 4.747604167, 0.482662037, 3.742210648, 0.31349537, 3.789189815, 6.629907407, 0.945451389, 6.796203704, 0.272546296, 6.989918982000001, 0.111365741, 2.275601852, 6.900150462999999, 3.7325, 0.075972222, 0.429131944, 1.071469907, 1.047106482, 4.711261574, 6.998564815, 0.554456019, 1.809444444, 1.163912037, 0.7255092590000001, 0.187997685, 6.926469907, 6.008148147999999, 6.99994213, 6.9941319439999985, 6.991689815, 6.998217593, 1.583425926, 6.87587963, 5.792916667, 0.53068287, 5.7440740739999985, 1.434375, 3.730636574, 0.5829050929999999, 6.950636574, 1.963518519, 0.635069444, 1.689282407, 6.749803241, 3.963217593, 6.332222222, 6.9728009260000015, 2.326053241, 4.34431713, 1.350983796, 6.965821759, 2.042731482, 5.627303241, 0.338900463, 3.60162037, 5.627604167, 0.5523379629999999, 1.6252083330000002, 0.400613426, 0.918321759, 0.943344907, 6.999502315, 6.999513889, 6.714780093, 3.576678241, 5.051759259, 1.066226852, 6.999872685, 5.327824074, 3.4212384260000004, 1.339814815, 5.735636574, 0.78994213, 6.746631944, 5.688854167000001, 6.318599537000001, 6.90474537, 4.88494213, 0.840844907, 1.989768519, 5.172175926, 1.7895833330000002, 5.741145832999999, 6.99912037, 2.609513889, 0.915034722, 6.875833332999999, 6.724594907, 6.992465277999999, 4.662476852, 6.715324074, 2.756712963, 4.907199073999999, 6.999722222000001, 6.993206019, 5.102152778, 6.99880787, 5.667141204, 0.943541667, 5.7339699070000005, 4.250902778, 6.858229167, 1.235729167, 1.520891204, 6.858541667000001, 6.570625, 3.5861805560000004, 0.866377315, 6.722731482, 0.072824074, 2.047256944, 1.237418982, 6.999803241, 0.287048611, 4.157060185, 6.420590278, 0.266319444, 0.7722569440000001, 0.523796296, 6.9954513889999985, 4.602210648, 5.7007407410000015, 3.186608796, 6.732326389, 6.999895832999999, 3.86212963, 6.90818287, 6.777314815, 6.959375, 2.079502315, 6.999953704, 1.689386574, 5.853472222000001, 0.565347222, 0.566319444, 1.021006944, 6.960775462999999, 6.919849537, 2.605787037, 0.6215856479999999, 2.742210648, 4.685173611000001, 4.907604167, 1.698831019, 0.949490741, 2.444259259, 6.890914352, 2.511030093, 2.042453704, 6.949907407, 0.7112037040000001, 6.813483796, 3.962627315, 6.926550926, 1.040775463, 6.777083332999999, 3.638402778, 4.8854282410000005, 1.5376041669999998, 1.233576389, 2.49869213, 5.8648611110000015, 6.998449074, 5.226377315, 6.9996875, 2.103541667, 6.999212963, 6.999351852, 1.811134259, 6.999895832999999, 1.024884259, 0.190520833, 6.568784722, 6.972002315, 5.550173611, 6.999444444, 6.390127315, 5.835011574, 3.574965278, 3.589293982, 0.33734953700000003, 6.989085648, 5.735868056, 0.878877315, 5.627719907, 1.1590625, 2.041759259, 5.859490741, 6.996168982, 0.701574074, 1.789259259, 6.270405093, 0.954039352, 6.901979167, 6.1475, 6.95150463, 6.167222222, 1.150185185, 3.733784722, 1.368425926, 6.999930556, 1.850300926, 6.6584259260000005, 6.747048611, 6.7012384260000015, 0.958090278, 6.988194444, 0.645277778, 0.465277778, 6.998009259, 6.999814815, 6.8690162039999985, 2.760138889, 6.971261574, 6.858935185, 3.544513889, 0.278171296, 5.556261574, 4.885543982, 6.995868056, 1.3868981480000002, 5.865543982, 4.885069444, 6.884861111, 6.9346180560000015, 1.167997685, 4.602731482, 4.710902778, 6.39, 2.082511574, 6.726226852000001, 2.742372685, 6.845324074, 1.288726852, 0.441099537, 6.940092592999999, 2.141064815, 6.805081019, 2.078865741, 0.465069444, 1.142719907, 6.972418982000001, 1.335393519, 0.36056713, 6.958958332999999, 4.992175926, 6.999953704, 6.628865741, 0.401643519, 6.985, 5.095671296, 6.785949074, 2.668310185, 0.655983796, 6.000798611, 1.3940393519999998, 6.996539352, 0.14969907400000002, 6.644918982, 2.049363426, 6.933402778, 4.99806713, 6.747407407000001, 5.065821758999999, 0.273854167, 2.985787037, 0.52869213, 3.576863426, 2.006597222, 3.601122685, 6.983425926000002, 0.754965278, 1.154907407, 1.107407407, 4.171782407, 6.390381944, 0.432349537, 5.622326389, 0.287175926, 3.5546759260000003, 6.99505787, 0.167743056, 6.709328704, 1.251979167, 0.942418982, 4.146423611, 6.975428241, 1.020266204, 2.391608796, 6.858981482000001, 2.871712963, 5.32587963, 6.294849537, 1.434699074, 6.473425926, 3.024513889, 0.942731482, 6.188819444, 6.999803241, 1.14119213, 2.443969907, 3.452164352, 0.941956019, 0.7293865740000001, 6.725752315, 3.5011805560000004, 6.995046296, 2.256782407, 6.999953704, 2.598113426, 0.247395833, 0.387523148, 4.407638888999999, 1.351145833, 3.442638889, 1.941678241, 6.966701389, 1.813831019, 6.99869213, 6.994675926, 6.270763889, 1.812233796, 4.684768519, 5.937858796, 2.038819444, 6.776168982000001, 6.999189815, 6.795844907, 2.082592593, 6.651747685, 6.998043982, 5.716655093, 6.990393519, 1.623935185, 4.006539352, 6.9682291670000005, 0.729780093, 6.432291667, 6.999641204, 6.99994213, 4.852013889, 6.3133564820000005, 0.998275463, 1.943020833, 0.010775463, 1.506747685, 0.516678241, 6.999675926, 3.482650463, 6.496076389, 3.997199074, 5.055335648, 2.108576389, 2.076805556, 6.999641204, 6.126990741, 6.999571759, 6.270590277999999, 0.618831019, 6.629293982, 5.753009259, 3.0737962960000003, 6.745844907, 1.387256944, 5.868344907000001, 4.301759259, 3.761122685, 6.333206019, 6.997326389, 6.995081019, 6.926701389, 2.01806713, 1.670219907, 6.865856482000001, 1.675358796, 0.610405093, 6.9928125, 6.452592592999999, 2.338368056, 3.106516204, 6.967928241, 3.106331019, 6.621226852, 6.296018519, 6.7259375, 4.201655093, 1.857928241, 6.790578704, 3.420474537, 2.72244213, 4.684444444, 6.314907407000001, 2.8407986110000003, 3.514351852, 6.978900463, 5.007708333, 0.267766204, 6.999814815, 3.82494213, 6.999618056, 2.608287037, 6.121921296, 1.789050926, 3.328460648, 6.763576389, 5.868541667000001, 2.7971875, 6.98380787, 6.998668982000001, 1.699212963, 6.981226852000001, 6.98662037, 5.235300926, 2.779965278, 6.849050926, 6.970324074, 0.95818287, 6.694143519, 1.060208333, 5.835648148, 2.460752315, 3.653599537, 5.082615741000001, 2.452164352, 2.303888889, 6.180613426, 6.973958333, 5.752372685, 0.552025463, 1.744780093, 6.7954282410000015, 0.757233796, 0.943726852, 3.445891204, 0.8287615740000001, 2.338159722, 6.904444444, 0.300196759, 0.226064815, 3.453657407, 6.951793982000001, 0.911539352, 0.16797453699999998, 0.090590278, 3.614803241, 0.272731482, 0.995972222, 2.303298611, 0.812708333, 0.761840278, 3.3953587960000005, 5.009791667, 2.047569444, 6.747928241, 5.741365741, 2.664143519, 5.804409722000001, 5.865474537000001, 0.635393519, 0.092662037, 6.099710647999999, 3.514502315, 5.6897685189999985, 0.476828704, 6.876053241, 2.049733796, 0.588113426, 3.32912037, 6.993854167, 1.91255787, 6.993009259, 6.700578704, 2.721967593, 1.395208333, 0.13068287, 2.656064815, 6.989652778, 6.8579861110000016, 1.141377315, 6.965625, 0.147511574, 6.910462963, 6.995081019, 0.400289352, 5.171527778, 2.480289352, 5.216215278, 3.500289352, 0.15125, 5.512766204, 5.62744213, 4.9928125, 3.106736111, 6.457627315, 1.583553241, 6.972199074, 1.14181713, 6.971666667, 2.5870833330000003, 5.633726852000001, 0.276122685, 6.808252315, 6.796203704, 0.042384259, 1.260833333, 1.319351852, 1.365474537, 2.385532407, 1.585104167, 4.3705092589999985, 6.767731482, 0.287395833, 2.109421296, 4.050902778, 5.216435185, 2.9859375, 6.121782407, 1.435092593, 0.547523148, 6.090520832999999, 4.8852083330000005, 2.96974537, 0.619456019, 0.653252315, 4.284895833, 0.644826389, 1.0715625, 5.329074073999999, 6.917534722, 6.750231482, 6.999131944, 1.4639467590000002, 6.917743056, 1.5026157409999998, 4.8849305560000005, 6.390208333, 6.874178241, 5.182476852, 2.744398148, 4.997476852, 3.074016204, 5.913217593, 1.112638889, 6.864247685, 1.989212963, 4.988738426, 2.913680556, 2.141469907, 6.850578704, 6.790925926, 5.976354167, 6.9003240739999985, 0.91849537, 6.357337962999999, 5.326076389, 0.281099537, 6.992071759, 1.94130787, 6.671435185, 6.7252199070000005, 2.597962963, 0.952615741, 6.9512268520000005, 6.725011574, 6.981203704, 0.659594907, 4.006134259, 6.341226852, 6.9111805560000015, 1.889166667, 6.931550926, 6.999699074, 3.212673611, 5.5569560189999985, 0.6914236109999999, 2.607662037, 3.684027778, 6.996203704, 6.983576389, 0.8498842590000001, 3.732268519, 0.894398148, 4.893564815, 6.929108796, 6.951759259, 6.724849537000001, 3.38369213, 4.603530093, 5.229224537, 6.982673611, 1.142175926, 6.995266204, 4.8853125, 1.830590278, 6.993738426, 0.291574074, 3.997002315, 0.652789352, 5.9545138889999984, 0.7199884259999999, 1.441921296, 5.864571759, 4.005578704, 0.121770833, 5.303518519, 6.999027777999999, 6.845104167000001, 6.996527778, 4.57599537, 6.558703704, 6.875, 2.498414352, 4.609212963, 1.778738426, 1.140810185, 3.5007986110000004, 5.472696759, 6.390266204, 5.736226852000001, 1.3514120369999998, 6.906655093, 1.071377315, 3.58662037, 6.675, 1.322604167, 6.998831019, 4.071666667, 6.962210647999999, 1.35619213, 0.518877315, 0.5548842589999999, 6.691747685, 3.129074074, 1.604525463, 6.689583333, 5.119386574, 1.609444444, 0.137222222, 3.931018519, 0.996331019, 1.5837037040000002, 0.844247685, 3.070208333, 0.16836805600000002, 0.120775463, 6.998680556, 5.941145832999999, 3.420983796, 4.400949074, 6.995219907, 6.99974537, 5.107673611, 6.912708332999999, 1.293599537, 3.611168982, 6.7363194439999985, 1.811805556, 6.719444444, 6.898263889, 0.533368056, 1.689293982, 6.264699074, 0.975729167, 6.95287037, 1.131134259, 3.5853125, 2.0421875, 1.902349537, 6.975810185, 1.537893519, 4.201203704, 6.997106482, 6.355300926, 6.999814815, 3.4996875, 6.997465278, 6.567638889, 6.271122685, 6.901273148, 6.995763889, 6.9953587960000005, 0.998541667, 3.236018519, 6.9654861110000015, 0.951840278, 0.4128125, 6.917569444, 6.998680556, 6.995763889, 6.689583333, 6.898263889, 0.999016204, 5.556261574, 6.875, 2.8407986110000003, 6.845104167000001, 0.272546296, 2.656064815, 5.303518519, 0.8263888890000001, 1.789050926, 6.776168982000001, 0.53068287, 3.742210648, 6.959375, 5.326296296000001, 6.9682291670000005, 6.420590278, 2.481134259, 4.407638888999999, 0.14969907400000002, 6.708425926, 6.996388889, 1.675358796, 4.711261574, 2.49869213, 1.042256944, 0.754965278, 2.0421875, 6.995266204, 3.614803241, 6.008148147999999, 1.759444444, 1.520891204, 0.958090278, 6.973958333, 6.805081019, 3.7325, 6.568981482000001, 6.904444444, 0.141585648, 6.999513889, 0.944976852, 0.5548842589999999, 1.5376041669999998, 0.516678241, 6.90818287, 6.999386574, 4.8849305560000005, 0.16797453699999998, 6.989247685, 0.811689815, 1.350983796, 3.188993056, 6.993206019, 5.102152778, 0.588113426, 0.554456019, 1.047800926, 6.962210647999999, 6.849050926, 4.885069444, 0.433773148, 1.066226852, 3.730636574, 1.1590625, 3.574965278, 3.931574074, 1.202175926, 6.7954282410000015, 6.9996875, 6.958958332999999, 0.13068287, 6.265497685, 6.901689815, 5.550173611, 1.4639467590000002, 5.055069444, 6.995081019, 0.266319444, 5.7007407410000015, 6.966701389, 5.512766204, 6.7015625, 6.790925926, 3.963217593, 0.267766204, 0.8287615740000001, 6.390439815, 6.917569444, 2.2566435190000003, 6.999895832999999, 0.7672569440000001, 6.99912037, 5.62744213, 6.998449074, 2.049363426, 6.808252315, 3.795231482, 0.911539352, 2.047256944, 4.374398148, 3.862662037, 0.482662037, 6.999571759, 5.868541667000001, 1.142175926, 6.999953704, 6.126990741, 5.792916667, 6.240810185, 6.999814815, 6.874178241, 3.58662037, 6.981203704, 5.859907407000001, 2.006597222, 2.338368056, 5.8688657410000005, 1.583553241, 0.145636574, 1.235729167, 3.499895833, 0.465069444, 6.813483796, 3.620185185, 4.710902778, 3.442638889, 4.684768519, 5.221388889, 6.899537037000001, 5.753009259, 3.106736111, 1.857928241, 6.99537037, 6.997106482, 3.452164352, 4.07244213, 5.226377315, 0.400289352, 2.7971875, 6.866493056, 1.506747685, 6.995115741, 4.250902778, 6.629907407, 6.872152777999999, 3.3953587960000005, 6.9954513889999985, 2.317592593, 6.995868056, 6.999444444, 6.890914352, 6.982673611, 0.7199884259999999, 3.514351852, 4.1657986110000005, 5.557037037000001, 6.694143519, 5.627719907, 5.182476852, 3.107013889, 4.768391203999999, 6.933402778, 0.024108796, 4.171782407, 2.582268519, 2.079502315, 4.8853125, 0.995972222, 6.85962963, 6.876018519, 2.076805556, 2.721319444, 4.57599537, 6.917534722, 5.550706019, 6.39, 3.825833333, 6.996527778, 6.796203704, 5.716655093, 0.840844907, 2.452511574, 1.368425926, 6.999756944, 0.8498842590000001, 6.9654861110000015, 6.950601852, 5.860787037000001, 1.17619213, 0.247395833, 4.997256944, 0.611944444, 6.766909722, 3.544513889, 1.5837037040000002, 2.608287037, 6.8579861110000016, 0.226064815]}],\n",
       "                        {\"barmode\": \"overlay\", \"template\": {\"data\": {\"bar\": [{\"error_x\": {\"color\": \"#2a3f5f\"}, \"error_y\": {\"color\": \"#2a3f5f\"}, \"marker\": {\"line\": {\"color\": \"#E5ECF6\", \"width\": 0.5}}, \"type\": \"bar\"}], \"barpolar\": [{\"marker\": {\"line\": {\"color\": \"#E5ECF6\", \"width\": 0.5}}, \"type\": \"barpolar\"}], \"carpet\": [{\"aaxis\": {\"endlinecolor\": \"#2a3f5f\", \"gridcolor\": \"white\", \"linecolor\": \"white\", \"minorgridcolor\": \"white\", \"startlinecolor\": \"#2a3f5f\"}, \"baxis\": {\"endlinecolor\": \"#2a3f5f\", \"gridcolor\": \"white\", \"linecolor\": \"white\", \"minorgridcolor\": \"white\", \"startlinecolor\": \"#2a3f5f\"}, \"type\": \"carpet\"}], \"choropleth\": [{\"colorbar\": {\"outlinewidth\": 0, \"ticks\": \"\"}, \"type\": \"choropleth\"}], \"contour\": [{\"colorbar\": {\"outlinewidth\": 0, \"ticks\": \"\"}, \"colorscale\": [[0.0, \"#0d0887\"], [0.1111111111111111, \"#46039f\"], [0.2222222222222222, \"#7201a8\"], [0.3333333333333333, \"#9c179e\"], [0.4444444444444444, \"#bd3786\"], [0.5555555555555556, \"#d8576b\"], [0.6666666666666666, \"#ed7953\"], [0.7777777777777778, \"#fb9f3a\"], [0.8888888888888888, \"#fdca26\"], [1.0, \"#f0f921\"]], \"type\": \"contour\"}], \"contourcarpet\": [{\"colorbar\": {\"outlinewidth\": 0, \"ticks\": \"\"}, \"type\": \"contourcarpet\"}], \"heatmap\": [{\"colorbar\": {\"outlinewidth\": 0, \"ticks\": \"\"}, \"colorscale\": [[0.0, \"#0d0887\"], [0.1111111111111111, \"#46039f\"], [0.2222222222222222, \"#7201a8\"], [0.3333333333333333, \"#9c179e\"], [0.4444444444444444, \"#bd3786\"], [0.5555555555555556, \"#d8576b\"], [0.6666666666666666, \"#ed7953\"], [0.7777777777777778, \"#fb9f3a\"], [0.8888888888888888, \"#fdca26\"], [1.0, \"#f0f921\"]], \"type\": \"heatmap\"}], \"heatmapgl\": [{\"colorbar\": {\"outlinewidth\": 0, \"ticks\": \"\"}, \"colorscale\": [[0.0, \"#0d0887\"], [0.1111111111111111, \"#46039f\"], [0.2222222222222222, \"#7201a8\"], [0.3333333333333333, \"#9c179e\"], [0.4444444444444444, \"#bd3786\"], [0.5555555555555556, \"#d8576b\"], [0.6666666666666666, \"#ed7953\"], [0.7777777777777778, \"#fb9f3a\"], [0.8888888888888888, \"#fdca26\"], [1.0, \"#f0f921\"]], \"type\": \"heatmapgl\"}], \"histogram\": [{\"marker\": {\"colorbar\": {\"outlinewidth\": 0, \"ticks\": \"\"}}, \"type\": \"histogram\"}], \"histogram2d\": [{\"colorbar\": {\"outlinewidth\": 0, \"ticks\": \"\"}, \"colorscale\": [[0.0, \"#0d0887\"], [0.1111111111111111, \"#46039f\"], [0.2222222222222222, \"#7201a8\"], [0.3333333333333333, \"#9c179e\"], [0.4444444444444444, \"#bd3786\"], [0.5555555555555556, \"#d8576b\"], [0.6666666666666666, \"#ed7953\"], [0.7777777777777778, \"#fb9f3a\"], [0.8888888888888888, \"#fdca26\"], [1.0, \"#f0f921\"]], \"type\": \"histogram2d\"}], \"histogram2dcontour\": [{\"colorbar\": {\"outlinewidth\": 0, \"ticks\": \"\"}, \"colorscale\": [[0.0, \"#0d0887\"], [0.1111111111111111, \"#46039f\"], [0.2222222222222222, \"#7201a8\"], [0.3333333333333333, \"#9c179e\"], [0.4444444444444444, \"#bd3786\"], [0.5555555555555556, \"#d8576b\"], [0.6666666666666666, \"#ed7953\"], [0.7777777777777778, \"#fb9f3a\"], [0.8888888888888888, \"#fdca26\"], [1.0, \"#f0f921\"]], \"type\": \"histogram2dcontour\"}], \"mesh3d\": [{\"colorbar\": {\"outlinewidth\": 0, \"ticks\": \"\"}, \"type\": \"mesh3d\"}], \"parcoords\": [{\"line\": {\"colorbar\": {\"outlinewidth\": 0, \"ticks\": \"\"}}, \"type\": \"parcoords\"}], \"pie\": [{\"automargin\": true, \"type\": \"pie\"}], \"scatter\": [{\"marker\": {\"colorbar\": {\"outlinewidth\": 0, \"ticks\": \"\"}}, \"type\": \"scatter\"}], \"scatter3d\": [{\"line\": {\"colorbar\": {\"outlinewidth\": 0, \"ticks\": \"\"}}, \"marker\": {\"colorbar\": {\"outlinewidth\": 0, \"ticks\": \"\"}}, \"type\": \"scatter3d\"}], \"scattercarpet\": [{\"marker\": {\"colorbar\": {\"outlinewidth\": 0, \"ticks\": \"\"}}, \"type\": \"scattercarpet\"}], \"scattergeo\": [{\"marker\": {\"colorbar\": {\"outlinewidth\": 0, \"ticks\": \"\"}}, \"type\": \"scattergeo\"}], \"scattergl\": [{\"marker\": {\"colorbar\": {\"outlinewidth\": 0, \"ticks\": \"\"}}, \"type\": \"scattergl\"}], \"scattermapbox\": [{\"marker\": {\"colorbar\": {\"outlinewidth\": 0, \"ticks\": \"\"}}, \"type\": \"scattermapbox\"}], \"scatterpolar\": [{\"marker\": {\"colorbar\": {\"outlinewidth\": 0, \"ticks\": \"\"}}, \"type\": \"scatterpolar\"}], \"scatterpolargl\": [{\"marker\": {\"colorbar\": {\"outlinewidth\": 0, \"ticks\": \"\"}}, \"type\": \"scatterpolargl\"}], \"scatterternary\": [{\"marker\": {\"colorbar\": {\"outlinewidth\": 0, \"ticks\": \"\"}}, \"type\": \"scatterternary\"}], \"surface\": [{\"colorbar\": {\"outlinewidth\": 0, \"ticks\": \"\"}, \"colorscale\": [[0.0, \"#0d0887\"], [0.1111111111111111, \"#46039f\"], [0.2222222222222222, \"#7201a8\"], [0.3333333333333333, \"#9c179e\"], [0.4444444444444444, \"#bd3786\"], [0.5555555555555556, \"#d8576b\"], [0.6666666666666666, \"#ed7953\"], [0.7777777777777778, \"#fb9f3a\"], [0.8888888888888888, \"#fdca26\"], [1.0, \"#f0f921\"]], \"type\": \"surface\"}], \"table\": [{\"cells\": {\"fill\": {\"color\": \"#EBF0F8\"}, \"line\": {\"color\": \"white\"}}, \"header\": {\"fill\": {\"color\": \"#C8D4E3\"}, \"line\": {\"color\": \"white\"}}, \"type\": \"table\"}]}, \"layout\": {\"annotationdefaults\": {\"arrowcolor\": \"#2a3f5f\", \"arrowhead\": 0, \"arrowwidth\": 1}, \"coloraxis\": {\"colorbar\": {\"outlinewidth\": 0, \"ticks\": \"\"}}, \"colorscale\": {\"diverging\": [[0, \"#8e0152\"], [0.1, \"#c51b7d\"], [0.2, \"#de77ae\"], [0.3, \"#f1b6da\"], [0.4, \"#fde0ef\"], [0.5, \"#f7f7f7\"], [0.6, \"#e6f5d0\"], [0.7, \"#b8e186\"], [0.8, \"#7fbc41\"], [0.9, \"#4d9221\"], [1, \"#276419\"]], \"sequential\": [[0.0, \"#0d0887\"], [0.1111111111111111, \"#46039f\"], [0.2222222222222222, \"#7201a8\"], [0.3333333333333333, \"#9c179e\"], [0.4444444444444444, \"#bd3786\"], [0.5555555555555556, \"#d8576b\"], [0.6666666666666666, \"#ed7953\"], [0.7777777777777778, \"#fb9f3a\"], [0.8888888888888888, \"#fdca26\"], [1.0, \"#f0f921\"]], \"sequentialminus\": [[0.0, \"#0d0887\"], [0.1111111111111111, \"#46039f\"], [0.2222222222222222, \"#7201a8\"], [0.3333333333333333, \"#9c179e\"], [0.4444444444444444, \"#bd3786\"], [0.5555555555555556, \"#d8576b\"], [0.6666666666666666, \"#ed7953\"], [0.7777777777777778, \"#fb9f3a\"], [0.8888888888888888, \"#fdca26\"], [1.0, \"#f0f921\"]]}, \"colorway\": [\"#636efa\", \"#EF553B\", \"#00cc96\", \"#ab63fa\", \"#FFA15A\", \"#19d3f3\", \"#FF6692\", \"#B6E880\", \"#FF97FF\", \"#FECB52\"], \"font\": {\"color\": \"#2a3f5f\"}, \"geo\": {\"bgcolor\": \"white\", \"lakecolor\": \"white\", \"landcolor\": \"#E5ECF6\", \"showlakes\": true, \"showland\": true, \"subunitcolor\": \"white\"}, \"hoverlabel\": {\"align\": \"left\"}, \"hovermode\": \"closest\", \"mapbox\": {\"style\": \"light\"}, \"paper_bgcolor\": \"white\", \"plot_bgcolor\": \"#E5ECF6\", \"polar\": {\"angularaxis\": {\"gridcolor\": \"white\", \"linecolor\": \"white\", \"ticks\": \"\"}, \"bgcolor\": \"#E5ECF6\", \"radialaxis\": {\"gridcolor\": \"white\", \"linecolor\": \"white\", \"ticks\": \"\"}}, \"scene\": {\"xaxis\": {\"backgroundcolor\": \"#E5ECF6\", \"gridcolor\": \"white\", \"gridwidth\": 2, \"linecolor\": \"white\", \"showbackground\": true, \"ticks\": \"\", \"zerolinecolor\": \"white\"}, \"yaxis\": {\"backgroundcolor\": \"#E5ECF6\", \"gridcolor\": \"white\", \"gridwidth\": 2, \"linecolor\": \"white\", \"showbackground\": true, \"ticks\": \"\", \"zerolinecolor\": \"white\"}, \"zaxis\": {\"backgroundcolor\": \"#E5ECF6\", \"gridcolor\": \"white\", \"gridwidth\": 2, \"linecolor\": \"white\", \"showbackground\": true, \"ticks\": \"\", \"zerolinecolor\": \"white\"}}, \"shapedefaults\": {\"line\": {\"color\": \"#2a3f5f\"}}, \"ternary\": {\"aaxis\": {\"gridcolor\": \"white\", \"linecolor\": \"white\", \"ticks\": \"\"}, \"baxis\": {\"gridcolor\": \"white\", \"linecolor\": \"white\", \"ticks\": \"\"}, \"bgcolor\": \"#E5ECF6\", \"caxis\": {\"gridcolor\": \"white\", \"linecolor\": \"white\", \"ticks\": \"\"}}, \"title\": {\"x\": 0.05}, \"xaxis\": {\"automargin\": true, \"gridcolor\": \"white\", \"linecolor\": \"white\", \"ticks\": \"\", \"title\": {\"standoff\": 15}, \"zerolinecolor\": \"white\", \"zerolinewidth\": 2}, \"yaxis\": {\"automargin\": true, \"gridcolor\": \"white\", \"linecolor\": \"white\", \"ticks\": \"\", \"title\": {\"standoff\": 15}, \"zerolinecolor\": \"white\", \"zerolinewidth\": 2}}}, \"title\": {\"text\": \"bidtime\"}, \"yaxis\": {\"title\": {\"text\": \"Count\"}}},\n",
       "                        {\"responsive\": true}\n",
       "                    ).then(function(){\n",
       "                            \n",
       "var gd = document.getElementById('17b99bff-72b7-48a2-ad36-9e63dc932147');\n",
       "var x = new MutationObserver(function (mutations, observer) {{\n",
       "        var display = window.getComputedStyle(gd).display;\n",
       "        if (!display || display === 'none') {{\n",
       "            console.log([gd, 'removed!']);\n",
       "            Plotly.purge(gd);\n",
       "            observer.disconnect();\n",
       "        }}\n",
       "}});\n",
       "\n",
       "// Listen for the removal of the full notebook cells\n",
       "var notebookContainer = gd.closest('#notebook-container');\n",
       "if (notebookContainer) {{\n",
       "    x.observe(notebookContainer, {childList: true});\n",
       "}}\n",
       "\n",
       "// Listen for the clearing of the current output cell\n",
       "var outputEl = gd.closest('.output');\n",
       "if (outputEl) {{\n",
       "    x.observe(outputEl, {childList: true});\n",
       "}}\n",
       "\n",
       "                        })\n",
       "                };\n",
       "                });\n",
       "            </script>\n",
       "        </div>"
      ]
     },
     "metadata": {},
     "output_type": "display_data"
    },
    {
     "name": "stdout",
     "output_type": "stream",
     "text": [
      "-*--*--*--*--*--*--*--*--*--*--*--*--*--*--*--*--*--*--*--*--*--*--*--*--*-\n",
      "bidtime mean :  4.078951444274527\n",
      "bidtime var  :  6.270594766998514\n",
      "bidtime skew (should be 0 for normal distribution) :  -0.18506584033180148\n",
      "bidtime kurt (should be 0 for normal distribution) :  -1.5545623186837252\n",
      "-*--*--*--*--*--*--*--*--*--*--*--*--*--*--*--*--*--*--*--*--*--*--*--*--*-\n"
     ]
    }
   ],
   "source": [
    "plotBarCat(df,df.columns[2])"
   ]
  },
  {
   "cell_type": "code",
   "execution_count": 18,
   "metadata": {},
   "outputs": [
    {
     "data": {
      "application/vnd.plotly.v1+json": {
       "config": {
        "linkText": "Export to plot.ly",
        "plotlyServerURL": "https://plot.ly",
        "showLink": false
       },
       "data": [
        {
         "opacity": 0.75,
         "type": "histogram",
         "x": [
          "boraborabora",
          "aclbjc",
          "nelsoncpm",
          "pialu9",
          "geemeetee@aol.com",
          "darbarskip",
          "dollfacepumpkin",
          "bogdanbost",
          "bdonahue9@aol.com",
          "msvail",
          "jepattiii",
          "turbomausi",
          "trunkbath",
          "whalen@northlink.com",
          "pdhsu1",
          "dre_313@yahoo.com",
          "pascal1666",
          "apfb@excite.com",
          "cnelis",
          "b2hats",
          "mkect10",
          "adammurry",
          "b2hats",
          "njbirdmom",
          "azamora610@cs.com",
          "hora01",
          "pereluzi00",
          "jimboysan",
          "nana-tyler",
          "mapguy",
          "angelaleu",
          "mkb98",
          "renob2",
          "sigsrus",
          "bogdanbost",
          "regman324",
          "peterfung@aol.com",
          "honeycakesmoney",
          "biggeo@hotmail.com",
          "azamora610@cs.com",
          "happyrova",
          "delux1cs",
          "pcsoftwareman",
          "njbirdmom",
          "samkap",
          "spartan@mindspring.com",
          "sirocco@prodigy.net",
          "bahamawoman",
          "sandseller",
          "otan1810",
          "sirocco@prodigy.net",
          "ro50014",
          "restdynamics",
          "pablofennymore",
          "ewe1950",
          "iwantu2",
          "perrymd",
          "saphi7171@amexol.net",
          "dream4321",
          "lola723",
          "darwal-dep",
          "pro2cer@hotmail.com",
          "northwestportlandtrader",
          "lennonjasonmia@netzero.ne",
          "cindy4779",
          "lemsgems",
          "smartgirl0204",
          "lass1004",
          "cvmiami1",
          "cutiepatutiesobe",
          "amskymom",
          "19750926o",
          "why18",
          "ifonawintersnightatravell",
          "jimboysan",
          "sudohani",
          "clubmember",
          "lass1004",
          "blackdot",
          "lacagnina",
          "rolexaddict",
          "skyl",
          "zatop@excite.com",
          "freembd",
          "hestellguru",
          "cutecube@mac.com",
          "cvmiami1",
          "marcusclick",
          "gram999",
          "orchidmktg@aol.com",
          "lola723",
          "sophiecorbett",
          "zatsplits@aol.com",
          "gisbert",
          "19750926o",
          "saphi7171@amexol.net",
          "lacagnina",
          "growingwild",
          "bally29",
          "loreparra@excite.com",
          "gknguyen",
          "pereluzi00",
          "restdynamics",
          "netabe",
          "dleggoe@msn.com",
          "alfietravers",
          "saphi7171@amexol.net",
          "alfietravers",
          "aninanin",
          "bosspad",
          "lass1004",
          "terryd2053",
          "spikeit1990",
          "treasureking.com",
          "dalear6@aol.com",
          "dleggoe@msn.com",
          "helvet",
          "klute1",
          "nana-tyler",
          "lc30",
          "cunmrs",
          "jmsolo",
          "smileoften",
          "vkns",
          "orlanfs",
          "jannypie1",
          "lass1004",
          "callawayjb@aol.com",
          "timeatlast",
          "19750926o",
          "orchidmktg@aol.com",
          "njbirdmom",
          "friscotheman@aol.com",
          "helvet",
          "vpolyak",
          "bosspad",
          "sirocco@prodigy.net",
          "richardgz",
          "lacagnina",
          "chrissiegurl",
          "diamonddr1@aol.com",
          "anasandak",
          "hugo44",
          "oschoffst",
          "whalen@northlink.com",
          "rplfunding",
          "gntburke",
          "wlp@mediaone.net",
          "janno47",
          "marky63",
          "orlanfs",
          "toadota",
          "boraborabora",
          "jtr777@aol.com",
          "cutiepatutiesobe",
          "somto_offoh",
          "hugo44",
          "overflowingcloset",
          "toadota",
          "jackofspeed",
          "northwestportlandtrader",
          "sactogroove",
          "buyall5",
          "scott@purplepicket.com",
          "crta@ti.com",
          "izzy87",
          "dedesz",
          "avion1333@hotmail.com",
          "leonardcohenfan",
          "brigidsboy",
          "terryd2053",
          "mlsrbrt@aol.com",
          "doc213",
          "restdynamics",
          "afaucher",
          "zatsplits@aol.com",
          "fossil1973",
          "strongob",
          "dleggoe@msn.com",
          "diegorme",
          "pcsoftwareman",
          "juseas",
          "rskala@easytel.net",
          "jpamro@aol.com",
          "vpham.2000",
          "k.s.cohen@verizon.net",
          "19750926o",
          "basilm@mediaone.net",
          "juseas",
          "lass1004",
          "tampa_tap",
          "lafontant155",
          "toadota",
          "overflowingcloset",
          "birdkowsky",
          "rsahaj@yahoo.com",
          "mkb98",
          "haring123",
          "coharley",
          "overflowingcloset",
          "perrymd",
          "ahmadk",
          "sandragian",
          "talwang",
          "k.daruwala@btconnect.com",
          "dressy-bessy",
          "honeycakesmoney",
          "yoder9",
          "spikeit1990",
          "drob223",
          "jimboysan",
          "cindy4779",
          "akryzak",
          "richardgz",
          "pegcll",
          "dumbarton2715",
          "angelaleu",
          "happyrova",
          "ngow34",
          "vleykin",
          "adammurry",
          "toadota",
          "nola",
          "lacagnina",
          "ccie51xx",
          "wlp@mediaone.net",
          "hover@ucnsb.net",
          "boxsterbear",
          "lc30",
          "justine@701701.com",
          "corbatas",
          "butchballs",
          "whiteeagle@shadow.net",
          "mroth1099",
          "marky63",
          "happyrova",
          "sami-girl",
          "adammurry",
          "vkns",
          "jimboysan",
          "mgicatwoman",
          "vdukat",
          "butchballs",
          "kasika5",
          "k.s.cohen@verizon.net",
          "fveta",
          "hbhandre",
          "vleykin",
          "vdukat",
          "mdhallin",
          "overflowingcloset",
          "avion1333@hotmail.com",
          "duderino",
          "youmast",
          "marky63",
          "ctlisalisa",
          "overflowingcloset",
          "k.s.cohen@verizon.net",
          "cindy4779",
          "saphi7171@amexol.net",
          "mgicatwoman",
          "yuriyshrifteylik@altavist",
          "raritylink",
          "marcusclick",
          "va2ca",
          "fjfds@aol.com",
          "carlondono",
          "skygirlab",
          "gucci725",
          "cindy4779",
          "raritylink",
          "feyapos",
          "akapson",
          "mgicatwoman",
          "adammurry",
          "freembd",
          "cudd8963@aol.com",
          "kfreyvog@tampabay.rr.com",
          "annekilborn@hotmail.com",
          "carloss8055",
          "mrm0214@yahoo.com",
          "pascal1666",
          "yung-wen",
          "sactogroove",
          "rumpelstillskin",
          "heres2you",
          "turbomausi",
          "englishteacher21",
          "various19735",
          "kpimp4life76",
          "lass1004",
          "sirocco@prodigy.net",
          "pascal1666",
          "natasham",
          "thehandmadens",
          "nychowderhead",
          "du38120",
          "gram999",
          "vpolyak",
          "pascal1666",
          "bogdanbost",
          "restdynamics",
          "vangoghbouvie",
          "myactreasures",
          "artkall",
          "rrsumba",
          "vpolyak",
          "trunkbath",
          "youmast",
          "ykelectro@hotmail.com",
          "ewe1950",
          "ps138",
          "pascal1666",
          "nana-tyler",
          "motion32",
          "ox21c",
          "pascal1666",
          "corradi19",
          "rrsumba",
          "vpolyak",
          "birdkowsky",
          "scandalmus@aol.com",
          "jettie21",
          "sami-girl",
          "blackdot",
          "roysco",
          "cufflink@erols.com",
          "lass1004",
          "philwl3290",
          "cnelis",
          "debrittod",
          "en-igma",
          "sactogroove",
          "kinkino",
          "vangoghbouvie",
          "mgicatwoman",
          "bally29",
          "feyapos",
          "the.hammer",
          "vkmathews",
          "gram999",
          "motion32",
          "kinkino",
          "svm2k",
          "didckdtn",
          "scott@purplepicket.com",
          "bosomvie",
          "bcembor",
          "akapson",
          "yuriyshrifteylik@altavist",
          "ps138",
          "photosflasher",
          "tea_pot_girl",
          "mapguy",
          "anasandak",
          "darwal-dep",
          "rkq",
          "honey-marie",
          "dgulkis@mcdata.com",
          "yokarine",
          "cvmiami1",
          "thehandmadens",
          "2000joe",
          "dre_313@yahoo.com",
          "thehandmadens",
          "ivgen",
          "mmedina@calcsea.org",
          "gabz2383",
          "ojjuice2@aol.com",
          "19750926o",
          "motion32",
          "hot_rookie",
          "maxwell_gems",
          "rrsumba",
          "happyrova",
          "nguyenat@san.rr.com",
          "gmorgan@elliman.com",
          "cheddaboy",
          "nguyenat@san.rr.com",
          "awinningbid",
          "pereluzi00",
          "bosspad",
          "restdynamics",
          "honeycakesmoney",
          "spartan@mindspring.com",
          "signedpiecesinc",
          "k.daruwala@btconnect.com",
          "soul.reaver",
          "kdrew@prodigy.net",
          "sunday322",
          "jennou",
          "bceezar1@aol.com",
          "myactreasures",
          "skyl",
          "scandalmus@aol.com",
          "watchv70t5",
          "bdsr1",
          "strongob",
          "marcusclick",
          "soysoy75",
          "ccd79",
          "vkns",
          "gucci725",
          "bogdanbost",
          "northwestportlandtrader",
          "rikluttmer",
          "mmedina@calcsea.org",
          "dressy-bessy",
          "luxurysource001",
          "lacagnina",
          "freembd",
          "happyrova",
          "adammurry",
          "mdhallin",
          "soul.reaver",
          "kasika5",
          "gram999",
          "photosflasher",
          "janss454@wxs.nl",
          "cindy4779",
          "du38120",
          "honeycakesmoney",
          "vat15@earthlink.net",
          "19750926o",
          "hugo44",
          "ifonawintersnightatravell",
          "acbre",
          "hugo44",
          "jdrinaz",
          "saphi7171@amexol.net",
          "helvet",
          "cbcolqunoun",
          "ojbiii",
          "happyrova",
          "dre_313@yahoo.com",
          "peterfung@aol.com",
          "princess-ginger",
          "berler@msn.com",
          "imurreson4living",
          "k.l.pine",
          "b2hats",
          "jennou",
          "darwal-dep",
          "tampa_tap",
          "soul.reaver",
          "fjfds@aol.com",
          "hseldin",
          "roticss",
          "orlanfs",
          "anncm77@aol.com",
          "markcic@aol.com",
          "carloss8055",
          "derek1881",
          "finn69",
          "helvet",
          "motion32",
          "fortlaud.collection",
          "dispassion",
          "trunkbath",
          "sylvesterii",
          "9lights",
          "blackdot",
          "mkect10",
          "cvmiami1",
          "compfc@aol.com",
          "kasika5",
          "aclbjc",
          "albatross007",
          "kinkino",
          "anjara",
          "boxsterbear",
          "happyrova",
          "boxsterbear",
          "puppypuppy",
          "crazy4watches",
          "gabz2383",
          "dream4321",
          "greenrobe",
          "markcic@aol.com",
          "boberlander@slk.com",
          "31strawberry",
          "butchballs",
          "izzy87",
          "hbhandre",
          "butchballs",
          "mapguy",
          "carloss8055",
          "jettie21",
          "growingwild",
          "sylvesterii",
          "larryr911",
          "aprefer",
          "nola",
          "restdynamics",
          "bcembor",
          "crazy4watches",
          "skw80104",
          "bosspad",
          "dkbay",
          "nana-tyler",
          "jjaslowski",
          "boberlander@slk.com",
          "saphi7171@amexol.net",
          "helvet",
          "adammurry",
          "scandalmus@aol.com",
          "natasham",
          "nguyenat@san.rr.com",
          "gisbert",
          "happyrova",
          "toadota",
          "pascal1666",
          "treasureprincess",
          "northwestportlandtrader",
          "orchidmktg@aol.com",
          "m3zy6",
          "fveta",
          "boraborabora",
          "carloss8055",
          "queenbebe71",
          "hjg6593",
          "dedesz",
          "lass1004",
          "chi-town7",
          "corradi19",
          "butchballs",
          "tori5678@aol.com",
          "freembd",
          "cutecube@mac.com",
          "19750926o",
          "otan1810",
          "sophiecorbett",
          "adihcu",
          "dkbay",
          "sunkisses2001",
          "alexiku",
          "azamora610@cs.com",
          "hugo44",
          "adammurry",
          "fossil1973",
          "capitalsquare",
          "31strawberry",
          "youmast",
          "rnmichelle",
          "happykid",
          "31strawberry",
          "tennisart7@aol.com",
          "happyrova",
          "ykelectro@hotmail.com",
          "tampa_tap",
          "bobfitz@bellsouth.net",
          "nana-tyler",
          "stesteste",
          "freembd",
          "cvmiami1",
          "rrsumba",
          "booba69",
          "morerd",
          "tomita-fukuyo",
          "pascal1666",
          "auntdotbids",
          "derek1881",
          "sophiecorbett",
          "naplboy",
          "k.s.cohen@verizon.net",
          "spikeit1990",
          "averart",
          "jvaynshtok",
          "freembd",
          "timevu",
          "happyrova",
          "bosspad",
          "pascal1666",
          "ljr32",
          "dadjr@stargate.net",
          "latinirish",
          "butchballs",
          "ralph.oman@dechert.com",
          "chevysred",
          "avion1333@hotmail.com",
          "eddsport",
          "toadota",
          "adammurry",
          "esmodeus",
          "tampa_tap",
          "netabe",
          "lola723",
          "en-igma",
          "sharpei1bellsouth",
          "el_coleccionista",
          "soul.reaver",
          "wpope",
          "cheddaboy",
          "jzdennis",
          "pialu9",
          "hjg6593",
          "cvmiami1",
          "skygirlab",
          "investmoore2",
          "bdsr1",
          "ad48170",
          "k.daruwala@btconnect.com",
          "rrsumba",
          "fuzzy3028",
          "akryzak",
          "friscotheman@aol.com",
          "diegorme",
          "honeycakesmoney",
          "valleart",
          "jvaynshtok",
          "trunkbath",
          "gisbert",
          "azamora610@cs.com",
          "sandseller",
          "zatop@excite.com",
          "jpamro@aol.com",
          "yokarine",
          "birdkowsky",
          "watchlover24",
          "honeycakesmoney",
          "investmoore2",
          "pascal1666",
          "butchballs",
          "kinkino",
          "filmwear",
          "honeycakesmoney",
          "nsala12",
          "freembd",
          "lass1004",
          "pascal1666",
          "adammurry",
          "timevu",
          "marky63",
          "nickoftimeblue",
          "sjcnguyen",
          "gotpayd",
          "maxwell_gems",
          "cutiepatutiesobe",
          "bdoocean@aol.com",
          "yung-wen",
          "jillkilleen",
          "spartan@mindspring.com",
          "cindy4779",
          "orchidmktg@aol.com",
          "trunkbath",
          "compfc@aol.com",
          "froilanda",
          "happyrova",
          "millyjohn",
          "ccd79",
          "debrittod",
          "adammurry",
          "hhn1998",
          "darwal-dep",
          "saphi7171@amexol.net",
          "birdkowsky",
          "tessieg.",
          "trunkbath",
          "19750926o",
          "nsala12",
          "jimboysan",
          "ps138",
          "josephvkuca@msn.com",
          "kimbo930",
          "freembd",
          "myactreasures",
          "restdynamics",
          "futurepilot",
          "stesteste",
          "the.hun",
          "gladioly68",
          "2jeweleyes",
          "ccd79",
          "crazy4watches",
          "brigidsboy",
          "growingwild",
          "cvmiami1",
          "tealeaf9",
          "earljrainbow",
          "davidsongirl2",
          "orchidmktg@aol.com",
          "hartmuto",
          "philwl3290",
          "pcsoftwareman",
          "anasandak",
          "bdsr1",
          "rnmichelle",
          "pascal1666",
          "restdynamics",
          "zmxu",
          "dressy-bessy",
          "cindy4779",
          "youmast",
          "dream4321",
          "jzdennis",
          "aclbjc",
          "oschoffst",
          "tigerwhisper",
          "2mnyboxers",
          "photosflasher",
          "happyrova",
          "treasureprincess",
          "pialu9",
          "yung-wen",
          "pialu9",
          "snb11",
          "somto_offoh",
          "freembd",
          "cvmiami1",
          "ngow34",
          "darwal-dep",
          "baby1228",
          "geemeetee@aol.com",
          "compfc@aol.com",
          "freembd",
          "vat15@earthlink.net",
          "vangoghbouvie",
          "blackdot",
          "sami-girl",
          "janetfugarazzo",
          "motion32",
          "reed.nl",
          "cindy4779",
          "bdsr1",
          "delux1cs",
          "helvet",
          "amskymom",
          "gjunca",
          "pascal1666",
          "ososer",
          "jzdennis",
          "24knice",
          "aclbjc",
          "luxustoys",
          "rumpelstillskin",
          "carla_kroeze",
          "shetellia@aol.com",
          "court_carreker",
          "19750926o",
          "7794369",
          "vpolyak",
          "12345678bird",
          "jjaslowski",
          "afrye37076@aol.com",
          "diegorme",
          "seriwan",
          "vdukat",
          "angelaleu",
          "mb@wellsref.com",
          "19750926o",
          "pcsoftwareman",
          "awinningbid",
          "lass1004",
          "debrittod",
          "stilepts@aol.com",
          "honeycakesmoney",
          "zatop@excite.com",
          "restdynamics",
          "treasureprincess",
          "soysoy75",
          "artkall",
          "aegean-2001",
          "zatop@excite.com",
          "littlekittygirl",
          "turbomausi",
          "airun101",
          "minni36",
          "gisbert",
          "en-igma",
          "njbirdmom",
          "angelaleu",
          "dleggoe@msn.com",
          "grayfirm",
          "iwantu2",
          "perrymd",
          "happyrova",
          "netabe",
          "rikluttmer",
          "queendebi2000",
          "oschoffst",
          "butchballs",
          "2mnyboxers",
          "violinisimo",
          "iiiimd",
          "vangoghbouvie",
          "strongob",
          "gisbert",
          "skkindvall@scottsbluff.ne",
          "adammurry",
          "gate99",
          "amskymom",
          "photosflasher",
          "marky63",
          "jseid",
          "freembd",
          "geemeetee@aol.com",
          "chevysred",
          "feyapos",
          "pascal1666",
          "19750926o",
          "hugo44",
          "tessieg.",
          "hhfgf",
          "rehmv",
          "yuriyshrifteylik@altavist",
          "eosnead@aol.com",
          "kylix",
          "bogdanbost",
          "darbarskip",
          "corbatas",
          "lass1004",
          "cvmiami1",
          "steven1328",
          "nguyenat@san.rr.com",
          "freembd",
          "pialu9",
          "paudst",
          "anasandak",
          "k.s.cohen@verizon.net",
          "tessieg.",
          "skw80104",
          "puppypuppy",
          "earljrainbow",
          "lass1004",
          "vickiejaykay",
          "surfingbig_boy",
          "c5193",
          "dema_luli",
          "gm492@columbia.edu",
          "kpimp4life76",
          "restdynamics",
          "cvmiami1",
          "mouse0919",
          "jimboysan",
          "perrymd",
          "growingwild",
          "ssze88",
          "corbatas",
          "sharpei1bellsouth",
          "k.s.cohen@verizon.net",
          "yokarine",
          "albertmiller",
          "freembd",
          "31strawberry",
          "motion32",
          "hartmuto",
          "otan1810",
          "lennonjasonmia@netzero.ne",
          "otan1810",
          "vkmathews",
          "kfreyvog@tampabay.rr.com",
          "ewe1950",
          "mmedina@calcsea.org",
          "darwal-dep",
          "sigsrus",
          "nelsoncpm",
          "amskymom",
          "31strawberry",
          "nana-tyler",
          "golfhacksaw",
          "baby1228",
          "mdalo36124@aol.com",
          "tampa_tap",
          "anasandak",
          "jsteinpsy",
          "gntburke",
          "smileoften",
          "gucci725",
          "birdkowsky",
          "duderino",
          "pascal1666",
          "bogdanbost",
          "darwal-dep",
          "5038scoopy",
          "mgicatwoman",
          "restdynamics",
          "djpjohn@aol.com",
          "zatop@excite.com",
          "12girl",
          "darwal-dep",
          "bdoocean@aol.com",
          "daviddonofrio",
          "freembd",
          "marky63",
          "vdukat",
          "carloss8055",
          "freembd",
          "strongob",
          "njbirdmom",
          "trunkbath",
          "pwr2mvu",
          "enthalpy1",
          "basilm@mediaone.net",
          "ellisek",
          "lc30",
          "19750926o",
          "sandragian",
          "vkmathews",
          "bdsr1",
          "deroode",
          "7794369",
          "jzdennis",
          "12345678bird",
          "bally29",
          "duderino",
          "fxschmidt",
          "tongyan",
          "carloss8055",
          "freembd",
          "arnoldpwc",
          "tampa_tap",
          "bosspad",
          "klove86650@aol.com",
          "tessieg.",
          "libobo",
          "31strawberry",
          "jillam58",
          "signedpiecesinc",
          "12345678bird",
          "crazy4watches",
          "otan1810",
          "perrymd",
          "amerland",
          "raritylink",
          "butchballs",
          "trunkbath",
          "goldplease",
          "hglinberg@aol.com",
          "superstore4less",
          "rrsumba",
          "darwal-dep",
          "sandragian",
          "sactogroove",
          "golfhacksaw",
          "hbhandre",
          "marie0711",
          "sandseller",
          "butchballs",
          "lass1004",
          "simonho2001sg",
          "nana-tyler",
          "scandalmus@aol.com",
          "maxwell_gems",
          "rrsumba",
          "vkmathews",
          "birdkowsky",
          "gbcoins",
          "esquared@home.com",
          "avion1333@hotmail.com",
          "deroode",
          "dscollier3",
          "criteen",
          "rsency@disnow.com",
          "svm2k",
          "marcusclick",
          "scottuysal77",
          "conkun",
          "tampa_tap",
          "bosspad",
          "gisbert",
          "juseas",
          "boxsterbear",
          "njbirdmom",
          "anasandak",
          "watchv70t5",
          "oseo",
          "fossil73",
          "cvmiami1",
          "mmedina@calcsea.org",
          "boraborabora",
          "baby1228",
          "tessieg.",
          "darwal-dep",
          "adammurry",
          "kiero1@webtv.com",
          "rplfunding",
          "grayfirm",
          "boberlander@slk.com",
          "adammurry",
          "mom_he_she_hitme",
          "hora01",
          "vpolyak",
          "tab999@msn.com",
          "helvet",
          "marcusclick",
          "mjopusone@aol.com",
          "janno47",
          "timeatlast",
          "saphi7171@amexol.net",
          "happyrova",
          "ososer",
          "happyrova",
          "butchballs",
          "cvmiami1",
          "spartan@mindspring.com",
          "kvam@home.com",
          "cindy4779",
          "lass1004",
          "adihcu",
          "rnb4",
          "orchidmktg@aol.com",
          "overflowingcloset",
          "adammurry",
          "adammurry",
          "myactreasures",
          "globalartcomm@aol.com",
          "hhfgf",
          "wschorer@earthlink.net",
          "helvet",
          "carloss8055",
          "youmast",
          "adammurry",
          "tampa_tap",
          "vpolyak",
          "myactreasures",
          "capitalsquare",
          "golfhacksaw",
          "vat15@earthlink.net",
          "rrsumba",
          "en-igma",
          "pascal1666",
          "hglinberg@aol.com",
          "doc213",
          "helvet",
          "millyjohn",
          "honey-marie",
          "roysco",
          "carloss8055",
          "zatop@excite.com",
          "19750926o",
          "imurreson4living",
          "darbarskip",
          "gotpayd",
          "eddsport",
          "friscotheman@aol.com",
          "avion1333@hotmail.com",
          "tigerwhisper",
          "motion32",
          "hbhandre",
          "gucci725",
          "pialu9",
          "happyrova",
          "libobo",
          "gisbert",
          "yuriyshrifteylik@altavist",
          "k.daruwala@btconnect.com",
          "acbre",
          "cutecube@mac.com",
          "19750926o",
          "auntdotbids",
          "bally29",
          "smileoften",
          "soysoy75",
          "buyall5",
          "signedpiecesinc",
          "leonardcohenfan",
          "svm2k",
          "butchballs",
          "the.hun",
          "anncm77@aol.com",
          "sirocco@prodigy.net",
          "31strawberry",
          "airun101",
          "cindy4779",
          "dleggoe@msn.com",
          "maxwell_gems",
          "netabe",
          "photosflasher",
          "janss454@wxs.nl",
          "gate99",
          "svm2k",
          "pereluzi00",
          "dscollier3",
          "court_carreker",
          "31strawberry",
          "treasureking.com",
          "sunday322",
          "cvmiami1",
          "gisbert",
          "boberlander@slk.com",
          "boxsterbear",
          "cnelis",
          "debrittod",
          "jettie21",
          "jvaynshtok",
          "feyapos",
          "marcusclick",
          "overflowingcloset",
          "bosspad",
          "sigsrus",
          "brigidsboy",
          "eosnead@aol.com",
          "k.l.pine",
          "soul.reaver",
          "yung-wen",
          "steven1328",
          "freembd",
          "darwal-dep",
          "gabz2383",
          "janetfugarazzo",
          "restdynamics",
          "nana-tyler",
          "carloss8055",
          "adammurry",
          "roticss",
          "trunkbath",
          "mmedina@calcsea.org",
          "nguyenat@san.rr.com",
          "mapguy",
          "adammurry",
          "vickiejaykay",
          "sophiecorbett",
          "turbomausi",
          "happyrova",
          "carlondono",
          "orlanfs",
          "blackdot",
          "davidsongirl2",
          "pascal1666",
          "tessieg.",
          "finn69",
          "earljrainbow",
          "rkq",
          "jackofspeed",
          "motion32",
          "golfhacksaw",
          "birdkowsky",
          "strongob",
          "toadota",
          "wpope",
          "treasureprincess",
          "pascal1666",
          "anasandak",
          "ewe1950",
          "ifonawintersnightatravell",
          "lass1004",
          "sophiecorbett",
          "crazy4watches",
          "fossil1973",
          "bobfitz@bellsouth.net",
          "cutiepatutiesobe",
          "compfc@aol.com",
          "diegorme",
          "vpolyak",
          "pcsoftwareman",
          "pialu9",
          "ngow34",
          "youmast",
          "cindy4779",
          "filmwear",
          "jtr777@aol.com",
          "carloss8055",
          "kylix",
          "ososer",
          "pro2cer@hotmail.com",
          "stesteste",
          "vpham.2000",
          "19750926o",
          "philwl3290",
          "happyrova",
          "iwantu2",
          "darwal-dep",
          "whalen@northlink.com",
          "youmast",
          "dkbay",
          "anjara",
          "klove86650@aol.com",
          "amerland",
          "vangoghbouvie",
          "coharley",
          "sandragian",
          "vpolyak",
          "nguyenat@san.rr.com",
          "baby1228",
          "pialu9",
          "duderino",
          "esmodeus",
          "callawayjb@aol.com",
          "skygirlab",
          "pegcll",
          "derek1881",
          "31strawberry",
          "njbirdmom",
          "azamora610@cs.com",
          "lacagnina",
          "cvmiami1",
          "geemeetee@aol.com",
          "sandragian",
          "ewe1950",
          "bosspad",
          "nana-tyler",
          "chrissiegurl",
          "darwal-dep",
          "debrittod",
          "saphi7171@amexol.net",
          "vkns",
          "vdukat",
          "lass1004",
          "pascal1666",
          "12345678bird",
          "hhfgf",
          "janno47",
          "toadota",
          "bosspad",
          "nickoftimeblue",
          "tampa_tap",
          "vleykin",
          "jimboysan",
          "adammurry",
          "anasandak",
          "bdsr1",
          "hugo44",
          "aegean-2001"
         ]
        }
       ],
       "layout": {
        "barmode": "overlay",
        "template": {
         "data": {
          "bar": [
           {
            "error_x": {
             "color": "#2a3f5f"
            },
            "error_y": {
             "color": "#2a3f5f"
            },
            "marker": {
             "line": {
              "color": "#E5ECF6",
              "width": 0.5
             }
            },
            "type": "bar"
           }
          ],
          "barpolar": [
           {
            "marker": {
             "line": {
              "color": "#E5ECF6",
              "width": 0.5
             }
            },
            "type": "barpolar"
           }
          ],
          "carpet": [
           {
            "aaxis": {
             "endlinecolor": "#2a3f5f",
             "gridcolor": "white",
             "linecolor": "white",
             "minorgridcolor": "white",
             "startlinecolor": "#2a3f5f"
            },
            "baxis": {
             "endlinecolor": "#2a3f5f",
             "gridcolor": "white",
             "linecolor": "white",
             "minorgridcolor": "white",
             "startlinecolor": "#2a3f5f"
            },
            "type": "carpet"
           }
          ],
          "choropleth": [
           {
            "colorbar": {
             "outlinewidth": 0,
             "ticks": ""
            },
            "type": "choropleth"
           }
          ],
          "contour": [
           {
            "colorbar": {
             "outlinewidth": 0,
             "ticks": ""
            },
            "colorscale": [
             [
              0,
              "#0d0887"
             ],
             [
              0.1111111111111111,
              "#46039f"
             ],
             [
              0.2222222222222222,
              "#7201a8"
             ],
             [
              0.3333333333333333,
              "#9c179e"
             ],
             [
              0.4444444444444444,
              "#bd3786"
             ],
             [
              0.5555555555555556,
              "#d8576b"
             ],
             [
              0.6666666666666666,
              "#ed7953"
             ],
             [
              0.7777777777777778,
              "#fb9f3a"
             ],
             [
              0.8888888888888888,
              "#fdca26"
             ],
             [
              1,
              "#f0f921"
             ]
            ],
            "type": "contour"
           }
          ],
          "contourcarpet": [
           {
            "colorbar": {
             "outlinewidth": 0,
             "ticks": ""
            },
            "type": "contourcarpet"
           }
          ],
          "heatmap": [
           {
            "colorbar": {
             "outlinewidth": 0,
             "ticks": ""
            },
            "colorscale": [
             [
              0,
              "#0d0887"
             ],
             [
              0.1111111111111111,
              "#46039f"
             ],
             [
              0.2222222222222222,
              "#7201a8"
             ],
             [
              0.3333333333333333,
              "#9c179e"
             ],
             [
              0.4444444444444444,
              "#bd3786"
             ],
             [
              0.5555555555555556,
              "#d8576b"
             ],
             [
              0.6666666666666666,
              "#ed7953"
             ],
             [
              0.7777777777777778,
              "#fb9f3a"
             ],
             [
              0.8888888888888888,
              "#fdca26"
             ],
             [
              1,
              "#f0f921"
             ]
            ],
            "type": "heatmap"
           }
          ],
          "heatmapgl": [
           {
            "colorbar": {
             "outlinewidth": 0,
             "ticks": ""
            },
            "colorscale": [
             [
              0,
              "#0d0887"
             ],
             [
              0.1111111111111111,
              "#46039f"
             ],
             [
              0.2222222222222222,
              "#7201a8"
             ],
             [
              0.3333333333333333,
              "#9c179e"
             ],
             [
              0.4444444444444444,
              "#bd3786"
             ],
             [
              0.5555555555555556,
              "#d8576b"
             ],
             [
              0.6666666666666666,
              "#ed7953"
             ],
             [
              0.7777777777777778,
              "#fb9f3a"
             ],
             [
              0.8888888888888888,
              "#fdca26"
             ],
             [
              1,
              "#f0f921"
             ]
            ],
            "type": "heatmapgl"
           }
          ],
          "histogram": [
           {
            "marker": {
             "colorbar": {
              "outlinewidth": 0,
              "ticks": ""
             }
            },
            "type": "histogram"
           }
          ],
          "histogram2d": [
           {
            "colorbar": {
             "outlinewidth": 0,
             "ticks": ""
            },
            "colorscale": [
             [
              0,
              "#0d0887"
             ],
             [
              0.1111111111111111,
              "#46039f"
             ],
             [
              0.2222222222222222,
              "#7201a8"
             ],
             [
              0.3333333333333333,
              "#9c179e"
             ],
             [
              0.4444444444444444,
              "#bd3786"
             ],
             [
              0.5555555555555556,
              "#d8576b"
             ],
             [
              0.6666666666666666,
              "#ed7953"
             ],
             [
              0.7777777777777778,
              "#fb9f3a"
             ],
             [
              0.8888888888888888,
              "#fdca26"
             ],
             [
              1,
              "#f0f921"
             ]
            ],
            "type": "histogram2d"
           }
          ],
          "histogram2dcontour": [
           {
            "colorbar": {
             "outlinewidth": 0,
             "ticks": ""
            },
            "colorscale": [
             [
              0,
              "#0d0887"
             ],
             [
              0.1111111111111111,
              "#46039f"
             ],
             [
              0.2222222222222222,
              "#7201a8"
             ],
             [
              0.3333333333333333,
              "#9c179e"
             ],
             [
              0.4444444444444444,
              "#bd3786"
             ],
             [
              0.5555555555555556,
              "#d8576b"
             ],
             [
              0.6666666666666666,
              "#ed7953"
             ],
             [
              0.7777777777777778,
              "#fb9f3a"
             ],
             [
              0.8888888888888888,
              "#fdca26"
             ],
             [
              1,
              "#f0f921"
             ]
            ],
            "type": "histogram2dcontour"
           }
          ],
          "mesh3d": [
           {
            "colorbar": {
             "outlinewidth": 0,
             "ticks": ""
            },
            "type": "mesh3d"
           }
          ],
          "parcoords": [
           {
            "line": {
             "colorbar": {
              "outlinewidth": 0,
              "ticks": ""
             }
            },
            "type": "parcoords"
           }
          ],
          "pie": [
           {
            "automargin": true,
            "type": "pie"
           }
          ],
          "scatter": [
           {
            "marker": {
             "colorbar": {
              "outlinewidth": 0,
              "ticks": ""
             }
            },
            "type": "scatter"
           }
          ],
          "scatter3d": [
           {
            "line": {
             "colorbar": {
              "outlinewidth": 0,
              "ticks": ""
             }
            },
            "marker": {
             "colorbar": {
              "outlinewidth": 0,
              "ticks": ""
             }
            },
            "type": "scatter3d"
           }
          ],
          "scattercarpet": [
           {
            "marker": {
             "colorbar": {
              "outlinewidth": 0,
              "ticks": ""
             }
            },
            "type": "scattercarpet"
           }
          ],
          "scattergeo": [
           {
            "marker": {
             "colorbar": {
              "outlinewidth": 0,
              "ticks": ""
             }
            },
            "type": "scattergeo"
           }
          ],
          "scattergl": [
           {
            "marker": {
             "colorbar": {
              "outlinewidth": 0,
              "ticks": ""
             }
            },
            "type": "scattergl"
           }
          ],
          "scattermapbox": [
           {
            "marker": {
             "colorbar": {
              "outlinewidth": 0,
              "ticks": ""
             }
            },
            "type": "scattermapbox"
           }
          ],
          "scatterpolar": [
           {
            "marker": {
             "colorbar": {
              "outlinewidth": 0,
              "ticks": ""
             }
            },
            "type": "scatterpolar"
           }
          ],
          "scatterpolargl": [
           {
            "marker": {
             "colorbar": {
              "outlinewidth": 0,
              "ticks": ""
             }
            },
            "type": "scatterpolargl"
           }
          ],
          "scatterternary": [
           {
            "marker": {
             "colorbar": {
              "outlinewidth": 0,
              "ticks": ""
             }
            },
            "type": "scatterternary"
           }
          ],
          "surface": [
           {
            "colorbar": {
             "outlinewidth": 0,
             "ticks": ""
            },
            "colorscale": [
             [
              0,
              "#0d0887"
             ],
             [
              0.1111111111111111,
              "#46039f"
             ],
             [
              0.2222222222222222,
              "#7201a8"
             ],
             [
              0.3333333333333333,
              "#9c179e"
             ],
             [
              0.4444444444444444,
              "#bd3786"
             ],
             [
              0.5555555555555556,
              "#d8576b"
             ],
             [
              0.6666666666666666,
              "#ed7953"
             ],
             [
              0.7777777777777778,
              "#fb9f3a"
             ],
             [
              0.8888888888888888,
              "#fdca26"
             ],
             [
              1,
              "#f0f921"
             ]
            ],
            "type": "surface"
           }
          ],
          "table": [
           {
            "cells": {
             "fill": {
              "color": "#EBF0F8"
             },
             "line": {
              "color": "white"
             }
            },
            "header": {
             "fill": {
              "color": "#C8D4E3"
             },
             "line": {
              "color": "white"
             }
            },
            "type": "table"
           }
          ]
         },
         "layout": {
          "annotationdefaults": {
           "arrowcolor": "#2a3f5f",
           "arrowhead": 0,
           "arrowwidth": 1
          },
          "coloraxis": {
           "colorbar": {
            "outlinewidth": 0,
            "ticks": ""
           }
          },
          "colorscale": {
           "diverging": [
            [
             0,
             "#8e0152"
            ],
            [
             0.1,
             "#c51b7d"
            ],
            [
             0.2,
             "#de77ae"
            ],
            [
             0.3,
             "#f1b6da"
            ],
            [
             0.4,
             "#fde0ef"
            ],
            [
             0.5,
             "#f7f7f7"
            ],
            [
             0.6,
             "#e6f5d0"
            ],
            [
             0.7,
             "#b8e186"
            ],
            [
             0.8,
             "#7fbc41"
            ],
            [
             0.9,
             "#4d9221"
            ],
            [
             1,
             "#276419"
            ]
           ],
           "sequential": [
            [
             0,
             "#0d0887"
            ],
            [
             0.1111111111111111,
             "#46039f"
            ],
            [
             0.2222222222222222,
             "#7201a8"
            ],
            [
             0.3333333333333333,
             "#9c179e"
            ],
            [
             0.4444444444444444,
             "#bd3786"
            ],
            [
             0.5555555555555556,
             "#d8576b"
            ],
            [
             0.6666666666666666,
             "#ed7953"
            ],
            [
             0.7777777777777778,
             "#fb9f3a"
            ],
            [
             0.8888888888888888,
             "#fdca26"
            ],
            [
             1,
             "#f0f921"
            ]
           ],
           "sequentialminus": [
            [
             0,
             "#0d0887"
            ],
            [
             0.1111111111111111,
             "#46039f"
            ],
            [
             0.2222222222222222,
             "#7201a8"
            ],
            [
             0.3333333333333333,
             "#9c179e"
            ],
            [
             0.4444444444444444,
             "#bd3786"
            ],
            [
             0.5555555555555556,
             "#d8576b"
            ],
            [
             0.6666666666666666,
             "#ed7953"
            ],
            [
             0.7777777777777778,
             "#fb9f3a"
            ],
            [
             0.8888888888888888,
             "#fdca26"
            ],
            [
             1,
             "#f0f921"
            ]
           ]
          },
          "colorway": [
           "#636efa",
           "#EF553B",
           "#00cc96",
           "#ab63fa",
           "#FFA15A",
           "#19d3f3",
           "#FF6692",
           "#B6E880",
           "#FF97FF",
           "#FECB52"
          ],
          "font": {
           "color": "#2a3f5f"
          },
          "geo": {
           "bgcolor": "white",
           "lakecolor": "white",
           "landcolor": "#E5ECF6",
           "showlakes": true,
           "showland": true,
           "subunitcolor": "white"
          },
          "hoverlabel": {
           "align": "left"
          },
          "hovermode": "closest",
          "mapbox": {
           "style": "light"
          },
          "paper_bgcolor": "white",
          "plot_bgcolor": "#E5ECF6",
          "polar": {
           "angularaxis": {
            "gridcolor": "white",
            "linecolor": "white",
            "ticks": ""
           },
           "bgcolor": "#E5ECF6",
           "radialaxis": {
            "gridcolor": "white",
            "linecolor": "white",
            "ticks": ""
           }
          },
          "scene": {
           "xaxis": {
            "backgroundcolor": "#E5ECF6",
            "gridcolor": "white",
            "gridwidth": 2,
            "linecolor": "white",
            "showbackground": true,
            "ticks": "",
            "zerolinecolor": "white"
           },
           "yaxis": {
            "backgroundcolor": "#E5ECF6",
            "gridcolor": "white",
            "gridwidth": 2,
            "linecolor": "white",
            "showbackground": true,
            "ticks": "",
            "zerolinecolor": "white"
           },
           "zaxis": {
            "backgroundcolor": "#E5ECF6",
            "gridcolor": "white",
            "gridwidth": 2,
            "linecolor": "white",
            "showbackground": true,
            "ticks": "",
            "zerolinecolor": "white"
           }
          },
          "shapedefaults": {
           "line": {
            "color": "#2a3f5f"
           }
          },
          "ternary": {
           "aaxis": {
            "gridcolor": "white",
            "linecolor": "white",
            "ticks": ""
           },
           "baxis": {
            "gridcolor": "white",
            "linecolor": "white",
            "ticks": ""
           },
           "bgcolor": "#E5ECF6",
           "caxis": {
            "gridcolor": "white",
            "linecolor": "white",
            "ticks": ""
           }
          },
          "title": {
           "x": 0.05
          },
          "xaxis": {
           "automargin": true,
           "gridcolor": "white",
           "linecolor": "white",
           "ticks": "",
           "title": {
            "standoff": 15
           },
           "zerolinecolor": "white",
           "zerolinewidth": 2
          },
          "yaxis": {
           "automargin": true,
           "gridcolor": "white",
           "linecolor": "white",
           "ticks": "",
           "title": {
            "standoff": 15
           },
           "zerolinecolor": "white",
           "zerolinewidth": 2
          }
         }
        },
        "title": {
         "text": "bidder"
        },
        "yaxis": {
         "title": {
          "text": "Count"
         }
        }
       }
      },
      "text/html": [
       "<div>\n",
       "        \n",
       "        \n",
       "            <div id=\"9c49e050-6adf-4c41-bfdb-ba1621394883\" class=\"plotly-graph-div\" style=\"height:525px; width:100%;\"></div>\n",
       "            <script type=\"text/javascript\">\n",
       "                require([\"plotly\"], function(Plotly) {\n",
       "                    window.PLOTLYENV=window.PLOTLYENV || {};\n",
       "                    \n",
       "                if (document.getElementById(\"9c49e050-6adf-4c41-bfdb-ba1621394883\")) {\n",
       "                    Plotly.newPlot(\n",
       "                        '9c49e050-6adf-4c41-bfdb-ba1621394883',\n",
       "                        [{\"opacity\": 0.75, \"type\": \"histogram\", \"x\": [\"boraborabora\", \"aclbjc\", \"nelsoncpm\", \"pialu9\", \"geemeetee@aol.com\", \"darbarskip\", \"dollfacepumpkin\", \"bogdanbost\", \"bdonahue9@aol.com\", \"msvail\", \"jepattiii\", \"turbomausi\", \"trunkbath\", \"whalen@northlink.com\", \"pdhsu1\", \"dre_313@yahoo.com\", \"pascal1666\", \"apfb@excite.com\", \"cnelis\", \"b2hats\", \"mkect10\", \"adammurry\", \"b2hats\", \"njbirdmom\", \"azamora610@cs.com\", \"hora01\", \"pereluzi00\", \"jimboysan\", \"nana-tyler\", \"mapguy\", \"angelaleu\", \"mkb98\", \"renob2\", \"sigsrus\", \"bogdanbost\", \"regman324\", \"peterfung@aol.com\", \"honeycakesmoney\", \"biggeo@hotmail.com\", \"azamora610@cs.com\", \"happyrova\", \"delux1cs\", \"pcsoftwareman\", \"njbirdmom\", \"samkap\", \"spartan@mindspring.com\", \"sirocco@prodigy.net\", \"bahamawoman\", \"sandseller\", \"otan1810\", \"sirocco@prodigy.net\", \"ro50014\", \"restdynamics\", \"pablofennymore\", \"ewe1950\", \"iwantu2\", \"perrymd\", \"saphi7171@amexol.net\", \"dream4321\", \"lola723\", \"darwal-dep\", \"pro2cer@hotmail.com\", \"northwestportlandtrader\", \"lennonjasonmia@netzero.ne\", \"cindy4779\", \"lemsgems\", \"smartgirl0204\", \"lass1004\", \"cvmiami1\", \"cutiepatutiesobe\", \"amskymom\", \"19750926o\", \"why18\", \"ifonawintersnightatravell\", \"jimboysan\", \"sudohani\", \"clubmember\", \"lass1004\", \"blackdot\", \"lacagnina\", \"rolexaddict\", \"skyl\", \"zatop@excite.com\", \"freembd\", \"hestellguru\", \"cutecube@mac.com\", \"cvmiami1\", \"marcusclick\", \"gram999\", \"orchidmktg@aol.com\", \"lola723\", \"sophiecorbett\", \"zatsplits@aol.com\", \"gisbert\", \"19750926o\", \"saphi7171@amexol.net\", \"lacagnina\", \"growingwild\", \"bally29\", \"loreparra@excite.com\", \"gknguyen\", \"pereluzi00\", \"restdynamics\", \"netabe\", \"dleggoe@msn.com\", \"alfietravers\", \"saphi7171@amexol.net\", \"alfietravers\", \"aninanin\", \"bosspad\", \"lass1004\", \"terryd2053\", \"spikeit1990\", \"treasureking.com\", \"dalear6@aol.com\", \"dleggoe@msn.com\", \"helvet\", \"klute1\", \"nana-tyler\", \"lc30\", \"cunmrs\", \"jmsolo\", \"smileoften\", \"vkns\", \"orlanfs\", \"jannypie1\", \"lass1004\", \"callawayjb@aol.com\", \"timeatlast\", \"19750926o\", \"orchidmktg@aol.com\", \"njbirdmom\", \"friscotheman@aol.com\", \"helvet\", \"vpolyak\", \"bosspad\", \"sirocco@prodigy.net\", \"richardgz\", \"lacagnina\", \"chrissiegurl\", \"diamonddr1@aol.com\", \"anasandak\", \"hugo44\", \"oschoffst\", \"whalen@northlink.com\", \"rplfunding\", \"gntburke\", \"wlp@mediaone.net\", \"janno47\", \"marky63\", \"orlanfs\", \"toadota\", \"boraborabora\", \"jtr777@aol.com\", \"cutiepatutiesobe\", \"somto_offoh\", \"hugo44\", \"overflowingcloset\", \"toadota\", \"jackofspeed\", \"northwestportlandtrader\", \"sactogroove\", \"buyall5\", \"scott@purplepicket.com\", \"crta@ti.com\", \"izzy87\", \"dedesz\", \"avion1333@hotmail.com\", \"leonardcohenfan\", \"brigidsboy\", \"terryd2053\", \"mlsrbrt@aol.com\", \"doc213\", \"restdynamics\", \"afaucher\", \"zatsplits@aol.com\", \"fossil1973\", \"strongob\", \"dleggoe@msn.com\", \"diegorme\", \"pcsoftwareman\", \"juseas\", \"rskala@easytel.net\", \"jpamro@aol.com\", \"vpham.2000\", \"k.s.cohen@verizon.net\", \"19750926o\", \"basilm@mediaone.net\", \"juseas\", \"lass1004\", \"tampa_tap\", \"lafontant155\", \"toadota\", \"overflowingcloset\", \"birdkowsky\", \"rsahaj@yahoo.com\", \"mkb98\", \"haring123\", \"coharley\", \"overflowingcloset\", \"perrymd\", \"ahmadk\", \"sandragian\", \"talwang\", \"k.daruwala@btconnect.com\", \"dressy-bessy\", \"honeycakesmoney\", \"yoder9\", \"spikeit1990\", \"drob223\", \"jimboysan\", \"cindy4779\", \"akryzak\", \"richardgz\", \"pegcll\", \"dumbarton2715\", \"angelaleu\", \"happyrova\", \"ngow34\", \"vleykin\", \"adammurry\", \"toadota\", \"nola\", \"lacagnina\", \"ccie51xx\", \"wlp@mediaone.net\", \"hover@ucnsb.net\", \"boxsterbear\", \"lc30\", \"justine@701701.com\", \"corbatas\", \"butchballs\", \"whiteeagle@shadow.net\", \"mroth1099\", \"marky63\", \"happyrova\", \"sami-girl\", \"adammurry\", \"vkns\", \"jimboysan\", \"mgicatwoman\", \"vdukat\", \"butchballs\", \"kasika5\", \"k.s.cohen@verizon.net\", \"fveta\", \"hbhandre\", \"vleykin\", \"vdukat\", \"mdhallin\", \"overflowingcloset\", \"avion1333@hotmail.com\", \"duderino\", \"youmast\", \"marky63\", \"ctlisalisa\", \"overflowingcloset\", \"k.s.cohen@verizon.net\", \"cindy4779\", \"saphi7171@amexol.net\", \"mgicatwoman\", \"yuriyshrifteylik@altavist\", \"raritylink\", \"marcusclick\", \"va2ca\", \"fjfds@aol.com\", \"carlondono\", \"skygirlab\", \"gucci725\", \"cindy4779\", \"raritylink\", \"feyapos\", \"akapson\", \"mgicatwoman\", \"adammurry\", \"freembd\", \"cudd8963@aol.com\", \"kfreyvog@tampabay.rr.com\", \"annekilborn@hotmail.com\", \"carloss8055\", \"mrm0214@yahoo.com\", \"pascal1666\", \"yung-wen\", \"sactogroove\", \"rumpelstillskin\", \"heres2you\", \"turbomausi\", \"englishteacher21\", \"various19735\", \"kpimp4life76\", \"lass1004\", \"sirocco@prodigy.net\", \"pascal1666\", \"natasham\", \"thehandmadens\", \"nychowderhead\", \"du38120\", \"gram999\", \"vpolyak\", \"pascal1666\", \"bogdanbost\", \"restdynamics\", \"vangoghbouvie\", \"myactreasures\", \"artkall\", \"rrsumba\", \"vpolyak\", \"trunkbath\", \"youmast\", \"ykelectro@hotmail.com\", \"ewe1950\", \"ps138\", \"pascal1666\", \"nana-tyler\", \"motion32\", \"ox21c\", \"pascal1666\", \"corradi19\", \"rrsumba\", \"vpolyak\", \"birdkowsky\", \"scandalmus@aol.com\", \"jettie21\", \"sami-girl\", \"blackdot\", \"roysco\", \"cufflink@erols.com\", \"lass1004\", \"philwl3290\", \"cnelis\", \"debrittod\", \"en-igma\", \"sactogroove\", \"kinkino\", \"vangoghbouvie\", \"mgicatwoman\", \"bally29\", \"feyapos\", \"the.hammer\", \"vkmathews\", \"gram999\", \"motion32\", \"kinkino\", \"svm2k\", \"didckdtn\", \"scott@purplepicket.com\", \"bosomvie\", \"bcembor\", \"akapson\", \"yuriyshrifteylik@altavist\", \"ps138\", \"photosflasher\", \"tea_pot_girl\", \"mapguy\", \"anasandak\", \"darwal-dep\", \"rkq\", \"honey-marie\", \"dgulkis@mcdata.com\", \"yokarine\", \"cvmiami1\", \"thehandmadens\", \"2000joe\", \"dre_313@yahoo.com\", \"thehandmadens\", \"ivgen\", \"mmedina@calcsea.org\", \"gabz2383\", \"ojjuice2@aol.com\", \"19750926o\", \"motion32\", \"hot_rookie\", \"maxwell_gems\", \"rrsumba\", \"happyrova\", \"nguyenat@san.rr.com\", \"gmorgan@elliman.com\", \"cheddaboy\", \"nguyenat@san.rr.com\", \"awinningbid\", \"pereluzi00\", \"bosspad\", \"restdynamics\", \"honeycakesmoney\", \"spartan@mindspring.com\", \"signedpiecesinc\", \"k.daruwala@btconnect.com\", \"soul.reaver\", \"kdrew@prodigy.net\", \"sunday322\", \"jennou\", \"bceezar1@aol.com\", \"myactreasures\", \"skyl\", \"scandalmus@aol.com\", \"watchv70t5\", \"bdsr1\", \"strongob\", \"marcusclick\", \"soysoy75\", \"ccd79\", \"vkns\", \"gucci725\", \"bogdanbost\", \"northwestportlandtrader\", \"rikluttmer\", \"mmedina@calcsea.org\", \"dressy-bessy\", \"luxurysource001\", \"lacagnina\", \"freembd\", \"happyrova\", \"adammurry\", \"mdhallin\", \"soul.reaver\", \"kasika5\", \"gram999\", \"photosflasher\", \"janss454@wxs.nl\", \"cindy4779\", \"du38120\", \"honeycakesmoney\", \"vat15@earthlink.net\", \"19750926o\", \"hugo44\", \"ifonawintersnightatravell\", \"acbre\", \"hugo44\", \"jdrinaz\", \"saphi7171@amexol.net\", \"helvet\", \"cbcolqunoun\", \"ojbiii\", \"happyrova\", \"dre_313@yahoo.com\", \"peterfung@aol.com\", \"princess-ginger\", \"berler@msn.com\", \"imurreson4living\", \"k.l.pine\", \"b2hats\", \"jennou\", \"darwal-dep\", \"tampa_tap\", \"soul.reaver\", \"fjfds@aol.com\", \"hseldin\", \"roticss\", \"orlanfs\", \"anncm77@aol.com\", \"markcic@aol.com\", \"carloss8055\", \"derek1881\", \"finn69\", \"helvet\", \"motion32\", \"fortlaud.collection\", \"dispassion\", \"trunkbath\", \"sylvesterii\", \"9lights\", \"blackdot\", \"mkect10\", \"cvmiami1\", \"compfc@aol.com\", \"kasika5\", \"aclbjc\", \"albatross007\", \"kinkino\", \"anjara\", \"boxsterbear\", \"happyrova\", \"boxsterbear\", \"puppypuppy\", \"crazy4watches\", \"gabz2383\", \"dream4321\", \"greenrobe\", \"markcic@aol.com\", \"boberlander@slk.com\", \"31strawberry\", \"butchballs\", \"izzy87\", \"hbhandre\", \"butchballs\", \"mapguy\", \"carloss8055\", \"jettie21\", \"growingwild\", \"sylvesterii\", \"larryr911\", \"aprefer\", \"nola\", \"restdynamics\", \"bcembor\", \"crazy4watches\", \"skw80104\", \"bosspad\", \"dkbay\", \"nana-tyler\", \"jjaslowski\", \"boberlander@slk.com\", \"saphi7171@amexol.net\", \"helvet\", \"adammurry\", \"scandalmus@aol.com\", \"natasham\", \"nguyenat@san.rr.com\", \"gisbert\", \"happyrova\", \"toadota\", \"pascal1666\", \"treasureprincess\", \"northwestportlandtrader\", \"orchidmktg@aol.com\", \"m3zy6\", \"fveta\", \"boraborabora\", \"carloss8055\", \"queenbebe71\", \"hjg6593\", \"dedesz\", \"lass1004\", \"chi-town7\", \"corradi19\", \"butchballs\", \"tori5678@aol.com\", \"freembd\", \"cutecube@mac.com\", \"19750926o\", \"otan1810\", \"sophiecorbett\", \"adihcu\", \"dkbay\", \"sunkisses2001\", \"alexiku\", \"azamora610@cs.com\", \"hugo44\", \"adammurry\", \"fossil1973\", \"capitalsquare\", \"31strawberry\", \"youmast\", \"rnmichelle\", \"happykid\", \"31strawberry\", \"tennisart7@aol.com\", \"happyrova\", \"ykelectro@hotmail.com\", \"tampa_tap\", \"bobfitz@bellsouth.net\", \"nana-tyler\", \"stesteste\", \"freembd\", \"cvmiami1\", \"rrsumba\", \"booba69\", \"morerd\", \"tomita-fukuyo\", \"pascal1666\", \"auntdotbids\", \"derek1881\", \"sophiecorbett\", \"naplboy\", \"k.s.cohen@verizon.net\", \"spikeit1990\", \"averart\", \"jvaynshtok\", \"freembd\", \"timevu\", \"happyrova\", \"bosspad\", \"pascal1666\", \"ljr32\", \"dadjr@stargate.net\", \"latinirish\", \"butchballs\", \"ralph.oman@dechert.com\", \"chevysred\", \"avion1333@hotmail.com\", \"eddsport\", \"toadota\", \"adammurry\", \"esmodeus\", \"tampa_tap\", \"netabe\", \"lola723\", \"en-igma\", \"sharpei1bellsouth\", \"el_coleccionista\", \"soul.reaver\", \"wpope\", \"cheddaboy\", \"jzdennis\", \"pialu9\", \"hjg6593\", \"cvmiami1\", \"skygirlab\", \"investmoore2\", \"bdsr1\", \"ad48170\", \"k.daruwala@btconnect.com\", \"rrsumba\", \"fuzzy3028\", \"akryzak\", \"friscotheman@aol.com\", \"diegorme\", \"honeycakesmoney\", \"valleart\", \"jvaynshtok\", \"trunkbath\", \"gisbert\", \"azamora610@cs.com\", \"sandseller\", \"zatop@excite.com\", \"jpamro@aol.com\", \"yokarine\", \"birdkowsky\", \"watchlover24\", \"honeycakesmoney\", \"investmoore2\", \"pascal1666\", \"butchballs\", \"kinkino\", \"filmwear\", \"honeycakesmoney\", \"nsala12\", \"freembd\", \"lass1004\", \"pascal1666\", \"adammurry\", \"timevu\", \"marky63\", \"nickoftimeblue\", \"sjcnguyen\", \"gotpayd\", \"maxwell_gems\", \"cutiepatutiesobe\", \"bdoocean@aol.com\", \"yung-wen\", \"jillkilleen\", \"spartan@mindspring.com\", \"cindy4779\", \"orchidmktg@aol.com\", \"trunkbath\", \"compfc@aol.com\", \"froilanda\", \"happyrova\", \"millyjohn\", \"ccd79\", \"debrittod\", \"adammurry\", \"hhn1998\", \"darwal-dep\", \"saphi7171@amexol.net\", \"birdkowsky\", \"tessieg.\", \"trunkbath\", \"19750926o\", \"nsala12\", \"jimboysan\", \"ps138\", \"josephvkuca@msn.com\", \"kimbo930\", \"freembd\", \"myactreasures\", \"restdynamics\", \"futurepilot\", \"stesteste\", \"the.hun\", \"gladioly68\", \"2jeweleyes\", \"ccd79\", \"crazy4watches\", \"brigidsboy\", \"growingwild\", \"cvmiami1\", \"tealeaf9\", \"earljrainbow\", \"davidsongirl2\", \"orchidmktg@aol.com\", \"hartmuto\", \"philwl3290\", \"pcsoftwareman\", \"anasandak\", \"bdsr1\", \"rnmichelle\", \"pascal1666\", \"restdynamics\", \"zmxu\", \"dressy-bessy\", \"cindy4779\", \"youmast\", \"dream4321\", \"jzdennis\", \"aclbjc\", \"oschoffst\", \"tigerwhisper\", \"2mnyboxers\", \"photosflasher\", \"happyrova\", \"treasureprincess\", \"pialu9\", \"yung-wen\", \"pialu9\", \"snb11\", \"somto_offoh\", \"freembd\", \"cvmiami1\", \"ngow34\", \"darwal-dep\", \"baby1228\", \"geemeetee@aol.com\", \"compfc@aol.com\", \"freembd\", \"vat15@earthlink.net\", \"vangoghbouvie\", \"blackdot\", \"sami-girl\", \"janetfugarazzo\", \"motion32\", \"reed.nl\", \"cindy4779\", \"bdsr1\", \"delux1cs\", \"helvet\", \"amskymom\", \"gjunca\", \"pascal1666\", \"ososer\", \"jzdennis\", \"24knice\", \"aclbjc\", \"luxustoys\", \"rumpelstillskin\", \"carla_kroeze\", \"shetellia@aol.com\", \"court_carreker\", \"19750926o\", \"7794369\", \"vpolyak\", \"12345678bird\", \"jjaslowski\", \"afrye37076@aol.com\", \"diegorme\", \"seriwan\", \"vdukat\", \"angelaleu\", \"mb@wellsref.com\", \"19750926o\", \"pcsoftwareman\", \"awinningbid\", \"lass1004\", \"debrittod\", \"stilepts@aol.com\", \"honeycakesmoney\", \"zatop@excite.com\", \"restdynamics\", \"treasureprincess\", \"soysoy75\", \"artkall\", \"aegean-2001\", \"zatop@excite.com\", \"littlekittygirl\", \"turbomausi\", \"airun101\", \"minni36\", \"gisbert\", \"en-igma\", \"njbirdmom\", \"angelaleu\", \"dleggoe@msn.com\", \"grayfirm\", \"iwantu2\", \"perrymd\", \"happyrova\", \"netabe\", \"rikluttmer\", \"queendebi2000\", \"oschoffst\", \"butchballs\", \"2mnyboxers\", \"violinisimo\", \"iiiimd\", \"vangoghbouvie\", \"strongob\", \"gisbert\", \"skkindvall@scottsbluff.ne\", \"adammurry\", \"gate99\", \"amskymom\", \"photosflasher\", \"marky63\", \"jseid\", \"freembd\", \"geemeetee@aol.com\", \"chevysred\", \"feyapos\", \"pascal1666\", \"19750926o\", \"hugo44\", \"tessieg.\", \"hhfgf\", \"rehmv\", \"yuriyshrifteylik@altavist\", \"eosnead@aol.com\", \"kylix\", \"bogdanbost\", \"darbarskip\", \"corbatas\", \"lass1004\", \"cvmiami1\", \"steven1328\", \"nguyenat@san.rr.com\", \"freembd\", \"pialu9\", \"paudst\", \"anasandak\", \"k.s.cohen@verizon.net\", \"tessieg.\", \"skw80104\", \"puppypuppy\", \"earljrainbow\", \"lass1004\", \"vickiejaykay\", \"surfingbig_boy\", \"c5193\", \"dema_luli\", \"gm492@columbia.edu\", \"kpimp4life76\", \"restdynamics\", \"cvmiami1\", \"mouse0919\", \"jimboysan\", \"perrymd\", \"growingwild\", \"ssze88\", \"corbatas\", \"sharpei1bellsouth\", \"k.s.cohen@verizon.net\", \"yokarine\", \"albertmiller\", \"freembd\", \"31strawberry\", \"motion32\", \"hartmuto\", \"otan1810\", \"lennonjasonmia@netzero.ne\", \"otan1810\", \"vkmathews\", \"kfreyvog@tampabay.rr.com\", \"ewe1950\", \"mmedina@calcsea.org\", \"darwal-dep\", \"sigsrus\", \"nelsoncpm\", \"amskymom\", \"31strawberry\", \"nana-tyler\", \"golfhacksaw\", \"baby1228\", \"mdalo36124@aol.com\", \"tampa_tap\", \"anasandak\", \"jsteinpsy\", \"gntburke\", \"smileoften\", \"gucci725\", \"birdkowsky\", \"duderino\", \"pascal1666\", \"bogdanbost\", \"darwal-dep\", \"5038scoopy\", \"mgicatwoman\", \"restdynamics\", \"djpjohn@aol.com\", \"zatop@excite.com\", \"12girl\", \"darwal-dep\", \"bdoocean@aol.com\", \"daviddonofrio\", \"freembd\", \"marky63\", \"vdukat\", \"carloss8055\", \"freembd\", \"strongob\", \"njbirdmom\", \"trunkbath\", \"pwr2mvu\", \"enthalpy1\", \"basilm@mediaone.net\", \"ellisek\", \"lc30\", \"19750926o\", \"sandragian\", \"vkmathews\", \"bdsr1\", \"deroode\", \"7794369\", \"jzdennis\", \"12345678bird\", \"bally29\", \"duderino\", \"fxschmidt\", \"tongyan\", \"carloss8055\", \"freembd\", \"arnoldpwc\", \"tampa_tap\", \"bosspad\", \"klove86650@aol.com\", \"tessieg.\", \"libobo\", \"31strawberry\", \"jillam58\", \"signedpiecesinc\", \"12345678bird\", \"crazy4watches\", \"otan1810\", \"perrymd\", \"amerland\", \"raritylink\", \"butchballs\", \"trunkbath\", \"goldplease\", \"hglinberg@aol.com\", \"superstore4less\", \"rrsumba\", \"darwal-dep\", \"sandragian\", \"sactogroove\", \"golfhacksaw\", \"hbhandre\", \"marie0711\", \"sandseller\", \"butchballs\", \"lass1004\", \"simonho2001sg\", \"nana-tyler\", \"scandalmus@aol.com\", \"maxwell_gems\", \"rrsumba\", \"vkmathews\", \"birdkowsky\", \"gbcoins\", \"esquared@home.com\", \"avion1333@hotmail.com\", \"deroode\", \"dscollier3\", \"criteen\", \"rsency@disnow.com\", \"svm2k\", \"marcusclick\", \"scottuysal77\", \"conkun\", \"tampa_tap\", \"bosspad\", \"gisbert\", \"juseas\", \"boxsterbear\", \"njbirdmom\", \"anasandak\", \"watchv70t5\", \"oseo\", \"fossil73\", \"cvmiami1\", \"mmedina@calcsea.org\", \"boraborabora\", \"baby1228\", \"tessieg.\", \"darwal-dep\", \"adammurry\", \"kiero1@webtv.com\", \"rplfunding\", \"grayfirm\", \"boberlander@slk.com\", \"adammurry\", \"mom_he_she_hitme\", \"hora01\", \"vpolyak\", \"tab999@msn.com\", \"helvet\", \"marcusclick\", \"mjopusone@aol.com\", \"janno47\", \"timeatlast\", \"saphi7171@amexol.net\", \"happyrova\", \"ososer\", \"happyrova\", \"butchballs\", \"cvmiami1\", \"spartan@mindspring.com\", \"kvam@home.com\", \"cindy4779\", \"lass1004\", \"adihcu\", \"rnb4\", \"orchidmktg@aol.com\", \"overflowingcloset\", \"adammurry\", \"adammurry\", \"myactreasures\", \"globalartcomm@aol.com\", \"hhfgf\", \"wschorer@earthlink.net\", \"helvet\", \"carloss8055\", \"youmast\", \"adammurry\", \"tampa_tap\", \"vpolyak\", \"myactreasures\", \"capitalsquare\", \"golfhacksaw\", \"vat15@earthlink.net\", \"rrsumba\", \"en-igma\", \"pascal1666\", \"hglinberg@aol.com\", \"doc213\", \"helvet\", \"millyjohn\", \"honey-marie\", \"roysco\", \"carloss8055\", \"zatop@excite.com\", \"19750926o\", \"imurreson4living\", \"darbarskip\", \"gotpayd\", \"eddsport\", \"friscotheman@aol.com\", \"avion1333@hotmail.com\", \"tigerwhisper\", \"motion32\", \"hbhandre\", \"gucci725\", \"pialu9\", \"happyrova\", \"libobo\", \"gisbert\", \"yuriyshrifteylik@altavist\", \"k.daruwala@btconnect.com\", \"acbre\", \"cutecube@mac.com\", \"19750926o\", \"auntdotbids\", \"bally29\", \"smileoften\", \"soysoy75\", \"buyall5\", \"signedpiecesinc\", \"leonardcohenfan\", \"svm2k\", \"butchballs\", \"the.hun\", \"anncm77@aol.com\", \"sirocco@prodigy.net\", \"31strawberry\", \"airun101\", \"cindy4779\", \"dleggoe@msn.com\", \"maxwell_gems\", \"netabe\", \"photosflasher\", \"janss454@wxs.nl\", \"gate99\", \"svm2k\", \"pereluzi00\", \"dscollier3\", \"court_carreker\", \"31strawberry\", \"treasureking.com\", \"sunday322\", \"cvmiami1\", \"gisbert\", \"boberlander@slk.com\", \"boxsterbear\", \"cnelis\", \"debrittod\", \"jettie21\", \"jvaynshtok\", \"feyapos\", \"marcusclick\", \"overflowingcloset\", \"bosspad\", \"sigsrus\", \"brigidsboy\", \"eosnead@aol.com\", \"k.l.pine\", \"soul.reaver\", \"yung-wen\", \"steven1328\", \"freembd\", \"darwal-dep\", \"gabz2383\", \"janetfugarazzo\", \"restdynamics\", \"nana-tyler\", \"carloss8055\", \"adammurry\", \"roticss\", \"trunkbath\", \"mmedina@calcsea.org\", \"nguyenat@san.rr.com\", \"mapguy\", \"adammurry\", \"vickiejaykay\", \"sophiecorbett\", \"turbomausi\", \"happyrova\", \"carlondono\", \"orlanfs\", \"blackdot\", \"davidsongirl2\", \"pascal1666\", \"tessieg.\", \"finn69\", \"earljrainbow\", \"rkq\", \"jackofspeed\", \"motion32\", \"golfhacksaw\", \"birdkowsky\", \"strongob\", \"toadota\", \"wpope\", \"treasureprincess\", \"pascal1666\", \"anasandak\", \"ewe1950\", \"ifonawintersnightatravell\", \"lass1004\", \"sophiecorbett\", \"crazy4watches\", \"fossil1973\", \"bobfitz@bellsouth.net\", \"cutiepatutiesobe\", \"compfc@aol.com\", \"diegorme\", \"vpolyak\", \"pcsoftwareman\", \"pialu9\", \"ngow34\", \"youmast\", \"cindy4779\", \"filmwear\", \"jtr777@aol.com\", \"carloss8055\", \"kylix\", \"ososer\", \"pro2cer@hotmail.com\", \"stesteste\", \"vpham.2000\", \"19750926o\", \"philwl3290\", \"happyrova\", \"iwantu2\", \"darwal-dep\", \"whalen@northlink.com\", \"youmast\", \"dkbay\", \"anjara\", \"klove86650@aol.com\", \"amerland\", \"vangoghbouvie\", \"coharley\", \"sandragian\", \"vpolyak\", \"nguyenat@san.rr.com\", \"baby1228\", \"pialu9\", \"duderino\", \"esmodeus\", \"callawayjb@aol.com\", \"skygirlab\", \"pegcll\", \"derek1881\", \"31strawberry\", \"njbirdmom\", \"azamora610@cs.com\", \"lacagnina\", \"cvmiami1\", \"geemeetee@aol.com\", \"sandragian\", \"ewe1950\", \"bosspad\", \"nana-tyler\", \"chrissiegurl\", \"darwal-dep\", \"debrittod\", \"saphi7171@amexol.net\", \"vkns\", \"vdukat\", \"lass1004\", \"pascal1666\", \"12345678bird\", \"hhfgf\", \"janno47\", \"toadota\", \"bosspad\", \"nickoftimeblue\", \"tampa_tap\", \"vleykin\", \"jimboysan\", \"adammurry\", \"anasandak\", \"bdsr1\", \"hugo44\", \"aegean-2001\"]}],\n",
       "                        {\"barmode\": \"overlay\", \"template\": {\"data\": {\"bar\": [{\"error_x\": {\"color\": \"#2a3f5f\"}, \"error_y\": {\"color\": \"#2a3f5f\"}, \"marker\": {\"line\": {\"color\": \"#E5ECF6\", \"width\": 0.5}}, \"type\": \"bar\"}], \"barpolar\": [{\"marker\": {\"line\": {\"color\": \"#E5ECF6\", \"width\": 0.5}}, \"type\": \"barpolar\"}], \"carpet\": [{\"aaxis\": {\"endlinecolor\": \"#2a3f5f\", \"gridcolor\": \"white\", \"linecolor\": \"white\", \"minorgridcolor\": \"white\", \"startlinecolor\": \"#2a3f5f\"}, \"baxis\": {\"endlinecolor\": \"#2a3f5f\", \"gridcolor\": \"white\", \"linecolor\": \"white\", \"minorgridcolor\": \"white\", \"startlinecolor\": \"#2a3f5f\"}, \"type\": \"carpet\"}], \"choropleth\": [{\"colorbar\": {\"outlinewidth\": 0, \"ticks\": \"\"}, \"type\": \"choropleth\"}], \"contour\": [{\"colorbar\": {\"outlinewidth\": 0, \"ticks\": \"\"}, \"colorscale\": [[0.0, \"#0d0887\"], [0.1111111111111111, \"#46039f\"], [0.2222222222222222, \"#7201a8\"], [0.3333333333333333, \"#9c179e\"], [0.4444444444444444, \"#bd3786\"], [0.5555555555555556, \"#d8576b\"], [0.6666666666666666, \"#ed7953\"], [0.7777777777777778, \"#fb9f3a\"], [0.8888888888888888, \"#fdca26\"], [1.0, \"#f0f921\"]], \"type\": \"contour\"}], \"contourcarpet\": [{\"colorbar\": {\"outlinewidth\": 0, \"ticks\": \"\"}, \"type\": \"contourcarpet\"}], \"heatmap\": [{\"colorbar\": {\"outlinewidth\": 0, \"ticks\": \"\"}, \"colorscale\": [[0.0, \"#0d0887\"], [0.1111111111111111, \"#46039f\"], [0.2222222222222222, \"#7201a8\"], [0.3333333333333333, \"#9c179e\"], [0.4444444444444444, \"#bd3786\"], [0.5555555555555556, \"#d8576b\"], [0.6666666666666666, \"#ed7953\"], [0.7777777777777778, \"#fb9f3a\"], [0.8888888888888888, \"#fdca26\"], [1.0, \"#f0f921\"]], \"type\": \"heatmap\"}], \"heatmapgl\": [{\"colorbar\": {\"outlinewidth\": 0, \"ticks\": \"\"}, \"colorscale\": [[0.0, \"#0d0887\"], [0.1111111111111111, \"#46039f\"], [0.2222222222222222, \"#7201a8\"], [0.3333333333333333, \"#9c179e\"], [0.4444444444444444, \"#bd3786\"], [0.5555555555555556, \"#d8576b\"], [0.6666666666666666, \"#ed7953\"], [0.7777777777777778, \"#fb9f3a\"], [0.8888888888888888, \"#fdca26\"], [1.0, \"#f0f921\"]], \"type\": \"heatmapgl\"}], \"histogram\": [{\"marker\": {\"colorbar\": {\"outlinewidth\": 0, \"ticks\": \"\"}}, \"type\": \"histogram\"}], \"histogram2d\": [{\"colorbar\": {\"outlinewidth\": 0, \"ticks\": \"\"}, \"colorscale\": [[0.0, \"#0d0887\"], [0.1111111111111111, \"#46039f\"], [0.2222222222222222, \"#7201a8\"], [0.3333333333333333, \"#9c179e\"], [0.4444444444444444, \"#bd3786\"], [0.5555555555555556, \"#d8576b\"], [0.6666666666666666, \"#ed7953\"], [0.7777777777777778, \"#fb9f3a\"], [0.8888888888888888, \"#fdca26\"], [1.0, \"#f0f921\"]], \"type\": \"histogram2d\"}], \"histogram2dcontour\": [{\"colorbar\": {\"outlinewidth\": 0, \"ticks\": \"\"}, \"colorscale\": [[0.0, \"#0d0887\"], [0.1111111111111111, \"#46039f\"], [0.2222222222222222, \"#7201a8\"], [0.3333333333333333, \"#9c179e\"], [0.4444444444444444, \"#bd3786\"], [0.5555555555555556, \"#d8576b\"], [0.6666666666666666, \"#ed7953\"], [0.7777777777777778, \"#fb9f3a\"], [0.8888888888888888, \"#fdca26\"], [1.0, \"#f0f921\"]], \"type\": \"histogram2dcontour\"}], \"mesh3d\": [{\"colorbar\": {\"outlinewidth\": 0, \"ticks\": \"\"}, \"type\": \"mesh3d\"}], \"parcoords\": [{\"line\": {\"colorbar\": {\"outlinewidth\": 0, \"ticks\": \"\"}}, \"type\": \"parcoords\"}], \"pie\": [{\"automargin\": true, \"type\": \"pie\"}], \"scatter\": [{\"marker\": {\"colorbar\": {\"outlinewidth\": 0, \"ticks\": \"\"}}, \"type\": \"scatter\"}], \"scatter3d\": [{\"line\": {\"colorbar\": {\"outlinewidth\": 0, \"ticks\": \"\"}}, \"marker\": {\"colorbar\": {\"outlinewidth\": 0, \"ticks\": \"\"}}, \"type\": \"scatter3d\"}], \"scattercarpet\": [{\"marker\": {\"colorbar\": {\"outlinewidth\": 0, \"ticks\": \"\"}}, \"type\": \"scattercarpet\"}], \"scattergeo\": [{\"marker\": {\"colorbar\": {\"outlinewidth\": 0, \"ticks\": \"\"}}, \"type\": \"scattergeo\"}], \"scattergl\": [{\"marker\": {\"colorbar\": {\"outlinewidth\": 0, \"ticks\": \"\"}}, \"type\": \"scattergl\"}], \"scattermapbox\": [{\"marker\": {\"colorbar\": {\"outlinewidth\": 0, \"ticks\": \"\"}}, \"type\": \"scattermapbox\"}], \"scatterpolar\": [{\"marker\": {\"colorbar\": {\"outlinewidth\": 0, \"ticks\": \"\"}}, \"type\": \"scatterpolar\"}], \"scatterpolargl\": [{\"marker\": {\"colorbar\": {\"outlinewidth\": 0, \"ticks\": \"\"}}, \"type\": \"scatterpolargl\"}], \"scatterternary\": [{\"marker\": {\"colorbar\": {\"outlinewidth\": 0, \"ticks\": \"\"}}, \"type\": \"scatterternary\"}], \"surface\": [{\"colorbar\": {\"outlinewidth\": 0, \"ticks\": \"\"}, \"colorscale\": [[0.0, \"#0d0887\"], [0.1111111111111111, \"#46039f\"], [0.2222222222222222, \"#7201a8\"], [0.3333333333333333, \"#9c179e\"], [0.4444444444444444, \"#bd3786\"], [0.5555555555555556, \"#d8576b\"], [0.6666666666666666, \"#ed7953\"], [0.7777777777777778, \"#fb9f3a\"], [0.8888888888888888, \"#fdca26\"], [1.0, \"#f0f921\"]], \"type\": \"surface\"}], \"table\": [{\"cells\": {\"fill\": {\"color\": \"#EBF0F8\"}, \"line\": {\"color\": \"white\"}}, \"header\": {\"fill\": {\"color\": \"#C8D4E3\"}, \"line\": {\"color\": \"white\"}}, \"type\": \"table\"}]}, \"layout\": {\"annotationdefaults\": {\"arrowcolor\": \"#2a3f5f\", \"arrowhead\": 0, \"arrowwidth\": 1}, \"coloraxis\": {\"colorbar\": {\"outlinewidth\": 0, \"ticks\": \"\"}}, \"colorscale\": {\"diverging\": [[0, \"#8e0152\"], [0.1, \"#c51b7d\"], [0.2, \"#de77ae\"], [0.3, \"#f1b6da\"], [0.4, \"#fde0ef\"], [0.5, \"#f7f7f7\"], [0.6, \"#e6f5d0\"], [0.7, \"#b8e186\"], [0.8, \"#7fbc41\"], [0.9, \"#4d9221\"], [1, \"#276419\"]], \"sequential\": [[0.0, \"#0d0887\"], [0.1111111111111111, \"#46039f\"], [0.2222222222222222, \"#7201a8\"], [0.3333333333333333, \"#9c179e\"], [0.4444444444444444, \"#bd3786\"], [0.5555555555555556, \"#d8576b\"], [0.6666666666666666, \"#ed7953\"], [0.7777777777777778, \"#fb9f3a\"], [0.8888888888888888, \"#fdca26\"], [1.0, \"#f0f921\"]], \"sequentialminus\": [[0.0, \"#0d0887\"], [0.1111111111111111, \"#46039f\"], [0.2222222222222222, \"#7201a8\"], [0.3333333333333333, \"#9c179e\"], [0.4444444444444444, \"#bd3786\"], [0.5555555555555556, \"#d8576b\"], [0.6666666666666666, \"#ed7953\"], [0.7777777777777778, \"#fb9f3a\"], [0.8888888888888888, \"#fdca26\"], [1.0, \"#f0f921\"]]}, \"colorway\": [\"#636efa\", \"#EF553B\", \"#00cc96\", \"#ab63fa\", \"#FFA15A\", \"#19d3f3\", \"#FF6692\", \"#B6E880\", \"#FF97FF\", \"#FECB52\"], \"font\": {\"color\": \"#2a3f5f\"}, \"geo\": {\"bgcolor\": \"white\", \"lakecolor\": \"white\", \"landcolor\": \"#E5ECF6\", \"showlakes\": true, \"showland\": true, \"subunitcolor\": \"white\"}, \"hoverlabel\": {\"align\": \"left\"}, \"hovermode\": \"closest\", \"mapbox\": {\"style\": \"light\"}, \"paper_bgcolor\": \"white\", \"plot_bgcolor\": \"#E5ECF6\", \"polar\": {\"angularaxis\": {\"gridcolor\": \"white\", \"linecolor\": \"white\", \"ticks\": \"\"}, \"bgcolor\": \"#E5ECF6\", \"radialaxis\": {\"gridcolor\": \"white\", \"linecolor\": \"white\", \"ticks\": \"\"}}, \"scene\": {\"xaxis\": {\"backgroundcolor\": \"#E5ECF6\", \"gridcolor\": \"white\", \"gridwidth\": 2, \"linecolor\": \"white\", \"showbackground\": true, \"ticks\": \"\", \"zerolinecolor\": \"white\"}, \"yaxis\": {\"backgroundcolor\": \"#E5ECF6\", \"gridcolor\": \"white\", \"gridwidth\": 2, \"linecolor\": \"white\", \"showbackground\": true, \"ticks\": \"\", \"zerolinecolor\": \"white\"}, \"zaxis\": {\"backgroundcolor\": \"#E5ECF6\", \"gridcolor\": \"white\", \"gridwidth\": 2, \"linecolor\": \"white\", \"showbackground\": true, \"ticks\": \"\", \"zerolinecolor\": \"white\"}}, \"shapedefaults\": {\"line\": {\"color\": \"#2a3f5f\"}}, \"ternary\": {\"aaxis\": {\"gridcolor\": \"white\", \"linecolor\": \"white\", \"ticks\": \"\"}, \"baxis\": {\"gridcolor\": \"white\", \"linecolor\": \"white\", \"ticks\": \"\"}, \"bgcolor\": \"#E5ECF6\", \"caxis\": {\"gridcolor\": \"white\", \"linecolor\": \"white\", \"ticks\": \"\"}}, \"title\": {\"x\": 0.05}, \"xaxis\": {\"automargin\": true, \"gridcolor\": \"white\", \"linecolor\": \"white\", \"ticks\": \"\", \"title\": {\"standoff\": 15}, \"zerolinecolor\": \"white\", \"zerolinewidth\": 2}, \"yaxis\": {\"automargin\": true, \"gridcolor\": \"white\", \"linecolor\": \"white\", \"ticks\": \"\", \"title\": {\"standoff\": 15}, \"zerolinecolor\": \"white\", \"zerolinewidth\": 2}}}, \"title\": {\"text\": \"bidder\"}, \"yaxis\": {\"title\": {\"text\": \"Count\"}}},\n",
       "                        {\"responsive\": true}\n",
       "                    ).then(function(){\n",
       "                            \n",
       "var gd = document.getElementById('9c49e050-6adf-4c41-bfdb-ba1621394883');\n",
       "var x = new MutationObserver(function (mutations, observer) {{\n",
       "        var display = window.getComputedStyle(gd).display;\n",
       "        if (!display || display === 'none') {{\n",
       "            console.log([gd, 'removed!']);\n",
       "            Plotly.purge(gd);\n",
       "            observer.disconnect();\n",
       "        }}\n",
       "}});\n",
       "\n",
       "// Listen for the removal of the full notebook cells\n",
       "var notebookContainer = gd.closest('#notebook-container');\n",
       "if (notebookContainer) {{\n",
       "    x.observe(notebookContainer, {childList: true});\n",
       "}}\n",
       "\n",
       "// Listen for the clearing of the current output cell\n",
       "var outputEl = gd.closest('.output');\n",
       "if (outputEl) {{\n",
       "    x.observe(outputEl, {childList: true});\n",
       "}}\n",
       "\n",
       "                        })\n",
       "                };\n",
       "                });\n",
       "            </script>\n",
       "        </div>"
      ]
     },
     "metadata": {},
     "output_type": "display_data"
    },
    {
     "name": "stdout",
     "output_type": "stream",
     "text": [
      "-*--*--*--*--*--*--*--*--*--*--*--*--*--*--*--*--*--*--*--*--*--*--*--*--*-\n"
     ]
    },
    {
     "ename": "TypeError",
     "evalue": "Could not convert boraboraboraaclbjcnelsoncpmpialu9geemeetee@aol.comdarbarskipdollfacepumpkinbogdanbostbdonahue9@aol.commsvailjepattiiiturbomausitrunkbathwhalen@northlink.compdhsu1dre_313@yahoo.compascal1666apfb@excite.comcnelisb2hatsmkect10adammurryb2hatsnjbirdmomazamora610@cs.comhora01pereluzi00jimboysannana-tylermapguyangelaleumkb98renob2sigsrusbogdanbostregman324peterfung@aol.comhoneycakesmoneybiggeo@hotmail.comazamora610@cs.comhappyrovadelux1cspcsoftwaremannjbirdmomsamkapspartan@mindspring.comsirocco@prodigy.netbahamawomansandsellerotan1810sirocco@prodigy.netro50014restdynamicspablofennymoreewe1950iwantu2perrymdsaphi7171@amexol.netdream4321lola723darwal-deppro2cer@hotmail.comnorthwestportlandtraderlennonjasonmia@netzero.necindy4779lemsgemssmartgirl0204lass1004cvmiami1cutiepatutiesobeamskymom19750926owhy18ifonawintersnightatravelljimboysansudohaniclubmemberlass1004blackdotlacagninarolexaddictskylzatop@excite.comfreembdhestellgurucutecube@mac.comcvmiami1marcusclickgram999orchidmktg@aol.comlola723sophiecorbettzatsplits@aol.comgisbert19750926osaphi7171@amexol.netlacagninagrowingwildbally29loreparra@excite.comgknguyenpereluzi00restdynamicsnetabedleggoe@msn.comalfietraverssaphi7171@amexol.netalfietraversaninaninbosspadlass1004terryd2053spikeit1990treasureking.comdalear6@aol.comdleggoe@msn.comhelvetklute1nana-tylerlc30cunmrsjmsolosmileoftenvknsorlanfsjannypie1lass1004callawayjb@aol.comtimeatlast19750926oorchidmktg@aol.comnjbirdmomfriscotheman@aol.comhelvetvpolyakbosspadsirocco@prodigy.netrichardgzlacagninachrissiegurldiamonddr1@aol.comanasandakhugo44oschoffstwhalen@northlink.comrplfundinggntburkewlp@mediaone.netjanno47marky63orlanfstoadotaboraboraborajtr777@aol.comcutiepatutiesobesomto_offohhugo44overflowingclosettoadotajackofspeednorthwestportlandtradersactogroovebuyall5scott@purplepicket.comcrta@ti.comizzy87dedeszavion1333@hotmail.comleonardcohenfanbrigidsboyterryd2053mlsrbrt@aol.comdoc213restdynamicsafaucherzatsplits@aol.comfossil1973strongobdleggoe@msn.comdiegormepcsoftwaremanjuseasrskala@easytel.netjpamro@aol.comvpham.2000k.s.cohen@verizon.net19750926obasilm@mediaone.netjuseaslass1004tampa_taplafontant155toadotaoverflowingclosetbirdkowskyrsahaj@yahoo.commkb98haring123coharleyoverflowingclosetperrymdahmadksandragiantalwangk.daruwala@btconnect.comdressy-bessyhoneycakesmoneyyoder9spikeit1990drob223jimboysancindy4779akryzakrichardgzpegclldumbarton2715angelaleuhappyrovangow34vleykinadammurrytoadotanolalacagninaccie51xxwlp@mediaone.nethover@ucnsb.netboxsterbearlc30justine@701701.comcorbatasbutchballswhiteeagle@shadow.netmroth1099marky63happyrovasami-girladammurryvknsjimboysanmgicatwomanvdukatbutchballskasika5k.s.cohen@verizon.netfvetahbhandrevleykinvdukatmdhallinoverflowingclosetavion1333@hotmail.comduderinoyoumastmarky63ctlisalisaoverflowingclosetk.s.cohen@verizon.netcindy4779saphi7171@amexol.netmgicatwomanyuriyshrifteylik@altavistraritylinkmarcusclickva2cafjfds@aol.comcarlondonoskygirlabgucci725cindy4779raritylinkfeyaposakapsonmgicatwomanadammurryfreembdcudd8963@aol.comkfreyvog@tampabay.rr.comannekilborn@hotmail.comcarloss8055mrm0214@yahoo.compascal1666yung-wensactogrooverumpelstillskinheres2youturbomausienglishteacher21various19735kpimp4life76lass1004sirocco@prodigy.netpascal1666natashamthehandmadensnychowderheaddu38120gram999vpolyakpascal1666bogdanbostrestdynamicsvangoghbouviemyactreasuresartkallrrsumbavpolyaktrunkbathyoumastykelectro@hotmail.comewe1950ps138pascal1666nana-tylermotion32ox21cpascal1666corradi19rrsumbavpolyakbirdkowskyscandalmus@aol.comjettie21sami-girlblackdotroyscocufflink@erols.comlass1004philwl3290cnelisdebrittoden-igmasactogroovekinkinovangoghbouviemgicatwomanbally29feyaposthe.hammervkmathewsgram999motion32kinkinosvm2kdidckdtnscott@purplepicket.combosomviebcemborakapsonyuriyshrifteylik@altavistps138photosflashertea_pot_girlmapguyanasandakdarwal-deprkqhoney-mariedgulkis@mcdata.comyokarinecvmiami1thehandmadens2000joedre_313@yahoo.comthehandmadensivgenmmedina@calcsea.orggabz2383ojjuice2@aol.com19750926omotion32hot_rookiemaxwell_gemsrrsumbahappyrovanguyenat@san.rr.comgmorgan@elliman.comcheddaboynguyenat@san.rr.comawinningbidpereluzi00bosspadrestdynamicshoneycakesmoneyspartan@mindspring.comsignedpiecesinck.daruwala@btconnect.comsoul.reaverkdrew@prodigy.netsunday322jennoubceezar1@aol.commyactreasuresskylscandalmus@aol.comwatchv70t5bdsr1strongobmarcusclicksoysoy75ccd79vknsgucci725bogdanbostnorthwestportlandtraderrikluttmermmedina@calcsea.orgdressy-bessyluxurysource001lacagninafreembdhappyrovaadammurrymdhallinsoul.reaverkasika5gram999photosflasherjanss454@wxs.nlcindy4779du38120honeycakesmoneyvat15@earthlink.net19750926ohugo44ifonawintersnightatravellacbrehugo44jdrinazsaphi7171@amexol.nethelvetcbcolqunounojbiiihappyrovadre_313@yahoo.competerfung@aol.comprincess-gingerberler@msn.comimurreson4livingk.l.pineb2hatsjennoudarwal-deptampa_tapsoul.reaverfjfds@aol.comhseldinroticssorlanfsanncm77@aol.commarkcic@aol.comcarloss8055derek1881finn69helvetmotion32fortlaud.collectiondispassiontrunkbathsylvesterii9lightsblackdotmkect10cvmiami1compfc@aol.comkasika5aclbjcalbatross007kinkinoanjaraboxsterbearhappyrovaboxsterbearpuppypuppycrazy4watchesgabz2383dream4321greenrobemarkcic@aol.comboberlander@slk.com31strawberrybutchballsizzy87hbhandrebutchballsmapguycarloss8055jettie21growingwildsylvesteriilarryr911aprefernolarestdynamicsbcemborcrazy4watchesskw80104bosspaddkbaynana-tylerjjaslowskiboberlander@slk.comsaphi7171@amexol.nethelvetadammurryscandalmus@aol.comnatashamnguyenat@san.rr.comgisberthappyrovatoadotapascal1666treasureprincessnorthwestportlandtraderorchidmktg@aol.comm3zy6fvetaboraboraboracarloss8055queenbebe71hjg6593dedeszlass1004chi-town7corradi19butchballstori5678@aol.comfreembdcutecube@mac.com19750926ootan1810sophiecorbettadihcudkbaysunkisses2001alexikuazamora610@cs.comhugo44adammurryfossil1973capitalsquare31strawberryyoumastrnmichellehappykid31strawberrytennisart7@aol.comhappyrovaykelectro@hotmail.comtampa_tapbobfitz@bellsouth.netnana-tylerstestestefreembdcvmiami1rrsumbabooba69morerdtomita-fukuyopascal1666auntdotbidsderek1881sophiecorbettnaplboyk.s.cohen@verizon.netspikeit1990averartjvaynshtokfreembdtimevuhappyrovabosspadpascal1666ljr32dadjr@stargate.netlatinirishbutchballsralph.oman@dechert.comchevysredavion1333@hotmail.comeddsporttoadotaadammurryesmodeustampa_tapnetabelola723en-igmasharpei1bellsouthel_coleccionistasoul.reaverwpopecheddaboyjzdennispialu9hjg6593cvmiami1skygirlabinvestmoore2bdsr1ad48170k.daruwala@btconnect.comrrsumbafuzzy3028akryzakfriscotheman@aol.comdiegormehoneycakesmoneyvalleartjvaynshtoktrunkbathgisbertazamora610@cs.comsandsellerzatop@excite.comjpamro@aol.comyokarinebirdkowskywatchlover24honeycakesmoneyinvestmoore2pascal1666butchballskinkinofilmwearhoneycakesmoneynsala12freembdlass1004pascal1666adammurrytimevumarky63nickoftimebluesjcnguyengotpaydmaxwell_gemscutiepatutiesobebdoocean@aol.comyung-wenjillkilleenspartan@mindspring.comcindy4779orchidmktg@aol.comtrunkbathcompfc@aol.comfroilandahappyrovamillyjohnccd79debrittodadammurryhhn1998darwal-depsaphi7171@amexol.netbirdkowskytessieg.trunkbath19750926onsala12jimboysanps138josephvkuca@msn.comkimbo930freembdmyactreasuresrestdynamicsfuturepilotstestestethe.hungladioly682jeweleyesccd79crazy4watchesbrigidsboygrowingwildcvmiami1tealeaf9earljrainbowdavidsongirl2orchidmktg@aol.comhartmutophilwl3290pcsoftwaremananasandakbdsr1rnmichellepascal1666restdynamicszmxudressy-bessycindy4779youmastdream4321jzdennisaclbjcoschoffsttigerwhisper2mnyboxersphotosflasherhappyrovatreasureprincesspialu9yung-wenpialu9snb11somto_offohfreembdcvmiami1ngow34darwal-depbaby1228geemeetee@aol.comcompfc@aol.comfreembdvat15@earthlink.netvangoghbouvieblackdotsami-girljanetfugarazzomotion32reed.nlcindy4779bdsr1delux1cshelvetamskymomgjuncapascal1666ososerjzdennis24kniceaclbjcluxustoysrumpelstillskincarla_kroezeshetellia@aol.comcourt_carreker19750926o7794369vpolyak12345678birdjjaslowskiafrye37076@aol.comdiegormeseriwanvdukatangelaleumb@wellsref.com19750926opcsoftwaremanawinningbidlass1004debrittodstilepts@aol.comhoneycakesmoneyzatop@excite.comrestdynamicstreasureprincesssoysoy75artkallaegean-2001zatop@excite.comlittlekittygirlturbomausiairun101minni36gisberten-igmanjbirdmomangelaleudleggoe@msn.comgrayfirmiwantu2perrymdhappyrovanetaberikluttmerqueendebi2000oschoffstbutchballs2mnyboxersviolinisimoiiiimdvangoghbouviestrongobgisbertskkindvall@scottsbluff.neadammurrygate99amskymomphotosflashermarky63jseidfreembdgeemeetee@aol.comchevysredfeyapospascal166619750926ohugo44tessieg.hhfgfrehmvyuriyshrifteylik@altavisteosnead@aol.comkylixbogdanbostdarbarskipcorbataslass1004cvmiami1steven1328nguyenat@san.rr.comfreembdpialu9paudstanasandakk.s.cohen@verizon.nettessieg.skw80104puppypuppyearljrainbowlass1004vickiejaykaysurfingbig_boyc5193dema_luligm492@columbia.edukpimp4life76restdynamicscvmiami1mouse0919jimboysanperrymdgrowingwildssze88corbatassharpei1bellsouthk.s.cohen@verizon.netyokarinealbertmillerfreembd31strawberrymotion32hartmutootan1810lennonjasonmia@netzero.neotan1810vkmathewskfreyvog@tampabay.rr.comewe1950mmedina@calcsea.orgdarwal-depsigsrusnelsoncpmamskymom31strawberrynana-tylergolfhacksawbaby1228mdalo36124@aol.comtampa_tapanasandakjsteinpsygntburkesmileoftengucci725birdkowskyduderinopascal1666bogdanbostdarwal-dep5038scoopymgicatwomanrestdynamicsdjpjohn@aol.comzatop@excite.com12girldarwal-depbdoocean@aol.comdaviddonofriofreembdmarky63vdukatcarloss8055freembdstrongobnjbirdmomtrunkbathpwr2mvuenthalpy1basilm@mediaone.netelliseklc3019750926osandragianvkmathewsbdsr1deroode7794369jzdennis12345678birdbally29duderinofxschmidttongyancarloss8055freembdarnoldpwctampa_tapbosspadklove86650@aol.comtessieg.libobo31strawberryjillam58signedpiecesinc12345678birdcrazy4watchesotan1810perrymdamerlandraritylinkbutchballstrunkbathgoldpleasehglinberg@aol.comsuperstore4lessrrsumbadarwal-depsandragiansactogroovegolfhacksawhbhandremarie0711sandsellerbutchballslass1004simonho2001sgnana-tylerscandalmus@aol.commaxwell_gemsrrsumbavkmathewsbirdkowskygbcoinsesquared@home.comavion1333@hotmail.comderoodedscollier3criteenrsency@disnow.comsvm2kmarcusclickscottuysal77conkuntampa_tapbosspadgisbertjuseasboxsterbearnjbirdmomanasandakwatchv70t5oseofossil73cvmiami1mmedina@calcsea.orgboraboraborababy1228tessieg.darwal-depadammurrykiero1@webtv.comrplfundinggrayfirmboberlander@slk.comadammurrymom_he_she_hitmehora01vpolyaktab999@msn.comhelvetmarcusclickmjopusone@aol.comjanno47timeatlastsaphi7171@amexol.nethappyrovaososerhappyrovabutchballscvmiami1spartan@mindspring.comkvam@home.comcindy4779lass1004adihcurnb4orchidmktg@aol.comoverflowingclosetadammurryadammurrymyactreasuresglobalartcomm@aol.comhhfgfwschorer@earthlink.nethelvetcarloss8055youmastadammurrytampa_tapvpolyakmyactreasurescapitalsquaregolfhacksawvat15@earthlink.netrrsumbaen-igmapascal1666hglinberg@aol.comdoc213helvetmillyjohnhoney-marieroyscocarloss8055zatop@excite.com19750926oimurreson4livingdarbarskipgotpaydeddsportfriscotheman@aol.comavion1333@hotmail.comtigerwhispermotion32hbhandregucci725pialu9happyrovalibobogisbertyuriyshrifteylik@altavistk.daruwala@btconnect.comacbrecutecube@mac.com19750926oauntdotbidsbally29smileoftensoysoy75buyall5signedpiecesincleonardcohenfansvm2kbutchballsthe.hunanncm77@aol.comsirocco@prodigy.net31strawberryairun101cindy4779dleggoe@msn.commaxwell_gemsnetabephotosflasherjanss454@wxs.nlgate99svm2kpereluzi00dscollier3court_carreker31strawberrytreasureking.comsunday322cvmiami1gisbertboberlander@slk.comboxsterbearcnelisdebrittodjettie21jvaynshtokfeyaposmarcusclickoverflowingclosetbosspadsigsrusbrigidsboyeosnead@aol.comk.l.pinesoul.reaveryung-wensteven1328freembddarwal-depgabz2383janetfugarazzorestdynamicsnana-tylercarloss8055adammurryroticsstrunkbathmmedina@calcsea.orgnguyenat@san.rr.commapguyadammurryvickiejaykaysophiecorbettturbomausihappyrovacarlondonoorlanfsblackdotdavidsongirl2pascal1666tessieg.finn69earljrainbowrkqjackofspeedmotion32golfhacksawbirdkowskystrongobtoadotawpopetreasureprincesspascal1666anasandakewe1950ifonawintersnightatravelllass1004sophiecorbettcrazy4watchesfossil1973bobfitz@bellsouth.netcutiepatutiesobecompfc@aol.comdiegormevpolyakpcsoftwaremanpialu9ngow34youmastcindy4779filmwearjtr777@aol.comcarloss8055kylixososerpro2cer@hotmail.comstestestevpham.200019750926ophilwl3290happyrovaiwantu2darwal-depwhalen@northlink.comyoumastdkbayanjaraklove86650@aol.comamerlandvangoghbouviecoharleysandragianvpolyaknguyenat@san.rr.combaby1228pialu9duderinoesmodeuscallawayjb@aol.comskygirlabpegcllderek188131strawberrynjbirdmomazamora610@cs.comlacagninacvmiami1geemeetee@aol.comsandragianewe1950bosspadnana-tylerchrissiegurldarwal-depdebrittodsaphi7171@amexol.netvknsvdukatlass1004pascal166612345678birdhhfgfjanno47toadotabosspadnickoftimebluetampa_tapvleykinjimboysanadammurryanasandakbdsr1hugo44aegean-2001 to numeric",
     "output_type": "error",
     "traceback": [
      "\u001b[1;31m---------------------------------------------------------------------------\u001b[0m",
      "\u001b[1;31mValueError\u001b[0m                                Traceback (most recent call last)",
      "\u001b[1;32m~\\anaconda3\\lib\\site-packages\\pandas\\core\\nanops.py\u001b[0m in \u001b[0;36m_ensure_numeric\u001b[1;34m(x)\u001b[0m\n\u001b[0;32m   1302\u001b[0m         \u001b[1;32mtry\u001b[0m\u001b[1;33m:\u001b[0m\u001b[1;33m\u001b[0m\u001b[1;33m\u001b[0m\u001b[0m\n\u001b[1;32m-> 1303\u001b[1;33m             \u001b[0mx\u001b[0m \u001b[1;33m=\u001b[0m \u001b[0mfloat\u001b[0m\u001b[1;33m(\u001b[0m\u001b[0mx\u001b[0m\u001b[1;33m)\u001b[0m\u001b[1;33m\u001b[0m\u001b[1;33m\u001b[0m\u001b[0m\n\u001b[0m\u001b[0;32m   1304\u001b[0m         \u001b[1;32mexcept\u001b[0m \u001b[0mValueError\u001b[0m\u001b[1;33m:\u001b[0m\u001b[1;33m\u001b[0m\u001b[1;33m\u001b[0m\u001b[0m\n",
      "\u001b[1;31mValueError\u001b[0m: could not convert string to float: 'boraboraboraaclbjcnelsoncpmpialu9geemeetee@aol.comdarbarskipdollfacepumpkinbogdanbostbdonahue9@aol.commsvailjepattiiiturbomausitrunkbathwhalen@northlink.compdhsu1dre_313@yahoo.compascal1666apfb@excite.comcnelisb2hatsmkect10adammurryb2hatsnjbirdmomazamora610@cs.comhora01pereluzi00jimboysannana-tylermapguyangelaleumkb98renob2sigsrusbogdanbostregman324peterfung@aol.comhoneycakesmoneybiggeo@hotmail.comazamora610@cs.comhappyrovadelux1cspcsoftwaremannjbirdmomsamkapspartan@mindspring.comsirocco@prodigy.netbahamawomansandsellerotan1810sirocco@prodigy.netro50014restdynamicspablofennymoreewe1950iwantu2perrymdsaphi7171@amexol.netdream4321lola723darwal-deppro2cer@hotmail.comnorthwestportlandtraderlennonjasonmia@netzero.necindy4779lemsgemssmartgirl0204lass1004cvmiami1cutiepatutiesobeamskymom19750926owhy18ifonawintersnightatravelljimboysansudohaniclubmemberlass1004blackdotlacagninarolexaddictskylzatop@excite.comfreembdhestellgurucutecube@mac.comcvmiami1marcusclickgram999orchidmktg@aol.comlola723sophiecorbettzatsplits@aol.comgisbert19750926osaphi7171@amexol.netlacagninagrowingwildbally29loreparra@excite.comgknguyenpereluzi00restdynamicsnetabedleggoe@msn.comalfietraverssaphi7171@amexol.netalfietraversaninaninbosspadlass1004terryd2053spikeit1990treasureking.comdalear6@aol.comdleggoe@msn.comhelvetklute1nana-tylerlc30cunmrsjmsolosmileoftenvknsorlanfsjannypie1lass1004callawayjb@aol.comtimeatlast19750926oorchidmktg@aol.comnjbirdmomfriscotheman@aol.comhelvetvpolyakbosspadsirocco@prodigy.netrichardgzlacagninachrissiegurldiamonddr1@aol.comanasandakhugo44oschoffstwhalen@northlink.comrplfundinggntburkewlp@mediaone.netjanno47marky63orlanfstoadotaboraboraborajtr777@aol.comcutiepatutiesobesomto_offohhugo44overflowingclosettoadotajackofspeednorthwestportlandtradersactogroovebuyall5scott@purplepicket.comcrta@ti.comizzy87dedeszavion1333@hotmail.comleonardcohenfanbrigidsboyterryd2053mlsrbrt@aol.comdoc213restdynamicsafaucherzatsplits@aol.comfossil1973strongobdleggoe@msn.comdiegormepcsoftwaremanjuseasrskala@easytel.netjpamro@aol.comvpham.2000k.s.cohen@verizon.net19750926obasilm@mediaone.netjuseaslass1004tampa_taplafontant155toadotaoverflowingclosetbirdkowskyrsahaj@yahoo.commkb98haring123coharleyoverflowingclosetperrymdahmadksandragiantalwangk.daruwala@btconnect.comdressy-bessyhoneycakesmoneyyoder9spikeit1990drob223jimboysancindy4779akryzakrichardgzpegclldumbarton2715angelaleuhappyrovangow34vleykinadammurrytoadotanolalacagninaccie51xxwlp@mediaone.nethover@ucnsb.netboxsterbearlc30justine@701701.comcorbatasbutchballswhiteeagle@shadow.netmroth1099marky63happyrovasami-girladammurryvknsjimboysanmgicatwomanvdukatbutchballskasika5k.s.cohen@verizon.netfvetahbhandrevleykinvdukatmdhallinoverflowingclosetavion1333@hotmail.comduderinoyoumastmarky63ctlisalisaoverflowingclosetk.s.cohen@verizon.netcindy4779saphi7171@amexol.netmgicatwomanyuriyshrifteylik@altavistraritylinkmarcusclickva2cafjfds@aol.comcarlondonoskygirlabgucci725cindy4779raritylinkfeyaposakapsonmgicatwomanadammurryfreembdcudd8963@aol.comkfreyvog@tampabay.rr.comannekilborn@hotmail.comcarloss8055mrm0214@yahoo.compascal1666yung-wensactogrooverumpelstillskinheres2youturbomausienglishteacher21various19735kpimp4life76lass1004sirocco@prodigy.netpascal1666natashamthehandmadensnychowderheaddu38120gram999vpolyakpascal1666bogdanbostrestdynamicsvangoghbouviemyactreasuresartkallrrsumbavpolyaktrunkbathyoumastykelectro@hotmail.comewe1950ps138pascal1666nana-tylermotion32ox21cpascal1666corradi19rrsumbavpolyakbirdkowskyscandalmus@aol.comjettie21sami-girlblackdotroyscocufflink@erols.comlass1004philwl3290cnelisdebrittoden-igmasactogroovekinkinovangoghbouviemgicatwomanbally29feyaposthe.hammervkmathewsgram999motion32kinkinosvm2kdidckdtnscott@purplepicket.combosomviebcemborakapsonyuriyshrifteylik@altavistps138photosflashertea_pot_girlmapguyanasandakdarwal-deprkqhoney-mariedgulkis@mcdata.comyokarinecvmiami1thehandmadens2000joedre_313@yahoo.comthehandmadensivgenmmedina@calcsea.orggabz2383ojjuice2@aol.com19750926omotion32hot_rookiemaxwell_gemsrrsumbahappyrovanguyenat@san.rr.comgmorgan@elliman.comcheddaboynguyenat@san.rr.comawinningbidpereluzi00bosspadrestdynamicshoneycakesmoneyspartan@mindspring.comsignedpiecesinck.daruwala@btconnect.comsoul.reaverkdrew@prodigy.netsunday322jennoubceezar1@aol.commyactreasuresskylscandalmus@aol.comwatchv70t5bdsr1strongobmarcusclicksoysoy75ccd79vknsgucci725bogdanbostnorthwestportlandtraderrikluttmermmedina@calcsea.orgdressy-bessyluxurysource001lacagninafreembdhappyrovaadammurrymdhallinsoul.reaverkasika5gram999photosflasherjanss454@wxs.nlcindy4779du38120honeycakesmoneyvat15@earthlink.net19750926ohugo44ifonawintersnightatravellacbrehugo44jdrinazsaphi7171@amexol.nethelvetcbcolqunounojbiiihappyrovadre_313@yahoo.competerfung@aol.comprincess-gingerberler@msn.comimurreson4livingk.l.pineb2hatsjennoudarwal-deptampa_tapsoul.reaverfjfds@aol.comhseldinroticssorlanfsanncm77@aol.commarkcic@aol.comcarloss8055derek1881finn69helvetmotion32fortlaud.collectiondispassiontrunkbathsylvesterii9lightsblackdotmkect10cvmiami1compfc@aol.comkasika5aclbjcalbatross007kinkinoanjaraboxsterbearhappyrovaboxsterbearpuppypuppycrazy4watchesgabz2383dream4321greenrobemarkcic@aol.comboberlander@slk.com31strawberrybutchballsizzy87hbhandrebutchballsmapguycarloss8055jettie21growingwildsylvesteriilarryr911aprefernolarestdynamicsbcemborcrazy4watchesskw80104bosspaddkbaynana-tylerjjaslowskiboberlander@slk.comsaphi7171@amexol.nethelvetadammurryscandalmus@aol.comnatashamnguyenat@san.rr.comgisberthappyrovatoadotapascal1666treasureprincessnorthwestportlandtraderorchidmktg@aol.comm3zy6fvetaboraboraboracarloss8055queenbebe71hjg6593dedeszlass1004chi-town7corradi19butchballstori5678@aol.comfreembdcutecube@mac.com19750926ootan1810sophiecorbettadihcudkbaysunkisses2001alexikuazamora610@cs.comhugo44adammurryfossil1973capitalsquare31strawberryyoumastrnmichellehappykid31strawberrytennisart7@aol.comhappyrovaykelectro@hotmail.comtampa_tapbobfitz@bellsouth.netnana-tylerstestestefreembdcvmiami1rrsumbabooba69morerdtomita-fukuyopascal1666auntdotbidsderek1881sophiecorbettnaplboyk.s.cohen@verizon.netspikeit1990averartjvaynshtokfreembdtimevuhappyrovabosspadpascal1666ljr32dadjr@stargate.netlatinirishbutchballsralph.oman@dechert.comchevysredavion1333@hotmail.comeddsporttoadotaadammurryesmodeustampa_tapnetabelola723en-igmasharpei1bellsouthel_coleccionistasoul.reaverwpopecheddaboyjzdennispialu9hjg6593cvmiami1skygirlabinvestmoore2bdsr1ad48170k.daruwala@btconnect.comrrsumbafuzzy3028akryzakfriscotheman@aol.comdiegormehoneycakesmoneyvalleartjvaynshtoktrunkbathgisbertazamora610@cs.comsandsellerzatop@excite.comjpamro@aol.comyokarinebirdkowskywatchlover24honeycakesmoneyinvestmoore2pascal1666butchballskinkinofilmwearhoneycakesmoneynsala12freembdlass1004pascal1666adammurrytimevumarky63nickoftimebluesjcnguyengotpaydmaxwell_gemscutiepatutiesobebdoocean@aol.comyung-wenjillkilleenspartan@mindspring.comcindy4779orchidmktg@aol.comtrunkbathcompfc@aol.comfroilandahappyrovamillyjohnccd79debrittodadammurryhhn1998darwal-depsaphi7171@amexol.netbirdkowskytessieg.trunkbath19750926onsala12jimboysanps138josephvkuca@msn.comkimbo930freembdmyactreasuresrestdynamicsfuturepilotstestestethe.hungladioly682jeweleyesccd79crazy4watchesbrigidsboygrowingwildcvmiami1tealeaf9earljrainbowdavidsongirl2orchidmktg@aol.comhartmutophilwl3290pcsoftwaremananasandakbdsr1rnmichellepascal1666restdynamicszmxudressy-bessycindy4779youmastdream4321jzdennisaclbjcoschoffsttigerwhisper2mnyboxersphotosflasherhappyrovatreasureprincesspialu9yung-wenpialu9snb11somto_offohfreembdcvmiami1ngow34darwal-depbaby1228geemeetee@aol.comcompfc@aol.comfreembdvat15@earthlink.netvangoghbouvieblackdotsami-girljanetfugarazzomotion32reed.nlcindy4779bdsr1delux1cshelvetamskymomgjuncapascal1666ososerjzdennis24kniceaclbjcluxustoysrumpelstillskincarla_kroezeshetellia@aol.comcourt_carreker19750926o7794369vpolyak12345678birdjjaslowskiafrye37076@aol.comdiegormeseriwanvdukatangelaleumb@wellsref.com19750926opcsoftwaremanawinningbidlass1004debrittodstilepts@aol.comhoneycakesmoneyzatop@excite.comrestdynamicstreasureprincesssoysoy75artkallaegean-2001zatop@excite.comlittlekittygirlturbomausiairun101minni36gisberten-igmanjbirdmomangelaleudleggoe@msn.comgrayfirmiwantu2perrymdhappyrovanetaberikluttmerqueendebi2000oschoffstbutchballs2mnyboxersviolinisimoiiiimdvangoghbouviestrongobgisbertskkindvall@scottsbluff.neadammurrygate99amskymomphotosflashermarky63jseidfreembdgeemeetee@aol.comchevysredfeyapospascal166619750926ohugo44tessieg.hhfgfrehmvyuriyshrifteylik@altavisteosnead@aol.comkylixbogdanbostdarbarskipcorbataslass1004cvmiami1steven1328nguyenat@san.rr.comfreembdpialu9paudstanasandakk.s.cohen@verizon.nettessieg.skw80104puppypuppyearljrainbowlass1004vickiejaykaysurfingbig_boyc5193dema_luligm492@columbia.edukpimp4life76restdynamicscvmiami1mouse0919jimboysanperrymdgrowingwildssze88corbatassharpei1bellsouthk.s.cohen@verizon.netyokarinealbertmillerfreembd31strawberrymotion32hartmutootan1810lennonjasonmia@netzero.neotan1810vkmathewskfreyvog@tampabay.rr.comewe1950mmedina@calcsea.orgdarwal-depsigsrusnelsoncpmamskymom31strawberrynana-tylergolfhacksawbaby1228mdalo36124@aol.comtampa_tapanasandakjsteinpsygntburkesmileoftengucci725birdkowskyduderinopascal1666bogdanbostdarwal-dep5038scoopymgicatwomanrestdynamicsdjpjohn@aol.comzatop@excite.com12girldarwal-depbdoocean@aol.comdaviddonofriofreembdmarky63vdukatcarloss8055freembdstrongobnjbirdmomtrunkbathpwr2mvuenthalpy1basilm@mediaone.netelliseklc3019750926osandragianvkmathewsbdsr1deroode7794369jzdennis12345678birdbally29duderinofxschmidttongyancarloss8055freembdarnoldpwctampa_tapbosspadklove86650@aol.comtessieg.libobo31strawberryjillam58signedpiecesinc12345678birdcrazy4watchesotan1810perrymdamerlandraritylinkbutchballstrunkbathgoldpleasehglinberg@aol.comsuperstore4lessrrsumbadarwal-depsandragiansactogroovegolfhacksawhbhandremarie0711sandsellerbutchballslass1004simonho2001sgnana-tylerscandalmus@aol.commaxwell_gemsrrsumbavkmathewsbirdkowskygbcoinsesquared@home.comavion1333@hotmail.comderoodedscollier3criteenrsency@disnow.comsvm2kmarcusclickscottuysal77conkuntampa_tapbosspadgisbertjuseasboxsterbearnjbirdmomanasandakwatchv70t5oseofossil73cvmiami1mmedina@calcsea.orgboraboraborababy1228tessieg.darwal-depadammurrykiero1@webtv.comrplfundinggrayfirmboberlander@slk.comadammurrymom_he_she_hitmehora01vpolyaktab999@msn.comhelvetmarcusclickmjopusone@aol.comjanno47timeatlastsaphi7171@amexol.nethappyrovaososerhappyrovabutchballscvmiami1spartan@mindspring.comkvam@home.comcindy4779lass1004adihcurnb4orchidmktg@aol.comoverflowingclosetadammurryadammurrymyactreasuresglobalartcomm@aol.comhhfgfwschorer@earthlink.nethelvetcarloss8055youmastadammurrytampa_tapvpolyakmyactreasurescapitalsquaregolfhacksawvat15@earthlink.netrrsumbaen-igmapascal1666hglinberg@aol.comdoc213helvetmillyjohnhoney-marieroyscocarloss8055zatop@excite.com19750926oimurreson4livingdarbarskipgotpaydeddsportfriscotheman@aol.comavion1333@hotmail.comtigerwhispermotion32hbhandregucci725pialu9happyrovalibobogisbertyuriyshrifteylik@altavistk.daruwala@btconnect.comacbrecutecube@mac.com19750926oauntdotbidsbally29smileoftensoysoy75buyall5signedpiecesincleonardcohenfansvm2kbutchballsthe.hunanncm77@aol.comsirocco@prodigy.net31strawberryairun101cindy4779dleggoe@msn.commaxwell_gemsnetabephotosflasherjanss454@wxs.nlgate99svm2kpereluzi00dscollier3court_carreker31strawberrytreasureking.comsunday322cvmiami1gisbertboberlander@slk.comboxsterbearcnelisdebrittodjettie21jvaynshtokfeyaposmarcusclickoverflowingclosetbosspadsigsrusbrigidsboyeosnead@aol.comk.l.pinesoul.reaveryung-wensteven1328freembddarwal-depgabz2383janetfugarazzorestdynamicsnana-tylercarloss8055adammurryroticsstrunkbathmmedina@calcsea.orgnguyenat@san.rr.commapguyadammurryvickiejaykaysophiecorbettturbomausihappyrovacarlondonoorlanfsblackdotdavidsongirl2pascal1666tessieg.finn69earljrainbowrkqjackofspeedmotion32golfhacksawbirdkowskystrongobtoadotawpopetreasureprincesspascal1666anasandakewe1950ifonawintersnightatravelllass1004sophiecorbettcrazy4watchesfossil1973bobfitz@bellsouth.netcutiepatutiesobecompfc@aol.comdiegormevpolyakpcsoftwaremanpialu9ngow34youmastcindy4779filmwearjtr777@aol.comcarloss8055kylixososerpro2cer@hotmail.comstestestevpham.200019750926ophilwl3290happyrovaiwantu2darwal-depwhalen@northlink.comyoumastdkbayanjaraklove86650@aol.comamerlandvangoghbouviecoharleysandragianvpolyaknguyenat@san.rr.combaby1228pialu9duderinoesmodeuscallawayjb@aol.comskygirlabpegcllderek188131strawberrynjbirdmomazamora610@cs.comlacagninacvmiami1geemeetee@aol.comsandragianewe1950bosspadnana-tylerchrissiegurldarwal-depdebrittodsaphi7171@amexol.netvknsvdukatlass1004pascal166612345678birdhhfgfjanno47toadotabosspadnickoftimebluetampa_tapvleykinjimboysanadammurryanasandakbdsr1hugo44aegean-2001'",
      "\nDuring handling of the above exception, another exception occurred:\n",
      "\u001b[1;31mValueError\u001b[0m                                Traceback (most recent call last)",
      "\u001b[1;32m~\\anaconda3\\lib\\site-packages\\pandas\\core\\nanops.py\u001b[0m in \u001b[0;36m_ensure_numeric\u001b[1;34m(x)\u001b[0m\n\u001b[0;32m   1306\u001b[0m             \u001b[1;32mtry\u001b[0m\u001b[1;33m:\u001b[0m\u001b[1;33m\u001b[0m\u001b[1;33m\u001b[0m\u001b[0m\n\u001b[1;32m-> 1307\u001b[1;33m                 \u001b[0mx\u001b[0m \u001b[1;33m=\u001b[0m \u001b[0mcomplex\u001b[0m\u001b[1;33m(\u001b[0m\u001b[0mx\u001b[0m\u001b[1;33m)\u001b[0m\u001b[1;33m\u001b[0m\u001b[1;33m\u001b[0m\u001b[0m\n\u001b[0m\u001b[0;32m   1308\u001b[0m             \u001b[1;32mexcept\u001b[0m \u001b[0mValueError\u001b[0m\u001b[1;33m:\u001b[0m\u001b[1;33m\u001b[0m\u001b[1;33m\u001b[0m\u001b[0m\n",
      "\u001b[1;31mValueError\u001b[0m: could not convert string to complex: 'boraboraboraaclbjcnelsoncpmpialu9geemeetee@aol.comdarbarskipdollfacepumpkinbogdanbostbdonahue9@aol.commsvailjepattiiiturbomausitrunkbathwhalen@northlink.compdhsu1dre_313@yahoo.compascal1666apfb@excite.comcnelisb2hatsmkect10adammurryb2hatsnjbirdmomazamora610@cs.comhora01pereluzi00jimboysannana-tylermapguyangelaleumkb98renob2sigsrusbogdanbostregman324peterfung@aol.comhoneycakesmoneybiggeo@hotmail.comazamora610@cs.comhappyrovadelux1cspcsoftwaremannjbirdmomsamkapspartan@mindspring.comsirocco@prodigy.netbahamawomansandsellerotan1810sirocco@prodigy.netro50014restdynamicspablofennymoreewe1950iwantu2perrymdsaphi7171@amexol.netdream4321lola723darwal-deppro2cer@hotmail.comnorthwestportlandtraderlennonjasonmia@netzero.necindy4779lemsgemssmartgirl0204lass1004cvmiami1cutiepatutiesobeamskymom19750926owhy18ifonawintersnightatravelljimboysansudohaniclubmemberlass1004blackdotlacagninarolexaddictskylzatop@excite.comfreembdhestellgurucutecube@mac.comcvmiami1marcusclickgram999orchidmktg@aol.comlola723sophiecorbettzatsplits@aol.comgisbert19750926osaphi7171@amexol.netlacagninagrowingwildbally29loreparra@excite.comgknguyenpereluzi00restdynamicsnetabedleggoe@msn.comalfietraverssaphi7171@amexol.netalfietraversaninaninbosspadlass1004terryd2053spikeit1990treasureking.comdalear6@aol.comdleggoe@msn.comhelvetklute1nana-tylerlc30cunmrsjmsolosmileoftenvknsorlanfsjannypie1lass1004callawayjb@aol.comtimeatlast19750926oorchidmktg@aol.comnjbirdmomfriscotheman@aol.comhelvetvpolyakbosspadsirocco@prodigy.netrichardgzlacagninachrissiegurldiamonddr1@aol.comanasandakhugo44oschoffstwhalen@northlink.comrplfundinggntburkewlp@mediaone.netjanno47marky63orlanfstoadotaboraboraborajtr777@aol.comcutiepatutiesobesomto_offohhugo44overflowingclosettoadotajackofspeednorthwestportlandtradersactogroovebuyall5scott@purplepicket.comcrta@ti.comizzy87dedeszavion1333@hotmail.comleonardcohenfanbrigidsboyterryd2053mlsrbrt@aol.comdoc213restdynamicsafaucherzatsplits@aol.comfossil1973strongobdleggoe@msn.comdiegormepcsoftwaremanjuseasrskala@easytel.netjpamro@aol.comvpham.2000k.s.cohen@verizon.net19750926obasilm@mediaone.netjuseaslass1004tampa_taplafontant155toadotaoverflowingclosetbirdkowskyrsahaj@yahoo.commkb98haring123coharleyoverflowingclosetperrymdahmadksandragiantalwangk.daruwala@btconnect.comdressy-bessyhoneycakesmoneyyoder9spikeit1990drob223jimboysancindy4779akryzakrichardgzpegclldumbarton2715angelaleuhappyrovangow34vleykinadammurrytoadotanolalacagninaccie51xxwlp@mediaone.nethover@ucnsb.netboxsterbearlc30justine@701701.comcorbatasbutchballswhiteeagle@shadow.netmroth1099marky63happyrovasami-girladammurryvknsjimboysanmgicatwomanvdukatbutchballskasika5k.s.cohen@verizon.netfvetahbhandrevleykinvdukatmdhallinoverflowingclosetavion1333@hotmail.comduderinoyoumastmarky63ctlisalisaoverflowingclosetk.s.cohen@verizon.netcindy4779saphi7171@amexol.netmgicatwomanyuriyshrifteylik@altavistraritylinkmarcusclickva2cafjfds@aol.comcarlondonoskygirlabgucci725cindy4779raritylinkfeyaposakapsonmgicatwomanadammurryfreembdcudd8963@aol.comkfreyvog@tampabay.rr.comannekilborn@hotmail.comcarloss8055mrm0214@yahoo.compascal1666yung-wensactogrooverumpelstillskinheres2youturbomausienglishteacher21various19735kpimp4life76lass1004sirocco@prodigy.netpascal1666natashamthehandmadensnychowderheaddu38120gram999vpolyakpascal1666bogdanbostrestdynamicsvangoghbouviemyactreasuresartkallrrsumbavpolyaktrunkbathyoumastykelectro@hotmail.comewe1950ps138pascal1666nana-tylermotion32ox21cpascal1666corradi19rrsumbavpolyakbirdkowskyscandalmus@aol.comjettie21sami-girlblackdotroyscocufflink@erols.comlass1004philwl3290cnelisdebrittoden-igmasactogroovekinkinovangoghbouviemgicatwomanbally29feyaposthe.hammervkmathewsgram999motion32kinkinosvm2kdidckdtnscott@purplepicket.combosomviebcemborakapsonyuriyshrifteylik@altavistps138photosflashertea_pot_girlmapguyanasandakdarwal-deprkqhoney-mariedgulkis@mcdata.comyokarinecvmiami1thehandmadens2000joedre_313@yahoo.comthehandmadensivgenmmedina@calcsea.orggabz2383ojjuice2@aol.com19750926omotion32hot_rookiemaxwell_gemsrrsumbahappyrovanguyenat@san.rr.comgmorgan@elliman.comcheddaboynguyenat@san.rr.comawinningbidpereluzi00bosspadrestdynamicshoneycakesmoneyspartan@mindspring.comsignedpiecesinck.daruwala@btconnect.comsoul.reaverkdrew@prodigy.netsunday322jennoubceezar1@aol.commyactreasuresskylscandalmus@aol.comwatchv70t5bdsr1strongobmarcusclicksoysoy75ccd79vknsgucci725bogdanbostnorthwestportlandtraderrikluttmermmedina@calcsea.orgdressy-bessyluxurysource001lacagninafreembdhappyrovaadammurrymdhallinsoul.reaverkasika5gram999photosflasherjanss454@wxs.nlcindy4779du38120honeycakesmoneyvat15@earthlink.net19750926ohugo44ifonawintersnightatravellacbrehugo44jdrinazsaphi7171@amexol.nethelvetcbcolqunounojbiiihappyrovadre_313@yahoo.competerfung@aol.comprincess-gingerberler@msn.comimurreson4livingk.l.pineb2hatsjennoudarwal-deptampa_tapsoul.reaverfjfds@aol.comhseldinroticssorlanfsanncm77@aol.commarkcic@aol.comcarloss8055derek1881finn69helvetmotion32fortlaud.collectiondispassiontrunkbathsylvesterii9lightsblackdotmkect10cvmiami1compfc@aol.comkasika5aclbjcalbatross007kinkinoanjaraboxsterbearhappyrovaboxsterbearpuppypuppycrazy4watchesgabz2383dream4321greenrobemarkcic@aol.comboberlander@slk.com31strawberrybutchballsizzy87hbhandrebutchballsmapguycarloss8055jettie21growingwildsylvesteriilarryr911aprefernolarestdynamicsbcemborcrazy4watchesskw80104bosspaddkbaynana-tylerjjaslowskiboberlander@slk.comsaphi7171@amexol.nethelvetadammurryscandalmus@aol.comnatashamnguyenat@san.rr.comgisberthappyrovatoadotapascal1666treasureprincessnorthwestportlandtraderorchidmktg@aol.comm3zy6fvetaboraboraboracarloss8055queenbebe71hjg6593dedeszlass1004chi-town7corradi19butchballstori5678@aol.comfreembdcutecube@mac.com19750926ootan1810sophiecorbettadihcudkbaysunkisses2001alexikuazamora610@cs.comhugo44adammurryfossil1973capitalsquare31strawberryyoumastrnmichellehappykid31strawberrytennisart7@aol.comhappyrovaykelectro@hotmail.comtampa_tapbobfitz@bellsouth.netnana-tylerstestestefreembdcvmiami1rrsumbabooba69morerdtomita-fukuyopascal1666auntdotbidsderek1881sophiecorbettnaplboyk.s.cohen@verizon.netspikeit1990averartjvaynshtokfreembdtimevuhappyrovabosspadpascal1666ljr32dadjr@stargate.netlatinirishbutchballsralph.oman@dechert.comchevysredavion1333@hotmail.comeddsporttoadotaadammurryesmodeustampa_tapnetabelola723en-igmasharpei1bellsouthel_coleccionistasoul.reaverwpopecheddaboyjzdennispialu9hjg6593cvmiami1skygirlabinvestmoore2bdsr1ad48170k.daruwala@btconnect.comrrsumbafuzzy3028akryzakfriscotheman@aol.comdiegormehoneycakesmoneyvalleartjvaynshtoktrunkbathgisbertazamora610@cs.comsandsellerzatop@excite.comjpamro@aol.comyokarinebirdkowskywatchlover24honeycakesmoneyinvestmoore2pascal1666butchballskinkinofilmwearhoneycakesmoneynsala12freembdlass1004pascal1666adammurrytimevumarky63nickoftimebluesjcnguyengotpaydmaxwell_gemscutiepatutiesobebdoocean@aol.comyung-wenjillkilleenspartan@mindspring.comcindy4779orchidmktg@aol.comtrunkbathcompfc@aol.comfroilandahappyrovamillyjohnccd79debrittodadammurryhhn1998darwal-depsaphi7171@amexol.netbirdkowskytessieg.trunkbath19750926onsala12jimboysanps138josephvkuca@msn.comkimbo930freembdmyactreasuresrestdynamicsfuturepilotstestestethe.hungladioly682jeweleyesccd79crazy4watchesbrigidsboygrowingwildcvmiami1tealeaf9earljrainbowdavidsongirl2orchidmktg@aol.comhartmutophilwl3290pcsoftwaremananasandakbdsr1rnmichellepascal1666restdynamicszmxudressy-bessycindy4779youmastdream4321jzdennisaclbjcoschoffsttigerwhisper2mnyboxersphotosflasherhappyrovatreasureprincesspialu9yung-wenpialu9snb11somto_offohfreembdcvmiami1ngow34darwal-depbaby1228geemeetee@aol.comcompfc@aol.comfreembdvat15@earthlink.netvangoghbouvieblackdotsami-girljanetfugarazzomotion32reed.nlcindy4779bdsr1delux1cshelvetamskymomgjuncapascal1666ososerjzdennis24kniceaclbjcluxustoysrumpelstillskincarla_kroezeshetellia@aol.comcourt_carreker19750926o7794369vpolyak12345678birdjjaslowskiafrye37076@aol.comdiegormeseriwanvdukatangelaleumb@wellsref.com19750926opcsoftwaremanawinningbidlass1004debrittodstilepts@aol.comhoneycakesmoneyzatop@excite.comrestdynamicstreasureprincesssoysoy75artkallaegean-2001zatop@excite.comlittlekittygirlturbomausiairun101minni36gisberten-igmanjbirdmomangelaleudleggoe@msn.comgrayfirmiwantu2perrymdhappyrovanetaberikluttmerqueendebi2000oschoffstbutchballs2mnyboxersviolinisimoiiiimdvangoghbouviestrongobgisbertskkindvall@scottsbluff.neadammurrygate99amskymomphotosflashermarky63jseidfreembdgeemeetee@aol.comchevysredfeyapospascal166619750926ohugo44tessieg.hhfgfrehmvyuriyshrifteylik@altavisteosnead@aol.comkylixbogdanbostdarbarskipcorbataslass1004cvmiami1steven1328nguyenat@san.rr.comfreembdpialu9paudstanasandakk.s.cohen@verizon.nettessieg.skw80104puppypuppyearljrainbowlass1004vickiejaykaysurfingbig_boyc5193dema_luligm492@columbia.edukpimp4life76restdynamicscvmiami1mouse0919jimboysanperrymdgrowingwildssze88corbatassharpei1bellsouthk.s.cohen@verizon.netyokarinealbertmillerfreembd31strawberrymotion32hartmutootan1810lennonjasonmia@netzero.neotan1810vkmathewskfreyvog@tampabay.rr.comewe1950mmedina@calcsea.orgdarwal-depsigsrusnelsoncpmamskymom31strawberrynana-tylergolfhacksawbaby1228mdalo36124@aol.comtampa_tapanasandakjsteinpsygntburkesmileoftengucci725birdkowskyduderinopascal1666bogdanbostdarwal-dep5038scoopymgicatwomanrestdynamicsdjpjohn@aol.comzatop@excite.com12girldarwal-depbdoocean@aol.comdaviddonofriofreembdmarky63vdukatcarloss8055freembdstrongobnjbirdmomtrunkbathpwr2mvuenthalpy1basilm@mediaone.netelliseklc3019750926osandragianvkmathewsbdsr1deroode7794369jzdennis12345678birdbally29duderinofxschmidttongyancarloss8055freembdarnoldpwctampa_tapbosspadklove86650@aol.comtessieg.libobo31strawberryjillam58signedpiecesinc12345678birdcrazy4watchesotan1810perrymdamerlandraritylinkbutchballstrunkbathgoldpleasehglinberg@aol.comsuperstore4lessrrsumbadarwal-depsandragiansactogroovegolfhacksawhbhandremarie0711sandsellerbutchballslass1004simonho2001sgnana-tylerscandalmus@aol.commaxwell_gemsrrsumbavkmathewsbirdkowskygbcoinsesquared@home.comavion1333@hotmail.comderoodedscollier3criteenrsency@disnow.comsvm2kmarcusclickscottuysal77conkuntampa_tapbosspadgisbertjuseasboxsterbearnjbirdmomanasandakwatchv70t5oseofossil73cvmiami1mmedina@calcsea.orgboraboraborababy1228tessieg.darwal-depadammurrykiero1@webtv.comrplfundinggrayfirmboberlander@slk.comadammurrymom_he_she_hitmehora01vpolyaktab999@msn.comhelvetmarcusclickmjopusone@aol.comjanno47timeatlastsaphi7171@amexol.nethappyrovaososerhappyrovabutchballscvmiami1spartan@mindspring.comkvam@home.comcindy4779lass1004adihcurnb4orchidmktg@aol.comoverflowingclosetadammurryadammurrymyactreasuresglobalartcomm@aol.comhhfgfwschorer@earthlink.nethelvetcarloss8055youmastadammurrytampa_tapvpolyakmyactreasurescapitalsquaregolfhacksawvat15@earthlink.netrrsumbaen-igmapascal1666hglinberg@aol.comdoc213helvetmillyjohnhoney-marieroyscocarloss8055zatop@excite.com19750926oimurreson4livingdarbarskipgotpaydeddsportfriscotheman@aol.comavion1333@hotmail.comtigerwhispermotion32hbhandregucci725pialu9happyrovalibobogisbertyuriyshrifteylik@altavistk.daruwala@btconnect.comacbrecutecube@mac.com19750926oauntdotbidsbally29smileoftensoysoy75buyall5signedpiecesincleonardcohenfansvm2kbutchballsthe.hunanncm77@aol.comsirocco@prodigy.net31strawberryairun101cindy4779dleggoe@msn.commaxwell_gemsnetabephotosflasherjanss454@wxs.nlgate99svm2kpereluzi00dscollier3court_carreker31strawberrytreasureking.comsunday322cvmiami1gisbertboberlander@slk.comboxsterbearcnelisdebrittodjettie21jvaynshtokfeyaposmarcusclickoverflowingclosetbosspadsigsrusbrigidsboyeosnead@aol.comk.l.pinesoul.reaveryung-wensteven1328freembddarwal-depgabz2383janetfugarazzorestdynamicsnana-tylercarloss8055adammurryroticsstrunkbathmmedina@calcsea.orgnguyenat@san.rr.commapguyadammurryvickiejaykaysophiecorbettturbomausihappyrovacarlondonoorlanfsblackdotdavidsongirl2pascal1666tessieg.finn69earljrainbowrkqjackofspeedmotion32golfhacksawbirdkowskystrongobtoadotawpopetreasureprincesspascal1666anasandakewe1950ifonawintersnightatravelllass1004sophiecorbettcrazy4watchesfossil1973bobfitz@bellsouth.netcutiepatutiesobecompfc@aol.comdiegormevpolyakpcsoftwaremanpialu9ngow34youmastcindy4779filmwearjtr777@aol.comcarloss8055kylixososerpro2cer@hotmail.comstestestevpham.200019750926ophilwl3290happyrovaiwantu2darwal-depwhalen@northlink.comyoumastdkbayanjaraklove86650@aol.comamerlandvangoghbouviecoharleysandragianvpolyaknguyenat@san.rr.combaby1228pialu9duderinoesmodeuscallawayjb@aol.comskygirlabpegcllderek188131strawberrynjbirdmomazamora610@cs.comlacagninacvmiami1geemeetee@aol.comsandragianewe1950bosspadnana-tylerchrissiegurldarwal-depdebrittodsaphi7171@amexol.netvknsvdukatlass1004pascal166612345678birdhhfgfjanno47toadotabosspadnickoftimebluetampa_tapvleykinjimboysanadammurryanasandakbdsr1hugo44aegean-2001'",
      "\nDuring handling of the above exception, another exception occurred:\n",
      "\u001b[1;31mTypeError\u001b[0m                                 Traceback (most recent call last)",
      "\u001b[1;32m<ipython-input-18-24a0ba28afb8>\u001b[0m in \u001b[0;36m<module>\u001b[1;34m\u001b[0m\n\u001b[1;32m----> 1\u001b[1;33m \u001b[0mplotBarCat\u001b[0m\u001b[1;33m(\u001b[0m\u001b[0mdf\u001b[0m\u001b[1;33m,\u001b[0m\u001b[0mdf\u001b[0m\u001b[1;33m.\u001b[0m\u001b[0mcolumns\u001b[0m\u001b[1;33m[\u001b[0m\u001b[1;36m3\u001b[0m\u001b[1;33m]\u001b[0m\u001b[1;33m)\u001b[0m\u001b[1;33m\u001b[0m\u001b[1;33m\u001b[0m\u001b[0m\n\u001b[0m",
      "\u001b[1;32m<ipython-input-15-a32d71815128>\u001b[0m in \u001b[0;36mplotBarCat\u001b[1;34m(df, feature)\u001b[0m\n\u001b[0;32m     27\u001b[0m         \u001b[0mprint\u001b[0m\u001b[1;33m(\u001b[0m\u001b[1;34m'-*-'\u001b[0m\u001b[1;33m*\u001b[0m\u001b[1;36m25\u001b[0m\u001b[1;33m)\u001b[0m\u001b[1;33m\u001b[0m\u001b[1;33m\u001b[0m\u001b[0m\n\u001b[0;32m     28\u001b[0m \u001b[1;33m\u001b[0m\u001b[0m\n\u001b[1;32m---> 29\u001b[1;33m     \u001b[0mDescribeFloatSkewKurt\u001b[0m\u001b[1;33m(\u001b[0m\u001b[0mdf\u001b[0m\u001b[1;33m,\u001b[0m\u001b[0mfeature\u001b[0m\u001b[1;33m)\u001b[0m\u001b[1;33m\u001b[0m\u001b[1;33m\u001b[0m\u001b[0m\n\u001b[0m\u001b[0;32m     30\u001b[0m \u001b[1;33m\u001b[0m\u001b[0m\n",
      "\u001b[1;32m<ipython-input-15-a32d71815128>\u001b[0m in \u001b[0;36mDescribeFloatSkewKurt\u001b[1;34m(df, target)\u001b[0m\n\u001b[0;32m     21\u001b[0m     \u001b[1;32mdef\u001b[0m \u001b[0mDescribeFloatSkewKurt\u001b[0m\u001b[1;33m(\u001b[0m\u001b[0mdf\u001b[0m\u001b[1;33m,\u001b[0m\u001b[0mtarget\u001b[0m\u001b[1;33m)\u001b[0m\u001b[1;33m:\u001b[0m\u001b[1;33m\u001b[0m\u001b[1;33m\u001b[0m\u001b[0m\n\u001b[0;32m     22\u001b[0m         \u001b[0mprint\u001b[0m\u001b[1;33m(\u001b[0m\u001b[1;34m'-*-'\u001b[0m\u001b[1;33m*\u001b[0m\u001b[1;36m25\u001b[0m\u001b[1;33m)\u001b[0m\u001b[1;33m\u001b[0m\u001b[1;33m\u001b[0m\u001b[0m\n\u001b[1;32m---> 23\u001b[1;33m         \u001b[0mprint\u001b[0m\u001b[1;33m(\u001b[0m\u001b[1;34m\"{0} mean : \"\u001b[0m\u001b[1;33m.\u001b[0m\u001b[0mformat\u001b[0m\u001b[1;33m(\u001b[0m\u001b[0mtarget\u001b[0m\u001b[1;33m)\u001b[0m\u001b[1;33m,\u001b[0m \u001b[0mnp\u001b[0m\u001b[1;33m.\u001b[0m\u001b[0mmean\u001b[0m\u001b[1;33m(\u001b[0m\u001b[0mdf\u001b[0m\u001b[1;33m[\u001b[0m\u001b[0mfeature\u001b[0m\u001b[1;33m]\u001b[0m\u001b[1;33m)\u001b[0m\u001b[1;33m)\u001b[0m\u001b[1;33m\u001b[0m\u001b[1;33m\u001b[0m\u001b[0m\n\u001b[0m\u001b[0;32m     24\u001b[0m         \u001b[0mprint\u001b[0m\u001b[1;33m(\u001b[0m\u001b[1;34m\"{0} var  : \"\u001b[0m\u001b[1;33m.\u001b[0m\u001b[0mformat\u001b[0m\u001b[1;33m(\u001b[0m\u001b[0mtarget\u001b[0m\u001b[1;33m)\u001b[0m\u001b[1;33m,\u001b[0m \u001b[0mnp\u001b[0m\u001b[1;33m.\u001b[0m\u001b[0mvar\u001b[0m\u001b[1;33m(\u001b[0m\u001b[0mdf\u001b[0m\u001b[1;33m[\u001b[0m\u001b[0mfeature\u001b[0m\u001b[1;33m]\u001b[0m\u001b[1;33m)\u001b[0m\u001b[1;33m)\u001b[0m\u001b[1;33m\u001b[0m\u001b[1;33m\u001b[0m\u001b[0m\n\u001b[0;32m     25\u001b[0m         \u001b[0mprint\u001b[0m\u001b[1;33m(\u001b[0m\u001b[1;34m\"{0} skew (should be 0 for normal distribution) : \"\u001b[0m\u001b[1;33m.\u001b[0m\u001b[0mformat\u001b[0m\u001b[1;33m(\u001b[0m\u001b[0mtarget\u001b[0m\u001b[1;33m)\u001b[0m\u001b[1;33m,\u001b[0m \u001b[0mskew\u001b[0m\u001b[1;33m(\u001b[0m\u001b[0mdf\u001b[0m\u001b[1;33m[\u001b[0m\u001b[0mfeature\u001b[0m\u001b[1;33m]\u001b[0m\u001b[1;33m)\u001b[0m\u001b[1;33m)\u001b[0m\u001b[1;33m\u001b[0m\u001b[1;33m\u001b[0m\u001b[0m\n",
      "\u001b[1;32m<__array_function__ internals>\u001b[0m in \u001b[0;36mmean\u001b[1;34m(*args, **kwargs)\u001b[0m\n",
      "\u001b[1;32m~\\anaconda3\\lib\\site-packages\\numpy\\core\\fromnumeric.py\u001b[0m in \u001b[0;36mmean\u001b[1;34m(a, axis, dtype, out, keepdims)\u001b[0m\n\u001b[0;32m   3330\u001b[0m             \u001b[1;32mpass\u001b[0m\u001b[1;33m\u001b[0m\u001b[1;33m\u001b[0m\u001b[0m\n\u001b[0;32m   3331\u001b[0m         \u001b[1;32melse\u001b[0m\u001b[1;33m:\u001b[0m\u001b[1;33m\u001b[0m\u001b[1;33m\u001b[0m\u001b[0m\n\u001b[1;32m-> 3332\u001b[1;33m             \u001b[1;32mreturn\u001b[0m \u001b[0mmean\u001b[0m\u001b[1;33m(\u001b[0m\u001b[0maxis\u001b[0m\u001b[1;33m=\u001b[0m\u001b[0maxis\u001b[0m\u001b[1;33m,\u001b[0m \u001b[0mdtype\u001b[0m\u001b[1;33m=\u001b[0m\u001b[0mdtype\u001b[0m\u001b[1;33m,\u001b[0m \u001b[0mout\u001b[0m\u001b[1;33m=\u001b[0m\u001b[0mout\u001b[0m\u001b[1;33m,\u001b[0m \u001b[1;33m**\u001b[0m\u001b[0mkwargs\u001b[0m\u001b[1;33m)\u001b[0m\u001b[1;33m\u001b[0m\u001b[1;33m\u001b[0m\u001b[0m\n\u001b[0m\u001b[0;32m   3333\u001b[0m \u001b[1;33m\u001b[0m\u001b[0m\n\u001b[0;32m   3334\u001b[0m     return _methods._mean(a, axis=axis, dtype=dtype,\n",
      "\u001b[1;32m~\\anaconda3\\lib\\site-packages\\pandas\\core\\generic.py\u001b[0m in \u001b[0;36mstat_func\u001b[1;34m(self, axis, skipna, level, numeric_only, **kwargs)\u001b[0m\n\u001b[0;32m  11212\u001b[0m         \u001b[1;32mif\u001b[0m \u001b[0mlevel\u001b[0m \u001b[1;32mis\u001b[0m \u001b[1;32mnot\u001b[0m \u001b[1;32mNone\u001b[0m\u001b[1;33m:\u001b[0m\u001b[1;33m\u001b[0m\u001b[1;33m\u001b[0m\u001b[0m\n\u001b[0;32m  11213\u001b[0m             \u001b[1;32mreturn\u001b[0m \u001b[0mself\u001b[0m\u001b[1;33m.\u001b[0m\u001b[0m_agg_by_level\u001b[0m\u001b[1;33m(\u001b[0m\u001b[0mname\u001b[0m\u001b[1;33m,\u001b[0m \u001b[0maxis\u001b[0m\u001b[1;33m=\u001b[0m\u001b[0maxis\u001b[0m\u001b[1;33m,\u001b[0m \u001b[0mlevel\u001b[0m\u001b[1;33m=\u001b[0m\u001b[0mlevel\u001b[0m\u001b[1;33m,\u001b[0m \u001b[0mskipna\u001b[0m\u001b[1;33m=\u001b[0m\u001b[0mskipna\u001b[0m\u001b[1;33m)\u001b[0m\u001b[1;33m\u001b[0m\u001b[1;33m\u001b[0m\u001b[0m\n\u001b[1;32m> 11214\u001b[1;33m         return self._reduce(\n\u001b[0m\u001b[0;32m  11215\u001b[0m             \u001b[0mf\u001b[0m\u001b[1;33m,\u001b[0m \u001b[0mname\u001b[0m\u001b[1;33m,\u001b[0m \u001b[0maxis\u001b[0m\u001b[1;33m=\u001b[0m\u001b[0maxis\u001b[0m\u001b[1;33m,\u001b[0m \u001b[0mskipna\u001b[0m\u001b[1;33m=\u001b[0m\u001b[0mskipna\u001b[0m\u001b[1;33m,\u001b[0m \u001b[0mnumeric_only\u001b[0m\u001b[1;33m=\u001b[0m\u001b[0mnumeric_only\u001b[0m\u001b[1;33m\u001b[0m\u001b[1;33m\u001b[0m\u001b[0m\n\u001b[0;32m  11216\u001b[0m         )\n",
      "\u001b[1;32m~\\anaconda3\\lib\\site-packages\\pandas\\core\\series.py\u001b[0m in \u001b[0;36m_reduce\u001b[1;34m(self, op, name, axis, skipna, numeric_only, filter_type, **kwds)\u001b[0m\n\u001b[0;32m   3889\u001b[0m                 )\n\u001b[0;32m   3890\u001b[0m             \u001b[1;32mwith\u001b[0m \u001b[0mnp\u001b[0m\u001b[1;33m.\u001b[0m\u001b[0merrstate\u001b[0m\u001b[1;33m(\u001b[0m\u001b[0mall\u001b[0m\u001b[1;33m=\u001b[0m\u001b[1;34m\"ignore\"\u001b[0m\u001b[1;33m)\u001b[0m\u001b[1;33m:\u001b[0m\u001b[1;33m\u001b[0m\u001b[1;33m\u001b[0m\u001b[0m\n\u001b[1;32m-> 3891\u001b[1;33m                 \u001b[1;32mreturn\u001b[0m \u001b[0mop\u001b[0m\u001b[1;33m(\u001b[0m\u001b[0mdelegate\u001b[0m\u001b[1;33m,\u001b[0m \u001b[0mskipna\u001b[0m\u001b[1;33m=\u001b[0m\u001b[0mskipna\u001b[0m\u001b[1;33m,\u001b[0m \u001b[1;33m**\u001b[0m\u001b[0mkwds\u001b[0m\u001b[1;33m)\u001b[0m\u001b[1;33m\u001b[0m\u001b[1;33m\u001b[0m\u001b[0m\n\u001b[0m\u001b[0;32m   3892\u001b[0m \u001b[1;33m\u001b[0m\u001b[0m\n\u001b[0;32m   3893\u001b[0m         \u001b[1;31m# TODO(EA) dispatch to Index\u001b[0m\u001b[1;33m\u001b[0m\u001b[1;33m\u001b[0m\u001b[1;33m\u001b[0m\u001b[0m\n",
      "\u001b[1;32m~\\anaconda3\\lib\\site-packages\\pandas\\core\\nanops.py\u001b[0m in \u001b[0;36m_f\u001b[1;34m(*args, **kwargs)\u001b[0m\n\u001b[0;32m     67\u001b[0m             \u001b[1;32mtry\u001b[0m\u001b[1;33m:\u001b[0m\u001b[1;33m\u001b[0m\u001b[1;33m\u001b[0m\u001b[0m\n\u001b[0;32m     68\u001b[0m                 \u001b[1;32mwith\u001b[0m \u001b[0mnp\u001b[0m\u001b[1;33m.\u001b[0m\u001b[0merrstate\u001b[0m\u001b[1;33m(\u001b[0m\u001b[0minvalid\u001b[0m\u001b[1;33m=\u001b[0m\u001b[1;34m\"ignore\"\u001b[0m\u001b[1;33m)\u001b[0m\u001b[1;33m:\u001b[0m\u001b[1;33m\u001b[0m\u001b[1;33m\u001b[0m\u001b[0m\n\u001b[1;32m---> 69\u001b[1;33m                     \u001b[1;32mreturn\u001b[0m \u001b[0mf\u001b[0m\u001b[1;33m(\u001b[0m\u001b[1;33m*\u001b[0m\u001b[0margs\u001b[0m\u001b[1;33m,\u001b[0m \u001b[1;33m**\u001b[0m\u001b[0mkwargs\u001b[0m\u001b[1;33m)\u001b[0m\u001b[1;33m\u001b[0m\u001b[1;33m\u001b[0m\u001b[0m\n\u001b[0m\u001b[0;32m     70\u001b[0m             \u001b[1;32mexcept\u001b[0m \u001b[0mValueError\u001b[0m \u001b[1;32mas\u001b[0m \u001b[0me\u001b[0m\u001b[1;33m:\u001b[0m\u001b[1;33m\u001b[0m\u001b[1;33m\u001b[0m\u001b[0m\n\u001b[0;32m     71\u001b[0m                 \u001b[1;31m# we want to transform an object array\u001b[0m\u001b[1;33m\u001b[0m\u001b[1;33m\u001b[0m\u001b[1;33m\u001b[0m\u001b[0m\n",
      "\u001b[1;32m~\\anaconda3\\lib\\site-packages\\pandas\\core\\nanops.py\u001b[0m in \u001b[0;36mf\u001b[1;34m(values, axis, skipna, **kwds)\u001b[0m\n\u001b[0;32m    123\u001b[0m                     \u001b[0mresult\u001b[0m \u001b[1;33m=\u001b[0m \u001b[0malt\u001b[0m\u001b[1;33m(\u001b[0m\u001b[0mvalues\u001b[0m\u001b[1;33m,\u001b[0m \u001b[0maxis\u001b[0m\u001b[1;33m=\u001b[0m\u001b[0maxis\u001b[0m\u001b[1;33m,\u001b[0m \u001b[0mskipna\u001b[0m\u001b[1;33m=\u001b[0m\u001b[0mskipna\u001b[0m\u001b[1;33m,\u001b[0m \u001b[1;33m**\u001b[0m\u001b[0mkwds\u001b[0m\u001b[1;33m)\u001b[0m\u001b[1;33m\u001b[0m\u001b[1;33m\u001b[0m\u001b[0m\n\u001b[0;32m    124\u001b[0m             \u001b[1;32melse\u001b[0m\u001b[1;33m:\u001b[0m\u001b[1;33m\u001b[0m\u001b[1;33m\u001b[0m\u001b[0m\n\u001b[1;32m--> 125\u001b[1;33m                 \u001b[0mresult\u001b[0m \u001b[1;33m=\u001b[0m \u001b[0malt\u001b[0m\u001b[1;33m(\u001b[0m\u001b[0mvalues\u001b[0m\u001b[1;33m,\u001b[0m \u001b[0maxis\u001b[0m\u001b[1;33m=\u001b[0m\u001b[0maxis\u001b[0m\u001b[1;33m,\u001b[0m \u001b[0mskipna\u001b[0m\u001b[1;33m=\u001b[0m\u001b[0mskipna\u001b[0m\u001b[1;33m,\u001b[0m \u001b[1;33m**\u001b[0m\u001b[0mkwds\u001b[0m\u001b[1;33m)\u001b[0m\u001b[1;33m\u001b[0m\u001b[1;33m\u001b[0m\u001b[0m\n\u001b[0m\u001b[0;32m    126\u001b[0m \u001b[1;33m\u001b[0m\u001b[0m\n\u001b[0;32m    127\u001b[0m             \u001b[1;32mreturn\u001b[0m \u001b[0mresult\u001b[0m\u001b[1;33m\u001b[0m\u001b[1;33m\u001b[0m\u001b[0m\n",
      "\u001b[1;32m~\\anaconda3\\lib\\site-packages\\pandas\\core\\nanops.py\u001b[0m in \u001b[0;36mnanmean\u001b[1;34m(values, axis, skipna, mask)\u001b[0m\n\u001b[0;32m    540\u001b[0m         \u001b[0mdtype_count\u001b[0m \u001b[1;33m=\u001b[0m \u001b[0mdtype\u001b[0m\u001b[1;33m\u001b[0m\u001b[1;33m\u001b[0m\u001b[0m\n\u001b[0;32m    541\u001b[0m     \u001b[0mcount\u001b[0m \u001b[1;33m=\u001b[0m \u001b[0m_get_counts\u001b[0m\u001b[1;33m(\u001b[0m\u001b[0mvalues\u001b[0m\u001b[1;33m.\u001b[0m\u001b[0mshape\u001b[0m\u001b[1;33m,\u001b[0m \u001b[0mmask\u001b[0m\u001b[1;33m,\u001b[0m \u001b[0maxis\u001b[0m\u001b[1;33m,\u001b[0m \u001b[0mdtype\u001b[0m\u001b[1;33m=\u001b[0m\u001b[0mdtype_count\u001b[0m\u001b[1;33m)\u001b[0m\u001b[1;33m\u001b[0m\u001b[1;33m\u001b[0m\u001b[0m\n\u001b[1;32m--> 542\u001b[1;33m     \u001b[0mthe_sum\u001b[0m \u001b[1;33m=\u001b[0m \u001b[0m_ensure_numeric\u001b[0m\u001b[1;33m(\u001b[0m\u001b[0mvalues\u001b[0m\u001b[1;33m.\u001b[0m\u001b[0msum\u001b[0m\u001b[1;33m(\u001b[0m\u001b[0maxis\u001b[0m\u001b[1;33m,\u001b[0m \u001b[0mdtype\u001b[0m\u001b[1;33m=\u001b[0m\u001b[0mdtype_sum\u001b[0m\u001b[1;33m)\u001b[0m\u001b[1;33m)\u001b[0m\u001b[1;33m\u001b[0m\u001b[1;33m\u001b[0m\u001b[0m\n\u001b[0m\u001b[0;32m    543\u001b[0m \u001b[1;33m\u001b[0m\u001b[0m\n\u001b[0;32m    544\u001b[0m     \u001b[1;32mif\u001b[0m \u001b[0maxis\u001b[0m \u001b[1;32mis\u001b[0m \u001b[1;32mnot\u001b[0m \u001b[1;32mNone\u001b[0m \u001b[1;32mand\u001b[0m \u001b[0mgetattr\u001b[0m\u001b[1;33m(\u001b[0m\u001b[0mthe_sum\u001b[0m\u001b[1;33m,\u001b[0m \u001b[1;34m\"ndim\"\u001b[0m\u001b[1;33m,\u001b[0m \u001b[1;32mFalse\u001b[0m\u001b[1;33m)\u001b[0m\u001b[1;33m:\u001b[0m\u001b[1;33m\u001b[0m\u001b[1;33m\u001b[0m\u001b[0m\n",
      "\u001b[1;32m~\\anaconda3\\lib\\site-packages\\pandas\\core\\nanops.py\u001b[0m in \u001b[0;36m_ensure_numeric\u001b[1;34m(x)\u001b[0m\n\u001b[0;32m   1308\u001b[0m             \u001b[1;32mexcept\u001b[0m \u001b[0mValueError\u001b[0m\u001b[1;33m:\u001b[0m\u001b[1;33m\u001b[0m\u001b[1;33m\u001b[0m\u001b[0m\n\u001b[0;32m   1309\u001b[0m                 \u001b[1;31m# e.g. \"foo\"\u001b[0m\u001b[1;33m\u001b[0m\u001b[1;33m\u001b[0m\u001b[1;33m\u001b[0m\u001b[0m\n\u001b[1;32m-> 1310\u001b[1;33m                 \u001b[1;32mraise\u001b[0m \u001b[0mTypeError\u001b[0m\u001b[1;33m(\u001b[0m\u001b[1;34mf\"Could not convert {x} to numeric\"\u001b[0m\u001b[1;33m)\u001b[0m\u001b[1;33m\u001b[0m\u001b[1;33m\u001b[0m\u001b[0m\n\u001b[0m\u001b[0;32m   1311\u001b[0m     \u001b[1;32mreturn\u001b[0m \u001b[0mx\u001b[0m\u001b[1;33m\u001b[0m\u001b[1;33m\u001b[0m\u001b[0m\n\u001b[0;32m   1312\u001b[0m \u001b[1;33m\u001b[0m\u001b[0m\n",
      "\u001b[1;31mTypeError\u001b[0m: Could not convert boraboraboraaclbjcnelsoncpmpialu9geemeetee@aol.comdarbarskipdollfacepumpkinbogdanbostbdonahue9@aol.commsvailjepattiiiturbomausitrunkbathwhalen@northlink.compdhsu1dre_313@yahoo.compascal1666apfb@excite.comcnelisb2hatsmkect10adammurryb2hatsnjbirdmomazamora610@cs.comhora01pereluzi00jimboysannana-tylermapguyangelaleumkb98renob2sigsrusbogdanbostregman324peterfung@aol.comhoneycakesmoneybiggeo@hotmail.comazamora610@cs.comhappyrovadelux1cspcsoftwaremannjbirdmomsamkapspartan@mindspring.comsirocco@prodigy.netbahamawomansandsellerotan1810sirocco@prodigy.netro50014restdynamicspablofennymoreewe1950iwantu2perrymdsaphi7171@amexol.netdream4321lola723darwal-deppro2cer@hotmail.comnorthwestportlandtraderlennonjasonmia@netzero.necindy4779lemsgemssmartgirl0204lass1004cvmiami1cutiepatutiesobeamskymom19750926owhy18ifonawintersnightatravelljimboysansudohaniclubmemberlass1004blackdotlacagninarolexaddictskylzatop@excite.comfreembdhestellgurucutecube@mac.comcvmiami1marcusclickgram999orchidmktg@aol.comlola723sophiecorbettzatsplits@aol.comgisbert19750926osaphi7171@amexol.netlacagninagrowingwildbally29loreparra@excite.comgknguyenpereluzi00restdynamicsnetabedleggoe@msn.comalfietraverssaphi7171@amexol.netalfietraversaninaninbosspadlass1004terryd2053spikeit1990treasureking.comdalear6@aol.comdleggoe@msn.comhelvetklute1nana-tylerlc30cunmrsjmsolosmileoftenvknsorlanfsjannypie1lass1004callawayjb@aol.comtimeatlast19750926oorchidmktg@aol.comnjbirdmomfriscotheman@aol.comhelvetvpolyakbosspadsirocco@prodigy.netrichardgzlacagninachrissiegurldiamonddr1@aol.comanasandakhugo44oschoffstwhalen@northlink.comrplfundinggntburkewlp@mediaone.netjanno47marky63orlanfstoadotaboraboraborajtr777@aol.comcutiepatutiesobesomto_offohhugo44overflowingclosettoadotajackofspeednorthwestportlandtradersactogroovebuyall5scott@purplepicket.comcrta@ti.comizzy87dedeszavion1333@hotmail.comleonardcohenfanbrigidsboyterryd2053mlsrbrt@aol.comdoc213restdynamicsafaucherzatsplits@aol.comfossil1973strongobdleggoe@msn.comdiegormepcsoftwaremanjuseasrskala@easytel.netjpamro@aol.comvpham.2000k.s.cohen@verizon.net19750926obasilm@mediaone.netjuseaslass1004tampa_taplafontant155toadotaoverflowingclosetbirdkowskyrsahaj@yahoo.commkb98haring123coharleyoverflowingclosetperrymdahmadksandragiantalwangk.daruwala@btconnect.comdressy-bessyhoneycakesmoneyyoder9spikeit1990drob223jimboysancindy4779akryzakrichardgzpegclldumbarton2715angelaleuhappyrovangow34vleykinadammurrytoadotanolalacagninaccie51xxwlp@mediaone.nethover@ucnsb.netboxsterbearlc30justine@701701.comcorbatasbutchballswhiteeagle@shadow.netmroth1099marky63happyrovasami-girladammurryvknsjimboysanmgicatwomanvdukatbutchballskasika5k.s.cohen@verizon.netfvetahbhandrevleykinvdukatmdhallinoverflowingclosetavion1333@hotmail.comduderinoyoumastmarky63ctlisalisaoverflowingclosetk.s.cohen@verizon.netcindy4779saphi7171@amexol.netmgicatwomanyuriyshrifteylik@altavistraritylinkmarcusclickva2cafjfds@aol.comcarlondonoskygirlabgucci725cindy4779raritylinkfeyaposakapsonmgicatwomanadammurryfreembdcudd8963@aol.comkfreyvog@tampabay.rr.comannekilborn@hotmail.comcarloss8055mrm0214@yahoo.compascal1666yung-wensactogrooverumpelstillskinheres2youturbomausienglishteacher21various19735kpimp4life76lass1004sirocco@prodigy.netpascal1666natashamthehandmadensnychowderheaddu38120gram999vpolyakpascal1666bogdanbostrestdynamicsvangoghbouviemyactreasuresartkallrrsumbavpolyaktrunkbathyoumastykelectro@hotmail.comewe1950ps138pascal1666nana-tylermotion32ox21cpascal1666corradi19rrsumbavpolyakbirdkowskyscandalmus@aol.comjettie21sami-girlblackdotroyscocufflink@erols.comlass1004philwl3290cnelisdebrittoden-igmasactogroovekinkinovangoghbouviemgicatwomanbally29feyaposthe.hammervkmathewsgram999motion32kinkinosvm2kdidckdtnscott@purplepicket.combosomviebcemborakapsonyuriyshrifteylik@altavistps138photosflashertea_pot_girlmapguyanasandakdarwal-deprkqhoney-mariedgulkis@mcdata.comyokarinecvmiami1thehandmadens2000joedre_313@yahoo.comthehandmadensivgenmmedina@calcsea.orggabz2383ojjuice2@aol.com19750926omotion32hot_rookiemaxwell_gemsrrsumbahappyrovanguyenat@san.rr.comgmorgan@elliman.comcheddaboynguyenat@san.rr.comawinningbidpereluzi00bosspadrestdynamicshoneycakesmoneyspartan@mindspring.comsignedpiecesinck.daruwala@btconnect.comsoul.reaverkdrew@prodigy.netsunday322jennoubceezar1@aol.commyactreasuresskylscandalmus@aol.comwatchv70t5bdsr1strongobmarcusclicksoysoy75ccd79vknsgucci725bogdanbostnorthwestportlandtraderrikluttmermmedina@calcsea.orgdressy-bessyluxurysource001lacagninafreembdhappyrovaadammurrymdhallinsoul.reaverkasika5gram999photosflasherjanss454@wxs.nlcindy4779du38120honeycakesmoneyvat15@earthlink.net19750926ohugo44ifonawintersnightatravellacbrehugo44jdrinazsaphi7171@amexol.nethelvetcbcolqunounojbiiihappyrovadre_313@yahoo.competerfung@aol.comprincess-gingerberler@msn.comimurreson4livingk.l.pineb2hatsjennoudarwal-deptampa_tapsoul.reaverfjfds@aol.comhseldinroticssorlanfsanncm77@aol.commarkcic@aol.comcarloss8055derek1881finn69helvetmotion32fortlaud.collectiondispassiontrunkbathsylvesterii9lightsblackdotmkect10cvmiami1compfc@aol.comkasika5aclbjcalbatross007kinkinoanjaraboxsterbearhappyrovaboxsterbearpuppypuppycrazy4watchesgabz2383dream4321greenrobemarkcic@aol.comboberlander@slk.com31strawberrybutchballsizzy87hbhandrebutchballsmapguycarloss8055jettie21growingwildsylvesteriilarryr911aprefernolarestdynamicsbcemborcrazy4watchesskw80104bosspaddkbaynana-tylerjjaslowskiboberlander@slk.comsaphi7171@amexol.nethelvetadammurryscandalmus@aol.comnatashamnguyenat@san.rr.comgisberthappyrovatoadotapascal1666treasureprincessnorthwestportlandtraderorchidmktg@aol.comm3zy6fvetaboraboraboracarloss8055queenbebe71hjg6593dedeszlass1004chi-town7corradi19butchballstori5678@aol.comfreembdcutecube@mac.com19750926ootan1810sophiecorbettadihcudkbaysunkisses2001alexikuazamora610@cs.comhugo44adammurryfossil1973capitalsquare31strawberryyoumastrnmichellehappykid31strawberrytennisart7@aol.comhappyrovaykelectro@hotmail.comtampa_tapbobfitz@bellsouth.netnana-tylerstestestefreembdcvmiami1rrsumbabooba69morerdtomita-fukuyopascal1666auntdotbidsderek1881sophiecorbettnaplboyk.s.cohen@verizon.netspikeit1990averartjvaynshtokfreembdtimevuhappyrovabosspadpascal1666ljr32dadjr@stargate.netlatinirishbutchballsralph.oman@dechert.comchevysredavion1333@hotmail.comeddsporttoadotaadammurryesmodeustampa_tapnetabelola723en-igmasharpei1bellsouthel_coleccionistasoul.reaverwpopecheddaboyjzdennispialu9hjg6593cvmiami1skygirlabinvestmoore2bdsr1ad48170k.daruwala@btconnect.comrrsumbafuzzy3028akryzakfriscotheman@aol.comdiegormehoneycakesmoneyvalleartjvaynshtoktrunkbathgisbertazamora610@cs.comsandsellerzatop@excite.comjpamro@aol.comyokarinebirdkowskywatchlover24honeycakesmoneyinvestmoore2pascal1666butchballskinkinofilmwearhoneycakesmoneynsala12freembdlass1004pascal1666adammurrytimevumarky63nickoftimebluesjcnguyengotpaydmaxwell_gemscutiepatutiesobebdoocean@aol.comyung-wenjillkilleenspartan@mindspring.comcindy4779orchidmktg@aol.comtrunkbathcompfc@aol.comfroilandahappyrovamillyjohnccd79debrittodadammurryhhn1998darwal-depsaphi7171@amexol.netbirdkowskytessieg.trunkbath19750926onsala12jimboysanps138josephvkuca@msn.comkimbo930freembdmyactreasuresrestdynamicsfuturepilotstestestethe.hungladioly682jeweleyesccd79crazy4watchesbrigidsboygrowingwildcvmiami1tealeaf9earljrainbowdavidsongirl2orchidmktg@aol.comhartmutophilwl3290pcsoftwaremananasandakbdsr1rnmichellepascal1666restdynamicszmxudressy-bessycindy4779youmastdream4321jzdennisaclbjcoschoffsttigerwhisper2mnyboxersphotosflasherhappyrovatreasureprincesspialu9yung-wenpialu9snb11somto_offohfreembdcvmiami1ngow34darwal-depbaby1228geemeetee@aol.comcompfc@aol.comfreembdvat15@earthlink.netvangoghbouvieblackdotsami-girljanetfugarazzomotion32reed.nlcindy4779bdsr1delux1cshelvetamskymomgjuncapascal1666ososerjzdennis24kniceaclbjcluxustoysrumpelstillskincarla_kroezeshetellia@aol.comcourt_carreker19750926o7794369vpolyak12345678birdjjaslowskiafrye37076@aol.comdiegormeseriwanvdukatangelaleumb@wellsref.com19750926opcsoftwaremanawinningbidlass1004debrittodstilepts@aol.comhoneycakesmoneyzatop@excite.comrestdynamicstreasureprincesssoysoy75artkallaegean-2001zatop@excite.comlittlekittygirlturbomausiairun101minni36gisberten-igmanjbirdmomangelaleudleggoe@msn.comgrayfirmiwantu2perrymdhappyrovanetaberikluttmerqueendebi2000oschoffstbutchballs2mnyboxersviolinisimoiiiimdvangoghbouviestrongobgisbertskkindvall@scottsbluff.neadammurrygate99amskymomphotosflashermarky63jseidfreembdgeemeetee@aol.comchevysredfeyapospascal166619750926ohugo44tessieg.hhfgfrehmvyuriyshrifteylik@altavisteosnead@aol.comkylixbogdanbostdarbarskipcorbataslass1004cvmiami1steven1328nguyenat@san.rr.comfreembdpialu9paudstanasandakk.s.cohen@verizon.nettessieg.skw80104puppypuppyearljrainbowlass1004vickiejaykaysurfingbig_boyc5193dema_luligm492@columbia.edukpimp4life76restdynamicscvmiami1mouse0919jimboysanperrymdgrowingwildssze88corbatassharpei1bellsouthk.s.cohen@verizon.netyokarinealbertmillerfreembd31strawberrymotion32hartmutootan1810lennonjasonmia@netzero.neotan1810vkmathewskfreyvog@tampabay.rr.comewe1950mmedina@calcsea.orgdarwal-depsigsrusnelsoncpmamskymom31strawberrynana-tylergolfhacksawbaby1228mdalo36124@aol.comtampa_tapanasandakjsteinpsygntburkesmileoftengucci725birdkowskyduderinopascal1666bogdanbostdarwal-dep5038scoopymgicatwomanrestdynamicsdjpjohn@aol.comzatop@excite.com12girldarwal-depbdoocean@aol.comdaviddonofriofreembdmarky63vdukatcarloss8055freembdstrongobnjbirdmomtrunkbathpwr2mvuenthalpy1basilm@mediaone.netelliseklc3019750926osandragianvkmathewsbdsr1deroode7794369jzdennis12345678birdbally29duderinofxschmidttongyancarloss8055freembdarnoldpwctampa_tapbosspadklove86650@aol.comtessieg.libobo31strawberryjillam58signedpiecesinc12345678birdcrazy4watchesotan1810perrymdamerlandraritylinkbutchballstrunkbathgoldpleasehglinberg@aol.comsuperstore4lessrrsumbadarwal-depsandragiansactogroovegolfhacksawhbhandremarie0711sandsellerbutchballslass1004simonho2001sgnana-tylerscandalmus@aol.commaxwell_gemsrrsumbavkmathewsbirdkowskygbcoinsesquared@home.comavion1333@hotmail.comderoodedscollier3criteenrsency@disnow.comsvm2kmarcusclickscottuysal77conkuntampa_tapbosspadgisbertjuseasboxsterbearnjbirdmomanasandakwatchv70t5oseofossil73cvmiami1mmedina@calcsea.orgboraboraborababy1228tessieg.darwal-depadammurrykiero1@webtv.comrplfundinggrayfirmboberlander@slk.comadammurrymom_he_she_hitmehora01vpolyaktab999@msn.comhelvetmarcusclickmjopusone@aol.comjanno47timeatlastsaphi7171@amexol.nethappyrovaososerhappyrovabutchballscvmiami1spartan@mindspring.comkvam@home.comcindy4779lass1004adihcurnb4orchidmktg@aol.comoverflowingclosetadammurryadammurrymyactreasuresglobalartcomm@aol.comhhfgfwschorer@earthlink.nethelvetcarloss8055youmastadammurrytampa_tapvpolyakmyactreasurescapitalsquaregolfhacksawvat15@earthlink.netrrsumbaen-igmapascal1666hglinberg@aol.comdoc213helvetmillyjohnhoney-marieroyscocarloss8055zatop@excite.com19750926oimurreson4livingdarbarskipgotpaydeddsportfriscotheman@aol.comavion1333@hotmail.comtigerwhispermotion32hbhandregucci725pialu9happyrovalibobogisbertyuriyshrifteylik@altavistk.daruwala@btconnect.comacbrecutecube@mac.com19750926oauntdotbidsbally29smileoftensoysoy75buyall5signedpiecesincleonardcohenfansvm2kbutchballsthe.hunanncm77@aol.comsirocco@prodigy.net31strawberryairun101cindy4779dleggoe@msn.commaxwell_gemsnetabephotosflasherjanss454@wxs.nlgate99svm2kpereluzi00dscollier3court_carreker31strawberrytreasureking.comsunday322cvmiami1gisbertboberlander@slk.comboxsterbearcnelisdebrittodjettie21jvaynshtokfeyaposmarcusclickoverflowingclosetbosspadsigsrusbrigidsboyeosnead@aol.comk.l.pinesoul.reaveryung-wensteven1328freembddarwal-depgabz2383janetfugarazzorestdynamicsnana-tylercarloss8055adammurryroticsstrunkbathmmedina@calcsea.orgnguyenat@san.rr.commapguyadammurryvickiejaykaysophiecorbettturbomausihappyrovacarlondonoorlanfsblackdotdavidsongirl2pascal1666tessieg.finn69earljrainbowrkqjackofspeedmotion32golfhacksawbirdkowskystrongobtoadotawpopetreasureprincesspascal1666anasandakewe1950ifonawintersnightatravelllass1004sophiecorbettcrazy4watchesfossil1973bobfitz@bellsouth.netcutiepatutiesobecompfc@aol.comdiegormevpolyakpcsoftwaremanpialu9ngow34youmastcindy4779filmwearjtr777@aol.comcarloss8055kylixososerpro2cer@hotmail.comstestestevpham.200019750926ophilwl3290happyrovaiwantu2darwal-depwhalen@northlink.comyoumastdkbayanjaraklove86650@aol.comamerlandvangoghbouviecoharleysandragianvpolyaknguyenat@san.rr.combaby1228pialu9duderinoesmodeuscallawayjb@aol.comskygirlabpegcllderek188131strawberrynjbirdmomazamora610@cs.comlacagninacvmiami1geemeetee@aol.comsandragianewe1950bosspadnana-tylerchrissiegurldarwal-depdebrittodsaphi7171@amexol.netvknsvdukatlass1004pascal166612345678birdhhfgfjanno47toadotabosspadnickoftimebluetampa_tapvleykinjimboysanadammurryanasandakbdsr1hugo44aegean-2001 to numeric"
     ]
    }
   ],
   "source": [
    "plotBarCat(df,df.columns[3])"
   ]
  },
  {
   "cell_type": "code",
   "execution_count": 19,
   "metadata": {},
   "outputs": [
    {
     "data": {
      "application/vnd.plotly.v1+json": {
       "config": {
        "linkText": "Export to plot.ly",
        "plotlyServerURL": "https://plot.ly",
        "showLink": false
       },
       "data": [
        {
         "opacity": 0.75,
         "type": "histogram",
         "x": [
          67,
          0,
          7,
          4,
          17,
          1,
          10,
          1,
          22,
          0,
          23,
          65,
          0,
          4,
          24,
          0,
          2,
          36,
          19,
          26,
          0,
          5,
          26,
          38,
          7,
          2,
          -4,
          4,
          1,
          43,
          1,
          9,
          25,
          9,
          1,
          0,
          129,
          0,
          26,
          7,
          0,
          38,
          3,
          33,
          24,
          22,
          146,
          0,
          4,
          1,
          146,
          0,
          0,
          0,
          135,
          0,
          28,
          7,
          3,
          27,
          42,
          20,
          11,
          11,
          1,
          0,
          0,
          7,
          5,
          23,
          1,
          3,
          52,
          2,
          4,
          93,
          75,
          5,
          64,
          29,
          0,
          29,
          1,
          0,
          0,
          9,
          5,
          1,
          12,
          6,
          27,
          0,
          33,
          218,
          3,
          7,
          29,
          0,
          3,
          28,
          5,
          -4,
          0,
          1,
          8,
          9,
          7,
          9,
          7,
          2,
          5,
          102,
          64,
          116,
          42,
          8,
          45,
          20,
          1,
          214,
          30,
          138,
          11,
          46,
          0,
          125,
          7,
          18,
          0,
          3,
          6,
          33,
          2,
          54,
          0,
          2,
          146,
          10,
          29,
          7,
          285,
          1,
          6,
          17,
          4,
          0,
          6,
          103,
          67,
          103,
          0,
          354,
          67,
          200,
          23,
          0,
          6,
          61,
          354,
          76,
          11,
          4,
          13,
          47,
          239,
          0,
          0,
          5,
          1,
          14,
          102,
          8,
          60,
          0,
          60,
          33,
          21,
          1,
          8,
          65,
          3,
          26,
          1,
          189,
          8,
          18,
          3,
          2,
          26,
          5,
          0,
          23,
          354,
          61,
          226,
          23,
          9,
          0,
          30,
          61,
          28,
          0,
          4,
          188,
          0,
          23,
          0,
          187,
          64,
          36,
          4,
          1,
          1,
          10,
          15,
          0,
          1,
          0,
          7,
          3,
          5,
          354,
          777,
          29,
          1,
          103,
          4,
          0,
          214,
          1,
          54,
          36,
          127,
          2,
          103,
          0,
          71,
          5,
          47,
          4,
          0,
          55,
          36,
          0,
          18,
          36,
          0,
          3,
          55,
          19,
          61,
          5,
          28,
          0,
          102,
          100,
          61,
          18,
          1,
          7,
          0,
          5,
          47,
          1,
          145,
          83,
          4,
          2,
          1,
          1,
          47,
          15,
          7,
          0,
          5,
          0,
          271,
          31,
          4,
          5,
          10,
          2,
          2,
          4,
          83,
          52,
          65,
          0,
          10,
          2,
          3,
          146,
          2,
          71,
          7,
          0,
          8,
          12,
          0,
          2,
          1,
          0,
          99,
          0,
          55,
          3,
          0,
          0,
          0,
          16,
          135,
          5,
          2,
          1,
          53,
          -1,
          2,
          14,
          3,
          0,
          207,
          46,
          6,
          71,
          60,
          10,
          159,
          5,
          22,
          19,
          6,
          2,
          4,
          1,
          99,
          0,
          3,
          15,
          217,
          12,
          9,
          50,
          0,
          0,
          10,
          47,
          1,
          14,
          7,
          5,
          5,
          24,
          10,
          43,
          1,
          42,
          50,
          4,
          33,
          4,
          5,
          7,
          51,
          0,
          7,
          5,
          17,
          0,
          6,
          3,
          53,
          45,
          9,
          3,
          0,
          3,
          3,
          0,
          3,
          19,
          0,
          2,
          0,
          0,
          22,
          42,
          0,
          13,
          29,
          30,
          15,
          40,
          0,
          29,
          46,
          -2,
          0,
          1,
          1,
          1,
          3,
          46,
          1,
          1,
          11,
          0,
          17,
          23,
          0,
          29,
          0,
          0,
          5,
          19,
          13,
          0,
          9,
          24,
          15,
          1,
          8,
          0,
          294,
          3,
          6,
          2,
          39,
          6,
          6,
          7,
          45,
          0,
          11,
          0,
          0,
          129,
          18,
          10,
          0,
          0,
          26,
          15,
          42,
          0,
          13,
          83,
          11,
          63,
          0,
          134,
          70,
          5,
          0,
          65,
          45,
          53,
          0,
          15,
          0,
          82,
          33,
          62,
          0,
          5,
          7,
          0,
          0,
          457,
          0,
          13,
          0,
          0,
          0,
          45,
          1,
          0,
          3,
          42,
          70,
          0,
          5,
          36,
          0,
          0,
          36,
          43,
          5,
          6,
          0,
          82,
          1,
          58,
          777,
          0,
          14,
          1,
          7,
          2,
          0,
          1,
          2,
          0,
          7,
          54,
          5,
          46,
          71,
          3,
          225,
          0,
          354,
          2,
          3,
          11,
          6,
          1,
          36,
          66,
          5,
          1,
          9,
          0,
          7,
          20,
          14,
          36,
          123,
          0,
          9,
          3,
          1,
          0,
          0,
          0,
          2,
          1,
          7,
          6,
          5,
          21,
          8,
          5,
          0,
          11,
          17,
          5,
          46,
          0,
          16,
          0,
          112,
          1,
          1,
          0,
          5,
          3,
          20,
          37,
          3,
          3,
          35,
          0,
          0,
          24,
          18,
          64,
          3,
          3,
          0,
          23,
          0,
          2,
          2,
          0,
          151,
          150,
          36,
          115,
          -1,
          5,
          0,
          354,
          5,
          0,
          0,
          1,
          27,
          2,
          0,
          47,
          13,
          17,
          0,
          27,
          4,
          9,
          5,
          2,
          0,
          0,
          43,
          0,
          3,
          0,
          1,
          2,
          65,
          0,
          84,
          3,
          0,
          218,
          7,
          4,
          1,
          188,
          4,
          207,
          0,
          0,
          0,
          3,
          36,
          0,
          2,
          0,
          124,
          0,
          5,
          2,
          5,
          23,
          103,
          8,
          56,
          31,
          9,
          23,
          25,
          2,
          75,
          22,
          1,
          6,
          0,
          7,
          0,
          0,
          0,
          3,
          6,
          5,
          168,
          42,
          7,
          207,
          3,
          0,
          3,
          124,
          5,
          5,
          7,
          40,
          0,
          0,
          0,
          11,
          1,
          55,
          7,
          1,
          3,
          2,
          14,
          0,
          5,
          0,
          259,
          6,
          6,
          174,
          22,
          3,
          1,
          0,
          11,
          2,
          0,
          7,
          23,
          1,
          0,
          3,
          27,
          0,
          17,
          24,
          14,
          24,
          0,
          3,
          4,
          2,
          4,
          0,
          0,
          0,
          5,
          7,
          42,
          39,
          17,
          7,
          0,
          294,
          99,
          62,
          71,
          2,
          53,
          5,
          1,
          0,
          38,
          45,
          1,
          30,
          2,
          115,
          27,
          4,
          0,
          97,
          83,
          1,
          0,
          2,
          3,
          40,
          0,
          19,
          2,
          2,
          65,
          3,
          55,
          1,
          5,
          3,
          3,
          19,
          3,
          6,
          20,
          0,
          1,
          0,
          3,
          1,
          54,
          65,
          1,
          27,
          64,
          10,
          119,
          221,
          2,
          38,
          1,
          8,
          38,
          0,
          28,
          0,
          1,
          0,
          12,
          17,
          36,
          14,
          10,
          0,
          99,
          1,
          218,
          0,
          5,
          71,
          1,
          24,
          102,
          121,
          0,
          17,
          -1,
          15,
          3,
          3,
          6,
          3,
          0,
          19,
          5,
          3,
          64,
          1,
          1,
          54,
          5,
          5,
          37,
          3,
          0,
          4,
          118,
          1,
          18,
          3,
          7,
          45,
          259,
          3,
          1,
          3,
          42,
          0,
          1,
          2,
          0,
          5,
          907,
          4,
          28,
          0,
          3,
          54,
          0,
          18,
          4,
          1,
          0,
          5,
          53,
          174,
          1,
          11,
          1,
          12,
          31,
          135,
          17,
          42,
          9,
          7,
          1,
          5,
          1,
          0,
          29,
          133,
          0,
          1,
          92,
          6,
          11,
          1,
          215,
          28,
          3,
          1,
          42,
          17,
          0,
          0,
          4,
          1,
          48,
          42,
          25,
          0,
          0,
          103,
          55,
          5,
          0,
          1,
          38,
          0,
          4,
          27,
          2,
          38,
          214,
          3,
          4,
          12,
          0,
          4,
          40,
          27,
          19,
          3,
          28,
          558,
          11,
          5,
          0,
          129,
          0,
          2,
          10,
          3,
          2,
          5,
          1,
          42,
          19,
          2,
          1,
          28,
          42,
          47,
          36,
          0,
          55,
          18,
          4,
          3,
          42,
          10,
          4,
          0,
          0,
          0,
          4,
          36,
          5,
          8,
          1,
          46,
          9,
          3,
          12,
          207,
          1303,
          21,
          5,
          4,
          15,
          2,
          6,
          0,
          1,
          0,
          1,
          0,
          2,
          218,
          26,
          0,
          38,
          1,
          -2,
          0,
          24,
          5,
          17,
          67,
          39,
          3,
          42,
          5,
          479,
          0,
          39,
          0,
          5,
          1,
          2,
          0,
          84,
          45,
          1,
          3,
          67,
          0,
          7,
          0,
          115,
          0,
          36,
          5,
          22,
          44,
          1,
          5,
          0,
          64,
          6,
          61,
          5,
          5,
          0,
          12,
          0,
          5,
          54,
          5,
          0,
          5,
          0,
          0,
          0,
          8,
          0,
          294,
          3,
          2,
          3,
          18,
          60,
          45,
          0,
          4,
          10,
          5,
          1,
          3,
          0,
          1,
          31,
          0,
          2,
          5,
          24,
          50,
          0,
          1,
          4,
          0,
          2,
          221,
          5,
          0,
          39,
          9,
          3,
          35,
          3,
          11,
          1,
          13,
          42,
          1,
          0,
          36,
          55,
          134,
          146,
          5,
          10,
          1,
          8,
          9,
          1,
          24,
          15,
          71,
          0,
          -4,
          15,
          2,
          5,
          116,
          30,
          5,
          225,
          0,
          0,
          19,
          6,
          6,
          3,
          15,
          1,
          61,
          2,
          9,
          14,
          3,
          0,
          13,
          2,
          37,
          0,
          42,
          0,
          2,
          0,
          1,
          5,
          5,
          63,
          0,
          17,
          3,
          43,
          5,
          1,
          0,
          64,
          0,
          4,
          0,
          60,
          6,
          2,
          3,
          65,
          259,
          50,
          76,
          53,
          0,
          207,
          1,
          354,
          17,
          3,
          2,
          1,
          135,
          2,
          5,
          0,
          1,
          21,
          112,
          23,
          7,
          65,
          0,
          3,
          4,
          7,
          0,
          1,
          2,
          200,
          5,
          64,
          115,
          20,
          1,
          8,
          3,
          22,
          0,
          0,
          42,
          4,
          0,
          0,
          13,
          10,
          42,
          99,
          30,
          4,
          0,
          3,
          29,
          4,
          28,
          0,
          18,
          2,
          15,
          0,
          5,
          38,
          7,
          29,
          5,
          17,
          10,
          135,
          2,
          1,
          7,
          42,
          6,
          7,
          46,
          55,
          7,
          2,
          19,
          0,
          67,
          354,
          2,
          8,
          0,
          3,
          4,
          5,
          1,
          0,
          6,
          65
         ]
        }
       ],
       "layout": {
        "barmode": "overlay",
        "template": {
         "data": {
          "bar": [
           {
            "error_x": {
             "color": "#2a3f5f"
            },
            "error_y": {
             "color": "#2a3f5f"
            },
            "marker": {
             "line": {
              "color": "#E5ECF6",
              "width": 0.5
             }
            },
            "type": "bar"
           }
          ],
          "barpolar": [
           {
            "marker": {
             "line": {
              "color": "#E5ECF6",
              "width": 0.5
             }
            },
            "type": "barpolar"
           }
          ],
          "carpet": [
           {
            "aaxis": {
             "endlinecolor": "#2a3f5f",
             "gridcolor": "white",
             "linecolor": "white",
             "minorgridcolor": "white",
             "startlinecolor": "#2a3f5f"
            },
            "baxis": {
             "endlinecolor": "#2a3f5f",
             "gridcolor": "white",
             "linecolor": "white",
             "minorgridcolor": "white",
             "startlinecolor": "#2a3f5f"
            },
            "type": "carpet"
           }
          ],
          "choropleth": [
           {
            "colorbar": {
             "outlinewidth": 0,
             "ticks": ""
            },
            "type": "choropleth"
           }
          ],
          "contour": [
           {
            "colorbar": {
             "outlinewidth": 0,
             "ticks": ""
            },
            "colorscale": [
             [
              0,
              "#0d0887"
             ],
             [
              0.1111111111111111,
              "#46039f"
             ],
             [
              0.2222222222222222,
              "#7201a8"
             ],
             [
              0.3333333333333333,
              "#9c179e"
             ],
             [
              0.4444444444444444,
              "#bd3786"
             ],
             [
              0.5555555555555556,
              "#d8576b"
             ],
             [
              0.6666666666666666,
              "#ed7953"
             ],
             [
              0.7777777777777778,
              "#fb9f3a"
             ],
             [
              0.8888888888888888,
              "#fdca26"
             ],
             [
              1,
              "#f0f921"
             ]
            ],
            "type": "contour"
           }
          ],
          "contourcarpet": [
           {
            "colorbar": {
             "outlinewidth": 0,
             "ticks": ""
            },
            "type": "contourcarpet"
           }
          ],
          "heatmap": [
           {
            "colorbar": {
             "outlinewidth": 0,
             "ticks": ""
            },
            "colorscale": [
             [
              0,
              "#0d0887"
             ],
             [
              0.1111111111111111,
              "#46039f"
             ],
             [
              0.2222222222222222,
              "#7201a8"
             ],
             [
              0.3333333333333333,
              "#9c179e"
             ],
             [
              0.4444444444444444,
              "#bd3786"
             ],
             [
              0.5555555555555556,
              "#d8576b"
             ],
             [
              0.6666666666666666,
              "#ed7953"
             ],
             [
              0.7777777777777778,
              "#fb9f3a"
             ],
             [
              0.8888888888888888,
              "#fdca26"
             ],
             [
              1,
              "#f0f921"
             ]
            ],
            "type": "heatmap"
           }
          ],
          "heatmapgl": [
           {
            "colorbar": {
             "outlinewidth": 0,
             "ticks": ""
            },
            "colorscale": [
             [
              0,
              "#0d0887"
             ],
             [
              0.1111111111111111,
              "#46039f"
             ],
             [
              0.2222222222222222,
              "#7201a8"
             ],
             [
              0.3333333333333333,
              "#9c179e"
             ],
             [
              0.4444444444444444,
              "#bd3786"
             ],
             [
              0.5555555555555556,
              "#d8576b"
             ],
             [
              0.6666666666666666,
              "#ed7953"
             ],
             [
              0.7777777777777778,
              "#fb9f3a"
             ],
             [
              0.8888888888888888,
              "#fdca26"
             ],
             [
              1,
              "#f0f921"
             ]
            ],
            "type": "heatmapgl"
           }
          ],
          "histogram": [
           {
            "marker": {
             "colorbar": {
              "outlinewidth": 0,
              "ticks": ""
             }
            },
            "type": "histogram"
           }
          ],
          "histogram2d": [
           {
            "colorbar": {
             "outlinewidth": 0,
             "ticks": ""
            },
            "colorscale": [
             [
              0,
              "#0d0887"
             ],
             [
              0.1111111111111111,
              "#46039f"
             ],
             [
              0.2222222222222222,
              "#7201a8"
             ],
             [
              0.3333333333333333,
              "#9c179e"
             ],
             [
              0.4444444444444444,
              "#bd3786"
             ],
             [
              0.5555555555555556,
              "#d8576b"
             ],
             [
              0.6666666666666666,
              "#ed7953"
             ],
             [
              0.7777777777777778,
              "#fb9f3a"
             ],
             [
              0.8888888888888888,
              "#fdca26"
             ],
             [
              1,
              "#f0f921"
             ]
            ],
            "type": "histogram2d"
           }
          ],
          "histogram2dcontour": [
           {
            "colorbar": {
             "outlinewidth": 0,
             "ticks": ""
            },
            "colorscale": [
             [
              0,
              "#0d0887"
             ],
             [
              0.1111111111111111,
              "#46039f"
             ],
             [
              0.2222222222222222,
              "#7201a8"
             ],
             [
              0.3333333333333333,
              "#9c179e"
             ],
             [
              0.4444444444444444,
              "#bd3786"
             ],
             [
              0.5555555555555556,
              "#d8576b"
             ],
             [
              0.6666666666666666,
              "#ed7953"
             ],
             [
              0.7777777777777778,
              "#fb9f3a"
             ],
             [
              0.8888888888888888,
              "#fdca26"
             ],
             [
              1,
              "#f0f921"
             ]
            ],
            "type": "histogram2dcontour"
           }
          ],
          "mesh3d": [
           {
            "colorbar": {
             "outlinewidth": 0,
             "ticks": ""
            },
            "type": "mesh3d"
           }
          ],
          "parcoords": [
           {
            "line": {
             "colorbar": {
              "outlinewidth": 0,
              "ticks": ""
             }
            },
            "type": "parcoords"
           }
          ],
          "pie": [
           {
            "automargin": true,
            "type": "pie"
           }
          ],
          "scatter": [
           {
            "marker": {
             "colorbar": {
              "outlinewidth": 0,
              "ticks": ""
             }
            },
            "type": "scatter"
           }
          ],
          "scatter3d": [
           {
            "line": {
             "colorbar": {
              "outlinewidth": 0,
              "ticks": ""
             }
            },
            "marker": {
             "colorbar": {
              "outlinewidth": 0,
              "ticks": ""
             }
            },
            "type": "scatter3d"
           }
          ],
          "scattercarpet": [
           {
            "marker": {
             "colorbar": {
              "outlinewidth": 0,
              "ticks": ""
             }
            },
            "type": "scattercarpet"
           }
          ],
          "scattergeo": [
           {
            "marker": {
             "colorbar": {
              "outlinewidth": 0,
              "ticks": ""
             }
            },
            "type": "scattergeo"
           }
          ],
          "scattergl": [
           {
            "marker": {
             "colorbar": {
              "outlinewidth": 0,
              "ticks": ""
             }
            },
            "type": "scattergl"
           }
          ],
          "scattermapbox": [
           {
            "marker": {
             "colorbar": {
              "outlinewidth": 0,
              "ticks": ""
             }
            },
            "type": "scattermapbox"
           }
          ],
          "scatterpolar": [
           {
            "marker": {
             "colorbar": {
              "outlinewidth": 0,
              "ticks": ""
             }
            },
            "type": "scatterpolar"
           }
          ],
          "scatterpolargl": [
           {
            "marker": {
             "colorbar": {
              "outlinewidth": 0,
              "ticks": ""
             }
            },
            "type": "scatterpolargl"
           }
          ],
          "scatterternary": [
           {
            "marker": {
             "colorbar": {
              "outlinewidth": 0,
              "ticks": ""
             }
            },
            "type": "scatterternary"
           }
          ],
          "surface": [
           {
            "colorbar": {
             "outlinewidth": 0,
             "ticks": ""
            },
            "colorscale": [
             [
              0,
              "#0d0887"
             ],
             [
              0.1111111111111111,
              "#46039f"
             ],
             [
              0.2222222222222222,
              "#7201a8"
             ],
             [
              0.3333333333333333,
              "#9c179e"
             ],
             [
              0.4444444444444444,
              "#bd3786"
             ],
             [
              0.5555555555555556,
              "#d8576b"
             ],
             [
              0.6666666666666666,
              "#ed7953"
             ],
             [
              0.7777777777777778,
              "#fb9f3a"
             ],
             [
              0.8888888888888888,
              "#fdca26"
             ],
             [
              1,
              "#f0f921"
             ]
            ],
            "type": "surface"
           }
          ],
          "table": [
           {
            "cells": {
             "fill": {
              "color": "#EBF0F8"
             },
             "line": {
              "color": "white"
             }
            },
            "header": {
             "fill": {
              "color": "#C8D4E3"
             },
             "line": {
              "color": "white"
             }
            },
            "type": "table"
           }
          ]
         },
         "layout": {
          "annotationdefaults": {
           "arrowcolor": "#2a3f5f",
           "arrowhead": 0,
           "arrowwidth": 1
          },
          "coloraxis": {
           "colorbar": {
            "outlinewidth": 0,
            "ticks": ""
           }
          },
          "colorscale": {
           "diverging": [
            [
             0,
             "#8e0152"
            ],
            [
             0.1,
             "#c51b7d"
            ],
            [
             0.2,
             "#de77ae"
            ],
            [
             0.3,
             "#f1b6da"
            ],
            [
             0.4,
             "#fde0ef"
            ],
            [
             0.5,
             "#f7f7f7"
            ],
            [
             0.6,
             "#e6f5d0"
            ],
            [
             0.7,
             "#b8e186"
            ],
            [
             0.8,
             "#7fbc41"
            ],
            [
             0.9,
             "#4d9221"
            ],
            [
             1,
             "#276419"
            ]
           ],
           "sequential": [
            [
             0,
             "#0d0887"
            ],
            [
             0.1111111111111111,
             "#46039f"
            ],
            [
             0.2222222222222222,
             "#7201a8"
            ],
            [
             0.3333333333333333,
             "#9c179e"
            ],
            [
             0.4444444444444444,
             "#bd3786"
            ],
            [
             0.5555555555555556,
             "#d8576b"
            ],
            [
             0.6666666666666666,
             "#ed7953"
            ],
            [
             0.7777777777777778,
             "#fb9f3a"
            ],
            [
             0.8888888888888888,
             "#fdca26"
            ],
            [
             1,
             "#f0f921"
            ]
           ],
           "sequentialminus": [
            [
             0,
             "#0d0887"
            ],
            [
             0.1111111111111111,
             "#46039f"
            ],
            [
             0.2222222222222222,
             "#7201a8"
            ],
            [
             0.3333333333333333,
             "#9c179e"
            ],
            [
             0.4444444444444444,
             "#bd3786"
            ],
            [
             0.5555555555555556,
             "#d8576b"
            ],
            [
             0.6666666666666666,
             "#ed7953"
            ],
            [
             0.7777777777777778,
             "#fb9f3a"
            ],
            [
             0.8888888888888888,
             "#fdca26"
            ],
            [
             1,
             "#f0f921"
            ]
           ]
          },
          "colorway": [
           "#636efa",
           "#EF553B",
           "#00cc96",
           "#ab63fa",
           "#FFA15A",
           "#19d3f3",
           "#FF6692",
           "#B6E880",
           "#FF97FF",
           "#FECB52"
          ],
          "font": {
           "color": "#2a3f5f"
          },
          "geo": {
           "bgcolor": "white",
           "lakecolor": "white",
           "landcolor": "#E5ECF6",
           "showlakes": true,
           "showland": true,
           "subunitcolor": "white"
          },
          "hoverlabel": {
           "align": "left"
          },
          "hovermode": "closest",
          "mapbox": {
           "style": "light"
          },
          "paper_bgcolor": "white",
          "plot_bgcolor": "#E5ECF6",
          "polar": {
           "angularaxis": {
            "gridcolor": "white",
            "linecolor": "white",
            "ticks": ""
           },
           "bgcolor": "#E5ECF6",
           "radialaxis": {
            "gridcolor": "white",
            "linecolor": "white",
            "ticks": ""
           }
          },
          "scene": {
           "xaxis": {
            "backgroundcolor": "#E5ECF6",
            "gridcolor": "white",
            "gridwidth": 2,
            "linecolor": "white",
            "showbackground": true,
            "ticks": "",
            "zerolinecolor": "white"
           },
           "yaxis": {
            "backgroundcolor": "#E5ECF6",
            "gridcolor": "white",
            "gridwidth": 2,
            "linecolor": "white",
            "showbackground": true,
            "ticks": "",
            "zerolinecolor": "white"
           },
           "zaxis": {
            "backgroundcolor": "#E5ECF6",
            "gridcolor": "white",
            "gridwidth": 2,
            "linecolor": "white",
            "showbackground": true,
            "ticks": "",
            "zerolinecolor": "white"
           }
          },
          "shapedefaults": {
           "line": {
            "color": "#2a3f5f"
           }
          },
          "ternary": {
           "aaxis": {
            "gridcolor": "white",
            "linecolor": "white",
            "ticks": ""
           },
           "baxis": {
            "gridcolor": "white",
            "linecolor": "white",
            "ticks": ""
           },
           "bgcolor": "#E5ECF6",
           "caxis": {
            "gridcolor": "white",
            "linecolor": "white",
            "ticks": ""
           }
          },
          "title": {
           "x": 0.05
          },
          "xaxis": {
           "automargin": true,
           "gridcolor": "white",
           "linecolor": "white",
           "ticks": "",
           "title": {
            "standoff": 15
           },
           "zerolinecolor": "white",
           "zerolinewidth": 2
          },
          "yaxis": {
           "automargin": true,
           "gridcolor": "white",
           "linecolor": "white",
           "ticks": "",
           "title": {
            "standoff": 15
           },
           "zerolinecolor": "white",
           "zerolinewidth": 2
          }
         }
        },
        "title": {
         "text": "bidderrate"
        },
        "yaxis": {
         "title": {
          "text": "Count"
         }
        }
       }
      },
      "text/html": [
       "<div>\n",
       "        \n",
       "        \n",
       "            <div id=\"4ff667e5-b22e-4ea2-8bde-042b28b6d2c6\" class=\"plotly-graph-div\" style=\"height:525px; width:100%;\"></div>\n",
       "            <script type=\"text/javascript\">\n",
       "                require([\"plotly\"], function(Plotly) {\n",
       "                    window.PLOTLYENV=window.PLOTLYENV || {};\n",
       "                    \n",
       "                if (document.getElementById(\"4ff667e5-b22e-4ea2-8bde-042b28b6d2c6\")) {\n",
       "                    Plotly.newPlot(\n",
       "                        '4ff667e5-b22e-4ea2-8bde-042b28b6d2c6',\n",
       "                        [{\"opacity\": 0.75, \"type\": \"histogram\", \"x\": [67, 0, 7, 4, 17, 1, 10, 1, 22, 0, 23, 65, 0, 4, 24, 0, 2, 36, 19, 26, 0, 5, 26, 38, 7, 2, -4, 4, 1, 43, 1, 9, 25, 9, 1, 0, 129, 0, 26, 7, 0, 38, 3, 33, 24, 22, 146, 0, 4, 1, 146, 0, 0, 0, 135, 0, 28, 7, 3, 27, 42, 20, 11, 11, 1, 0, 0, 7, 5, 23, 1, 3, 52, 2, 4, 93, 75, 5, 64, 29, 0, 29, 1, 0, 0, 9, 5, 1, 12, 6, 27, 0, 33, 218, 3, 7, 29, 0, 3, 28, 5, -4, 0, 1, 8, 9, 7, 9, 7, 2, 5, 102, 64, 116, 42, 8, 45, 20, 1, 214, 30, 138, 11, 46, 0, 125, 7, 18, 0, 3, 6, 33, 2, 54, 0, 2, 146, 10, 29, 7, 285, 1, 6, 17, 4, 0, 6, 103, 67, 103, 0, 354, 67, 200, 23, 0, 6, 61, 354, 76, 11, 4, 13, 47, 239, 0, 0, 5, 1, 14, 102, 8, 60, 0, 60, 33, 21, 1, 8, 65, 3, 26, 1, 189, 8, 18, 3, 2, 26, 5, 0, 23, 354, 61, 226, 23, 9, 0, 30, 61, 28, 0, 4, 188, 0, 23, 0, 187, 64, 36, 4, 1, 1, 10, 15, 0, 1, 0, 7, 3, 5, 354, 777, 29, 1, 103, 4, 0, 214, 1, 54, 36, 127, 2, 103, 0, 71, 5, 47, 4, 0, 55, 36, 0, 18, 36, 0, 3, 55, 19, 61, 5, 28, 0, 102, 100, 61, 18, 1, 7, 0, 5, 47, 1, 145, 83, 4, 2, 1, 1, 47, 15, 7, 0, 5, 0, 271, 31, 4, 5, 10, 2, 2, 4, 83, 52, 65, 0, 10, 2, 3, 146, 2, 71, 7, 0, 8, 12, 0, 2, 1, 0, 99, 0, 55, 3, 0, 0, 0, 16, 135, 5, 2, 1, 53, -1, 2, 14, 3, 0, 207, 46, 6, 71, 60, 10, 159, 5, 22, 19, 6, 2, 4, 1, 99, 0, 3, 15, 217, 12, 9, 50, 0, 0, 10, 47, 1, 14, 7, 5, 5, 24, 10, 43, 1, 42, 50, 4, 33, 4, 5, 7, 51, 0, 7, 5, 17, 0, 6, 3, 53, 45, 9, 3, 0, 3, 3, 0, 3, 19, 0, 2, 0, 0, 22, 42, 0, 13, 29, 30, 15, 40, 0, 29, 46, -2, 0, 1, 1, 1, 3, 46, 1, 1, 11, 0, 17, 23, 0, 29, 0, 0, 5, 19, 13, 0, 9, 24, 15, 1, 8, 0, 294, 3, 6, 2, 39, 6, 6, 7, 45, 0, 11, 0, 0, 129, 18, 10, 0, 0, 26, 15, 42, 0, 13, 83, 11, 63, 0, 134, 70, 5, 0, 65, 45, 53, 0, 15, 0, 82, 33, 62, 0, 5, 7, 0, 0, 457, 0, 13, 0, 0, 0, 45, 1, 0, 3, 42, 70, 0, 5, 36, 0, 0, 36, 43, 5, 6, 0, 82, 1, 58, 777, 0, 14, 1, 7, 2, 0, 1, 2, 0, 7, 54, 5, 46, 71, 3, 225, 0, 354, 2, 3, 11, 6, 1, 36, 66, 5, 1, 9, 0, 7, 20, 14, 36, 123, 0, 9, 3, 1, 0, 0, 0, 2, 1, 7, 6, 5, 21, 8, 5, 0, 11, 17, 5, 46, 0, 16, 0, 112, 1, 1, 0, 5, 3, 20, 37, 3, 3, 35, 0, 0, 24, 18, 64, 3, 3, 0, 23, 0, 2, 2, 0, 151, 150, 36, 115, -1, 5, 0, 354, 5, 0, 0, 1, 27, 2, 0, 47, 13, 17, 0, 27, 4, 9, 5, 2, 0, 0, 43, 0, 3, 0, 1, 2, 65, 0, 84, 3, 0, 218, 7, 4, 1, 188, 4, 207, 0, 0, 0, 3, 36, 0, 2, 0, 124, 0, 5, 2, 5, 23, 103, 8, 56, 31, 9, 23, 25, 2, 75, 22, 1, 6, 0, 7, 0, 0, 0, 3, 6, 5, 168, 42, 7, 207, 3, 0, 3, 124, 5, 5, 7, 40, 0, 0, 0, 11, 1, 55, 7, 1, 3, 2, 14, 0, 5, 0, 259, 6, 6, 174, 22, 3, 1, 0, 11, 2, 0, 7, 23, 1, 0, 3, 27, 0, 17, 24, 14, 24, 0, 3, 4, 2, 4, 0, 0, 0, 5, 7, 42, 39, 17, 7, 0, 294, 99, 62, 71, 2, 53, 5, 1, 0, 38, 45, 1, 30, 2, 115, 27, 4, 0, 97, 83, 1, 0, 2, 3, 40, 0, 19, 2, 2, 65, 3, 55, 1, 5, 3, 3, 19, 3, 6, 20, 0, 1, 0, 3, 1, 54, 65, 1, 27, 64, 10, 119, 221, 2, 38, 1, 8, 38, 0, 28, 0, 1, 0, 12, 17, 36, 14, 10, 0, 99, 1, 218, 0, 5, 71, 1, 24, 102, 121, 0, 17, -1, 15, 3, 3, 6, 3, 0, 19, 5, 3, 64, 1, 1, 54, 5, 5, 37, 3, 0, 4, 118, 1, 18, 3, 7, 45, 259, 3, 1, 3, 42, 0, 1, 2, 0, 5, 907, 4, 28, 0, 3, 54, 0, 18, 4, 1, 0, 5, 53, 174, 1, 11, 1, 12, 31, 135, 17, 42, 9, 7, 1, 5, 1, 0, 29, 133, 0, 1, 92, 6, 11, 1, 215, 28, 3, 1, 42, 17, 0, 0, 4, 1, 48, 42, 25, 0, 0, 103, 55, 5, 0, 1, 38, 0, 4, 27, 2, 38, 214, 3, 4, 12, 0, 4, 40, 27, 19, 3, 28, 558, 11, 5, 0, 129, 0, 2, 10, 3, 2, 5, 1, 42, 19, 2, 1, 28, 42, 47, 36, 0, 55, 18, 4, 3, 42, 10, 4, 0, 0, 0, 4, 36, 5, 8, 1, 46, 9, 3, 12, 207, 1303, 21, 5, 4, 15, 2, 6, 0, 1, 0, 1, 0, 2, 218, 26, 0, 38, 1, -2, 0, 24, 5, 17, 67, 39, 3, 42, 5, 479, 0, 39, 0, 5, 1, 2, 0, 84, 45, 1, 3, 67, 0, 7, 0, 115, 0, 36, 5, 22, 44, 1, 5, 0, 64, 6, 61, 5, 5, 0, 12, 0, 5, 54, 5, 0, 5, 0, 0, 0, 8, 0, 294, 3, 2, 3, 18, 60, 45, 0, 4, 10, 5, 1, 3, 0, 1, 31, 0, 2, 5, 24, 50, 0, 1, 4, 0, 2, 221, 5, 0, 39, 9, 3, 35, 3, 11, 1, 13, 42, 1, 0, 36, 55, 134, 146, 5, 10, 1, 8, 9, 1, 24, 15, 71, 0, -4, 15, 2, 5, 116, 30, 5, 225, 0, 0, 19, 6, 6, 3, 15, 1, 61, 2, 9, 14, 3, 0, 13, 2, 37, 0, 42, 0, 2, 0, 1, 5, 5, 63, 0, 17, 3, 43, 5, 1, 0, 64, 0, 4, 0, 60, 6, 2, 3, 65, 259, 50, 76, 53, 0, 207, 1, 354, 17, 3, 2, 1, 135, 2, 5, 0, 1, 21, 112, 23, 7, 65, 0, 3, 4, 7, 0, 1, 2, 200, 5, 64, 115, 20, 1, 8, 3, 22, 0, 0, 42, 4, 0, 0, 13, 10, 42, 99, 30, 4, 0, 3, 29, 4, 28, 0, 18, 2, 15, 0, 5, 38, 7, 29, 5, 17, 10, 135, 2, 1, 7, 42, 6, 7, 46, 55, 7, 2, 19, 0, 67, 354, 2, 8, 0, 3, 4, 5, 1, 0, 6, 65]}],\n",
       "                        {\"barmode\": \"overlay\", \"template\": {\"data\": {\"bar\": [{\"error_x\": {\"color\": \"#2a3f5f\"}, \"error_y\": {\"color\": \"#2a3f5f\"}, \"marker\": {\"line\": {\"color\": \"#E5ECF6\", \"width\": 0.5}}, \"type\": \"bar\"}], \"barpolar\": [{\"marker\": {\"line\": {\"color\": \"#E5ECF6\", \"width\": 0.5}}, \"type\": \"barpolar\"}], \"carpet\": [{\"aaxis\": {\"endlinecolor\": \"#2a3f5f\", \"gridcolor\": \"white\", \"linecolor\": \"white\", \"minorgridcolor\": \"white\", \"startlinecolor\": \"#2a3f5f\"}, \"baxis\": {\"endlinecolor\": \"#2a3f5f\", \"gridcolor\": \"white\", \"linecolor\": \"white\", \"minorgridcolor\": \"white\", \"startlinecolor\": \"#2a3f5f\"}, \"type\": \"carpet\"}], \"choropleth\": [{\"colorbar\": {\"outlinewidth\": 0, \"ticks\": \"\"}, \"type\": \"choropleth\"}], \"contour\": [{\"colorbar\": {\"outlinewidth\": 0, \"ticks\": \"\"}, \"colorscale\": [[0.0, \"#0d0887\"], [0.1111111111111111, \"#46039f\"], [0.2222222222222222, \"#7201a8\"], [0.3333333333333333, \"#9c179e\"], [0.4444444444444444, \"#bd3786\"], [0.5555555555555556, \"#d8576b\"], [0.6666666666666666, \"#ed7953\"], [0.7777777777777778, \"#fb9f3a\"], [0.8888888888888888, \"#fdca26\"], [1.0, \"#f0f921\"]], \"type\": \"contour\"}], \"contourcarpet\": [{\"colorbar\": {\"outlinewidth\": 0, \"ticks\": \"\"}, \"type\": \"contourcarpet\"}], \"heatmap\": [{\"colorbar\": {\"outlinewidth\": 0, \"ticks\": \"\"}, \"colorscale\": [[0.0, \"#0d0887\"], [0.1111111111111111, \"#46039f\"], [0.2222222222222222, \"#7201a8\"], [0.3333333333333333, \"#9c179e\"], [0.4444444444444444, \"#bd3786\"], [0.5555555555555556, \"#d8576b\"], [0.6666666666666666, \"#ed7953\"], [0.7777777777777778, \"#fb9f3a\"], [0.8888888888888888, \"#fdca26\"], [1.0, \"#f0f921\"]], \"type\": \"heatmap\"}], \"heatmapgl\": [{\"colorbar\": {\"outlinewidth\": 0, \"ticks\": \"\"}, \"colorscale\": [[0.0, \"#0d0887\"], [0.1111111111111111, \"#46039f\"], [0.2222222222222222, \"#7201a8\"], [0.3333333333333333, \"#9c179e\"], [0.4444444444444444, \"#bd3786\"], [0.5555555555555556, \"#d8576b\"], [0.6666666666666666, \"#ed7953\"], [0.7777777777777778, \"#fb9f3a\"], [0.8888888888888888, \"#fdca26\"], [1.0, \"#f0f921\"]], \"type\": \"heatmapgl\"}], \"histogram\": [{\"marker\": {\"colorbar\": {\"outlinewidth\": 0, \"ticks\": \"\"}}, \"type\": \"histogram\"}], \"histogram2d\": [{\"colorbar\": {\"outlinewidth\": 0, \"ticks\": \"\"}, \"colorscale\": [[0.0, \"#0d0887\"], [0.1111111111111111, \"#46039f\"], [0.2222222222222222, \"#7201a8\"], [0.3333333333333333, \"#9c179e\"], [0.4444444444444444, \"#bd3786\"], [0.5555555555555556, \"#d8576b\"], [0.6666666666666666, \"#ed7953\"], [0.7777777777777778, \"#fb9f3a\"], [0.8888888888888888, \"#fdca26\"], [1.0, \"#f0f921\"]], \"type\": \"histogram2d\"}], \"histogram2dcontour\": [{\"colorbar\": {\"outlinewidth\": 0, \"ticks\": \"\"}, \"colorscale\": [[0.0, \"#0d0887\"], [0.1111111111111111, \"#46039f\"], [0.2222222222222222, \"#7201a8\"], [0.3333333333333333, \"#9c179e\"], [0.4444444444444444, \"#bd3786\"], [0.5555555555555556, \"#d8576b\"], [0.6666666666666666, \"#ed7953\"], [0.7777777777777778, \"#fb9f3a\"], [0.8888888888888888, \"#fdca26\"], [1.0, \"#f0f921\"]], \"type\": \"histogram2dcontour\"}], \"mesh3d\": [{\"colorbar\": {\"outlinewidth\": 0, \"ticks\": \"\"}, \"type\": \"mesh3d\"}], \"parcoords\": [{\"line\": {\"colorbar\": {\"outlinewidth\": 0, \"ticks\": \"\"}}, \"type\": \"parcoords\"}], \"pie\": [{\"automargin\": true, \"type\": \"pie\"}], \"scatter\": [{\"marker\": {\"colorbar\": {\"outlinewidth\": 0, \"ticks\": \"\"}}, \"type\": \"scatter\"}], \"scatter3d\": [{\"line\": {\"colorbar\": {\"outlinewidth\": 0, \"ticks\": \"\"}}, \"marker\": {\"colorbar\": {\"outlinewidth\": 0, \"ticks\": \"\"}}, \"type\": \"scatter3d\"}], \"scattercarpet\": [{\"marker\": {\"colorbar\": {\"outlinewidth\": 0, \"ticks\": \"\"}}, \"type\": \"scattercarpet\"}], \"scattergeo\": [{\"marker\": {\"colorbar\": {\"outlinewidth\": 0, \"ticks\": \"\"}}, \"type\": \"scattergeo\"}], \"scattergl\": [{\"marker\": {\"colorbar\": {\"outlinewidth\": 0, \"ticks\": \"\"}}, \"type\": \"scattergl\"}], \"scattermapbox\": [{\"marker\": {\"colorbar\": {\"outlinewidth\": 0, \"ticks\": \"\"}}, \"type\": \"scattermapbox\"}], \"scatterpolar\": [{\"marker\": {\"colorbar\": {\"outlinewidth\": 0, \"ticks\": \"\"}}, \"type\": \"scatterpolar\"}], \"scatterpolargl\": [{\"marker\": {\"colorbar\": {\"outlinewidth\": 0, \"ticks\": \"\"}}, \"type\": \"scatterpolargl\"}], \"scatterternary\": [{\"marker\": {\"colorbar\": {\"outlinewidth\": 0, \"ticks\": \"\"}}, \"type\": \"scatterternary\"}], \"surface\": [{\"colorbar\": {\"outlinewidth\": 0, \"ticks\": \"\"}, \"colorscale\": [[0.0, \"#0d0887\"], [0.1111111111111111, \"#46039f\"], [0.2222222222222222, \"#7201a8\"], [0.3333333333333333, \"#9c179e\"], [0.4444444444444444, \"#bd3786\"], [0.5555555555555556, \"#d8576b\"], [0.6666666666666666, \"#ed7953\"], [0.7777777777777778, \"#fb9f3a\"], [0.8888888888888888, \"#fdca26\"], [1.0, \"#f0f921\"]], \"type\": \"surface\"}], \"table\": [{\"cells\": {\"fill\": {\"color\": \"#EBF0F8\"}, \"line\": {\"color\": \"white\"}}, \"header\": {\"fill\": {\"color\": \"#C8D4E3\"}, \"line\": {\"color\": \"white\"}}, \"type\": \"table\"}]}, \"layout\": {\"annotationdefaults\": {\"arrowcolor\": \"#2a3f5f\", \"arrowhead\": 0, \"arrowwidth\": 1}, \"coloraxis\": {\"colorbar\": {\"outlinewidth\": 0, \"ticks\": \"\"}}, \"colorscale\": {\"diverging\": [[0, \"#8e0152\"], [0.1, \"#c51b7d\"], [0.2, \"#de77ae\"], [0.3, \"#f1b6da\"], [0.4, \"#fde0ef\"], [0.5, \"#f7f7f7\"], [0.6, \"#e6f5d0\"], [0.7, \"#b8e186\"], [0.8, \"#7fbc41\"], [0.9, \"#4d9221\"], [1, \"#276419\"]], \"sequential\": [[0.0, \"#0d0887\"], [0.1111111111111111, \"#46039f\"], [0.2222222222222222, \"#7201a8\"], [0.3333333333333333, \"#9c179e\"], [0.4444444444444444, \"#bd3786\"], [0.5555555555555556, \"#d8576b\"], [0.6666666666666666, \"#ed7953\"], [0.7777777777777778, \"#fb9f3a\"], [0.8888888888888888, \"#fdca26\"], [1.0, \"#f0f921\"]], \"sequentialminus\": [[0.0, \"#0d0887\"], [0.1111111111111111, \"#46039f\"], [0.2222222222222222, \"#7201a8\"], [0.3333333333333333, \"#9c179e\"], [0.4444444444444444, \"#bd3786\"], [0.5555555555555556, \"#d8576b\"], [0.6666666666666666, \"#ed7953\"], [0.7777777777777778, \"#fb9f3a\"], [0.8888888888888888, \"#fdca26\"], [1.0, \"#f0f921\"]]}, \"colorway\": [\"#636efa\", \"#EF553B\", \"#00cc96\", \"#ab63fa\", \"#FFA15A\", \"#19d3f3\", \"#FF6692\", \"#B6E880\", \"#FF97FF\", \"#FECB52\"], \"font\": {\"color\": \"#2a3f5f\"}, \"geo\": {\"bgcolor\": \"white\", \"lakecolor\": \"white\", \"landcolor\": \"#E5ECF6\", \"showlakes\": true, \"showland\": true, \"subunitcolor\": \"white\"}, \"hoverlabel\": {\"align\": \"left\"}, \"hovermode\": \"closest\", \"mapbox\": {\"style\": \"light\"}, \"paper_bgcolor\": \"white\", \"plot_bgcolor\": \"#E5ECF6\", \"polar\": {\"angularaxis\": {\"gridcolor\": \"white\", \"linecolor\": \"white\", \"ticks\": \"\"}, \"bgcolor\": \"#E5ECF6\", \"radialaxis\": {\"gridcolor\": \"white\", \"linecolor\": \"white\", \"ticks\": \"\"}}, \"scene\": {\"xaxis\": {\"backgroundcolor\": \"#E5ECF6\", \"gridcolor\": \"white\", \"gridwidth\": 2, \"linecolor\": \"white\", \"showbackground\": true, \"ticks\": \"\", \"zerolinecolor\": \"white\"}, \"yaxis\": {\"backgroundcolor\": \"#E5ECF6\", \"gridcolor\": \"white\", \"gridwidth\": 2, \"linecolor\": \"white\", \"showbackground\": true, \"ticks\": \"\", \"zerolinecolor\": \"white\"}, \"zaxis\": {\"backgroundcolor\": \"#E5ECF6\", \"gridcolor\": \"white\", \"gridwidth\": 2, \"linecolor\": \"white\", \"showbackground\": true, \"ticks\": \"\", \"zerolinecolor\": \"white\"}}, \"shapedefaults\": {\"line\": {\"color\": \"#2a3f5f\"}}, \"ternary\": {\"aaxis\": {\"gridcolor\": \"white\", \"linecolor\": \"white\", \"ticks\": \"\"}, \"baxis\": {\"gridcolor\": \"white\", \"linecolor\": \"white\", \"ticks\": \"\"}, \"bgcolor\": \"#E5ECF6\", \"caxis\": {\"gridcolor\": \"white\", \"linecolor\": \"white\", \"ticks\": \"\"}}, \"title\": {\"x\": 0.05}, \"xaxis\": {\"automargin\": true, \"gridcolor\": \"white\", \"linecolor\": \"white\", \"ticks\": \"\", \"title\": {\"standoff\": 15}, \"zerolinecolor\": \"white\", \"zerolinewidth\": 2}, \"yaxis\": {\"automargin\": true, \"gridcolor\": \"white\", \"linecolor\": \"white\", \"ticks\": \"\", \"title\": {\"standoff\": 15}, \"zerolinecolor\": \"white\", \"zerolinewidth\": 2}}}, \"title\": {\"text\": \"bidderrate\"}, \"yaxis\": {\"title\": {\"text\": \"Count\"}}},\n",
       "                        {\"responsive\": true}\n",
       "                    ).then(function(){\n",
       "                            \n",
       "var gd = document.getElementById('4ff667e5-b22e-4ea2-8bde-042b28b6d2c6');\n",
       "var x = new MutationObserver(function (mutations, observer) {{\n",
       "        var display = window.getComputedStyle(gd).display;\n",
       "        if (!display || display === 'none') {{\n",
       "            console.log([gd, 'removed!']);\n",
       "            Plotly.purge(gd);\n",
       "            observer.disconnect();\n",
       "        }}\n",
       "}});\n",
       "\n",
       "// Listen for the removal of the full notebook cells\n",
       "var notebookContainer = gd.closest('#notebook-container');\n",
       "if (notebookContainer) {{\n",
       "    x.observe(notebookContainer, {childList: true});\n",
       "}}\n",
       "\n",
       "// Listen for the clearing of the current output cell\n",
       "var outputEl = gd.closest('.output');\n",
       "if (outputEl) {{\n",
       "    x.observe(outputEl, {childList: true});\n",
       "}}\n",
       "\n",
       "                        })\n",
       "                };\n",
       "                });\n",
       "            </script>\n",
       "        </div>"
      ]
     },
     "metadata": {},
     "output_type": "display_data"
    },
    {
     "name": "stdout",
     "output_type": "stream",
     "text": [
      "-*--*--*--*--*--*--*--*--*--*--*--*--*--*--*--*--*--*--*--*--*--*--*--*--*-\n",
      "bidderrate mean :  31.807914262159933\n",
      "bidderrate var  :  6253.639112962178\n",
      "bidderrate skew (should be 0 for normal distribution) :  7.400918628534501\n",
      "bidderrate kurt (should be 0 for normal distribution) :  83.71645935993178\n",
      "-*--*--*--*--*--*--*--*--*--*--*--*--*--*--*--*--*--*--*--*--*--*--*--*--*-\n"
     ]
    }
   ],
   "source": [
    "plotBarCat(df,df.columns[4])"
   ]
  },
  {
   "cell_type": "code",
   "execution_count": 20,
   "metadata": {},
   "outputs": [
    {
     "data": {
      "application/vnd.plotly.v1+json": {
       "config": {
        "linkText": "Export to plot.ly",
        "plotlyServerURL": "https://plot.ly",
        "showLink": false
       },
       "data": [
        {
         "opacity": 0.75,
         "type": "histogram",
         "x": [
          9.99,
          1,
          1,
          7.99,
          1,
          1,
          1,
          1,
          1,
          1,
          200,
          1,
          500,
          101.01,
          155,
          25,
          175,
          155,
          1,
          99,
          500,
          0.01,
          99,
          100,
          95,
          9.99,
          100,
          50,
          9.99,
          25,
          1,
          1,
          155,
          495,
          1,
          1,
          250,
          100,
          1,
          95,
          1,
          75,
          200,
          200,
          1,
          4.99,
          900,
          7.99,
          1,
          1,
          900,
          500,
          1,
          650,
          0.01,
          1,
          9.99,
          1,
          155,
          1,
          1,
          599.99,
          1,
          155,
          1,
          1500,
          599.99,
          500,
          500,
          1,
          101.01,
          300,
          0.01,
          1,
          1,
          500,
          200,
          1,
          99.99,
          5,
          1,
          1,
          101.01,
          9.99,
          1,
          1,
          500,
          9.99,
          9.99,
          0.01,
          1,
          495,
          200,
          175,
          100,
          1,
          5,
          1,
          1,
          10,
          1,
          100,
          200,
          1,
          500,
          500,
          1,
          500,
          10,
          1,
          1,
          1,
          9.99,
          1,
          1,
          500,
          1,
          1,
          9.99,
          1,
          10,
          9.99,
          99.99,
          1499.99,
          95,
          4.99,
          101.01,
          1,
          1,
          300,
          0.01,
          250,
          350,
          1,
          700,
          1,
          900,
          1,
          5,
          500,
          0.01,
          1,
          0.01,
          200,
          101.01,
          850,
          1,
          249.99,
          1,
          0.01,
          95,
          1495,
          9.99,
          155,
          1,
          499,
          0.01,
          10,
          1495,
          1,
          1,
          100,
          1,
          0.01,
          75,
          1,
          495,
          650,
          1,
          200,
          1,
          1,
          500,
          1,
          1,
          200,
          495,
          1,
          500,
          1,
          200,
          0.01,
          155,
          499,
          1,
          225,
          200,
          1,
          0.01,
          1,
          1,
          1,
          1495,
          10,
          0.01,
          200,
          1,
          1,
          300,
          10,
          9.99,
          195,
          175,
          1,
          101.01,
          1,
          100,
          1,
          50,
          20,
          1,
          1,
          20,
          1,
          650,
          1,
          1,
          1,
          1,
          250,
          0.01,
          1495,
          100,
          5,
          200,
          249.99,
          9.99,
          1,
          1,
          900,
          9.99,
          1,
          155,
          500,
          0.01,
          1,
          95,
          1,
          95,
          50,
          1495,
          1,
          1,
          1,
          225,
          9.99,
          1,
          250,
          1,
          500,
          10,
          650,
          19.99,
          95,
          200,
          1,
          10,
          225,
          1,
          1,
          1495,
          1,
          1,
          9.99,
          1,
          1,
          500,
          500,
          1,
          1,
          1,
          0.01,
          5000,
          1495,
          499,
          9.99,
          100,
          1,
          25,
          500,
          1,
          200,
          500,
          100,
          1,
          1,
          1,
          1500,
          25,
          99,
          1,
          900,
          1,
          1,
          299.99,
          249.99,
          1,
          9.99,
          700,
          1,
          1,
          1,
          1,
          1,
          1,
          1,
          700,
          1,
          95,
          1,
          900,
          300,
          1,
          9.99,
          99.99,
          1,
          1,
          4.99,
          1,
          650,
          1,
          4.99,
          1495,
          500,
          1,
          1,
          1,
          1,
          10,
          1,
          50,
          1,
          100,
          500,
          1,
          1495,
          1,
          1,
          1,
          1,
          19.99,
          1,
          250,
          95,
          1,
          0.01,
          20,
          1,
          5000,
          1,
          25,
          1,
          25,
          25,
          1,
          1,
          1,
          10,
          25,
          200,
          499,
          1,
          9.99,
          155,
          1,
          1,
          99.99,
          650,
          495,
          200,
          150,
          300,
          100,
          1,
          1,
          900,
          1,
          1,
          900,
          1,
          1,
          1,
          1,
          100,
          4.99,
          300,
          5,
          1,
          4.99,
          1,
          650,
          1,
          1,
          1,
          4.99,
          20,
          4.99,
          1,
          9.99,
          349,
          1,
          1,
          1,
          1,
          1,
          155,
          349,
          1,
          1,
          5,
          9.99,
          1,
          499,
          500,
          1,
          1,
          1,
          1,
          500,
          1,
          1,
          100,
          1,
          100,
          0.01,
          1,
          1,
          0.01,
          500,
          1,
          1,
          200,
          1,
          1,
          200,
          250,
          50,
          500,
          5,
          10,
          99,
          1,
          1,
          1,
          1,
          1,
          200,
          1,
          95,
          1,
          200,
          500,
          10,
          200,
          1,
          99.99,
          155,
          1,
          1,
          225,
          1000,
          100,
          500,
          499,
          1,
          1,
          1,
          1,
          250,
          20,
          1,
          1,
          1,
          650,
          50,
          650,
          155,
          5,
          200,
          1,
          155,
          1,
          1,
          1,
          1,
          25,
          500,
          1495,
          1,
          225,
          1,
          300,
          25,
          1,
          1,
          50,
          9.99,
          1,
          700,
          9.99,
          200,
          1,
          1,
          1,
          499,
          4.99,
          1,
          900,
          359,
          1,
          1495,
          200,
          99,
          1,
          0.01,
          495,
          25,
          1,
          500,
          1,
          850,
          500,
          95,
          1,
          4.99,
          1,
          1,
          9.99,
          1,
          300,
          1,
          1,
          1,
          700,
          349,
          850,
          95,
          0.01,
          499,
          1,
          1,
          155,
          95,
          1,
          25,
          155,
          700,
          1,
          1,
          1,
          1,
          9.99,
          95,
          9.99,
          499,
          1,
          1,
          1,
          349,
          19.99,
          99,
          10,
          1,
          1,
          225,
          9.99,
          850,
          1,
          9.99,
          1,
          1,
          1,
          200,
          1,
          50,
          1,
          1,
          500,
          1,
          650,
          1,
          1495,
          500,
          5000,
          1,
          1,
          1,
          1,
          299.99,
          155,
          1,
          1,
          1,
          150,
          7.99,
          850,
          500,
          500,
          1,
          1,
          1,
          499,
          1,
          1,
          19.99,
          350,
          1,
          100,
          1,
          1,
          1,
          200,
          95,
          1,
          101.01,
          1499.99,
          200,
          9.99,
          300,
          100,
          1,
          399,
          1,
          250,
          200,
          100,
          1,
          9.99,
          1,
          200,
          0.01,
          75,
          1,
          20,
          100,
          1,
          100,
          1,
          99,
          500,
          1,
          4.99,
          1,
          0.01,
          500,
          1,
          5,
          1,
          1,
          1,
          50,
          500,
          4.99,
          1,
          249.99,
          1,
          1,
          500,
          200,
          1,
          9.99,
          25,
          20,
          1,
          9.99,
          1,
          200,
          1,
          95,
          1,
          7.99,
          500,
          1,
          100,
          200,
          1,
          500,
          349,
          75,
          299.99,
          0.01,
          1,
          10,
          200,
          1,
          4.99,
          1,
          1,
          200,
          500,
          1,
          1,
          95,
          155,
          150,
          1,
          200,
          1,
          1,
          1,
          1,
          99,
          7.99,
          500,
          7.99,
          1,
          499,
          9.99,
          499,
          1,
          1,
          200,
          1,
          1,
          9.99,
          1,
          1,
          100,
          95,
          1,
          99.99,
          1,
          1,
          1,
          75,
          1,
          299.99,
          1,
          1,
          1,
          150,
          1,
          1,
          1695,
          1,
          9.99,
          1,
          1,
          200,
          1,
          700,
          1,
          200,
          99,
          1,
          250,
          1,
          1,
          1,
          200,
          200,
          1,
          1,
          50,
          1,
          100,
          0.01,
          1,
          99,
          349,
          10,
          155,
          0.01,
          155,
          101.01,
          1,
          99.99,
          1,
          1,
          1,
          1,
          500,
          4.99,
          1,
          9.99,
          1,
          1,
          155,
          1,
          200,
          1,
          1,
          1,
          1,
          1,
          1,
          100,
          1,
          500,
          0.01,
          299.99,
          1,
          200,
          1,
          9.99,
          1,
          1,
          1,
          399,
          300,
          0.01,
          1,
          350,
          1,
          1,
          500,
          1,
          1,
          1,
          9.99,
          1,
          500,
          101.01,
          900,
          9.99,
          7.99,
          155,
          1,
          225,
          1,
          9.99,
          700,
          75,
          1,
          1,
          9.99,
          1,
          1,
          95,
          99,
          200,
          500,
          349,
          50,
          9.99,
          1,
          95,
          9.99,
          299.99,
          225,
          200,
          1,
          9.99,
          155,
          99.99,
          1,
          1,
          495,
          1,
          1,
          1,
          0.01,
          99.99,
          1,
          495,
          1,
          299.99,
          155,
          9.99,
          1,
          350,
          1,
          1,
          1,
          1,
          1,
          99.99,
          1,
          20,
          19.99,
          19.99,
          1,
          1,
          1,
          1495,
          1,
          495,
          101.01,
          99.99,
          1,
          99,
          1,
          9.99,
          1,
          1,
          500,
          9.99,
          1,
          1,
          500,
          1,
          155,
          1,
          25,
          1,
          300,
          200,
          1,
          1,
          1,
          1,
          150,
          1,
          1,
          19.99,
          95,
          155,
          500,
          9.99,
          0.01,
          1,
          1,
          1000,
          1,
          1,
          155,
          4.99,
          300,
          1,
          100,
          1,
          9.99,
          20,
          1,
          1,
          500,
          101.01,
          1,
          0.01,
          1,
          1,
          300,
          10,
          1,
          1,
          1,
          1,
          1,
          1,
          20,
          9.99,
          4.99,
          100,
          1,
          1,
          9.99,
          1,
          1,
          700,
          1,
          101.01,
          50,
          499,
          95,
          9.99,
          25,
          100,
          1,
          100,
          195,
          0.01,
          1,
          1,
          1,
          19.99,
          1,
          1,
          500,
          349,
          9.99,
          200,
          1,
          1,
          300,
          200,
          850,
          1,
          1,
          300,
          1,
          9.99,
          700,
          1,
          1,
          9.99,
          155,
          1,
          1,
          1,
          1,
          1,
          1,
          1,
          499,
          4.99,
          1,
          1,
          1,
          1,
          100,
          0.01,
          10,
          300,
          500,
          1,
          100,
          350,
          95,
          25,
          1,
          95,
          300,
          1,
          700,
          1,
          1,
          1,
          1,
          1,
          1,
          399,
          1,
          500,
          1,
          1,
          10,
          1,
          500,
          101.01,
          200,
          5,
          1,
          1,
          1,
          350,
          650,
          1,
          1,
          1,
          1,
          7.99,
          1,
          1,
          1,
          1,
          101.01,
          1,
          1,
          200,
          99,
          1,
          99.99,
          349,
          1,
          300,
          1,
          95,
          1,
          1,
          1,
          900,
          155,
          1,
          1,
          500,
          100,
          1,
          1,
          500,
          0.01,
          95,
          100,
          101.01,
          1,
          155,
          1,
          1,
          499,
          359,
          1,
          1,
          1,
          50,
          1495,
          1,
          1,
          9.99,
          10,
          1,
          495,
          200,
          500,
          10,
          1,
          500,
          101.01,
          9.99,
          1,
          650,
          1,
          1,
          9.99,
          1,
          0.01,
          1,
          1,
          349,
          900,
          25,
          500,
          1,
          495,
          101.01,
          1,
          500,
          95,
          1,
          299.99,
          1,
          1,
          200,
          75,
          1,
          1,
          99.99,
          1,
          9.99,
          1,
          1495,
          1,
          99,
          1,
          1,
          0.01,
          1,
          1,
          1,
          50,
          495,
          1,
          1,
          1,
          1,
          700,
          200,
          7.99,
          1,
          95,
          1,
          200,
          155,
          500,
          1,
          1,
          599.99,
          95,
          1,
          100,
          10,
          1,
          1,
          1,
          101.01,
          95,
          700,
          20,
          1000,
          20,
          1,
          300,
          175,
          700,
          900,
          350,
          7.99,
          19.99,
          5000,
          1,
          500,
          650,
          10,
          155,
          1,
          95,
          5,
          500,
          1,
          300,
          0.01,
          1,
          9.99,
          500,
          1,
          50,
          249.99,
          1,
          1,
          95,
          175,
          1,
          350,
          1,
          1495,
          1,
          20,
          1,
          250,
          50,
          499,
          1,
          1,
          0.01,
          155
         ]
        }
       ],
       "layout": {
        "barmode": "overlay",
        "template": {
         "data": {
          "bar": [
           {
            "error_x": {
             "color": "#2a3f5f"
            },
            "error_y": {
             "color": "#2a3f5f"
            },
            "marker": {
             "line": {
              "color": "#E5ECF6",
              "width": 0.5
             }
            },
            "type": "bar"
           }
          ],
          "barpolar": [
           {
            "marker": {
             "line": {
              "color": "#E5ECF6",
              "width": 0.5
             }
            },
            "type": "barpolar"
           }
          ],
          "carpet": [
           {
            "aaxis": {
             "endlinecolor": "#2a3f5f",
             "gridcolor": "white",
             "linecolor": "white",
             "minorgridcolor": "white",
             "startlinecolor": "#2a3f5f"
            },
            "baxis": {
             "endlinecolor": "#2a3f5f",
             "gridcolor": "white",
             "linecolor": "white",
             "minorgridcolor": "white",
             "startlinecolor": "#2a3f5f"
            },
            "type": "carpet"
           }
          ],
          "choropleth": [
           {
            "colorbar": {
             "outlinewidth": 0,
             "ticks": ""
            },
            "type": "choropleth"
           }
          ],
          "contour": [
           {
            "colorbar": {
             "outlinewidth": 0,
             "ticks": ""
            },
            "colorscale": [
             [
              0,
              "#0d0887"
             ],
             [
              0.1111111111111111,
              "#46039f"
             ],
             [
              0.2222222222222222,
              "#7201a8"
             ],
             [
              0.3333333333333333,
              "#9c179e"
             ],
             [
              0.4444444444444444,
              "#bd3786"
             ],
             [
              0.5555555555555556,
              "#d8576b"
             ],
             [
              0.6666666666666666,
              "#ed7953"
             ],
             [
              0.7777777777777778,
              "#fb9f3a"
             ],
             [
              0.8888888888888888,
              "#fdca26"
             ],
             [
              1,
              "#f0f921"
             ]
            ],
            "type": "contour"
           }
          ],
          "contourcarpet": [
           {
            "colorbar": {
             "outlinewidth": 0,
             "ticks": ""
            },
            "type": "contourcarpet"
           }
          ],
          "heatmap": [
           {
            "colorbar": {
             "outlinewidth": 0,
             "ticks": ""
            },
            "colorscale": [
             [
              0,
              "#0d0887"
             ],
             [
              0.1111111111111111,
              "#46039f"
             ],
             [
              0.2222222222222222,
              "#7201a8"
             ],
             [
              0.3333333333333333,
              "#9c179e"
             ],
             [
              0.4444444444444444,
              "#bd3786"
             ],
             [
              0.5555555555555556,
              "#d8576b"
             ],
             [
              0.6666666666666666,
              "#ed7953"
             ],
             [
              0.7777777777777778,
              "#fb9f3a"
             ],
             [
              0.8888888888888888,
              "#fdca26"
             ],
             [
              1,
              "#f0f921"
             ]
            ],
            "type": "heatmap"
           }
          ],
          "heatmapgl": [
           {
            "colorbar": {
             "outlinewidth": 0,
             "ticks": ""
            },
            "colorscale": [
             [
              0,
              "#0d0887"
             ],
             [
              0.1111111111111111,
              "#46039f"
             ],
             [
              0.2222222222222222,
              "#7201a8"
             ],
             [
              0.3333333333333333,
              "#9c179e"
             ],
             [
              0.4444444444444444,
              "#bd3786"
             ],
             [
              0.5555555555555556,
              "#d8576b"
             ],
             [
              0.6666666666666666,
              "#ed7953"
             ],
             [
              0.7777777777777778,
              "#fb9f3a"
             ],
             [
              0.8888888888888888,
              "#fdca26"
             ],
             [
              1,
              "#f0f921"
             ]
            ],
            "type": "heatmapgl"
           }
          ],
          "histogram": [
           {
            "marker": {
             "colorbar": {
              "outlinewidth": 0,
              "ticks": ""
             }
            },
            "type": "histogram"
           }
          ],
          "histogram2d": [
           {
            "colorbar": {
             "outlinewidth": 0,
             "ticks": ""
            },
            "colorscale": [
             [
              0,
              "#0d0887"
             ],
             [
              0.1111111111111111,
              "#46039f"
             ],
             [
              0.2222222222222222,
              "#7201a8"
             ],
             [
              0.3333333333333333,
              "#9c179e"
             ],
             [
              0.4444444444444444,
              "#bd3786"
             ],
             [
              0.5555555555555556,
              "#d8576b"
             ],
             [
              0.6666666666666666,
              "#ed7953"
             ],
             [
              0.7777777777777778,
              "#fb9f3a"
             ],
             [
              0.8888888888888888,
              "#fdca26"
             ],
             [
              1,
              "#f0f921"
             ]
            ],
            "type": "histogram2d"
           }
          ],
          "histogram2dcontour": [
           {
            "colorbar": {
             "outlinewidth": 0,
             "ticks": ""
            },
            "colorscale": [
             [
              0,
              "#0d0887"
             ],
             [
              0.1111111111111111,
              "#46039f"
             ],
             [
              0.2222222222222222,
              "#7201a8"
             ],
             [
              0.3333333333333333,
              "#9c179e"
             ],
             [
              0.4444444444444444,
              "#bd3786"
             ],
             [
              0.5555555555555556,
              "#d8576b"
             ],
             [
              0.6666666666666666,
              "#ed7953"
             ],
             [
              0.7777777777777778,
              "#fb9f3a"
             ],
             [
              0.8888888888888888,
              "#fdca26"
             ],
             [
              1,
              "#f0f921"
             ]
            ],
            "type": "histogram2dcontour"
           }
          ],
          "mesh3d": [
           {
            "colorbar": {
             "outlinewidth": 0,
             "ticks": ""
            },
            "type": "mesh3d"
           }
          ],
          "parcoords": [
           {
            "line": {
             "colorbar": {
              "outlinewidth": 0,
              "ticks": ""
             }
            },
            "type": "parcoords"
           }
          ],
          "pie": [
           {
            "automargin": true,
            "type": "pie"
           }
          ],
          "scatter": [
           {
            "marker": {
             "colorbar": {
              "outlinewidth": 0,
              "ticks": ""
             }
            },
            "type": "scatter"
           }
          ],
          "scatter3d": [
           {
            "line": {
             "colorbar": {
              "outlinewidth": 0,
              "ticks": ""
             }
            },
            "marker": {
             "colorbar": {
              "outlinewidth": 0,
              "ticks": ""
             }
            },
            "type": "scatter3d"
           }
          ],
          "scattercarpet": [
           {
            "marker": {
             "colorbar": {
              "outlinewidth": 0,
              "ticks": ""
             }
            },
            "type": "scattercarpet"
           }
          ],
          "scattergeo": [
           {
            "marker": {
             "colorbar": {
              "outlinewidth": 0,
              "ticks": ""
             }
            },
            "type": "scattergeo"
           }
          ],
          "scattergl": [
           {
            "marker": {
             "colorbar": {
              "outlinewidth": 0,
              "ticks": ""
             }
            },
            "type": "scattergl"
           }
          ],
          "scattermapbox": [
           {
            "marker": {
             "colorbar": {
              "outlinewidth": 0,
              "ticks": ""
             }
            },
            "type": "scattermapbox"
           }
          ],
          "scatterpolar": [
           {
            "marker": {
             "colorbar": {
              "outlinewidth": 0,
              "ticks": ""
             }
            },
            "type": "scatterpolar"
           }
          ],
          "scatterpolargl": [
           {
            "marker": {
             "colorbar": {
              "outlinewidth": 0,
              "ticks": ""
             }
            },
            "type": "scatterpolargl"
           }
          ],
          "scatterternary": [
           {
            "marker": {
             "colorbar": {
              "outlinewidth": 0,
              "ticks": ""
             }
            },
            "type": "scatterternary"
           }
          ],
          "surface": [
           {
            "colorbar": {
             "outlinewidth": 0,
             "ticks": ""
            },
            "colorscale": [
             [
              0,
              "#0d0887"
             ],
             [
              0.1111111111111111,
              "#46039f"
             ],
             [
              0.2222222222222222,
              "#7201a8"
             ],
             [
              0.3333333333333333,
              "#9c179e"
             ],
             [
              0.4444444444444444,
              "#bd3786"
             ],
             [
              0.5555555555555556,
              "#d8576b"
             ],
             [
              0.6666666666666666,
              "#ed7953"
             ],
             [
              0.7777777777777778,
              "#fb9f3a"
             ],
             [
              0.8888888888888888,
              "#fdca26"
             ],
             [
              1,
              "#f0f921"
             ]
            ],
            "type": "surface"
           }
          ],
          "table": [
           {
            "cells": {
             "fill": {
              "color": "#EBF0F8"
             },
             "line": {
              "color": "white"
             }
            },
            "header": {
             "fill": {
              "color": "#C8D4E3"
             },
             "line": {
              "color": "white"
             }
            },
            "type": "table"
           }
          ]
         },
         "layout": {
          "annotationdefaults": {
           "arrowcolor": "#2a3f5f",
           "arrowhead": 0,
           "arrowwidth": 1
          },
          "coloraxis": {
           "colorbar": {
            "outlinewidth": 0,
            "ticks": ""
           }
          },
          "colorscale": {
           "diverging": [
            [
             0,
             "#8e0152"
            ],
            [
             0.1,
             "#c51b7d"
            ],
            [
             0.2,
             "#de77ae"
            ],
            [
             0.3,
             "#f1b6da"
            ],
            [
             0.4,
             "#fde0ef"
            ],
            [
             0.5,
             "#f7f7f7"
            ],
            [
             0.6,
             "#e6f5d0"
            ],
            [
             0.7,
             "#b8e186"
            ],
            [
             0.8,
             "#7fbc41"
            ],
            [
             0.9,
             "#4d9221"
            ],
            [
             1,
             "#276419"
            ]
           ],
           "sequential": [
            [
             0,
             "#0d0887"
            ],
            [
             0.1111111111111111,
             "#46039f"
            ],
            [
             0.2222222222222222,
             "#7201a8"
            ],
            [
             0.3333333333333333,
             "#9c179e"
            ],
            [
             0.4444444444444444,
             "#bd3786"
            ],
            [
             0.5555555555555556,
             "#d8576b"
            ],
            [
             0.6666666666666666,
             "#ed7953"
            ],
            [
             0.7777777777777778,
             "#fb9f3a"
            ],
            [
             0.8888888888888888,
             "#fdca26"
            ],
            [
             1,
             "#f0f921"
            ]
           ],
           "sequentialminus": [
            [
             0,
             "#0d0887"
            ],
            [
             0.1111111111111111,
             "#46039f"
            ],
            [
             0.2222222222222222,
             "#7201a8"
            ],
            [
             0.3333333333333333,
             "#9c179e"
            ],
            [
             0.4444444444444444,
             "#bd3786"
            ],
            [
             0.5555555555555556,
             "#d8576b"
            ],
            [
             0.6666666666666666,
             "#ed7953"
            ],
            [
             0.7777777777777778,
             "#fb9f3a"
            ],
            [
             0.8888888888888888,
             "#fdca26"
            ],
            [
             1,
             "#f0f921"
            ]
           ]
          },
          "colorway": [
           "#636efa",
           "#EF553B",
           "#00cc96",
           "#ab63fa",
           "#FFA15A",
           "#19d3f3",
           "#FF6692",
           "#B6E880",
           "#FF97FF",
           "#FECB52"
          ],
          "font": {
           "color": "#2a3f5f"
          },
          "geo": {
           "bgcolor": "white",
           "lakecolor": "white",
           "landcolor": "#E5ECF6",
           "showlakes": true,
           "showland": true,
           "subunitcolor": "white"
          },
          "hoverlabel": {
           "align": "left"
          },
          "hovermode": "closest",
          "mapbox": {
           "style": "light"
          },
          "paper_bgcolor": "white",
          "plot_bgcolor": "#E5ECF6",
          "polar": {
           "angularaxis": {
            "gridcolor": "white",
            "linecolor": "white",
            "ticks": ""
           },
           "bgcolor": "#E5ECF6",
           "radialaxis": {
            "gridcolor": "white",
            "linecolor": "white",
            "ticks": ""
           }
          },
          "scene": {
           "xaxis": {
            "backgroundcolor": "#E5ECF6",
            "gridcolor": "white",
            "gridwidth": 2,
            "linecolor": "white",
            "showbackground": true,
            "ticks": "",
            "zerolinecolor": "white"
           },
           "yaxis": {
            "backgroundcolor": "#E5ECF6",
            "gridcolor": "white",
            "gridwidth": 2,
            "linecolor": "white",
            "showbackground": true,
            "ticks": "",
            "zerolinecolor": "white"
           },
           "zaxis": {
            "backgroundcolor": "#E5ECF6",
            "gridcolor": "white",
            "gridwidth": 2,
            "linecolor": "white",
            "showbackground": true,
            "ticks": "",
            "zerolinecolor": "white"
           }
          },
          "shapedefaults": {
           "line": {
            "color": "#2a3f5f"
           }
          },
          "ternary": {
           "aaxis": {
            "gridcolor": "white",
            "linecolor": "white",
            "ticks": ""
           },
           "baxis": {
            "gridcolor": "white",
            "linecolor": "white",
            "ticks": ""
           },
           "bgcolor": "#E5ECF6",
           "caxis": {
            "gridcolor": "white",
            "linecolor": "white",
            "ticks": ""
           }
          },
          "title": {
           "x": 0.05
          },
          "xaxis": {
           "automargin": true,
           "gridcolor": "white",
           "linecolor": "white",
           "ticks": "",
           "title": {
            "standoff": 15
           },
           "zerolinecolor": "white",
           "zerolinewidth": 2
          },
          "yaxis": {
           "automargin": true,
           "gridcolor": "white",
           "linecolor": "white",
           "ticks": "",
           "title": {
            "standoff": 15
           },
           "zerolinecolor": "white",
           "zerolinewidth": 2
          }
         }
        },
        "title": {
         "text": "openbid"
        },
        "yaxis": {
         "title": {
          "text": "Count"
         }
        }
       }
      },
      "text/html": [
       "<div>\n",
       "        \n",
       "        \n",
       "            <div id=\"18c8a5db-3ab0-4d94-a02a-7ccbd706a20d\" class=\"plotly-graph-div\" style=\"height:525px; width:100%;\"></div>\n",
       "            <script type=\"text/javascript\">\n",
       "                require([\"plotly\"], function(Plotly) {\n",
       "                    window.PLOTLYENV=window.PLOTLYENV || {};\n",
       "                    \n",
       "                if (document.getElementById(\"18c8a5db-3ab0-4d94-a02a-7ccbd706a20d\")) {\n",
       "                    Plotly.newPlot(\n",
       "                        '18c8a5db-3ab0-4d94-a02a-7ccbd706a20d',\n",
       "                        [{\"opacity\": 0.75, \"type\": \"histogram\", \"x\": [9.99, 1.0, 1.0, 7.99, 1.0, 1.0, 1.0, 1.0, 1.0, 1.0, 200.0, 1.0, 500.0, 101.01, 155.0, 25.0, 175.0, 155.0, 1.0, 99.0, 500.0, 0.01, 99.0, 100.0, 95.0, 9.99, 100.0, 50.0, 9.99, 25.0, 1.0, 1.0, 155.0, 495.0, 1.0, 1.0, 250.0, 100.0, 1.0, 95.0, 1.0, 75.0, 200.0, 200.0, 1.0, 4.99, 900.0, 7.99, 1.0, 1.0, 900.0, 500.0, 1.0, 650.0, 0.01, 1.0, 9.99, 1.0, 155.0, 1.0, 1.0, 599.99, 1.0, 155.0, 1.0, 1500.0, 599.99, 500.0, 500.0, 1.0, 101.01, 300.0, 0.01, 1.0, 1.0, 500.0, 200.0, 1.0, 99.99, 5.0, 1.0, 1.0, 101.01, 9.99, 1.0, 1.0, 500.0, 9.99, 9.99, 0.01, 1.0, 495.0, 200.0, 175.0, 100.0, 1.0, 5.0, 1.0, 1.0, 10.0, 1.0, 100.0, 200.0, 1.0, 500.0, 500.0, 1.0, 500.0, 10.0, 1.0, 1.0, 1.0, 9.99, 1.0, 1.0, 500.0, 1.0, 1.0, 9.99, 1.0, 10.0, 9.99, 99.99, 1499.99, 95.0, 4.99, 101.01, 1.0, 1.0, 300.0, 0.01, 250.0, 350.0, 1.0, 700.0, 1.0, 900.0, 1.0, 5.0, 500.0, 0.01, 1.0, 0.01, 200.0, 101.01, 850.0, 1.0, 249.99, 1.0, 0.01, 95.0, 1495.0, 9.99, 155.0, 1.0, 499.0, 0.01, 10.0, 1495.0, 1.0, 1.0, 100.0, 1.0, 0.01, 75.0, 1.0, 495.0, 650.0, 1.0, 200.0, 1.0, 1.0, 500.0, 1.0, 1.0, 200.0, 495.0, 1.0, 500.0, 1.0, 200.0, 0.01, 155.0, 499.0, 1.0, 225.0, 200.0, 1.0, 0.01, 1.0, 1.0, 1.0, 1495.0, 10.0, 0.01, 200.0, 1.0, 1.0, 300.0, 10.0, 9.99, 195.0, 175.0, 1.0, 101.01, 1.0, 100.0, 1.0, 50.0, 20.0, 1.0, 1.0, 20.0, 1.0, 650.0, 1.0, 1.0, 1.0, 1.0, 250.0, 0.01, 1495.0, 100.0, 5.0, 200.0, 249.99, 9.99, 1.0, 1.0, 900.0, 9.99, 1.0, 155.0, 500.0, 0.01, 1.0, 95.0, 1.0, 95.0, 50.0, 1495.0, 1.0, 1.0, 1.0, 225.0, 9.99, 1.0, 250.0, 1.0, 500.0, 10.0, 650.0, 19.99, 95.0, 200.0, 1.0, 10.0, 225.0, 1.0, 1.0, 1495.0, 1.0, 1.0, 9.99, 1.0, 1.0, 500.0, 500.0, 1.0, 1.0, 1.0, 0.01, 5000.0, 1495.0, 499.0, 9.99, 100.0, 1.0, 25.0, 500.0, 1.0, 200.0, 500.0, 100.0, 1.0, 1.0, 1.0, 1500.0, 25.0, 99.0, 1.0, 900.0, 1.0, 1.0, 299.99, 249.99, 1.0, 9.99, 700.0, 1.0, 1.0, 1.0, 1.0, 1.0, 1.0, 1.0, 700.0, 1.0, 95.0, 1.0, 900.0, 300.0, 1.0, 9.99, 99.99, 1.0, 1.0, 4.99, 1.0, 650.0, 1.0, 4.99, 1495.0, 500.0, 1.0, 1.0, 1.0, 1.0, 10.0, 1.0, 50.0, 1.0, 100.0, 500.0, 1.0, 1495.0, 1.0, 1.0, 1.0, 1.0, 19.99, 1.0, 250.0, 95.0, 1.0, 0.01, 20.0, 1.0, 5000.0, 1.0, 25.0, 1.0, 25.0, 25.0, 1.0, 1.0, 1.0, 10.0, 25.0, 200.0, 499.0, 1.0, 9.99, 155.0, 1.0, 1.0, 99.99, 650.0, 495.0, 200.0, 150.0, 300.0, 100.0, 1.0, 1.0, 900.0, 1.0, 1.0, 900.0, 1.0, 1.0, 1.0, 1.0, 100.0, 4.99, 300.0, 5.0, 1.0, 4.99, 1.0, 650.0, 1.0, 1.0, 1.0, 4.99, 20.0, 4.99, 1.0, 9.99, 349.0, 1.0, 1.0, 1.0, 1.0, 1.0, 155.0, 349.0, 1.0, 1.0, 5.0, 9.99, 1.0, 499.0, 500.0, 1.0, 1.0, 1.0, 1.0, 500.0, 1.0, 1.0, 100.0, 1.0, 100.0, 0.01, 1.0, 1.0, 0.01, 500.0, 1.0, 1.0, 200.0, 1.0, 1.0, 200.0, 250.0, 50.0, 500.0, 5.0, 10.0, 99.0, 1.0, 1.0, 1.0, 1.0, 1.0, 200.0, 1.0, 95.0, 1.0, 200.0, 500.0, 10.0, 200.0, 1.0, 99.99, 155.0, 1.0, 1.0, 225.0, 1000.0, 100.0, 500.0, 499.0, 1.0, 1.0, 1.0, 1.0, 250.0, 20.0, 1.0, 1.0, 1.0, 650.0, 50.0, 650.0, 155.0, 5.0, 200.0, 1.0, 155.0, 1.0, 1.0, 1.0, 1.0, 25.0, 500.0, 1495.0, 1.0, 225.0, 1.0, 300.0, 25.0, 1.0, 1.0, 50.0, 9.99, 1.0, 700.0, 9.99, 200.0, 1.0, 1.0, 1.0, 499.0, 4.99, 1.0, 900.0, 359.0, 1.0, 1495.0, 200.0, 99.0, 1.0, 0.01, 495.0, 25.0, 1.0, 500.0, 1.0, 850.0, 500.0, 95.0, 1.0, 4.99, 1.0, 1.0, 9.99, 1.0, 300.0, 1.0, 1.0, 1.0, 700.0, 349.0, 850.0, 95.0, 0.01, 499.0, 1.0, 1.0, 155.0, 95.0, 1.0, 25.0, 155.0, 700.0, 1.0, 1.0, 1.0, 1.0, 9.99, 95.0, 9.99, 499.0, 1.0, 1.0, 1.0, 349.0, 19.99, 99.0, 10.0, 1.0, 1.0, 225.0, 9.99, 850.0, 1.0, 9.99, 1.0, 1.0, 1.0, 200.0, 1.0, 50.0, 1.0, 1.0, 500.0, 1.0, 650.0, 1.0, 1495.0, 500.0, 5000.0, 1.0, 1.0, 1.0, 1.0, 299.99, 155.0, 1.0, 1.0, 1.0, 150.0, 7.99, 850.0, 500.0, 500.0, 1.0, 1.0, 1.0, 499.0, 1.0, 1.0, 19.99, 350.0, 1.0, 100.0, 1.0, 1.0, 1.0, 200.0, 95.0, 1.0, 101.01, 1499.99, 200.0, 9.99, 300.0, 100.0, 1.0, 399.0, 1.0, 250.0, 200.0, 100.0, 1.0, 9.99, 1.0, 200.0, 0.01, 75.0, 1.0, 20.0, 100.0, 1.0, 100.0, 1.0, 99.0, 500.0, 1.0, 4.99, 1.0, 0.01, 500.0, 1.0, 5.0, 1.0, 1.0, 1.0, 50.0, 500.0, 4.99, 1.0, 249.99, 1.0, 1.0, 500.0, 200.0, 1.0, 9.99, 25.0, 20.0, 1.0, 9.99, 1.0, 200.0, 1.0, 95.0, 1.0, 7.99, 500.0, 1.0, 100.0, 200.0, 1.0, 500.0, 349.0, 75.0, 299.99, 0.01, 1.0, 10.0, 200.0, 1.0, 4.99, 1.0, 1.0, 200.0, 500.0, 1.0, 1.0, 95.0, 155.0, 150.0, 1.0, 200.0, 1.0, 1.0, 1.0, 1.0, 99.0, 7.99, 500.0, 7.99, 1.0, 499.0, 9.99, 499.0, 1.0, 1.0, 200.0, 1.0, 1.0, 9.99, 1.0, 1.0, 100.0, 95.0, 1.0, 99.99, 1.0, 1.0, 1.0, 75.0, 1.0, 299.99, 1.0, 1.0, 1.0, 150.0, 1.0, 1.0, 1695.0, 1.0, 9.99, 1.0, 1.0, 200.0, 1.0, 700.0, 1.0, 200.0, 99.0, 1.0, 250.0, 1.0, 1.0, 1.0, 200.0, 200.0, 1.0, 1.0, 50.0, 1.0, 100.0, 0.01, 1.0, 99.0, 349.0, 10.0, 155.0, 0.01, 155.0, 101.01, 1.0, 99.99, 1.0, 1.0, 1.0, 1.0, 500.0, 4.99, 1.0, 9.99, 1.0, 1.0, 155.0, 1.0, 200.0, 1.0, 1.0, 1.0, 1.0, 1.0, 1.0, 100.0, 1.0, 500.0, 0.01, 299.99, 1.0, 200.0, 1.0, 9.99, 1.0, 1.0, 1.0, 399.0, 300.0, 0.01, 1.0, 350.0, 1.0, 1.0, 500.0, 1.0, 1.0, 1.0, 9.99, 1.0, 500.0, 101.01, 900.0, 9.99, 7.99, 155.0, 1.0, 225.0, 1.0, 9.99, 700.0, 75.0, 1.0, 1.0, 9.99, 1.0, 1.0, 95.0, 99.0, 200.0, 500.0, 349.0, 50.0, 9.99, 1.0, 95.0, 9.99, 299.99, 225.0, 200.0, 1.0, 9.99, 155.0, 99.99, 1.0, 1.0, 495.0, 1.0, 1.0, 1.0, 0.01, 99.99, 1.0, 495.0, 1.0, 299.99, 155.0, 9.99, 1.0, 350.0, 1.0, 1.0, 1.0, 1.0, 1.0, 99.99, 1.0, 20.0, 19.99, 19.99, 1.0, 1.0, 1.0, 1495.0, 1.0, 495.0, 101.01, 99.99, 1.0, 99.0, 1.0, 9.99, 1.0, 1.0, 500.0, 9.99, 1.0, 1.0, 500.0, 1.0, 155.0, 1.0, 25.0, 1.0, 300.0, 200.0, 1.0, 1.0, 1.0, 1.0, 150.0, 1.0, 1.0, 19.99, 95.0, 155.0, 500.0, 9.99, 0.01, 1.0, 1.0, 1000.0, 1.0, 1.0, 155.0, 4.99, 300.0, 1.0, 100.0, 1.0, 9.99, 20.0, 1.0, 1.0, 500.0, 101.01, 1.0, 0.01, 1.0, 1.0, 300.0, 10.0, 1.0, 1.0, 1.0, 1.0, 1.0, 1.0, 20.0, 9.99, 4.99, 100.0, 1.0, 1.0, 9.99, 1.0, 1.0, 700.0, 1.0, 101.01, 50.0, 499.0, 95.0, 9.99, 25.0, 100.0, 1.0, 100.0, 195.0, 0.01, 1.0, 1.0, 1.0, 19.99, 1.0, 1.0, 500.0, 349.0, 9.99, 200.0, 1.0, 1.0, 300.0, 200.0, 850.0, 1.0, 1.0, 300.0, 1.0, 9.99, 700.0, 1.0, 1.0, 9.99, 155.0, 1.0, 1.0, 1.0, 1.0, 1.0, 1.0, 1.0, 499.0, 4.99, 1.0, 1.0, 1.0, 1.0, 100.0, 0.01, 10.0, 300.0, 500.0, 1.0, 100.0, 350.0, 95.0, 25.0, 1.0, 95.0, 300.0, 1.0, 700.0, 1.0, 1.0, 1.0, 1.0, 1.0, 1.0, 399.0, 1.0, 500.0, 1.0, 1.0, 10.0, 1.0, 500.0, 101.01, 200.0, 5.0, 1.0, 1.0, 1.0, 350.0, 650.0, 1.0, 1.0, 1.0, 1.0, 7.99, 1.0, 1.0, 1.0, 1.0, 101.01, 1.0, 1.0, 200.0, 99.0, 1.0, 99.99, 349.0, 1.0, 300.0, 1.0, 95.0, 1.0, 1.0, 1.0, 900.0, 155.0, 1.0, 1.0, 500.0, 100.0, 1.0, 1.0, 500.0, 0.01, 95.0, 100.0, 101.01, 1.0, 155.0, 1.0, 1.0, 499.0, 359.0, 1.0, 1.0, 1.0, 50.0, 1495.0, 1.0, 1.0, 9.99, 10.0, 1.0, 495.0, 200.0, 500.0, 10.0, 1.0, 500.0, 101.01, 9.99, 1.0, 650.0, 1.0, 1.0, 9.99, 1.0, 0.01, 1.0, 1.0, 349.0, 900.0, 25.0, 500.0, 1.0, 495.0, 101.01, 1.0, 500.0, 95.0, 1.0, 299.99, 1.0, 1.0, 200.0, 75.0, 1.0, 1.0, 99.99, 1.0, 9.99, 1.0, 1495.0, 1.0, 99.0, 1.0, 1.0, 0.01, 1.0, 1.0, 1.0, 50.0, 495.0, 1.0, 1.0, 1.0, 1.0, 700.0, 200.0, 7.99, 1.0, 95.0, 1.0, 200.0, 155.0, 500.0, 1.0, 1.0, 599.99, 95.0, 1.0, 100.0, 10.0, 1.0, 1.0, 1.0, 101.01, 95.0, 700.0, 20.0, 1000.0, 20.0, 1.0, 300.0, 175.0, 700.0, 900.0, 350.0, 7.99, 19.99, 5000.0, 1.0, 500.0, 650.0, 10.0, 155.0, 1.0, 95.0, 5.0, 500.0, 1.0, 300.0, 0.01, 1.0, 9.99, 500.0, 1.0, 50.0, 249.99, 1.0, 1.0, 95.0, 175.0, 1.0, 350.0, 1.0, 1495.0, 1.0, 20.0, 1.0, 250.0, 50.0, 499.0, 1.0, 1.0, 0.01, 155.0]}],\n",
       "                        {\"barmode\": \"overlay\", \"template\": {\"data\": {\"bar\": [{\"error_x\": {\"color\": \"#2a3f5f\"}, \"error_y\": {\"color\": \"#2a3f5f\"}, \"marker\": {\"line\": {\"color\": \"#E5ECF6\", \"width\": 0.5}}, \"type\": \"bar\"}], \"barpolar\": [{\"marker\": {\"line\": {\"color\": \"#E5ECF6\", \"width\": 0.5}}, \"type\": \"barpolar\"}], \"carpet\": [{\"aaxis\": {\"endlinecolor\": \"#2a3f5f\", \"gridcolor\": \"white\", \"linecolor\": \"white\", \"minorgridcolor\": \"white\", \"startlinecolor\": \"#2a3f5f\"}, \"baxis\": {\"endlinecolor\": \"#2a3f5f\", \"gridcolor\": \"white\", \"linecolor\": \"white\", \"minorgridcolor\": \"white\", \"startlinecolor\": \"#2a3f5f\"}, \"type\": \"carpet\"}], \"choropleth\": [{\"colorbar\": {\"outlinewidth\": 0, \"ticks\": \"\"}, \"type\": \"choropleth\"}], \"contour\": [{\"colorbar\": {\"outlinewidth\": 0, \"ticks\": \"\"}, \"colorscale\": [[0.0, \"#0d0887\"], [0.1111111111111111, \"#46039f\"], [0.2222222222222222, \"#7201a8\"], [0.3333333333333333, \"#9c179e\"], [0.4444444444444444, \"#bd3786\"], [0.5555555555555556, \"#d8576b\"], [0.6666666666666666, \"#ed7953\"], [0.7777777777777778, \"#fb9f3a\"], [0.8888888888888888, \"#fdca26\"], [1.0, \"#f0f921\"]], \"type\": \"contour\"}], \"contourcarpet\": [{\"colorbar\": {\"outlinewidth\": 0, \"ticks\": \"\"}, \"type\": \"contourcarpet\"}], \"heatmap\": [{\"colorbar\": {\"outlinewidth\": 0, \"ticks\": \"\"}, \"colorscale\": [[0.0, \"#0d0887\"], [0.1111111111111111, \"#46039f\"], [0.2222222222222222, \"#7201a8\"], [0.3333333333333333, \"#9c179e\"], [0.4444444444444444, \"#bd3786\"], [0.5555555555555556, \"#d8576b\"], [0.6666666666666666, \"#ed7953\"], [0.7777777777777778, \"#fb9f3a\"], [0.8888888888888888, \"#fdca26\"], [1.0, \"#f0f921\"]], \"type\": \"heatmap\"}], \"heatmapgl\": [{\"colorbar\": {\"outlinewidth\": 0, \"ticks\": \"\"}, \"colorscale\": [[0.0, \"#0d0887\"], [0.1111111111111111, \"#46039f\"], [0.2222222222222222, \"#7201a8\"], [0.3333333333333333, \"#9c179e\"], [0.4444444444444444, \"#bd3786\"], [0.5555555555555556, \"#d8576b\"], [0.6666666666666666, \"#ed7953\"], [0.7777777777777778, \"#fb9f3a\"], [0.8888888888888888, \"#fdca26\"], [1.0, \"#f0f921\"]], \"type\": \"heatmapgl\"}], \"histogram\": [{\"marker\": {\"colorbar\": {\"outlinewidth\": 0, \"ticks\": \"\"}}, \"type\": \"histogram\"}], \"histogram2d\": [{\"colorbar\": {\"outlinewidth\": 0, \"ticks\": \"\"}, \"colorscale\": [[0.0, \"#0d0887\"], [0.1111111111111111, \"#46039f\"], [0.2222222222222222, \"#7201a8\"], [0.3333333333333333, \"#9c179e\"], [0.4444444444444444, \"#bd3786\"], [0.5555555555555556, \"#d8576b\"], [0.6666666666666666, \"#ed7953\"], [0.7777777777777778, \"#fb9f3a\"], [0.8888888888888888, \"#fdca26\"], [1.0, \"#f0f921\"]], \"type\": \"histogram2d\"}], \"histogram2dcontour\": [{\"colorbar\": {\"outlinewidth\": 0, \"ticks\": \"\"}, \"colorscale\": [[0.0, \"#0d0887\"], [0.1111111111111111, \"#46039f\"], [0.2222222222222222, \"#7201a8\"], [0.3333333333333333, \"#9c179e\"], [0.4444444444444444, \"#bd3786\"], [0.5555555555555556, \"#d8576b\"], [0.6666666666666666, \"#ed7953\"], [0.7777777777777778, \"#fb9f3a\"], [0.8888888888888888, \"#fdca26\"], [1.0, \"#f0f921\"]], \"type\": \"histogram2dcontour\"}], \"mesh3d\": [{\"colorbar\": {\"outlinewidth\": 0, \"ticks\": \"\"}, \"type\": \"mesh3d\"}], \"parcoords\": [{\"line\": {\"colorbar\": {\"outlinewidth\": 0, \"ticks\": \"\"}}, \"type\": \"parcoords\"}], \"pie\": [{\"automargin\": true, \"type\": \"pie\"}], \"scatter\": [{\"marker\": {\"colorbar\": {\"outlinewidth\": 0, \"ticks\": \"\"}}, \"type\": \"scatter\"}], \"scatter3d\": [{\"line\": {\"colorbar\": {\"outlinewidth\": 0, \"ticks\": \"\"}}, \"marker\": {\"colorbar\": {\"outlinewidth\": 0, \"ticks\": \"\"}}, \"type\": \"scatter3d\"}], \"scattercarpet\": [{\"marker\": {\"colorbar\": {\"outlinewidth\": 0, \"ticks\": \"\"}}, \"type\": \"scattercarpet\"}], \"scattergeo\": [{\"marker\": {\"colorbar\": {\"outlinewidth\": 0, \"ticks\": \"\"}}, \"type\": \"scattergeo\"}], \"scattergl\": [{\"marker\": {\"colorbar\": {\"outlinewidth\": 0, \"ticks\": \"\"}}, \"type\": \"scattergl\"}], \"scattermapbox\": [{\"marker\": {\"colorbar\": {\"outlinewidth\": 0, \"ticks\": \"\"}}, \"type\": \"scattermapbox\"}], \"scatterpolar\": [{\"marker\": {\"colorbar\": {\"outlinewidth\": 0, \"ticks\": \"\"}}, \"type\": \"scatterpolar\"}], \"scatterpolargl\": [{\"marker\": {\"colorbar\": {\"outlinewidth\": 0, \"ticks\": \"\"}}, \"type\": \"scatterpolargl\"}], \"scatterternary\": [{\"marker\": {\"colorbar\": {\"outlinewidth\": 0, \"ticks\": \"\"}}, \"type\": \"scatterternary\"}], \"surface\": [{\"colorbar\": {\"outlinewidth\": 0, \"ticks\": \"\"}, \"colorscale\": [[0.0, \"#0d0887\"], [0.1111111111111111, \"#46039f\"], [0.2222222222222222, \"#7201a8\"], [0.3333333333333333, \"#9c179e\"], [0.4444444444444444, \"#bd3786\"], [0.5555555555555556, \"#d8576b\"], [0.6666666666666666, \"#ed7953\"], [0.7777777777777778, \"#fb9f3a\"], [0.8888888888888888, \"#fdca26\"], [1.0, \"#f0f921\"]], \"type\": \"surface\"}], \"table\": [{\"cells\": {\"fill\": {\"color\": \"#EBF0F8\"}, \"line\": {\"color\": \"white\"}}, \"header\": {\"fill\": {\"color\": \"#C8D4E3\"}, \"line\": {\"color\": \"white\"}}, \"type\": \"table\"}]}, \"layout\": {\"annotationdefaults\": {\"arrowcolor\": \"#2a3f5f\", \"arrowhead\": 0, \"arrowwidth\": 1}, \"coloraxis\": {\"colorbar\": {\"outlinewidth\": 0, \"ticks\": \"\"}}, \"colorscale\": {\"diverging\": [[0, \"#8e0152\"], [0.1, \"#c51b7d\"], [0.2, \"#de77ae\"], [0.3, \"#f1b6da\"], [0.4, \"#fde0ef\"], [0.5, \"#f7f7f7\"], [0.6, \"#e6f5d0\"], [0.7, \"#b8e186\"], [0.8, \"#7fbc41\"], [0.9, \"#4d9221\"], [1, \"#276419\"]], \"sequential\": [[0.0, \"#0d0887\"], [0.1111111111111111, \"#46039f\"], [0.2222222222222222, \"#7201a8\"], [0.3333333333333333, \"#9c179e\"], [0.4444444444444444, \"#bd3786\"], [0.5555555555555556, \"#d8576b\"], [0.6666666666666666, \"#ed7953\"], [0.7777777777777778, \"#fb9f3a\"], [0.8888888888888888, \"#fdca26\"], [1.0, \"#f0f921\"]], \"sequentialminus\": [[0.0, \"#0d0887\"], [0.1111111111111111, \"#46039f\"], [0.2222222222222222, \"#7201a8\"], [0.3333333333333333, \"#9c179e\"], [0.4444444444444444, \"#bd3786\"], [0.5555555555555556, \"#d8576b\"], [0.6666666666666666, \"#ed7953\"], [0.7777777777777778, \"#fb9f3a\"], [0.8888888888888888, \"#fdca26\"], [1.0, \"#f0f921\"]]}, \"colorway\": [\"#636efa\", \"#EF553B\", \"#00cc96\", \"#ab63fa\", \"#FFA15A\", \"#19d3f3\", \"#FF6692\", \"#B6E880\", \"#FF97FF\", \"#FECB52\"], \"font\": {\"color\": \"#2a3f5f\"}, \"geo\": {\"bgcolor\": \"white\", \"lakecolor\": \"white\", \"landcolor\": \"#E5ECF6\", \"showlakes\": true, \"showland\": true, \"subunitcolor\": \"white\"}, \"hoverlabel\": {\"align\": \"left\"}, \"hovermode\": \"closest\", \"mapbox\": {\"style\": \"light\"}, \"paper_bgcolor\": \"white\", \"plot_bgcolor\": \"#E5ECF6\", \"polar\": {\"angularaxis\": {\"gridcolor\": \"white\", \"linecolor\": \"white\", \"ticks\": \"\"}, \"bgcolor\": \"#E5ECF6\", \"radialaxis\": {\"gridcolor\": \"white\", \"linecolor\": \"white\", \"ticks\": \"\"}}, \"scene\": {\"xaxis\": {\"backgroundcolor\": \"#E5ECF6\", \"gridcolor\": \"white\", \"gridwidth\": 2, \"linecolor\": \"white\", \"showbackground\": true, \"ticks\": \"\", \"zerolinecolor\": \"white\"}, \"yaxis\": {\"backgroundcolor\": \"#E5ECF6\", \"gridcolor\": \"white\", \"gridwidth\": 2, \"linecolor\": \"white\", \"showbackground\": true, \"ticks\": \"\", \"zerolinecolor\": \"white\"}, \"zaxis\": {\"backgroundcolor\": \"#E5ECF6\", \"gridcolor\": \"white\", \"gridwidth\": 2, \"linecolor\": \"white\", \"showbackground\": true, \"ticks\": \"\", \"zerolinecolor\": \"white\"}}, \"shapedefaults\": {\"line\": {\"color\": \"#2a3f5f\"}}, \"ternary\": {\"aaxis\": {\"gridcolor\": \"white\", \"linecolor\": \"white\", \"ticks\": \"\"}, \"baxis\": {\"gridcolor\": \"white\", \"linecolor\": \"white\", \"ticks\": \"\"}, \"bgcolor\": \"#E5ECF6\", \"caxis\": {\"gridcolor\": \"white\", \"linecolor\": \"white\", \"ticks\": \"\"}}, \"title\": {\"x\": 0.05}, \"xaxis\": {\"automargin\": true, \"gridcolor\": \"white\", \"linecolor\": \"white\", \"ticks\": \"\", \"title\": {\"standoff\": 15}, \"zerolinecolor\": \"white\", \"zerolinewidth\": 2}, \"yaxis\": {\"automargin\": true, \"gridcolor\": \"white\", \"linecolor\": \"white\", \"ticks\": \"\", \"title\": {\"standoff\": 15}, \"zerolinecolor\": \"white\", \"zerolinewidth\": 2}}}, \"title\": {\"text\": \"openbid\"}, \"yaxis\": {\"title\": {\"text\": \"Count\"}}},\n",
       "                        {\"responsive\": true}\n",
       "                    ).then(function(){\n",
       "                            \n",
       "var gd = document.getElementById('18c8a5db-3ab0-4d94-a02a-7ccbd706a20d');\n",
       "var x = new MutationObserver(function (mutations, observer) {{\n",
       "        var display = window.getComputedStyle(gd).display;\n",
       "        if (!display || display === 'none') {{\n",
       "            console.log([gd, 'removed!']);\n",
       "            Plotly.purge(gd);\n",
       "            observer.disconnect();\n",
       "        }}\n",
       "}});\n",
       "\n",
       "// Listen for the removal of the full notebook cells\n",
       "var notebookContainer = gd.closest('#notebook-container');\n",
       "if (notebookContainer) {{\n",
       "    x.observe(notebookContainer, {childList: true});\n",
       "}}\n",
       "\n",
       "// Listen for the clearing of the current output cell\n",
       "var outputEl = gd.closest('.output');\n",
       "if (outputEl) {{\n",
       "    x.observe(outputEl, {childList: true});\n",
       "}}\n",
       "\n",
       "                        })\n",
       "                };\n",
       "                });\n",
       "            </script>\n",
       "        </div>"
      ]
     },
     "metadata": {},
     "output_type": "display_data"
    },
    {
     "name": "stdout",
     "output_type": "stream",
     "text": [
      "-*--*--*--*--*--*--*--*--*--*--*--*--*--*--*--*--*--*--*--*--*--*--*--*--*-\n",
      "openbid mean :  159.14285243198668\n",
      "openbid var  :  150774.14879219222\n",
      "openbid skew (should be 0 for normal distribution) :  7.313305818646287\n",
      "openbid kurt (should be 0 for normal distribution) :  79.56162197569354\n",
      "-*--*--*--*--*--*--*--*--*--*--*--*--*--*--*--*--*--*--*--*--*--*--*--*--*-\n"
     ]
    }
   ],
   "source": [
    "plotBarCat(df,df.columns[5])"
   ]
  },
  {
   "cell_type": "markdown",
   "metadata": {},
   "source": [
    "          \n",
    "       A fundamental task in many statistical analyses is to characterize the location and variability of a data set. \n",
    "       \n",
    "       A further characterization of the data includes Skewness and Kurtosis.\n",
    "       \n",
    "       Skewness is a measure of symmetry, or more precisely, the lack of symmetry. A distribution, or data set, is symmetric if it looks the same to the left and right of the center point.\n",
    "       \n",
    "       Kurtosis is a measure of whether the data are heavy-tailed or light-tailed relative to a normal distribution. That is, data sets with high kurtosis tend to have heavy tails, or outliers. Data sets with low kurtosis tend to have light tails, or lack of outliers. A uniform distribution would be the extreme case"
   ]
  },
  {
   "cell_type": "markdown",
   "metadata": {},
   "source": [
    "##### Outlier Investigation"
   ]
  },
  {
   "cell_type": "markdown",
   "metadata": {},
   "source": [
    "###### Treating Outliers by using IQR"
   ]
  },
  {
   "cell_type": "code",
   "execution_count": 21,
   "metadata": {},
   "outputs": [],
   "source": [
    "data = df.copy()"
   ]
  },
  {
   "cell_type": "code",
   "execution_count": 22,
   "metadata": {},
   "outputs": [
    {
     "data": {
      "text/plain": [
       "<matplotlib.axes._subplots.AxesSubplot at 0x9a53869eb0>"
      ]
     },
     "execution_count": 22,
     "metadata": {},
     "output_type": "execute_result"
    },
    {
     "data": {
      "image/png": "[encoded data removed]",
      "text/plain": [
       "<Figure size 432x288 with 1 Axes>"
      ]
     },
     "metadata": {
      "needs_background": "light"
     },
     "output_type": "display_data"
    }
   ],
   "source": [
    "# Before outlier treatement\n",
    "df[\"bid\"].plot.box()"
   ]
  },
  {
   "cell_type": "code",
   "execution_count": 23,
   "metadata": {},
   "outputs": [
    {
     "name": "stdout",
     "output_type": "stream",
     "text": [
      "Inter-Quantile Range :  734.0\n",
      "-940.0\n",
      "1996.0\n",
      "AxesSubplot(0.125,0.125;0.775x0.755)\n"
     ]
    },
    {
     "data": {
      "image/png": "[encoded data removed]",
      "text/plain": [
       "<Figure size 432x288 with 1 Axes>"
      ]
     },
     "metadata": {
      "needs_background": "light"
     },
     "output_type": "display_data"
    }
   ],
   "source": [
    "# Calculating IQR for bid feature\n",
    "IQR=df.bid.quantile(0.75)-df.bid.quantile(0.25)\n",
    "print(\"Inter-Quantile Range : \",IQR)\n",
    "\n",
    "# Checking Extreme Outliers\n",
    "lower_bridge=df['bid'].quantile(0.25)-(IQR*1.5)\n",
    "upper_bridge=df['bid'].quantile(0.75)+(IQR*1.5)\n",
    "print(lower_bridge), print(upper_bridge)\n",
    "\n",
    "#\n",
    "data.loc[data['bid']>=1996,'bid']=1996\n",
    "print(data.bid.plot.box())"
   ]
  },
  {
   "cell_type": "code",
   "execution_count": 24,
   "metadata": {
    "scrolled": true
   },
   "outputs": [
    {
     "data": {
      "text/plain": [
       "<matplotlib.axes._subplots.AxesSubplot at 0x9a538b2a60>"
      ]
     },
     "execution_count": 24,
     "metadata": {},
     "output_type": "execute_result"
    },
    {
     "data": {
      "image/png": "[encoded data removed]",
      "text/plain": [
       "<Figure size 432x288 with 1 Axes>"
      ]
     },
     "metadata": {
      "needs_background": "light"
     },
     "output_type": "display_data"
    }
   ],
   "source": [
    "# Betore outlier treatment\n",
    "df[\"bidderrate\"].plot.box()"
   ]
  },
  {
   "cell_type": "code",
   "execution_count": 25,
   "metadata": {},
   "outputs": [
    {
     "name": "stdout",
     "output_type": "stream",
     "text": [
      "Inter-Quantile Range :  29.0\n",
      "-1100.0\n",
      "1131.0\n",
      "AxesSubplot(0.125,0.125;0.775x0.755)\n"
     ]
    },
    {
     "data": {
      "image/png": "[encoded data removed]",
      "text/plain": [
       "<Figure size 432x288 with 1 Axes>"
      ]
     },
     "metadata": {
      "needs_background": "light"
     },
     "output_type": "display_data"
    }
   ],
   "source": [
    "# Calculating IQR for bidderrate\n",
    "IQR_bidderrate = df.bidderrate.quantile(0.75) - df.bidderrate.quantile(0.25)\n",
    "print(\"Inter-Quantile Range : \", IQR_bidderrate)\n",
    "\n",
    "# Checking Extreme outliers\n",
    "lower = df[\"bidderrate\"].quantile(0.25) - (IQR * 1.5)\n",
    "upper = df[\"bidderrate\"].quantile(0.75) + (IQR * 1.5)\n",
    "print(lower)\n",
    "print(upper)\n",
    "\n",
    "data.loc[data['bidderrate'] >= 73.5, \"bidderrate\"] = 73.5\n",
    "print(data.bidderrate.plot.box())"
   ]
  },
  {
   "cell_type": "code",
   "execution_count": 26,
   "metadata": {},
   "outputs": [
    {
     "data": {
      "text/plain": [
       "<matplotlib.axes._subplots.AxesSubplot at 0x9a53944490>"
      ]
     },
     "execution_count": 26,
     "metadata": {},
     "output_type": "execute_result"
    },
    {
     "data": {
      "image/png": "[encoded data removed]",
      "text/plain": [
       "<Figure size 432x288 with 1 Axes>"
      ]
     },
     "metadata": {
      "needs_background": "light"
     },
     "output_type": "display_data"
    }
   ],
   "source": [
    "# Before outlier treatement\n",
    "df[\"openbid\"].plot.box()"
   ]
  },
  {
   "cell_type": "code",
   "execution_count": 27,
   "metadata": {},
   "outputs": [
    {
     "name": "stdout",
     "output_type": "stream",
     "text": [
      "Inter-quantile Range :  174.0\n",
      "-1100.0 , 1276.0\n",
      "AxesSubplot(0.125,0.125;0.775x0.755)\n"
     ]
    },
    {
     "data": {
      "image/png": "[encoded data removed]",
      "text/plain": [
       "<Figure size 432x288 with 1 Axes>"
      ]
     },
     "metadata": {
      "needs_background": "light"
     },
     "output_type": "display_data"
    }
   ],
   "source": [
    "# Calculation IQR for openbid\n",
    "IQR_openbid = df.openbid.quantile(0.75) - df.openbid.quantile(0.25)\n",
    "print(\"Inter-quantile Range : \", IQR_openbid)\n",
    "\n",
    "# Checking Extreme Outliers\n",
    "low =  df[\"openbid\"].quantile(0.25) - (IQR * 1.5)\n",
    "up = df[\"openbid\"].quantile(0.75) + (IQR * 1.5)\n",
    "print(low,\",\", up)\n",
    "\n",
    "data.loc[data[\"openbid\"] >= 1276, \"openbid\"] = 1276\n",
    "print(data.openbid.plot.box())"
   ]
  },
  {
   "cell_type": "code",
   "execution_count": null,
   "metadata": {},
   "outputs": [],
   "source": []
  },
  {
   "cell_type": "code",
   "execution_count": 28,
   "metadata": {},
   "outputs": [
    {
     "data": {
      "text/html": [
       "<div>\n",
       "<style scoped>\n",
       "    .dataframe tbody tr th:only-of-type {\n",
       "        vertical-align: middle;\n",
       "    }\n",
       "\n",
       "    .dataframe tbody tr th {\n",
       "        vertical-align: top;\n",
       "    }\n",
       "\n",
       "    .dataframe thead th {\n",
       "        text-align: right;\n",
       "    }\n",
       "</style>\n",
       "<table border=\"1\" class=\"dataframe\">\n",
       "  <thead>\n",
       "    <tr style=\"text-align: right;\">\n",
       "      <th></th>\n",
       "      <th>auctionid</th>\n",
       "      <th>bid</th>\n",
       "      <th>bidtime</th>\n",
       "      <th>bidder</th>\n",
       "      <th>bidderrate</th>\n",
       "      <th>openbid</th>\n",
       "      <th>price</th>\n",
       "    </tr>\n",
       "  </thead>\n",
       "  <tbody>\n",
       "    <tr>\n",
       "      <th>0</th>\n",
       "      <td>1644594033</td>\n",
       "      <td>493.00</td>\n",
       "      <td>6.999456</td>\n",
       "      <td>boraborabora</td>\n",
       "      <td>67.0</td>\n",
       "      <td>9.99</td>\n",
       "      <td>498.00</td>\n",
       "    </tr>\n",
       "    <tr>\n",
       "      <th>1</th>\n",
       "      <td>1639309309</td>\n",
       "      <td>30.00</td>\n",
       "      <td>1.669618</td>\n",
       "      <td>aclbjc</td>\n",
       "      <td>0.0</td>\n",
       "      <td>1.00</td>\n",
       "      <td>374.99</td>\n",
       "    </tr>\n",
       "    <tr>\n",
       "      <th>2</th>\n",
       "      <td>1644109746</td>\n",
       "      <td>1996.00</td>\n",
       "      <td>6.917986</td>\n",
       "      <td>nelsoncpm</td>\n",
       "      <td>7.0</td>\n",
       "      <td>1.00</td>\n",
       "      <td>3103.00</td>\n",
       "    </tr>\n",
       "    <tr>\n",
       "      <th>3</th>\n",
       "      <td>1649858595</td>\n",
       "      <td>175.00</td>\n",
       "      <td>3.107014</td>\n",
       "      <td>pialu9</td>\n",
       "      <td>4.0</td>\n",
       "      <td>7.99</td>\n",
       "      <td>202.50</td>\n",
       "    </tr>\n",
       "    <tr>\n",
       "      <th>4</th>\n",
       "      <td>1647846714</td>\n",
       "      <td>226.00</td>\n",
       "      <td>2.721319</td>\n",
       "      <td>geemeetee@aol.com</td>\n",
       "      <td>17.0</td>\n",
       "      <td>1.00</td>\n",
       "      <td>905.45</td>\n",
       "    </tr>\n",
       "    <tr>\n",
       "      <th>...</th>\n",
       "      <td>...</td>\n",
       "      <td>...</td>\n",
       "      <td>...</td>\n",
       "      <td>...</td>\n",
       "      <td>...</td>\n",
       "      <td>...</td>\n",
       "      <td>...</td>\n",
       "    </tr>\n",
       "    <tr>\n",
       "      <th>1208</th>\n",
       "      <td>1643244227</td>\n",
       "      <td>750.00</td>\n",
       "      <td>3.544514</td>\n",
       "      <td>adammurry</td>\n",
       "      <td>5.0</td>\n",
       "      <td>499.00</td>\n",
       "      <td>1025.00</td>\n",
       "    </tr>\n",
       "    <tr>\n",
       "      <th>1209</th>\n",
       "      <td>1649639405</td>\n",
       "      <td>1505.00</td>\n",
       "      <td>1.583704</td>\n",
       "      <td>anasandak</td>\n",
       "      <td>1.0</td>\n",
       "      <td>1.00</td>\n",
       "      <td>1880.00</td>\n",
       "    </tr>\n",
       "    <tr>\n",
       "      <th>1210</th>\n",
       "      <td>1640179146</td>\n",
       "      <td>320.99</td>\n",
       "      <td>2.608287</td>\n",
       "      <td>bdsr1</td>\n",
       "      <td>0.0</td>\n",
       "      <td>1.00</td>\n",
       "      <td>455.00</td>\n",
       "    </tr>\n",
       "    <tr>\n",
       "      <th>1211</th>\n",
       "      <td>1644049270</td>\n",
       "      <td>1250.00</td>\n",
       "      <td>6.857986</td>\n",
       "      <td>hugo44</td>\n",
       "      <td>6.0</td>\n",
       "      <td>0.01</td>\n",
       "      <td>1600.00</td>\n",
       "    </tr>\n",
       "    <tr>\n",
       "      <th>1212</th>\n",
       "      <td>1639333116</td>\n",
       "      <td>161.00</td>\n",
       "      <td>0.226065</td>\n",
       "      <td>aegean-2001</td>\n",
       "      <td>65.0</td>\n",
       "      <td>155.00</td>\n",
       "      <td>501.62</td>\n",
       "    </tr>\n",
       "  </tbody>\n",
       "</table>\n",
       "<p>1213 rows × 7 columns</p>\n",
       "</div>"
      ],
      "text/plain": [
       "       auctionid      bid   bidtime             bidder  bidderrate  openbid  \\\n",
       "0     1644594033   493.00  6.999456       boraborabora        67.0     9.99   \n",
       "1     1639309309    30.00  1.669618             aclbjc         0.0     1.00   \n",
       "2     1644109746  1996.00  6.917986          nelsoncpm         7.0     1.00   \n",
       "3     1649858595   175.00  3.107014             pialu9         4.0     7.99   \n",
       "4     1647846714   226.00  2.721319  geemeetee@aol.com        17.0     1.00   \n",
       "...          ...      ...       ...                ...         ...      ...   \n",
       "1208  1643244227   750.00  3.544514          adammurry         5.0   499.00   \n",
       "1209  1649639405  1505.00  1.583704          anasandak         1.0     1.00   \n",
       "1210  1640179146   320.99  2.608287              bdsr1         0.0     1.00   \n",
       "1211  1644049270  1250.00  6.857986             hugo44         6.0     0.01   \n",
       "1212  1639333116   161.00  0.226065        aegean-2001        65.0   155.00   \n",
       "\n",
       "        price  \n",
       "0      498.00  \n",
       "1      374.99  \n",
       "2     3103.00  \n",
       "3      202.50  \n",
       "4      905.45  \n",
       "...       ...  \n",
       "1208  1025.00  \n",
       "1209  1880.00  \n",
       "1210   455.00  \n",
       "1211  1600.00  \n",
       "1212   501.62  \n",
       "\n",
       "[1213 rows x 7 columns]"
      ]
     },
     "execution_count": 28,
     "metadata": {},
     "output_type": "execute_result"
    }
   ],
   "source": [
    "data"
   ]
  },
  {
   "cell_type": "markdown",
   "metadata": {},
   "source": [
    "    Looks like we have trated all outlier points by using IQR.\n",
    "    \n",
    "    Lets check our model performance with outlier treatement  and without treatement\n",
    "        \n",
    "   + df = our original data, which is WITHOUT Outlier Treatement.\n",
    "   + data = our copy data, which is WITH Outlier Treatement."
   ]
  },
  {
   "cell_type": "code",
   "execution_count": 29,
   "metadata": {},
   "outputs": [
    {
     "data": {
      "text/plain": [
       "<matplotlib.axes._subplots.AxesSubplot at 0x9a539f1df0>"
      ]
     },
     "execution_count": 29,
     "metadata": {},
     "output_type": "execute_result"
    },
    {
     "data": {
      "image/png": "[encoded data removed]",
      "text/plain": [
       "<Figure size 432x288 with 1 Axes>"
      ]
     },
     "metadata": {
      "needs_background": "light"
     },
     "output_type": "display_data"
    }
   ],
   "source": [
    "# before outlier treatement\n",
    "df.price.plot.box()"
   ]
  },
  {
   "cell_type": "code",
   "execution_count": 31,
   "metadata": {},
   "outputs": [],
   "source": [
    "df_1 = data.copy()"
   ]
  },
  {
   "cell_type": "code",
   "execution_count": 32,
   "metadata": {},
   "outputs": [
    {
     "name": "stdout",
     "output_type": "stream",
     "text": [
      "Inter-quantile Range :  174.0\n",
      "-726.01 , 2701.0\n",
      "AxesSubplot(0.125,0.125;0.775x0.755)\n"
     ]
    },
    {
     "data": {
      "image/png": "[encoded data removed]",
      "text/plain": [
       "<Figure size 432x288 with 1 Axes>"
      ]
     },
     "metadata": {
      "needs_background": "light"
     },
     "output_type": "display_data"
    }
   ],
   "source": [
    "# Calculation IQR for openbid\n",
    "IQR_price = df.price.quantile(0.75) - df.price.quantile(0.25)\n",
    "print(\"Inter-quantile Range : \", IQR_openbid)\n",
    "\n",
    "# Checking Extreme Outliers\n",
    "lower_quantile =  df[\"price\"].quantile(0.25) - (IQR * 1.5)\n",
    "upper_quantile = df[\"price\"].quantile(0.75) + (IQR * 1.5)\n",
    "print(lower_quantile,\",\", upper_quantile)\n",
    "\n",
    "df_1.loc[df_1[\"price\"] >= 2701, \"price\"] = 2701\n",
    "print(data.openbid.plot.box())"
   ]
  },
  {
   "cell_type": "markdown",
   "metadata": {},
   "source": [
    "### Correlation"
   ]
  },
  {
   "cell_type": "code",
   "execution_count": 33,
   "metadata": {},
   "outputs": [
    {
     "data": {
      "text/plain": [
       "<matplotlib.axes._subplots.AxesSubplot at 0x9a59e64490>"
      ]
     },
     "execution_count": 33,
     "metadata": {},
     "output_type": "execute_result"
    },
    {
     "data": {
      "image/png": "[encoded data removed]",
      "text/plain": [
       "<Figure size 432x288 with 2 Axes>"
      ]
     },
     "metadata": {
      "needs_background": "light"
     },
     "output_type": "display_data"
    }
   ],
   "source": [
    "sns.heatmap(data.corr(), annot = True, vmin=0, vmax=1, center= 0, cmap= 'coolwarm')"
   ]
  },
  {
   "cell_type": "code",
   "execution_count": 34,
   "metadata": {},
   "outputs": [
    {
     "data": {
      "text/plain": [
       "<matplotlib.axes._subplots.AxesSubplot at 0x9a5a147760>"
      ]
     },
     "execution_count": 34,
     "metadata": {},
     "output_type": "execute_result"
    },
    {
     "data": {
      "image/png": "[encoded data removed]",
      "text/plain": [
       "<Figure size 576x576 with 2 Axes>"
      ]
     },
     "metadata": {
      "needs_background": "light"
     },
     "output_type": "display_data"
    }
   ],
   "source": [
    "#Plotting a diagonal correlation matrix\n",
    "\n",
    "# Compute the correlation matrix\n",
    "corr = df.corr()\n",
    "\n",
    "# Generate a mask for the upper triangle\n",
    "mask = np.triu(np.ones_like(corr, dtype=bool))\n",
    "\n",
    "# Set up the matplotlib figure\n",
    "f, ax = plt.subplots(figsize=(8, 8))\n",
    "\n",
    "# Generate a custom diverging colormap\n",
    "cmap = sns.diverging_palette(230, 20, as_cmap=True)\n",
    "\n",
    "# Draw the heatmap with the mask and correct aspect ratio\n",
    "sns.heatmap(corr, mask=mask, cmap=cmap, vmax=.3, center=0,annot = True,\n",
    "            square=True, linewidths=.5, cbar_kws={\"shrink\": .5})"
   ]
  },
  {
   "cell_type": "code",
   "execution_count": 35,
   "metadata": {},
   "outputs": [
    {
     "data": {
      "text/plain": [
       "<matplotlib.axes._subplots.AxesSubplot at 0x9a5f93ebe0>"
      ]
     },
     "execution_count": 35,
     "metadata": {},
     "output_type": "execute_result"
    },
    {
     "data": {
      "image/png": "[encoded data removed]",
      "text/plain": [
       "<Figure size 432x288 with 2 Axes>"
      ]
     },
     "metadata": {
      "needs_background": "light"
     },
     "output_type": "display_data"
    }
   ],
   "source": [
    "sns.heatmap(df.corr(), annot = True, vmin=0, vmax=1, center= 0, cmap= 'coolwarm')"
   ]
  },
  {
   "cell_type": "code",
   "execution_count": 36,
   "metadata": {},
   "outputs": [
    {
     "data": {
      "text/html": [
       "<div>\n",
       "<style scoped>\n",
       "    .dataframe tbody tr th:only-of-type {\n",
       "        vertical-align: middle;\n",
       "    }\n",
       "\n",
       "    .dataframe tbody tr th {\n",
       "        vertical-align: top;\n",
       "    }\n",
       "\n",
       "    .dataframe thead th {\n",
       "        text-align: right;\n",
       "    }\n",
       "</style>\n",
       "<table border=\"1\" class=\"dataframe\">\n",
       "  <thead>\n",
       "    <tr style=\"text-align: right;\">\n",
       "      <th></th>\n",
       "      <th>auctionid</th>\n",
       "      <th>bid</th>\n",
       "      <th>bidtime</th>\n",
       "      <th>bidderrate</th>\n",
       "      <th>openbid</th>\n",
       "      <th>price</th>\n",
       "    </tr>\n",
       "  </thead>\n",
       "  <tbody>\n",
       "    <tr>\n",
       "      <th>auctionid</th>\n",
       "      <td>1.000</td>\n",
       "      <td>0.040</td>\n",
       "      <td>-0.019</td>\n",
       "      <td>0.032</td>\n",
       "      <td>-0.051</td>\n",
       "      <td>0.048</td>\n",
       "    </tr>\n",
       "    <tr>\n",
       "      <th>bid</th>\n",
       "      <td>0.040</td>\n",
       "      <td>1.000</td>\n",
       "      <td>0.226</td>\n",
       "      <td>-0.014</td>\n",
       "      <td>0.545</td>\n",
       "      <td>0.837</td>\n",
       "    </tr>\n",
       "    <tr>\n",
       "      <th>bidtime</th>\n",
       "      <td>-0.019</td>\n",
       "      <td>0.226</td>\n",
       "      <td>1.000</td>\n",
       "      <td>0.018</td>\n",
       "      <td>0.165</td>\n",
       "      <td>-0.103</td>\n",
       "    </tr>\n",
       "    <tr>\n",
       "      <th>bidderrate</th>\n",
       "      <td>0.032</td>\n",
       "      <td>-0.014</td>\n",
       "      <td>0.018</td>\n",
       "      <td>1.000</td>\n",
       "      <td>0.059</td>\n",
       "      <td>-0.048</td>\n",
       "    </tr>\n",
       "    <tr>\n",
       "      <th>openbid</th>\n",
       "      <td>-0.051</td>\n",
       "      <td>0.545</td>\n",
       "      <td>0.165</td>\n",
       "      <td>0.059</td>\n",
       "      <td>1.000</td>\n",
       "      <td>0.437</td>\n",
       "    </tr>\n",
       "    <tr>\n",
       "      <th>price</th>\n",
       "      <td>0.048</td>\n",
       "      <td>0.837</td>\n",
       "      <td>-0.103</td>\n",
       "      <td>-0.048</td>\n",
       "      <td>0.437</td>\n",
       "      <td>1.000</td>\n",
       "    </tr>\n",
       "  </tbody>\n",
       "</table>\n",
       "</div>"
      ],
      "text/plain": [
       "            auctionid    bid  bidtime  bidderrate  openbid  price\n",
       "auctionid       1.000  0.040   -0.019       0.032   -0.051  0.048\n",
       "bid             0.040  1.000    0.226      -0.014    0.545  0.837\n",
       "bidtime        -0.019  0.226    1.000       0.018    0.165 -0.103\n",
       "bidderrate      0.032 -0.014    0.018       1.000    0.059 -0.048\n",
       "openbid        -0.051  0.545    0.165       0.059    1.000  0.437\n",
       "price           0.048  0.837   -0.103      -0.048    0.437  1.000"
      ]
     },
     "execution_count": 36,
     "metadata": {},
     "output_type": "execute_result"
    }
   ],
   "source": [
    "# Correlation Matrx\n",
    "\n",
    "round(df.corr(),3)"
   ]
  },
  {
   "cell_type": "markdown",
   "metadata": {},
   "source": [
    " > from above Correlation Matric & Heatmap we can conclude it that,\n",
    "\n",
    "   - actionid is not correlated with any feature.\n",
    "   - bid correlated with price at 0.84. we can say price is highly correlate with bid feature\n",
    "   - bid & openbid are correlated with each other at 0.55\n",
    "   - openbid & price are also correlate with each other at 0.44\n",
    "   \n",
    "  > We could conclude that bid & openbid are only correlated with price \n",
    "  > while bidtime & bidderrate are negatively correlated with target variable.\n",
    "  \n",
    "  > for further prediction we can use these to features rather using all"
   ]
  },
  {
   "cell_type": "code",
   "execution_count": 37,
   "metadata": {},
   "outputs": [
    {
     "data": {
      "text/html": [
       "<div>\n",
       "<style scoped>\n",
       "    .dataframe tbody tr th:only-of-type {\n",
       "        vertical-align: middle;\n",
       "    }\n",
       "\n",
       "    .dataframe tbody tr th {\n",
       "        vertical-align: top;\n",
       "    }\n",
       "\n",
       "    .dataframe thead th {\n",
       "        text-align: right;\n",
       "    }\n",
       "</style>\n",
       "<table border=\"1\" class=\"dataframe\">\n",
       "  <thead>\n",
       "    <tr style=\"text-align: right;\">\n",
       "      <th></th>\n",
       "      <th>auctionid</th>\n",
       "      <th>bid</th>\n",
       "      <th>bidtime</th>\n",
       "      <th>bidderrate</th>\n",
       "      <th>openbid</th>\n",
       "      <th>price</th>\n",
       "    </tr>\n",
       "  </thead>\n",
       "  <tbody>\n",
       "    <tr>\n",
       "      <th>0</th>\n",
       "      <td>1644594033</td>\n",
       "      <td>493.00</td>\n",
       "      <td>6.999456</td>\n",
       "      <td>67.0</td>\n",
       "      <td>9.99</td>\n",
       "      <td>498.00</td>\n",
       "    </tr>\n",
       "    <tr>\n",
       "      <th>1</th>\n",
       "      <td>1639309309</td>\n",
       "      <td>30.00</td>\n",
       "      <td>1.669618</td>\n",
       "      <td>0.0</td>\n",
       "      <td>1.00</td>\n",
       "      <td>374.99</td>\n",
       "    </tr>\n",
       "    <tr>\n",
       "      <th>2</th>\n",
       "      <td>1644109746</td>\n",
       "      <td>1996.00</td>\n",
       "      <td>6.917986</td>\n",
       "      <td>7.0</td>\n",
       "      <td>1.00</td>\n",
       "      <td>3103.00</td>\n",
       "    </tr>\n",
       "    <tr>\n",
       "      <th>3</th>\n",
       "      <td>1649858595</td>\n",
       "      <td>175.00</td>\n",
       "      <td>3.107014</td>\n",
       "      <td>4.0</td>\n",
       "      <td>7.99</td>\n",
       "      <td>202.50</td>\n",
       "    </tr>\n",
       "    <tr>\n",
       "      <th>4</th>\n",
       "      <td>1647846714</td>\n",
       "      <td>226.00</td>\n",
       "      <td>2.721319</td>\n",
       "      <td>17.0</td>\n",
       "      <td>1.00</td>\n",
       "      <td>905.45</td>\n",
       "    </tr>\n",
       "    <tr>\n",
       "      <th>...</th>\n",
       "      <td>...</td>\n",
       "      <td>...</td>\n",
       "      <td>...</td>\n",
       "      <td>...</td>\n",
       "      <td>...</td>\n",
       "      <td>...</td>\n",
       "    </tr>\n",
       "    <tr>\n",
       "      <th>1208</th>\n",
       "      <td>1643244227</td>\n",
       "      <td>750.00</td>\n",
       "      <td>3.544514</td>\n",
       "      <td>5.0</td>\n",
       "      <td>499.00</td>\n",
       "      <td>1025.00</td>\n",
       "    </tr>\n",
       "    <tr>\n",
       "      <th>1209</th>\n",
       "      <td>1649639405</td>\n",
       "      <td>1505.00</td>\n",
       "      <td>1.583704</td>\n",
       "      <td>1.0</td>\n",
       "      <td>1.00</td>\n",
       "      <td>1880.00</td>\n",
       "    </tr>\n",
       "    <tr>\n",
       "      <th>1210</th>\n",
       "      <td>1640179146</td>\n",
       "      <td>320.99</td>\n",
       "      <td>2.608287</td>\n",
       "      <td>0.0</td>\n",
       "      <td>1.00</td>\n",
       "      <td>455.00</td>\n",
       "    </tr>\n",
       "    <tr>\n",
       "      <th>1211</th>\n",
       "      <td>1644049270</td>\n",
       "      <td>1250.00</td>\n",
       "      <td>6.857986</td>\n",
       "      <td>6.0</td>\n",
       "      <td>0.01</td>\n",
       "      <td>1600.00</td>\n",
       "    </tr>\n",
       "    <tr>\n",
       "      <th>1212</th>\n",
       "      <td>1639333116</td>\n",
       "      <td>161.00</td>\n",
       "      <td>0.226065</td>\n",
       "      <td>65.0</td>\n",
       "      <td>155.00</td>\n",
       "      <td>501.62</td>\n",
       "    </tr>\n",
       "  </tbody>\n",
       "</table>\n",
       "<p>1213 rows × 6 columns</p>\n",
       "</div>"
      ],
      "text/plain": [
       "       auctionid      bid   bidtime  bidderrate  openbid    price\n",
       "0     1644594033   493.00  6.999456        67.0     9.99   498.00\n",
       "1     1639309309    30.00  1.669618         0.0     1.00   374.99\n",
       "2     1644109746  1996.00  6.917986         7.0     1.00  3103.00\n",
       "3     1649858595   175.00  3.107014         4.0     7.99   202.50\n",
       "4     1647846714   226.00  2.721319        17.0     1.00   905.45\n",
       "...          ...      ...       ...         ...      ...      ...\n",
       "1208  1643244227   750.00  3.544514         5.0   499.00  1025.00\n",
       "1209  1649639405  1505.00  1.583704         1.0     1.00  1880.00\n",
       "1210  1640179146   320.99  2.608287         0.0     1.00   455.00\n",
       "1211  1644049270  1250.00  6.857986         6.0     0.01  1600.00\n",
       "1212  1639333116   161.00  0.226065        65.0   155.00   501.62\n",
       "\n",
       "[1213 rows x 6 columns]"
      ]
     },
     "execution_count": 37,
     "metadata": {},
     "output_type": "execute_result"
    }
   ],
   "source": [
    "# Dropping 'bidder' column\n",
    "\n",
    "data.drop(\"bidder\", axis = 1,inplace = True)\n",
    "data"
   ]
  },
  {
   "cell_type": "code",
   "execution_count": 38,
   "metadata": {},
   "outputs": [
    {
     "data": {
      "text/plain": [
       "SpearmanrResult(correlation=array([[1.        , 0.77142857, 0.94285714, ..., 0.77142857, 0.82857143,\n",
       "        0.94285714],\n",
       "       [0.77142857, 1.        , 0.82857143, ..., 1.        , 0.94285714,\n",
       "        0.82857143],\n",
       "       [0.94285714, 0.82857143, 1.        , ..., 0.82857143, 0.94285714,\n",
       "        0.82857143],\n",
       "       ...,\n",
       "       [0.77142857, 1.        , 0.82857143, ..., 1.        , 0.94285714,\n",
       "        0.82857143],\n",
       "       [0.82857143, 0.94285714, 0.94285714, ..., 0.94285714, 1.        ,\n",
       "        0.77142857],\n",
       "       [0.94285714, 0.82857143, 0.82857143, ..., 0.82857143, 0.77142857,\n",
       "        1.        ]]), pvalue=array([[0.        , 0.0723965 , 0.00480466, ..., 0.0723965 , 0.04156268,\n",
       "        0.00480466],\n",
       "       [0.0723965 , 0.        , 0.04156268, ..., 0.        , 0.00480466,\n",
       "        0.04156268],\n",
       "       [0.00480466, 0.04156268, 0.        , ..., 0.04156268, 0.00480466,\n",
       "        0.04156268],\n",
       "       ...,\n",
       "       [0.0723965 , 0.        , 0.04156268, ..., 0.        , 0.00480466,\n",
       "        0.04156268],\n",
       "       [0.04156268, 0.00480466, 0.00480466, ..., 0.00480466, 0.        ,\n",
       "        0.0723965 ],\n",
       "       [0.00480466, 0.04156268, 0.04156268, ..., 0.04156268, 0.0723965 ,\n",
       "        0.        ]]))"
      ]
     },
     "execution_count": 38,
     "metadata": {},
     "output_type": "execute_result"
    }
   ],
   "source": [
    "# Checking Spearman's Rank Correlation\n",
    "\n",
    "from scipy.stats import spearmanr\n",
    "\n",
    "# Checking correlation\n",
    "spearman = (spearmanr(data, axis=1))\n",
    "spearman"
   ]
  },
  {
   "cell_type": "code",
   "execution_count": null,
   "metadata": {},
   "outputs": [],
   "source": [
    "# dropping bidder column\n",
    "# df.drop(\"bidder\", axis = 1,inplace = True)\n",
    "\n",
    "data.drop(\"bidder\", axis = 1, inplace = True)\n",
    "data"
   ]
  },
  {
   "cell_type": "markdown",
   "metadata": {},
   "source": [
    "## Evaluate & Model : Baseline"
   ]
  },
  {
   "cell_type": "code",
   "execution_count": null,
   "metadata": {},
   "outputs": [],
   "source": [
    "# Seprating Target Variable from other features\n",
    "X_c = data.drop(\"price\", axis = 1)\n",
    "y_c = data['price']"
   ]
  },
  {
   "cell_type": "code",
   "execution_count": null,
   "metadata": {},
   "outputs": [],
   "source": [
    "# Splitting data into train & test  (with outhlier treatment)\n",
    "X_train_c, X_test_c, y_train_c, y_test_c = train_test_split(X_c, y_c, test_size = 0.2, random_state = 2)\n",
    "\n",
    "# stratify=data['price'] this function used only for classification based problem\n",
    "\n",
    "X_train_c.shape, X_test_c.shape"
   ]
  },
  {
   "cell_type": "code",
   "execution_count": 39,
   "metadata": {},
   "outputs": [],
   "source": [
    "# Sperating target feature from other features\n",
    "X = data.drop(\"price\", axis = 1)\n",
    "y = data[\"price\"]\n",
    "\n",
    "# Splitting main data\n",
    "X_train, X_test, y_train, y_test = train_test_split(X, y, test_size = .2, random_state = 2)"
   ]
  },
  {
   "cell_type": "markdown",
   "metadata": {},
   "source": [
    "#### 1. Linear Regression"
   ]
  },
  {
   "cell_type": "code",
   "execution_count": 40,
   "metadata": {},
   "outputs": [],
   "source": [
    "# Using our main dataset\n",
    "lr = LinearRegression()\n",
    "lr.fit(X_train, y_train)\n",
    "\n",
    "# Prediction on test set\n",
    "lin_pred = lr.predict(X_test)"
   ]
  },
  {
   "cell_type": "markdown",
   "metadata": {},
   "source": [
    "#### 2. Random Forest Regression"
   ]
  },
  {
   "cell_type": "code",
   "execution_count": 41,
   "metadata": {},
   "outputs": [],
   "source": [
    "rf = RandomForestRegressor()\n",
    "rf.fit(X_train, y_train)\n",
    "\n",
    "# Predicting RF\n",
    "rf_pred = rf.predict(X_test)"
   ]
  },
  {
   "cell_type": "markdown",
   "metadata": {},
   "source": [
    "#### 3. Extra Trees Regression"
   ]
  },
  {
   "cell_type": "code",
   "execution_count": 42,
   "metadata": {},
   "outputs": [],
   "source": [
    "xt = ExtraTreesRegressor()\n",
    "xt.fit(X_train, y_train)\n",
    "\n",
    "# Prediction\n",
    "xt_pred = xt.predict(X_test)"
   ]
  },
  {
   "cell_type": "markdown",
   "metadata": {},
   "source": [
    "#### 4. AdaBoost Regression"
   ]
  },
  {
   "cell_type": "code",
   "execution_count": 43,
   "metadata": {},
   "outputs": [],
   "source": [
    "ab = AdaBoostRegressor()\n",
    "ab.fit(X_train, y_train)\n",
    "\n",
    "# Prediction\n",
    "ab_pred = ab.predict(X_test)"
   ]
  },
  {
   "cell_type": "markdown",
   "metadata": {},
   "source": [
    "#### 5. Gadient Boosting Regressor"
   ]
  },
  {
   "cell_type": "code",
   "execution_count": 44,
   "metadata": {},
   "outputs": [],
   "source": [
    "gb = GradientBoostingRegressor()\n",
    "gb.fit(X_train, y_train)\n",
    "\n",
    "# Prediction\n",
    "gb_pred = gb.predict(X_test)"
   ]
  },
  {
   "cell_type": "markdown",
   "metadata": {},
   "source": [
    "    from above table we can see-\n",
    "        \n",
    "   >  1. Extra Trees Regression > RMSE is 208\n",
    "   >  2. Random Forest Regression > RMSE is 218\n",
    "   >  3. Gradient Boosting Regression > RMSE is 266"
   ]
  },
  {
   "cell_type": "markdown",
   "metadata": {},
   "source": [
    "### Hyper-Parameter Tuning"
   ]
  },
  {
   "cell_type": "markdown",
   "metadata": {},
   "source": [
    "#### GridSearchCV\n",
    " \n",
    "   - for Random Forest Regression\n",
    "   - for Extra Trees Regression\n",
    "   - for Gadient Boosting Regression\n",
    "   - for AdaBoost Regression"
   ]
  },
  {
   "cell_type": "code",
   "execution_count": null,
   "metadata": {},
   "outputs": [],
   "source": [
    "help(GridSearchCV)"
   ]
  },
  {
   "cell_type": "markdown",
   "metadata": {},
   "source": [
    "###### 1.  GridSearchCV for Extra Trees Regression"
   ]
  },
  {
   "cell_type": "code",
   "execution_count": 45,
   "metadata": {},
   "outputs": [],
   "source": [
    "param = {\n",
    "    'n_estimators' : [50,100, 150,195],\n",
    "    'criterion' : ['mse', 'mae'],\n",
    "    'max_depth' : [15,25],\n",
    "    'min_samples_split' : [2],\n",
    "    'min_samples_leaf' : [1],\n",
    "    'max_features': ['auto','sqrt', 'log2'],\n",
    "    'bootstrap' : [False],}"
   ]
  },
  {
   "cell_type": "code",
   "execution_count": 46,
   "metadata": {},
   "outputs": [
    {
     "name": "stdout",
     "output_type": "stream",
     "text": [
      "Fitting 5 folds for each of 48 candidates, totalling 240 fits\n"
     ]
    },
    {
     "name": "stderr",
     "output_type": "stream",
     "text": [
      "[Parallel(n_jobs=4)]: Using backend LokyBackend with 4 concurrent workers.\n",
      "[Parallel(n_jobs=4)]: Done  33 tasks      | elapsed:  1.6min\n",
      "[Parallel(n_jobs=4)]: Done 154 tasks      | elapsed:  2.4min\n",
      "[Parallel(n_jobs=4)]: Done 240 out of 240 | elapsed:  3.7min finished\n"
     ]
    },
    {
     "data": {
      "text/plain": [
       "GridSearchCV(estimator=ExtraTreesRegressor(random_state=2), n_jobs=4,\n",
       "             param_grid={'bootstrap': [False], 'criterion': ['mse', 'mae'],\n",
       "                         'max_depth': [15, 25],\n",
       "                         'max_features': ['auto', 'sqrt', 'log2'],\n",
       "                         'min_samples_leaf': [1], 'min_samples_split': [2],\n",
       "                         'n_estimators': [50, 100, 150, 195]},\n",
       "             scoring='neg_root_mean_squared_error', verbose=2)"
      ]
     },
     "execution_count": 46,
     "metadata": {},
     "output_type": "execute_result"
    }
   ],
   "source": [
    "from sklearn.model_selection import GridSearchCV\n",
    "xt_grid = ExtraTreesRegressor(random_state = 2)\n",
    "\n",
    "# Running GridSearchCV\n",
    "grid_xt = GridSearchCV(xt_grid, param_grid = param, scoring = 'neg_root_mean_squared_error',\n",
    "                       n_jobs = 4, verbose = 2)\n",
    "\n",
    "# fit the gridsearchcv model\n",
    "grid_xt.fit(X_train, y_train)"
   ]
  },
  {
   "cell_type": "code",
   "execution_count": 47,
   "metadata": {},
   "outputs": [
    {
     "name": "stdout",
     "output_type": "stream",
     "text": [
      "Best Parameters -  {'bootstrap': False, 'criterion': 'mae', 'max_depth': 25, 'max_features': 'sqrt', 'min_samples_leaf': 1, 'min_samples_split': 2, 'n_estimators': 195} \n",
      "\n",
      "Best Estimator -  ExtraTreesRegressor(criterion='mae', max_depth=25, max_features='sqrt',\n",
      "                    n_estimators=195, random_state=2) \n",
      "\n",
      "RMSE -  180.4724907321337\n"
     ]
    }
   ],
   "source": [
    "print(\"Best Parameters - \", grid_xt.best_params_, \"\\n\")\n",
    "print(\"Best Estimator - \", grid_xt.best_estimator_, \"\\n\")\n",
    "\n",
    "# running Prediction & RMSE\n",
    "xt_grid_pred = grid_xt.predict(X_test)\n",
    "print(\"RMSE - \", mean_squared_error(y_test, xt_grid_pred, squared = False))"
   ]
  },
  {
   "cell_type": "markdown",
   "metadata": {},
   "source": [
    "   > at ExtraTreesRegressor(criterion='mae', max_depth=25, max_features='sqrt', n_estimators=195, random_state=2) - the RMSE is 180.47.\n",
    "     "
   ]
  },
  {
   "cell_type": "markdown",
   "metadata": {},
   "source": [
    "##### 2. GridSearchCV with Random Forest"
   ]
  },
  {
   "cell_type": "code",
   "execution_count": 48,
   "metadata": {},
   "outputs": [],
   "source": [
    "# parameters for Random Forest & Extra Trees\n",
    "\n",
    "# Number of trees\n",
    "estimators = [35, 70, 105, 135]\n",
    "# Measure the quality of split\n",
    "criteria = ['mse', 'mae']\n",
    "# Maximum Depth of tree\n",
    "depth = [5, 10] \n",
    "#depth = [int(x) for x in np.linspace(start = 5, stop = 30, num = 6)]\n",
    "# Minimum sample split required\n",
    "#min_split = [int(x) for x in np.lipspace(5, 75, num = 15)]\n",
    "min_split = [2]\n",
    "# Minimum Leaf numbers\n",
    "min_leaf = [1]\n",
    "# Maximum Features\n",
    "feature = ['sqrt', 'log2']\n",
    "\n",
    "param_grid = { \n",
    "    'n_estimators': estimators,\n",
    "    'max_depth' : depth,\n",
    "    'criterion' :criteria,\n",
    "    'min_samples_split' : min_split,\n",
    "    'min_samples_leaf' : min_leaf,\n",
    "    'max_features': feature,}"
   ]
  },
  {
   "cell_type": "code",
   "execution_count": null,
   "metadata": {},
   "outputs": [],
   "source": [
    "help(rf)"
   ]
  },
  {
   "cell_type": "code",
   "execution_count": 49,
   "metadata": {},
   "outputs": [
    {
     "name": "stdout",
     "output_type": "stream",
     "text": [
      "Fitting 5 folds for each of 32 candidates, totalling 160 fits\n"
     ]
    },
    {
     "name": "stderr",
     "output_type": "stream",
     "text": [
      "[Parallel(n_jobs=-1)]: Using backend LokyBackend with 4 concurrent workers.\n",
      "[Parallel(n_jobs=-1)]: Done  33 tasks      | elapsed:    5.9s\n",
      "[Parallel(n_jobs=-1)]: Done 160 out of 160 | elapsed:   37.1s finished\n"
     ]
    },
    {
     "data": {
      "text/plain": [
       "GridSearchCV(estimator=RandomForestRegressor(random_state=2), n_jobs=-1,\n",
       "             param_grid={'criterion': ['mse', 'mae'], 'max_depth': [5, 10],\n",
       "                         'max_features': ['sqrt', 'log2'],\n",
       "                         'min_samples_leaf': [1], 'min_samples_split': [2],\n",
       "                         'n_estimators': [35, 70, 105, 135]},\n",
       "             verbose=2)"
      ]
     },
     "execution_count": 49,
     "metadata": {},
     "output_type": "execute_result"
    }
   ],
   "source": [
    "rf_grid = RandomForestRegressor(random_state = 2)\n",
    "\n",
    "# Running GridSearchCV \n",
    "grid_rf = GridSearchCV(estimator = rf_grid, param_grid = param_grid, n_jobs = -1, verbose = 2)\n",
    "\n",
    "# Fitting grid_rf\n",
    "grid_rf.fit(X_train, y_train)"
   ]
  },
  {
   "cell_type": "code",
   "execution_count": 50,
   "metadata": {},
   "outputs": [
    {
     "name": "stdout",
     "output_type": "stream",
     "text": [
      "Best Parameters -  {'criterion': 'mse', 'max_depth': 10, 'max_features': 'sqrt', 'min_samples_leaf': 1, 'min_samples_split': 2, 'n_estimators': 135} \n",
      "\n",
      "Best Estimator -  RandomForestRegressor(max_depth=10, max_features='sqrt', n_estimators=135,\n",
      "                      random_state=2) \n",
      "\n",
      "RMSE -  220.03641581822922\n"
     ]
    }
   ],
   "source": [
    "# Checking best estimator & best params\n",
    "print(\"Best Parameters - \", grid_rf.best_params_, \"\\n\")\n",
    "print(\"Best Estimator - \",grid_rf.best_estimator_, \"\\n\")\n",
    "\n",
    "# running prediction\n",
    "rf_grid_pred = grid_rf.predict(X_test)\n",
    "print(\"RMSE - \", mean_squared_error(y_test, rf_grid_pred, squared = False))"
   ]
  },
  {
   "cell_type": "markdown",
   "metadata": {},
   "source": [
    "   > RMSE at RandomForestRegressor(max_depth=10, max_features='sqrt', n_estimators=135,random_state=2) - 220.04"
   ]
  },
  {
   "cell_type": "markdown",
   "metadata": {},
   "source": [
    "##### 3. GridSearchCV for Gadient Boosting Regression"
   ]
  },
  {
   "cell_type": "code",
   "execution_count": null,
   "metadata": {},
   "outputs": [],
   "source": [
    "help(GradientBoostingRegressor)"
   ]
  },
  {
   "cell_type": "code",
   "execution_count": 51,
   "metadata": {},
   "outputs": [],
   "source": [
    "paras = {\n",
    "    \"loss\" : ['ls', 'lad'],\n",
    "    \"learning_rate\" : [0.2],\n",
    "    'n_estimators' : [125, 250, 375,500],\n",
    "    'criterion' : ['friedman_mse', 'mse', 'mae'],\n",
    "    'min_samples_split' : [3],\n",
    "    'min_samples_leaf' : [2],\n",
    "    'max_depth' : [5],}"
   ]
  },
  {
   "cell_type": "code",
   "execution_count": 52,
   "metadata": {},
   "outputs": [
    {
     "name": "stdout",
     "output_type": "stream",
     "text": [
      "Fitting 5 folds for each of 24 candidates, totalling 120 fits\n"
     ]
    },
    {
     "name": "stderr",
     "output_type": "stream",
     "text": [
      "[Parallel(n_jobs=-1)]: Using backend LokyBackend with 4 concurrent workers.\n",
      "[Parallel(n_jobs=-1)]: Done  24 tasks      | elapsed:    5.0s\n",
      "[Parallel(n_jobs=-1)]: Done 120 out of 120 | elapsed:  3.3min finished\n"
     ]
    },
    {
     "data": {
      "text/plain": [
       "GridSearchCV(estimator=GradientBoostingRegressor(random_state=2), n_jobs=-1,\n",
       "             param_grid={'criterion': ['friedman_mse', 'mse', 'mae'],\n",
       "                         'learning_rate': [0.2], 'loss': ['ls', 'lad'],\n",
       "                         'max_depth': [5], 'min_samples_leaf': [2],\n",
       "                         'min_samples_split': [3],\n",
       "                         'n_estimators': [125, 250, 375, 500]},\n",
       "             verbose=3)"
      ]
     },
     "execution_count": 52,
     "metadata": {},
     "output_type": "execute_result"
    }
   ],
   "source": [
    "gb_grid = GradientBoostingRegressor(random_state = 2) \n",
    "\n",
    "# running GridSearchCV\n",
    "grid_gb = GridSearchCV(gb_grid, param_grid = paras, n_jobs = -1, verbose = 3)\n",
    "\n",
    "# Fitting grid_gb to Train & Test Data\n",
    "grid_gb.fit(X_train, y_train)"
   ]
  },
  {
   "cell_type": "code",
   "execution_count": 53,
   "metadata": {},
   "outputs": [
    {
     "name": "stdout",
     "output_type": "stream",
     "text": [
      "Best Parameters -  {'criterion': 'friedman_mse', 'learning_rate': 0.2, 'loss': 'ls', 'max_depth': 5, 'min_samples_leaf': 2, 'min_samples_split': 3, 'n_estimators': 375} \n",
      "\n",
      "Best Estimator -  GradientBoostingRegressor(learning_rate=0.2, max_depth=5, min_samples_leaf=2,\n",
      "                          min_samples_split=3, n_estimators=375,\n",
      "                          random_state=2) \n",
      "\n",
      "RMSE -  162.93187433292672\n"
     ]
    }
   ],
   "source": [
    "# Checking best estimator & and best paramaeter\n",
    "print(\"Best Parameters - \", grid_gb.best_params_, \"\\n\")\n",
    "print(\"Best Estimator - \", grid_gb.best_estimator_, \"\\n\")\n",
    "\n",
    "# Prediction & Checking RMSE\n",
    "grid_gb_pred = grid_gb.predict(X_test)\n",
    "\n",
    "print(\"RMSE - \", mean_squared_error(y_test, grid_gb_pred, squared = False))"
   ]
  },
  {
   "cell_type": "markdown",
   "metadata": {},
   "source": [
    "  >  RMSE at GradientBoostingRegressor(learning_rate=0.2, max_depth=5, min_samples_leaf=2,\n",
    "                                      min_samples_split=3, n_estimators=500,random_state=2) - 162.67"
   ]
  },
  {
   "cell_type": "markdown",
   "metadata": {},
   "source": [
    "##### Models Comparison"
   ]
  },
  {
   "cell_type": "code",
   "execution_count": 54,
   "metadata": {},
   "outputs": [],
   "source": [
    "models = {'Linear Regression': lr, \n",
    "          'Random Forest Regression': rf, \n",
    "          'Extra Trees Regression': xt, \n",
    "          'AdaBoost Regression' : ab, \n",
    "          'Gradient Boosting Regression': gb, \n",
    "          'GridSearchCV_Random Forest': grid_rf,\n",
    "          'GridSearchCV_Extra Trees ': grid_xt, \n",
    "          'GridSearchCV_Gradient Boosting': grid_gb}\n",
    "\n",
    "test_data = [X_test, X_test, X_test, X_test, X_test, X_test, X_test, X_test]\n",
    "model_performance = []\n",
    "exp = 1\n",
    "for key, value in models.items():\n",
    "  model_performance.append([exp, key, round(mean_squared_error(y_test, value.predict(test_data[exp-1]), \n",
    "                                                               squared = False),2)])\n",
    "  exp += 1"
   ]
  },
  {
   "cell_type": "code",
   "execution_count": 55,
   "metadata": {},
   "outputs": [
    {
     "data": {
      "text/html": [
       "<div>\n",
       "<style scoped>\n",
       "    .dataframe tbody tr th:only-of-type {\n",
       "        vertical-align: middle;\n",
       "    }\n",
       "\n",
       "    .dataframe tbody tr th {\n",
       "        vertical-align: top;\n",
       "    }\n",
       "\n",
       "    .dataframe thead th {\n",
       "        text-align: right;\n",
       "    }\n",
       "</style>\n",
       "<table border=\"1\" class=\"dataframe\">\n",
       "  <thead>\n",
       "    <tr style=\"text-align: right;\">\n",
       "      <th></th>\n",
       "      <th>Sr.no</th>\n",
       "      <th>Models</th>\n",
       "      <th>RMSE</th>\n",
       "    </tr>\n",
       "  </thead>\n",
       "  <tbody>\n",
       "    <tr>\n",
       "      <th>0</th>\n",
       "      <td>1</td>\n",
       "      <td>Linear Regression</td>\n",
       "      <td>449.08</td>\n",
       "    </tr>\n",
       "    <tr>\n",
       "      <th>1</th>\n",
       "      <td>2</td>\n",
       "      <td>Random Forest Regression</td>\n",
       "      <td>216.47</td>\n",
       "    </tr>\n",
       "    <tr>\n",
       "      <th>2</th>\n",
       "      <td>3</td>\n",
       "      <td>Extra Trees Regression</td>\n",
       "      <td>200.15</td>\n",
       "    </tr>\n",
       "    <tr>\n",
       "      <th>3</th>\n",
       "      <td>4</td>\n",
       "      <td>AdaBoost Regression</td>\n",
       "      <td>405.95</td>\n",
       "    </tr>\n",
       "    <tr>\n",
       "      <th>4</th>\n",
       "      <td>5</td>\n",
       "      <td>Gradient Boosting Regression</td>\n",
       "      <td>265.93</td>\n",
       "    </tr>\n",
       "    <tr>\n",
       "      <th>5</th>\n",
       "      <td>6</td>\n",
       "      <td>GridSearchCV_Random Forest</td>\n",
       "      <td>220.04</td>\n",
       "    </tr>\n",
       "    <tr>\n",
       "      <th>6</th>\n",
       "      <td>7</td>\n",
       "      <td>GridSearchCV_Extra Trees</td>\n",
       "      <td>180.47</td>\n",
       "    </tr>\n",
       "    <tr>\n",
       "      <th>7</th>\n",
       "      <td>8</td>\n",
       "      <td>GridSearchCV_Gradient Boosting</td>\n",
       "      <td>162.93</td>\n",
       "    </tr>\n",
       "  </tbody>\n",
       "</table>\n",
       "</div>"
      ],
      "text/plain": [
       "   Sr.no                          Models    RMSE\n",
       "0      1               Linear Regression  449.08\n",
       "1      2        Random Forest Regression  216.47\n",
       "2      3          Extra Trees Regression  200.15\n",
       "3      4             AdaBoost Regression  405.95\n",
       "4      5    Gradient Boosting Regression  265.93\n",
       "5      6      GridSearchCV_Random Forest  220.04\n",
       "6      7       GridSearchCV_Extra Trees   180.47\n",
       "7      8  GridSearchCV_Gradient Boosting  162.93"
      ]
     },
     "execution_count": 55,
     "metadata": {},
     "output_type": "execute_result"
    }
   ],
   "source": [
    "models = pd.DataFrame(model_performance, columns=['Sr.no', 'Models', 'RMSE'])\n",
    "models"
   ]
  },
  {
   "cell_type": "markdown",
   "metadata": {},
   "source": [
    " > from above model comparison dataframe, we could conclude that GirdSearchCV_GradientBoosting Regression has lowest Root Mean Squared Error as compared to other models. So this is best fitting model."
   ]
  },
  {
   "cell_type": "markdown",
   "metadata": {},
   "source": [
    "### Running Prediction on Test data using GridSearchCV_GradientBoosting Model"
   ]
  },
  {
   "cell_type": "code",
   "execution_count": 56,
   "metadata": {},
   "outputs": [
    {
     "name": "stdout",
     "output_type": "stream",
     "text": [
      "<class 'pandas.core.frame.DataFrame'>\n",
      "RangeIndex: 337 entries, 0 to 336\n",
      "Data columns (total 6 columns):\n",
      " #   Column      Non-Null Count  Dtype  \n",
      "---  ------      --------------  -----  \n",
      " 0   auctionid   337 non-null    int64  \n",
      " 1   bid         337 non-null    float64\n",
      " 2   bidtime     337 non-null    float64\n",
      " 3   bidder      337 non-null    object \n",
      " 4   bidderrate  337 non-null    int64  \n",
      " 5   openbid     337 non-null    float64\n",
      "dtypes: float64(3), int64(2), object(1)\n",
      "memory usage: 15.9+ KB\n"
     ]
    }
   ],
   "source": [
    "test.info()"
   ]
  },
  {
   "cell_type": "code",
   "execution_count": 58,
   "metadata": {},
   "outputs": [
    {
     "data": {
      "text/html": [
       "<div>\n",
       "<style scoped>\n",
       "    .dataframe tbody tr th:only-of-type {\n",
       "        vertical-align: middle;\n",
       "    }\n",
       "\n",
       "    .dataframe tbody tr th {\n",
       "        vertical-align: top;\n",
       "    }\n",
       "\n",
       "    .dataframe thead th {\n",
       "        text-align: right;\n",
       "    }\n",
       "</style>\n",
       "<table border=\"1\" class=\"dataframe\">\n",
       "  <thead>\n",
       "    <tr style=\"text-align: right;\">\n",
       "      <th></th>\n",
       "      <th>auctionid</th>\n",
       "      <th>bid</th>\n",
       "      <th>bidtime</th>\n",
       "      <th>bidderrate</th>\n",
       "      <th>openbid</th>\n",
       "    </tr>\n",
       "  </thead>\n",
       "  <tbody>\n",
       "    <tr>\n",
       "      <th>0</th>\n",
       "      <td>1640550476</td>\n",
       "      <td>175.00</td>\n",
       "      <td>4.329410</td>\n",
       "      <td>8</td>\n",
       "      <td>1.0</td>\n",
       "    </tr>\n",
       "    <tr>\n",
       "      <th>1</th>\n",
       "      <td>1644343468</td>\n",
       "      <td>111.11</td>\n",
       "      <td>0.587164</td>\n",
       "      <td>84</td>\n",
       "      <td>1.0</td>\n",
       "    </tr>\n",
       "    <tr>\n",
       "      <th>2</th>\n",
       "      <td>1639979107</td>\n",
       "      <td>103.50</td>\n",
       "      <td>6.999572</td>\n",
       "      <td>2</td>\n",
       "      <td>5.0</td>\n",
       "    </tr>\n",
       "    <tr>\n",
       "      <th>3</th>\n",
       "      <td>1649718196</td>\n",
       "      <td>620.00</td>\n",
       "      <td>2.750775</td>\n",
       "      <td>24</td>\n",
       "      <td>1.0</td>\n",
       "    </tr>\n",
       "    <tr>\n",
       "      <th>4</th>\n",
       "      <td>1644077820</td>\n",
       "      <td>60.00</td>\n",
       "      <td>1.393611</td>\n",
       "      <td>-1</td>\n",
       "      <td>1.0</td>\n",
       "    </tr>\n",
       "    <tr>\n",
       "      <th>...</th>\n",
       "      <td>...</td>\n",
       "      <td>...</td>\n",
       "      <td>...</td>\n",
       "      <td>...</td>\n",
       "      <td>...</td>\n",
       "    </tr>\n",
       "    <tr>\n",
       "      <th>332</th>\n",
       "      <td>1639309309</td>\n",
       "      <td>270.00</td>\n",
       "      <td>3.501551</td>\n",
       "      <td>5</td>\n",
       "      <td>1.0</td>\n",
       "    </tr>\n",
       "    <tr>\n",
       "      <th>333</th>\n",
       "      <td>1650699048</td>\n",
       "      <td>107.77</td>\n",
       "      <td>5.521979</td>\n",
       "      <td>260</td>\n",
       "      <td>10.0</td>\n",
       "    </tr>\n",
       "    <tr>\n",
       "      <th>334</th>\n",
       "      <td>1641629836</td>\n",
       "      <td>365.00</td>\n",
       "      <td>5.486759</td>\n",
       "      <td>0</td>\n",
       "      <td>250.0</td>\n",
       "    </tr>\n",
       "    <tr>\n",
       "      <th>335</th>\n",
       "      <td>1642005995</td>\n",
       "      <td>375.00</td>\n",
       "      <td>1.941875</td>\n",
       "      <td>25</td>\n",
       "      <td>99.0</td>\n",
       "    </tr>\n",
       "    <tr>\n",
       "      <th>336</th>\n",
       "      <td>1645594382</td>\n",
       "      <td>120.00</td>\n",
       "      <td>6.930914</td>\n",
       "      <td>38</td>\n",
       "      <td>25.0</td>\n",
       "    </tr>\n",
       "  </tbody>\n",
       "</table>\n",
       "<p>337 rows × 5 columns</p>\n",
       "</div>"
      ],
      "text/plain": [
       "      auctionid     bid   bidtime  bidderrate  openbid\n",
       "0    1640550476  175.00  4.329410           8      1.0\n",
       "1    1644343468  111.11  0.587164          84      1.0\n",
       "2    1639979107  103.50  6.999572           2      5.0\n",
       "3    1649718196  620.00  2.750775          24      1.0\n",
       "4    1644077820   60.00  1.393611          -1      1.0\n",
       "..          ...     ...       ...         ...      ...\n",
       "332  1639309309  270.00  3.501551           5      1.0\n",
       "333  1650699048  107.77  5.521979         260     10.0\n",
       "334  1641629836  365.00  5.486759           0    250.0\n",
       "335  1642005995  375.00  1.941875          25     99.0\n",
       "336  1645594382  120.00  6.930914          38     25.0\n",
       "\n",
       "[337 rows x 5 columns]"
      ]
     },
     "execution_count": 58,
     "metadata": {},
     "output_type": "execute_result"
    }
   ],
   "source": [
    "test.drop(\"bidder\", axis = 1, inplace = True)\n",
    "test"
   ]
  },
  {
   "cell_type": "code",
   "execution_count": 61,
   "metadata": {},
   "outputs": [],
   "source": [
    "# Outlier Treatement\n",
    "test.loc[test['bid']>=1996,'bid']=1996\n",
    "test.loc[test['bidderrate'] >= 73.5, \"bidderrate\"] = 73.5\n",
    "test.loc[test[\"openbid\"] >= 1276, \"openbid\"] = 1276"
   ]
  },
  {
   "cell_type": "code",
   "execution_count": 62,
   "metadata": {},
   "outputs": [
    {
     "data": {
      "text/html": [
       "<div>\n",
       "<style scoped>\n",
       "    .dataframe tbody tr th:only-of-type {\n",
       "        vertical-align: middle;\n",
       "    }\n",
       "\n",
       "    .dataframe tbody tr th {\n",
       "        vertical-align: top;\n",
       "    }\n",
       "\n",
       "    .dataframe thead th {\n",
       "        text-align: right;\n",
       "    }\n",
       "</style>\n",
       "<table border=\"1\" class=\"dataframe\">\n",
       "  <thead>\n",
       "    <tr style=\"text-align: right;\">\n",
       "      <th></th>\n",
       "      <th>auctionid</th>\n",
       "      <th>bid</th>\n",
       "      <th>bidtime</th>\n",
       "      <th>bidderrate</th>\n",
       "      <th>openbid</th>\n",
       "    </tr>\n",
       "  </thead>\n",
       "  <tbody>\n",
       "    <tr>\n",
       "      <th>0</th>\n",
       "      <td>1640550476</td>\n",
       "      <td>175.00</td>\n",
       "      <td>4.329410</td>\n",
       "      <td>8.0</td>\n",
       "      <td>1.0</td>\n",
       "    </tr>\n",
       "    <tr>\n",
       "      <th>1</th>\n",
       "      <td>1644343468</td>\n",
       "      <td>111.11</td>\n",
       "      <td>0.587164</td>\n",
       "      <td>73.5</td>\n",
       "      <td>1.0</td>\n",
       "    </tr>\n",
       "    <tr>\n",
       "      <th>2</th>\n",
       "      <td>1639979107</td>\n",
       "      <td>103.50</td>\n",
       "      <td>6.999572</td>\n",
       "      <td>2.0</td>\n",
       "      <td>5.0</td>\n",
       "    </tr>\n",
       "    <tr>\n",
       "      <th>3</th>\n",
       "      <td>1649718196</td>\n",
       "      <td>620.00</td>\n",
       "      <td>2.750775</td>\n",
       "      <td>24.0</td>\n",
       "      <td>1.0</td>\n",
       "    </tr>\n",
       "    <tr>\n",
       "      <th>4</th>\n",
       "      <td>1644077820</td>\n",
       "      <td>60.00</td>\n",
       "      <td>1.393611</td>\n",
       "      <td>-1.0</td>\n",
       "      <td>1.0</td>\n",
       "    </tr>\n",
       "    <tr>\n",
       "      <th>...</th>\n",
       "      <td>...</td>\n",
       "      <td>...</td>\n",
       "      <td>...</td>\n",
       "      <td>...</td>\n",
       "      <td>...</td>\n",
       "    </tr>\n",
       "    <tr>\n",
       "      <th>332</th>\n",
       "      <td>1639309309</td>\n",
       "      <td>270.00</td>\n",
       "      <td>3.501551</td>\n",
       "      <td>5.0</td>\n",
       "      <td>1.0</td>\n",
       "    </tr>\n",
       "    <tr>\n",
       "      <th>333</th>\n",
       "      <td>1650699048</td>\n",
       "      <td>107.77</td>\n",
       "      <td>5.521979</td>\n",
       "      <td>73.5</td>\n",
       "      <td>10.0</td>\n",
       "    </tr>\n",
       "    <tr>\n",
       "      <th>334</th>\n",
       "      <td>1641629836</td>\n",
       "      <td>365.00</td>\n",
       "      <td>5.486759</td>\n",
       "      <td>0.0</td>\n",
       "      <td>250.0</td>\n",
       "    </tr>\n",
       "    <tr>\n",
       "      <th>335</th>\n",
       "      <td>1642005995</td>\n",
       "      <td>375.00</td>\n",
       "      <td>1.941875</td>\n",
       "      <td>25.0</td>\n",
       "      <td>99.0</td>\n",
       "    </tr>\n",
       "    <tr>\n",
       "      <th>336</th>\n",
       "      <td>1645594382</td>\n",
       "      <td>120.00</td>\n",
       "      <td>6.930914</td>\n",
       "      <td>38.0</td>\n",
       "      <td>25.0</td>\n",
       "    </tr>\n",
       "  </tbody>\n",
       "</table>\n",
       "<p>337 rows × 5 columns</p>\n",
       "</div>"
      ],
      "text/plain": [
       "      auctionid     bid   bidtime  bidderrate  openbid\n",
       "0    1640550476  175.00  4.329410         8.0      1.0\n",
       "1    1644343468  111.11  0.587164        73.5      1.0\n",
       "2    1639979107  103.50  6.999572         2.0      5.0\n",
       "3    1649718196  620.00  2.750775        24.0      1.0\n",
       "4    1644077820   60.00  1.393611        -1.0      1.0\n",
       "..          ...     ...       ...         ...      ...\n",
       "332  1639309309  270.00  3.501551         5.0      1.0\n",
       "333  1650699048  107.77  5.521979        73.5     10.0\n",
       "334  1641629836  365.00  5.486759         0.0    250.0\n",
       "335  1642005995  375.00  1.941875        25.0     99.0\n",
       "336  1645594382  120.00  6.930914        38.0     25.0\n",
       "\n",
       "[337 rows x 5 columns]"
      ]
     },
     "execution_count": 62,
     "metadata": {},
     "output_type": "execute_result"
    }
   ],
   "source": [
    "test"
   ]
  },
  {
   "cell_type": "code",
   "execution_count": 70,
   "metadata": {},
   "outputs": [],
   "source": [
    "# Prediction & Checking RMSE\n",
    "grid_gb_test_pred = np.round_(grid_gb.predict(test), 2)\n"
   ]
  },
  {
   "cell_type": "code",
   "execution_count": 72,
   "metadata": {},
   "outputs": [],
   "source": [
    "Pred_data = pd.DataFrame({\"prediction\" : grid_gb_test_pred} )\n",
    "Pred_data\n",
    "\n",
    "#Pred_data.to_csv(\"Prediction\")\n",
    "Pred_data.to_csv('Auction_predict.csv', index = False)"
   ]
  },
  {
   "cell_type": "code",
   "execution_count": null,
   "metadata": {},
   "outputs": [],
   "source": [
    "res = pd.DataFrame(predictions) #preditcions are nothing but the final predictions of your model on input features of your new unseen test data\n",
    "res.index = test_data.index # its important for comparison. Here \"test_new\" is your new test dataset\n",
    "res.columns = [\"prediction\"]\n",
    "res.to_csv(\"prediction_results.csv\", index = False) "
   ]
  }
 ],
 "metadata": {
  "kernelspec": {
   "display_name": "Python 3",
   "language": "python",
   "name": "python3"
  },
  "language_info": {
   "codemirror_mode": {
    "name": "ipython",
    "version": 3
   },
   "file_extension": ".py",
   "mimetype": "text/x-python",
   "name": "python",
   "nbconvert_exporter": "python",
   "pygments_lexer": "ipython3",
   "version": "3.8.3"
  }
 },
 "nbformat": 4,
 "nbformat_minor": 4
}
